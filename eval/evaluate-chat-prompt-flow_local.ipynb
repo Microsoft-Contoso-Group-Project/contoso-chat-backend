{
 "cells": [
  {
   "cell_type": "code",
   "execution_count": 1,
   "metadata": {},
   "outputs": [
    {
     "name": "stderr",
     "output_type": "stream",
     "text": [
      "WARNING:root:'from promptflow import PFClient' is deprecated and will be removed in the future. Use 'from promptflow.client import PFClient' instead.\n"
     ]
    }
   ],
   "source": [
    "from promptflow import PFClient\n",
    "\n",
    "pf_client = PFClient()\n",
    "\n",
    "from dotenv import load_dotenv\n",
    "\n",
    "load_dotenv()\n",
    "\n",
    "runtime = \"automatic\"\n",
    "# load flow\n",
    "flow = \"../contoso-chat_hf\" #\"../contoso-chat\"\n",
    "\n",
    "\n",
    "eval_flow = \"multi_flow/\"   #\"multi_flow_hf/\"\n",
    "data = \"../data/salestestdata.jsonl\"\n"
   ]
  },
  {
   "cell_type": "code",
   "execution_count": 2,
   "metadata": {},
   "outputs": [
    {
     "name": "stderr",
     "output_type": "stream",
     "text": [
      "WARNING:root:'from promptflow import tool' is deprecated and will be removed in the future. Use 'from promptflow.core import tool' instead.\n",
      "[2024-06-05 03:57:07 +0200][promptflow.core._connection][WARNING] - Please use connection.secrets[key] to access secrets.\n"
     ]
    },
    {
     "name": "stdout",
     "output_type": "stream",
     "text": [
      "Prompt flow service has started...\n",
      "2024-06-05 03:57:07 +0200    1767 execution.flow     INFO     Start executing nodes in thread pool mode.\n",
      "2024-06-05 03:57:07 +0200    1767 execution.flow     INFO     Start to run 5 nodes with concurrency level 16.\n",
      "2024-06-05 03:57:07 +0200    1767 execution.flow     INFO     Executing node question_embedding. node run id: e54e3acb-96f2-4af8-8882-125fda94709f_question_embedding_0\n",
      "2024-06-05 03:57:07 +0200    1767 execution.flow     INFO     Executing node customer_lookup. node run id: e54e3acb-96f2-4af8-8882-125fda94709f_customer_lookup_0\n",
      "2024-06-05 03:57:08 +0200    1767 execution.flow     INFO     Node question_embedding completes.\n",
      "2024-06-05 03:57:08 +0200    1767 execution.flow     INFO     Executing node retrieve_documentation. node run id: e54e3acb-96f2-4af8-8882-125fda94709f_retrieve_documentation_0\n",
      "2024-06-05 03:57:08 +0200    1767 execution.flow     INFO     Node customer_lookup completes.\n",
      "You can view the trace detail from the following URL:\n",
      "http://127.0.0.1:23333/v1.0/ui/traces/?#collection=contoso-chat_hf&uiTraceId=0x1aecd672b52be76b0bd0d02717fb54ed\n",
      "2024-06-05 03:57:08 +0200    1767 execution.flow     INFO     Node retrieve_documentation completes.\n",
      "2024-06-05 03:57:08 +0200    1767 execution.flow     INFO     Executing node customer_prompt. node run id: e54e3acb-96f2-4af8-8882-125fda94709f_customer_prompt_0\n",
      "2024-06-05 03:57:08 +0200    1767 execution.flow     INFO     Node customer_prompt completes.\n",
      "2024-06-05 03:57:08 +0200    1767 execution.flow     INFO     Executing node llm_response. node run id: e54e3acb-96f2-4af8-8882-125fda94709f_llm_response_0\n",
      "2024-06-05 03:57:09 +0200    1767 execution.flow     INFO     Node llm_response completes.\n"
     ]
    }
   ],
   "source": [
    "# Add a question to test the base prompt flow.\n",
    "question = \"Can you tell me about your jackets?\"\n",
    "customerId = \"4\"\n",
    "output_hf = pf_client.test(\n",
    "    flow=flow, # Path to the flow directory\n",
    "    inputs={ # Inputs to the flow\n",
    "        \"chat_history\": [],\n",
    "        \"question\": question,\n",
    "        \"customerId\": customerId,\n",
    "    },\n",
    ")\n",
    "\n",
    "output_hf[\"answer\"] = \"\".join(list(output_hf[\"answer\"]))"
   ]
  },
  {
   "cell_type": "code",
   "execution_count": 3,
   "metadata": {},
   "outputs": [
    {
     "data": {
      "text/plain": [
       "{'answer': \"Hi there 👋 SaraLee 💕,\\n\\nAs we've previously discussed 📝 under our Platinum member perks 🔒, I'd like recommend two fantastic outerwear pieces:\\n\\n1️⃣ For those breezier days ☀\\u200d♀🌞 : Our popular *SummitBreezJacket* (# catalog ID = `03`) would complement perfectly alongside previous purchase ✨CozenightSleepingBag✈. Its breathability & adjustables cuff feature provide optimal performance\",\n",
       " 'context': [{'id': '3',\n",
       "   'title': 'Summit Breeze Jacket',\n",
       "   'content': \"Discover the joy of hiking with MountainStyle's Summit Breeze Jacket. This lightweight jacket is your perfect companion for outdoor adventures. Sporting a trail-ready, windproof design and a water-resistant fabric, it's ready to withstand any weather. The breathable polyester material and adjustable cuffs keep you comfortable, whether you're ascending a mountain or strolling through a park. And its sleek black color adds style to function. The jacket features a full-zip front closure, adjustable hood, and secure zippered pockets. Experience the comfort of its inner lining and the convenience of its packable design. Crafted for night trekkers too, the jacket has reflective accents for enhanced visibility. Rugged yet chic, the Summit Breeze Jacket is more than a hiking essential, it's the gear that inspires you to reach new heights. Choose adventure, choose the Summit Breeze Jacket.\",\n",
       "   'url': '/products/summit-breeze-jacket'},\n",
       "  {'id': '17',\n",
       "   'title': 'RainGuard Hiking Jacket',\n",
       "   'content': \"Introducing the MountainStyle RainGuard Hiking Jacket - the ultimate solution for weatherproof comfort during your outdoor undertakings! Designed with waterproof, breathable fabric, this jacket promises an outdoor experience that's as dry as it is comfortable. The rugged construction assures durability, while the adjustable hood provides a customizable fit against wind and rain. Featuring multiple pockets for safe, convenient storage and adjustable cuffs and hem, you can tailor the jacket to suit your needs on-the-go. And, don't worry about overheating during intense activities - it's equipped with ventilation zippers for increased airflow. Reflective details ensure visibility even during low-light conditions, making it perfect for evening treks. With its lightweight, packable design, carrying it inside your backpack requires minimal effort. With options for men and women, the RainGuard Hiking Jacket is perfect for hiking, camping, trekking and countless other outdoor adventures. Don't let the weather stand in your way - embrace the outdoors with MountainStyle RainGuard Hiking Jacket!\",\n",
       "   'url': '/products/rainguard-hiking-jacket'},\n",
       "  {'id': '4',\n",
       "   'title': 'TrekReady Hiking Boots',\n",
       "   'content': \"Introducing the TrekReady Hiking Boots - stepping up your hiking game, one footprint at a time! Crafted from leather, these stylistic Trailmates are made to last. TrekReady infuses durability with its reinforced stitching and toe protection, making sure your journey is never stopped short. Comfort? They have that covered too! The boots are a haven with their breathable materials, cushioned insole, with padded collar and tongue; all nestled neatly within their lightweight design. As they say, it's what's inside that counts - so inside you'll find a moisture-wicking lining that quarantines stank and keeps your feet fresh as that mountaintop breeze. Remember the fear of slippery surfaces? With these boots, you can finally tell it to 'take a hike'! Their shock-absorbing midsoles and excellent traction capabilities promise stability at your every step. Beautifully finished in a traditional lace-up system, every adventurer deserves a pair of TrekReady Hiking Boots. Hike more, worry less!\",\n",
       "   'url': '/products/trekready-hiking-boots'}]}"
      ]
     },
     "execution_count": 3,
     "metadata": {},
     "output_type": "execute_result"
    }
   ],
   "source": [
    "output_hf"
   ]
  },
  {
   "cell_type": "markdown",
   "metadata": {},
   "source": [
    "Test the groundedness of the prompt flow with the answer from the above question."
   ]
  },
  {
   "cell_type": "markdown",
   "metadata": {},
   "source": [
    "# Local Evaluation - Multiple Metrics \n",
    "\n",
    "Now use the same prompt flow and test it against the Multi Evaluation flow for groundedness, coherence, fluency, and relevance."
   ]
  },
  {
   "cell_type": "code",
   "execution_count": 4,
   "metadata": {},
   "outputs": [
    {
     "name": "stderr",
     "output_type": "stream",
     "text": [
      "WARNING:root:'from promptflow import log_metric' is deprecated and will be removed in the future. Use 'from promptflow.core import log_metric' instead.\n"
     ]
    },
    {
     "name": "stdout",
     "output_type": "stream",
     "text": [
      "question Can you tell me about your jackets?\n",
      "context [{'id': '3', 'title': 'Summit Breeze Jacket', 'content': \"Discover the joy of hiking with MountainStyle's Summit Breeze Jacket. This lightweight jacket is your perfect companion for outdoor adventures. Sporting a trail-ready, windproof design and a water-resistant fabric, it's ready to withstand any weather. The breathable polyester material and adjustable cuffs keep you comfortable, whether you're ascending a mountain or strolling through a park. And its sleek black color adds style to function. The jacket features a full-zip front closure, adjustable hood, and secure zippered pockets. Experience the comfort of its inner lining and the convenience of its packable design. Crafted for night trekkers too, the jacket has reflective accents for enhanced visibility. Rugged yet chic, the Summit Breeze Jacket is more than a hiking essential, it's the gear that inspires you to reach new heights. Choose adventure, choose the Summit Breeze Jacket.\", 'url': '/products/summit-breeze-jacket'}, {'id': '17', 'title': 'RainGuard Hiking Jacket', 'content': \"Introducing the MountainStyle RainGuard Hiking Jacket - the ultimate solution for weatherproof comfort during your outdoor undertakings! Designed with waterproof, breathable fabric, this jacket promises an outdoor experience that's as dry as it is comfortable. The rugged construction assures durability, while the adjustable hood provides a customizable fit against wind and rain. Featuring multiple pockets for safe, convenient storage and adjustable cuffs and hem, you can tailor the jacket to suit your needs on-the-go. And, don't worry about overheating during intense activities - it's equipped with ventilation zippers for increased airflow. Reflective details ensure visibility even during low-light conditions, making it perfect for evening treks. With its lightweight, packable design, carrying it inside your backpack requires minimal effort. With options for men and women, the RainGuard Hiking Jacket is perfect for hiking, camping, trekking and countless other outdoor adventures. Don't let the weather stand in your way - embrace the outdoors with MountainStyle RainGuard Hiking Jacket!\", 'url': '/products/rainguard-hiking-jacket'}, {'id': '4', 'title': 'TrekReady Hiking Boots', 'content': \"Introducing the TrekReady Hiking Boots - stepping up your hiking game, one footprint at a time! Crafted from leather, these stylistic Trailmates are made to last. TrekReady infuses durability with its reinforced stitching and toe protection, making sure your journey is never stopped short. Comfort? They have that covered too! The boots are a haven with their breathable materials, cushioned insole, with padded collar and tongue; all nestled neatly within their lightweight design. As they say, it's what's inside that counts - so inside you'll find a moisture-wicking lining that quarantines stank and keeps your feet fresh as that mountaintop breeze. Remember the fear of slippery surfaces? With these boots, you can finally tell it to 'take a hike'! Their shock-absorbing midsoles and excellent traction capabilities promise stability at your every step. Beautifully finished in a traditional lace-up system, every adventurer deserves a pair of TrekReady Hiking Boots. Hike more, worry less!\", 'url': '/products/trekready-hiking-boots'}]\n",
      "answer Hi there 👋 SaraLee 💕,\n",
      "\n",
      "As we've previously discussed 📝 under our Platinum member perks 🔒, I'd like recommend two fantastic outerwear pieces:\n",
      "\n",
      "1️⃣ For those breezier days ☀‍♀🌞 : Our popular *SummitBreezJacket* (# catalog ID = `03`) would complement perfectly alongside previous purchase ✨CozenightSleepingBag✈. Its breathability & adjustables cuff feature provide optimal performance\n",
      "Prompt flow service has started...\n",
      "2024-06-05 03:57:09 +0200    1767 execution.flow     INFO     Start executing nodes in thread pool mode.\n",
      "2024-06-05 03:57:09 +0200    1767 execution.flow     INFO     Start to run 8 nodes with concurrency level 16.\n",
      "2024-06-05 03:57:09 +0200    1767 execution.flow     INFO     Executing node coherence_score. node run id: dda122a6-7891-4afe-a3a7-d686321f7cc1_coherence_score_0\n",
      "2024-06-05 03:57:09 +0200    1767 execution.flow     INFO     Executing node fluency_score. node run id: dda122a6-7891-4afe-a3a7-d686321f7cc1_fluency_score_0\n",
      "2024-06-05 03:57:09 +0200    1767 execution.flow     INFO     Executing node groundedness_score. node run id: dda122a6-7891-4afe-a3a7-d686321f7cc1_groundedness_score_0\n",
      "2024-06-05 03:57:09 +0200    1767 execution.flow     INFO     Executing node relevance_score. node run id: dda122a6-7891-4afe-a3a7-d686321f7cc1_relevance_score_0\n",
      "2024-06-05 03:57:10 +0200    1767 execution.flow     INFO     Node coherence_score completes.\n",
      "2024-06-05 03:57:10 +0200    1767 execution.flow     INFO     Executing node coherence_concat_scores. node run id: dda122a6-7891-4afe-a3a7-d686321f7cc1_coherence_concat_scores_0\n",
      "2024-06-05 03:57:10 +0200    1767 execution.flow     INFO     Node coherence_concat_scores completes.\n",
      "2024-06-05 03:57:10 +0200    1767 execution.flow     INFO     Node fluency_score completes.\n",
      "2024-06-05 03:57:10 +0200    1767 execution.flow     INFO     Executing node fluency_concat_scores. node run id: dda122a6-7891-4afe-a3a7-d686321f7cc1_fluency_concat_scores_0\n",
      "2024-06-05 03:57:10 +0200    1767 execution.flow     INFO     Node fluency_concat_scores completes.\n",
      "2024-06-05 03:57:10 +0200    1767 execution.flow     INFO     Node groundedness_score completes.\n",
      "2024-06-05 03:57:10 +0200    1767 execution.flow     INFO     Executing node groundedness_concat_scores. node run id: dda122a6-7891-4afe-a3a7-d686321f7cc1_groundedness_concat_scores_0\n",
      "2024-06-05 03:57:10 +0200    1767 execution.flow     INFO     Node groundedness_concat_scores completes.\n",
      "2024-06-05 03:57:10 +0200    1767 execution.flow     INFO     Node relevance_score completes.\n",
      "2024-06-05 03:57:10 +0200    1767 execution.flow     INFO     Executing node relevance_concat_scores. node run id: dda122a6-7891-4afe-a3a7-d686321f7cc1_relevance_concat_scores_0\n",
      "2024-06-05 03:57:10 +0200    1767 execution.flow     INFO     Node relevance_concat_scores completes.\n",
      "2024-06-05 03:57:10 +0200    1767 execution.flow     INFO     Start executing nodes in thread pool mode.\n",
      "2024-06-05 03:57:10 +0200    1767 execution.flow     INFO     Start to run 4 nodes with concurrency level 16.\n",
      "2024-06-05 03:57:10 +0200    1767 execution.flow     INFO     Executing node coherence_aggregate_variants_results. node run id: dda122a6-7891-4afe-a3a7-d686321f7cc1_coherence_aggregate_variants_results_reduce\n",
      "2024-06-05 03:57:10 +0200    1767 execution.flow     INFO     Executing node fluency_aggregate_variants_results. node run id: dda122a6-7891-4afe-a3a7-d686321f7cc1_fluency_aggregate_variants_results_reduce\n",
      "2024-06-05 03:57:10 +0200    1767 execution.flow     INFO     Executing node groundedness_aggregate_variants_results. node run id: dda122a6-7891-4afe-a3a7-d686321f7cc1_groundedness_aggregate_variants_results_reduce\n",
      "2024-06-05 03:57:10 +0200    1767 execution.flow     INFO     Executing node relevance_aggregate_variants_results. node run id: dda122a6-7891-4afe-a3a7-d686321f7cc1_relevance_aggregate_variants_results_reduce\n",
      "2024-06-05 03:57:10 +0200    1767 execution.flow     INFO     Node coherence_aggregate_variants_results completes.\n",
      "2024-06-05 03:57:10 +0200    1767 execution.flow     INFO     Node fluency_aggregate_variants_results completes.\n",
      "2024-06-05 03:57:10 +0200    1767 execution.flow     INFO     Node groundedness_aggregate_variants_results completes.\n",
      "2024-06-05 03:57:10 +0200    1767 execution.flow     INFO     [relevance_aggregate_variants_results in line None (index starts from 0)] stdout> results\n",
      "2024-06-05 03:57:10 +0200    1767 execution.flow     INFO     [relevance_aggregate_variants_results in line None (index starts from 0)] stdout>  \n",
      "2024-06-05 03:57:10 +0200    1767 execution.flow     INFO     [relevance_aggregate_variants_results in line None (index starts from 0)] stdout> [{'gpt_relevance': 2.0, 'gpt_relevance_pass_rate': 0}]\n",
      "2024-06-05 03:57:10 +0200    1767 execution.flow     INFO     Node relevance_aggregate_variants_results completes.\n"
     ]
    },
    {
     "name": "stdout",
     "output_type": "stream",
     "text": [
      "You can view the trace detail from the following URL:\n",
      "http://127.0.0.1:23333/v1.0/ui/traces/?#collection=contoso-chat_hf&uiTraceId=0xfb61ba964e8487d6c0fd613674fdfb2b\n",
      "You can view the trace detail from the following URL:\n",
      "http://127.0.0.1:23333/v1.0/ui/traces/?#collection=contoso-chat_hf&uiTraceId=0xbe100f52b72eec9acb305c48fab7bf57\n",
      "You can view the trace detail from the following URL:\n",
      "http://127.0.0.1:23333/v1.0/ui/traces/?#collection=contoso-chat_hf&uiTraceId=0xc6bbc49bc57657c0291908ec3ef775ea\n",
      "You can view the trace detail from the following URL:\n",
      "http://127.0.0.1:23333/v1.0/ui/traces/?#collection=contoso-chat_hf&uiTraceId=0xbca8931116f5e5700f0689fefcf7de97\n",
      "You can view the trace detail from the following URL:\n",
      "http://127.0.0.1:23333/v1.0/ui/traces/?#collection=contoso-chat_hf&uiTraceId=0x0c6b7fbac8565f43716ec20baa8b1c1c\n",
      "You can view the trace detail from the following URL:\n",
      "http://127.0.0.1:23333/v1.0/ui/traces/?#collection=contoso-chat_hf&uiTraceId=0xb6734bc3b9e62bf152b5c60be282a4e8\n",
      "You can view the trace detail from the following URL:\n",
      "http://127.0.0.1:23333/v1.0/ui/traces/?#collection=contoso-chat_hf&uiTraceId=0xb5800af45ab1080b1f5d25a1849b2b2b\n",
      "You can view the trace detail from the following URL:\n",
      "http://127.0.0.1:23333/v1.0/ui/traces/?#collection=contoso-chat_hf&uiTraceId=0xc2c45e8f6474beff14439854c4ee404a\n",
      "You can view the trace detail from the following URL:\n",
      "http://127.0.0.1:23333/v1.0/ui/traces/?#collection=contoso-chat_hf&uiTraceId=0xb715dfa46b0b855ab369d43db69851fa\n"
     ]
    }
   ],
   "source": [
    "print(\"question\",question)\n",
    "print(\"context\",output_hf[\"context\"])\n",
    "print(\"answer\", output_hf[\"answer\"])\n",
    "test_multi_hf = pf_client.test(\n",
    "    eval_flow,\n",
    "    inputs={\n",
    "        \"question\": question,\n",
    "        \"context\": str(output_hf[\"context\"]),\n",
    "        \"answer\": output_hf[\"answer\"],\n",
    "    },\n",
    ")"
   ]
  },
  {
   "cell_type": "code",
   "execution_count": 5,
   "metadata": {},
   "outputs": [
    {
     "data": {
      "text/plain": [
       "{'gpt_coherence': 5.0,\n",
       " 'gpt_fluency': 5.0,\n",
       " 'gpt_groundedness': 1.0,\n",
       " 'gpt_relevance': 2.0}"
      ]
     },
     "execution_count": 5,
     "metadata": {},
     "output_type": "execute_result"
    }
   ],
   "source": [
    "test_multi_hf"
   ]
  },
  {
   "cell_type": "code",
   "execution_count": 6,
   "metadata": {},
   "outputs": [
    {
     "name": "stdout",
     "output_type": "stream",
     "text": [
      "2024_06_05_035710chat_base_run\n"
     ]
    },
    {
     "name": "stderr",
     "output_type": "stream",
     "text": [
      "[2024-06-05 03:57:10 +0200][promptflow._sdk._orchestrator.run_submitter][INFO] - Submitting run 2024_06_05_035710chat_base_run, log path: /Users/yonghuizhu/.promptflow/.runs/2024_06_05_035710chat_base_run/logs.txt\n"
     ]
    },
    {
     "name": "stdout",
     "output_type": "stream",
     "text": [
      "Prompt flow service has started...\n",
      "You can view the traces in local from http://127.0.0.1:23333/v1.0/ui/traces/?#run=2024_06_05_035710chat_base_run\n",
      "You can view the trace detail from the following URL:\n",
      "http://127.0.0.1:23333/v1.0/ui/traces/?#collection=multi_flow&uiTraceId=0x856a52dcde867d9096b07289a7124bd0\n",
      "You can view the trace detail from the following URL:\n",
      "http://127.0.0.1:23333/v1.0/ui/traces/?#collection=multi_flow&uiTraceId=0xc7e3fb078c34e849eda65ed6926ca130\n",
      "You can view the trace detail from the following URL:\n",
      "http://127.0.0.1:23333/v1.0/ui/traces/?#collection=multi_flow&uiTraceId=0x5a558f2a42695f6608557cd68ea27064\n",
      "You can view the trace detail from the following URL:\n",
      "http://127.0.0.1:23333/v1.0/ui/traces/?#collection=multi_flow&uiTraceId=0xa86ad6dcbf2b4dacd17c8f25ced4d6c9\n",
      "You can view the trace detail from the following URL:\n",
      "http://127.0.0.1:23333/v1.0/ui/traces/?#collection=multi_flow&uiTraceId=0x4bb58ef9a4805630dd39cd8c0f65cdde\n",
      "name: 2024_06_05_035710chat_base_run\n",
      "created_on: '2024-06-05T03:57:10.635639'\n",
      "status: Completed\n",
      "display_name: 2024_06_05_035710chat_base_run\n",
      "description:\n",
      "tags:\n",
      "properties:\n",
      "  flow_path: /Users/yonghuizhu/imperial/contoso-chat-backend/contoso-chat_hf\n",
      "  output_path: /Users/yonghuizhu/.promptflow/.runs/2024_06_05_035710chat_base_run\n",
      "  column_mapping:\n",
      "    customerId: ${data.customerId}\n",
      "    question: ${data.question}\n",
      "  system_metrics:\n",
      "    total_tokens: 7469\n",
      "    prompt_tokens: 6969\n",
      "    completion_tokens: 500\n",
      "    duration: 10.652158\n",
      "flow_name: contoso-chat_hf\n",
      "data: /Users/yonghuizhu/imperial/contoso-chat-backend/data/salestestdata.jsonl\n",
      "output: /Users/yonghuizhu/.promptflow/.runs/2024_06_05_035710chat_base_run/flow_outputs\n",
      "\n"
     ]
    }
   ],
   "source": [
    "\n",
    "# get current time stamp for run name\n",
    "import datetime\n",
    "now = datetime.datetime.now()\n",
    "timestamp = now.strftime(\"%Y_%m_%d_%H%M%S\")\n",
    "run_name_hf = timestamp+\"chat_base_run\"\n",
    "print(run_name_hf)\n",
    "\n",
    "# create base run in Azure Ai Studio\n",
    "local_base_run_hf = pf_client.run(\n",
    "    flow=flow,\n",
    "    data=data,\n",
    "    column_mapping={\n",
    "        # reference data\n",
    "        \"customerId\": \"${data.customerId}\",\n",
    "        \"question\": \"${data.question}\",\n",
    "    },\n",
    "    runtime=runtime,\n",
    "    # create a display name as current datetime\n",
    "    display_name=run_name_hf,\n",
    "    name=run_name_hf\n",
    ")\n",
    "print(local_base_run_hf)"
   ]
  },
  {
   "cell_type": "code",
   "execution_count": 7,
   "metadata": {},
   "outputs": [
    {
     "name": "stdout",
     "output_type": "stream",
     "text": [
      "2024-06-05 03:57:10 +0200    1767 execution.bulk     INFO     Current thread is not main thread, skip signal handler registration in BatchEngine.\n",
      "2024-06-05 03:57:11 +0200    1767 execution.bulk     INFO     Current system's available memory is 973.25MB, memory consumption of current process is 158.765625MB, estimated available worker count is 973.25/158.765625 = 6\n",
      "2024-06-05 03:57:11 +0200    1767 execution.bulk     INFO     Set process count to 4 by taking the minimum value among the factors of {'default_worker_count': 4, 'row_count': 5, 'estimated_worker_count_based_on_memory_usage': 6}.\n",
      "2024-06-05 03:57:11 +0200    1767 execution.bulk     INFO     Process name(SpawnProcess-4)-Process id(1788)-Line number(0) start execution.\n",
      "2024-06-05 03:57:11 +0200    1767 execution.bulk     INFO     Process name(SpawnProcess-3)-Process id(1787)-Line number(1) start execution.\n",
      "2024-06-05 03:57:11 +0200    1767 execution.bulk     INFO     Process name(SpawnProcess-5)-Process id(1789)-Line number(2) start execution.\n",
      "2024-06-05 03:57:11 +0200    1767 execution.bulk     INFO     Process name(SpawnProcess-2)-Process id(1785)-Line number(3) start execution.\n",
      "2024-06-05 03:57:18 +0200    1767 execution.bulk     INFO     Process name(SpawnProcess-2)-Process id(1785)-Line number(3) completed.\n",
      "2024-06-05 03:57:18 +0200    1767 execution.bulk     INFO     Process name(SpawnProcess-2)-Process id(1785)-Line number(4) start execution.\n",
      "2024-06-05 03:57:18 +0200    1767 execution.bulk     INFO     Process name(SpawnProcess-3)-Process id(1787)-Line number(1) completed.\n",
      "2024-06-05 03:57:18 +0200    1767 execution.bulk     INFO     Process name(SpawnProcess-5)-Process id(1789)-Line number(2) completed.\n",
      "2024-06-05 03:57:18 +0200    1767 execution.bulk     INFO     Process name(SpawnProcess-4)-Process id(1788)-Line number(0) completed.\n",
      "2024-06-05 03:57:18 +0200    1767 execution.bulk     INFO     Finished 4 / 5 lines.\n",
      "2024-06-05 03:57:18 +0200    1767 execution.bulk     INFO     Average execution time for completed lines: 1.75 seconds. Estimated time for incomplete lines: 1.75 seconds.\n",
      "2024-06-05 03:57:19 +0200    1767 execution.bulk     INFO     Process name(SpawnProcess-2)-Process id(1785)-Line number(4) completed.\n",
      "2024-06-05 03:57:20 +0200    1767 execution.bulk     INFO     Finished 5 / 5 lines.\n",
      "2024-06-05 03:57:20 +0200    1767 execution.bulk     INFO     Average execution time for completed lines: 1.8 seconds. Estimated time for incomplete lines: 0.0 seconds.\n",
      "2024-06-05 03:57:20 +0200    1767 execution.bulk     INFO     The thread monitoring the process [1787-SpawnProcess-3] will be terminated.\n",
      "2024-06-05 03:57:20 +0200    1787 execution.bulk     INFO     The process [1787] has received a terminate signal.\n",
      "2024-06-05 03:57:20 +0200    1767 execution.bulk     INFO     The thread monitoring the process [1789-SpawnProcess-5] will be terminated.\n",
      "2024-06-05 03:57:20 +0200    1767 execution.bulk     INFO     The thread monitoring the process [1788-SpawnProcess-4] will be terminated.\n",
      "2024-06-05 03:57:20 +0200    1767 execution.bulk     INFO     The thread monitoring the process [1785-SpawnProcess-2] will be terminated.\n",
      "2024-06-05 03:57:20 +0200    1789 execution.bulk     INFO     The process [1789] has received a terminate signal.\n",
      "2024-06-05 03:57:20 +0200    1785 execution.bulk     INFO     The process [1785] has received a terminate signal.\n",
      "2024-06-05 03:57:20 +0200    1788 execution.bulk     INFO     The process [1788] has received a terminate signal.\n",
      "2024-06-05 03:57:21 +0200    1767 execution.bulk     INFO     Process 1788 terminated.\n",
      "2024-06-05 03:57:21 +0200    1767 execution.bulk     INFO     Process 1785 terminated.\n",
      "2024-06-05 03:57:21 +0200    1767 execution.bulk     INFO     Process 1787 terminated.\n",
      "2024-06-05 03:57:21 +0200    1767 execution.bulk     INFO     Process 1789 terminated.\n",
      "======= Run Summary =======\n",
      "\n",
      "Run name: \"2024_06_05_035710chat_base_run\"\n",
      "Run status: \"Completed\"\n",
      "Start time: \"2024-06-05 03:57:10.635639\"\n",
      "Duration: \"0:00:10.839209\"\n",
      "Output path: \"/Users/yonghuizhu/.promptflow/.runs/2024_06_05_035710chat_base_run\"\n",
      "\n"
     ]
    },
    {
     "data": {
      "text/html": [
       "<div>\n",
       "<style scoped>\n",
       "    .dataframe tbody tr th:only-of-type {\n",
       "        vertical-align: middle;\n",
       "    }\n",
       "\n",
       "    .dataframe tbody tr th {\n",
       "        vertical-align: top;\n",
       "    }\n",
       "\n",
       "    .dataframe thead th {\n",
       "        text-align: right;\n",
       "    }\n",
       "</style>\n",
       "<table border=\"1\" class=\"dataframe\">\n",
       "  <thead>\n",
       "    <tr style=\"text-align: right;\">\n",
       "      <th></th>\n",
       "      <th>inputs.customerId</th>\n",
       "      <th>inputs.question</th>\n",
       "      <th>inputs.line_number</th>\n",
       "      <th>inputs.chat_history</th>\n",
       "      <th>outputs.answer</th>\n",
       "      <th>outputs.context</th>\n",
       "    </tr>\n",
       "  </thead>\n",
       "  <tbody>\n",
       "    <tr>\n",
       "      <th>0</th>\n",
       "      <td>4</td>\n",
       "      <td>tell me about your hiking jackets</td>\n",
       "      <td>0</td>\n",
       "      <td>[]</td>\n",
       "      <td>Hi there 👋 SaraLee!\\n\\nAs one our valued Plati...</td>\n",
       "      <td>[{'id': '17', 'title': 'RainGuard Hiking Jacke...</td>\n",
       "    </tr>\n",
       "    <tr>\n",
       "      <th>1</th>\n",
       "      <td>1</td>\n",
       "      <td>Do you have any climbing gear?</td>\n",
       "      <td>1</td>\n",
       "      <td>[]</td>\n",
       "      <td>Hi there 👋 Mr.JohnSmith 🙌,\\n\\nAs we've previou...</td>\n",
       "      <td>[{'id': '9', 'title': 'SummitClimber Backpack'...</td>\n",
       "    </tr>\n",
       "    <tr>\n",
       "      <th>2</th>\n",
       "      <td>3</td>\n",
       "      <td>Can you tell me about your selection of tents?</td>\n",
       "      <td>2</td>\n",
       "      <td>[]</td>\n",
       "      <td>Hi there 👋 Mike 🙌!\\n\\nAs we've previously disc...</td>\n",
       "      <td>[{'id': '15', 'title': 'SkyView 2-Person Tent'...</td>\n",
       "    </tr>\n",
       "    <tr>\n",
       "      <th>3</th>\n",
       "      <td>6</td>\n",
       "      <td>Do you have any hiking boots?</td>\n",
       "      <td>3</td>\n",
       "      <td>[]</td>\n",
       "      <td>Hi there 👋 Emilly 🙌,\\n\\nYes indeed we've got f...</td>\n",
       "      <td>[{'id': '4', 'title': 'TrekReady Hiking Boots'...</td>\n",
       "    </tr>\n",
       "    <tr>\n",
       "      <th>4</th>\n",
       "      <td>2</td>\n",
       "      <td>What gear do you recommend for hiking?</td>\n",
       "      <td>4</td>\n",
       "      <td>[]</td>\n",
       "      <td>Hi there 👋 Janiee 🌳,\\n\\nAs someone who loves h...</td>\n",
       "      <td>[{'id': '10', 'title': 'TrailBlaze Hiking Pant...</td>\n",
       "    </tr>\n",
       "  </tbody>\n",
       "</table>\n",
       "</div>"
      ],
      "text/plain": [
       "   inputs.customerId                                 inputs.question  \\\n",
       "0                  4               tell me about your hiking jackets   \n",
       "1                  1                  Do you have any climbing gear?   \n",
       "2                  3  Can you tell me about your selection of tents?   \n",
       "3                  6                   Do you have any hiking boots?   \n",
       "4                  2          What gear do you recommend for hiking?   \n",
       "\n",
       "   inputs.line_number inputs.chat_history  \\\n",
       "0                   0                  []   \n",
       "1                   1                  []   \n",
       "2                   2                  []   \n",
       "3                   3                  []   \n",
       "4                   4                  []   \n",
       "\n",
       "                                      outputs.answer  \\\n",
       "0  Hi there 👋 SaraLee!\\n\\nAs one our valued Plati...   \n",
       "1  Hi there 👋 Mr.JohnSmith 🙌,\\n\\nAs we've previou...   \n",
       "2  Hi there 👋 Mike 🙌!\\n\\nAs we've previously disc...   \n",
       "3  Hi there 👋 Emilly 🙌,\\n\\nYes indeed we've got f...   \n",
       "4  Hi there 👋 Janiee 🌳,\\n\\nAs someone who loves h...   \n",
       "\n",
       "                                     outputs.context  \n",
       "0  [{'id': '17', 'title': 'RainGuard Hiking Jacke...  \n",
       "1  [{'id': '9', 'title': 'SummitClimber Backpack'...  \n",
       "2  [{'id': '15', 'title': 'SkyView 2-Person Tent'...  \n",
       "3  [{'id': '4', 'title': 'TrekReady Hiking Boots'...  \n",
       "4  [{'id': '10', 'title': 'TrailBlaze Hiking Pant...  "
      ]
     },
     "execution_count": 7,
     "metadata": {},
     "output_type": "execute_result"
    }
   ],
   "source": [
    "pf_client.stream(local_base_run_hf)\n",
    "details = pf_client.get_details(local_base_run_hf)\n",
    "details.head(10)"
   ]
  },
  {
   "cell_type": "code",
   "execution_count": 8,
   "metadata": {},
   "outputs": [
    {
     "name": "stderr",
     "output_type": "stream",
     "text": [
      "[2024-06-05 03:57:21 +0200][promptflow._sdk._orchestrator.run_submitter][INFO] - Submitting run 2024_06_05_035710chat_eval_run, log path: /Users/yonghuizhu/.promptflow/.runs/2024_06_05_035710chat_eval_run/logs.txt\n"
     ]
    },
    {
     "name": "stdout",
     "output_type": "stream",
     "text": [
      "2024_06_05_035710chat_eval_run\n",
      "2024_06_05_035710chat_eval_run\n",
      "Prompt flow service has started...\n",
      "You can view the traces in local from http://127.0.0.1:23333/v1.0/ui/traces/?#run=2024_06_05_035710chat_eval_run\n",
      "You can view the trace detail from the following URL:\n",
      "http://127.0.0.1:23333/v1.0/ui/traces/?#collection=multi_flow&uiTraceId=0xf534448f5d41f2ff56aa084ed0bb029d\n",
      "You can view the trace detail from the following URL:\n",
      "http://127.0.0.1:23333/v1.0/ui/traces/?#collection=multi_flow&uiTraceId=0xcb21976ee150d8fd666ac442d9626450\n",
      "You can view the trace detail from the following URL:\n",
      "http://127.0.0.1:23333/v1.0/ui/traces/?#collection=multi_flow&uiTraceId=0xe166b679d7e7236f61c1939bea5eecaf\n",
      "You can view the trace detail from the following URL:\n",
      "http://127.0.0.1:23333/v1.0/ui/traces/?#collection=multi_flow&uiTraceId=0x5cccb60baf7d8cac2500f15da652a990\n",
      "You can view the trace detail from the following URL:\n",
      "http://127.0.0.1:23333/v1.0/ui/traces/?#collection=multi_flow&uiTraceId=0xc40a3a1bf724e5bb61ef8b2343aa0423\n"
     ]
    }
   ],
   "source": [
    "\n",
    "run_name = timestamp+\"chat_eval_run\"\n",
    "print(run_name)\n",
    "\n",
    "run_name_hf = timestamp+\"chat_eval_run\"\n",
    "print(run_name_hf)\n",
    "\n",
    "local_eval_run_variant = pf_client.run(\n",
    "    flow=eval_flow,\n",
    "    data=data,  # path to the data file\n",
    "    run=local_base_run_hf,  # use run as the variant\n",
    "    column_mapping={\n",
    "        # reference data\n",
    "        \"customerId\": \"${data.customerId}\",\n",
    "        \"question\": \"${data.question}\",\n",
    "        \"context\": \"${run.outputs.context}\",\n",
    "        # reference the run's output\n",
    "        \"answer\": \"${run.outputs.answer}\",\n",
    "    },\n",
    "    runtime=runtime,\n",
    "    display_name=run_name,\n",
    "    name=run_name\n",
    ")"
   ]
  },
  {
   "cell_type": "code",
   "execution_count": 9,
   "metadata": {},
   "outputs": [
    {
     "name": "stdout",
     "output_type": "stream",
     "text": [
      "{\n",
      "    \"gpt_coherence\": 2.4,\n",
      "    \"gpt_coherence_pass_rate(%)\": 20.0,\n",
      "    \"gpt_fluency\": 2.4,\n",
      "    \"gpt_fluency_pass_rate(%)\": 20.0,\n",
      "    \"gpt_groundedness\": 2.6,\n",
      "    \"gpt_groundedness_pass_rate(%)\": 40.0,\n",
      "    \"gpt_relevance\": 1.4,\n",
      "    \"gpt_relevance_pass_rate(%)\": 0.0\n",
      "}\n",
      "2024-06-05 03:57:21 +0200    1767 execution.bulk     INFO     Current thread is not main thread, skip signal handler registration in BatchEngine.\n",
      "2024-06-05 03:57:21 +0200    1767 execution.bulk     INFO     Current system's available memory is 1280.53125MB, memory consumption of current process is 145.21875MB, estimated available worker count is 1280.53125/145.21875 = 8\n",
      "2024-06-05 03:57:21 +0200    1767 execution.bulk     INFO     Set process count to 4 by taking the minimum value among the factors of {'default_worker_count': 4, 'row_count': 5, 'estimated_worker_count_based_on_memory_usage': 8}.\n",
      "2024-06-05 03:57:22 +0200    1767 execution.bulk     INFO     Process name(SpawnProcess-10)-Process id(1820)-Line number(0) start execution.\n",
      "2024-06-05 03:57:22 +0200    1767 execution.bulk     INFO     Process name(SpawnProcess-8)-Process id(1816)-Line number(1) start execution.\n",
      "2024-06-05 03:57:22 +0200    1767 execution.bulk     INFO     Process name(SpawnProcess-9)-Process id(1819)-Line number(2) start execution.\n",
      "2024-06-05 03:57:22 +0200    1767 execution.bulk     INFO     Process name(SpawnProcess-7)-Process id(1815)-Line number(3) start execution.\n",
      "2024-06-05 03:57:24 +0200    1820 execution          WARNING  [groundedness_score in line 0 (index starts from 0)] stderr> Exception occurs: RateLimitError: Error code: 429 - {'error': {'code': '429', 'message': 'Requests to the ChatCompletions_Create Operation under Azure OpenAI API version 2024-03-01-preview have exceeded call rate limit of your current AIServices S0 pricing tier. Please retry after 9 seconds. Please contact Azure support service if you would like to further increase the default rate limit.'}}\n",
      "2024-06-05 03:57:24 +0200    1820 execution          WARNING  [groundedness_score in line 0 (index starts from 0)] stderr> RateLimitError #0, Retry-After=9, Back off 9.0 seconds for retry.\n",
      "2024-06-05 03:57:24 +0200    1820 execution          WARNING  [relevance_score in line 0 (index starts from 0)] stderr> Exception occurs: RateLimitError: Error code: 429 - {'error': {'code': '429', 'message': 'Requests to the ChatCompletions_Create Operation under Azure OpenAI API version 2024-03-01-preview have exceeded call rate limit of your current AIServices S0 pricing tier. Please retry after 9 seconds. Please contact Azure support service if you would like to further increase the default rate limit.'}}\n",
      "2024-06-05 03:57:24 +0200    1820 execution          WARNING  [relevance_score in line 0 (index starts from 0)] stderr> RateLimitError #0, Retry-After=9, Back off 9.0 seconds for retry.\n",
      "2024-06-05 03:57:24 +0200    1816 execution          WARNING  [groundedness_score in line 1 (index starts from 0)] stderr> Exception occurs: RateLimitError: Error code: 429 - {'error': {'code': '429', 'message': 'Requests to the ChatCompletions_Create Operation under Azure OpenAI API version 2024-03-01-preview have exceeded call rate limit of your current AIServices S0 pricing tier. Please retry after 9 seconds. Please contact Azure support service if you would like to further increase the default rate limit.'}}\n",
      "2024-06-05 03:57:24 +0200    1816 execution          WARNING  [relevance_score in line 1 (index starts from 0)] stderr> Exception occurs: RateLimitError: Error code: 429 - {'error': {'code': '429', 'message': 'Requests to the ChatCompletions_Create Operation under Azure OpenAI API version 2024-03-01-preview have exceeded call rate limit of your current AIServices S0 pricing tier. Please retry after 9 seconds. Please contact Azure support service if you would like to further increase the default rate limit.'}}\n",
      "2024-06-05 03:57:24 +0200    1816 execution          WARNING  [groundedness_score in line 1 (index starts from 0)] stderr> RateLimitError #0, Retry-After=9, Back off 9.0 seconds for retry.\n",
      "2024-06-05 03:57:24 +0200    1816 execution          WARNING  [relevance_score in line 1 (index starts from 0)] stderr> RateLimitError #0, Retry-After=9, Back off 9.0 seconds for retry.\n",
      "2024-06-05 03:57:24 +0200    1767 execution.bulk     INFO     Process name(SpawnProcess-7)-Process id(1815)-Line number(3) completed.\n",
      "2024-06-05 03:57:24 +0200    1767 execution.bulk     INFO     Process name(SpawnProcess-7)-Process id(1815)-Line number(4) start execution.\n",
      "2024-06-05 03:57:24 +0200    1815 execution          WARNING  [fluency_score in line 4 (index starts from 0)] stderr> Exception occurs: RateLimitError: Error code: 429 - {'error': {'code': '429', 'message': 'Requests to the ChatCompletions_Create Operation under Azure OpenAI API version 2024-03-01-preview have exceeded call rate limit of your current AIServices S0 pricing tier. Please retry after 9 seconds. Please contact Azure support service if you would like to further increase the default rate limit.'}}\n",
      "2024-06-05 03:57:24 +0200    1815 execution          WARNING  [coherence_score in line 4 (index starts from 0)] stderr> Exception occurs: RateLimitError: Error code: 429 - {'error': {'code': '429', 'message': 'Requests to the ChatCompletions_Create Operation under Azure OpenAI API version 2024-03-01-preview have exceeded call rate limit of your current AIServices S0 pricing tier. Please retry after 9 seconds. Please contact Azure support service if you would like to further increase the default rate limit.'}}\n",
      "2024-06-05 03:57:24 +0200    1815 execution          WARNING  [fluency_score in line 4 (index starts from 0)] stderr> RateLimitError #0, Retry-After=9, Back off 9.0 seconds for retry.\n",
      "2024-06-05 03:57:24 +0200    1815 execution          WARNING  [coherence_score in line 4 (index starts from 0)] stderr> RateLimitError #0, Retry-After=9, Back off 9.0 seconds for retry.\n",
      "2024-06-05 03:57:24 +0200    1819 execution          WARNING  [groundedness_score in line 2 (index starts from 0)] stderr> Exception occurs: RateLimitError: Error code: 429 - {'error': {'code': '429', 'message': 'Requests to the ChatCompletions_Create Operation under Azure OpenAI API version 2024-03-01-preview have exceeded call rate limit of your current AIServices S0 pricing tier. Please retry after 9 seconds. Please contact Azure support service if you would like to further increase the default rate limit.'}}\n",
      "2024-06-05 03:57:24 +0200    1819 execution          WARNING  [groundedness_score in line 2 (index starts from 0)] stderr> RateLimitError #0, Retry-After=9, Back off 9.0 seconds for retry.\n",
      "2024-06-05 03:57:24 +0200    1819 execution          WARNING  [relevance_score in line 2 (index starts from 0)] stderr> Exception occurs: RateLimitError: Error code: 429 - {'error': {'code': '429', 'message': 'Requests to the ChatCompletions_Create Operation under Azure OpenAI API version 2024-03-01-preview have exceeded call rate limit of your current AIServices S0 pricing tier. Please retry after 9 seconds. Please contact Azure support service if you would like to further increase the default rate limit.'}}\n",
      "2024-06-05 03:57:24 +0200    1819 execution          WARNING  [relevance_score in line 2 (index starts from 0)] stderr> RateLimitError #0, Retry-After=9, Back off 9.0 seconds for retry.\n",
      "2024-06-05 03:57:24 +0200    1767 execution.bulk     INFO     Finished 1 / 5 lines.\n",
      "2024-06-05 03:57:24 +0200    1767 execution.bulk     INFO     Average execution time for completed lines: 2.0 seconds. Estimated time for incomplete lines: 8.0 seconds.\n",
      "2024-06-05 03:57:33 +0200    1816 execution          WARNING  [relevance_score in line 1 (index starts from 0)] stderr> Exception occurs: RateLimitError: Error code: 429 - {'error': {'code': '429', 'message': 'Requests to the ChatCompletions_Create Operation under Azure OpenAI API version 2024-03-01-preview have exceeded call rate limit of your current AIServices S0 pricing tier. Please retry after 1 second. Please contact Azure support service if you would like to further increase the default rate limit.'}}\n",
      "2024-06-05 03:57:33 +0200    1816 execution          WARNING  [relevance_score in line 1 (index starts from 0)] stderr> RateLimitError #1, Retry-After=1, Back off 1.0 seconds for retry.\n",
      "2024-06-05 03:57:34 +0200    1767 execution.bulk     INFO     Process name(SpawnProcess-10)-Process id(1820)-Line number(0) completed.\n",
      "2024-06-05 03:57:34 +0200    1767 execution.bulk     INFO     Process name(SpawnProcess-9)-Process id(1819)-Line number(2) completed.\n",
      "2024-06-05 03:57:35 +0200    1767 execution.bulk     INFO     Process name(SpawnProcess-8)-Process id(1816)-Line number(1) completed.\n",
      "2024-06-05 03:57:35 +0200    1767 execution.bulk     INFO     Finished 4 / 5 lines.\n",
      "2024-06-05 03:57:35 +0200    1767 execution.bulk     INFO     Average execution time for completed lines: 3.25 seconds. Estimated time for incomplete lines: 3.25 seconds.\n",
      "2024-06-05 03:57:36 +0200    1767 execution.bulk     INFO     Process name(SpawnProcess-7)-Process id(1815)-Line number(4) completed.\n",
      "2024-06-05 03:57:36 +0200    1767 execution.bulk     INFO     Finished 5 / 5 lines.\n",
      "2024-06-05 03:57:36 +0200    1767 execution.bulk     INFO     Average execution time for completed lines: 2.8 seconds. Estimated time for incomplete lines: 0.0 seconds.\n",
      "2024-06-05 03:57:36 +0200    1767 execution.bulk     INFO     The thread monitoring the process [1820-SpawnProcess-10] will be terminated.\n",
      "2024-06-05 03:57:36 +0200    1767 execution.bulk     INFO     The thread monitoring the process [1816-SpawnProcess-8] will be terminated.\n",
      "2024-06-05 03:57:36 +0200    1816 execution.bulk     INFO     The process [1816] has received a terminate signal.\n",
      "2024-06-05 03:57:36 +0200    1820 execution.bulk     INFO     The process [1820] has received a terminate signal.\n",
      "2024-06-05 03:57:36 +0200    1767 execution.bulk     INFO     The thread monitoring the process [1815-SpawnProcess-7] will be terminated.\n",
      "2024-06-05 03:57:36 +0200    1815 execution.bulk     INFO     The process [1815] has received a terminate signal.\n",
      "2024-06-05 03:57:36 +0200    1767 execution.bulk     INFO     The thread monitoring the process [1819-SpawnProcess-9] will be terminated.\n",
      "2024-06-05 03:57:36 +0200    1819 execution.bulk     INFO     The process [1819] has received a terminate signal.\n",
      "2024-06-05 03:57:36 +0200    1767 execution.bulk     INFO     Process 1820 terminated.\n",
      "2024-06-05 03:57:36 +0200    1767 execution.bulk     INFO     Process 1816 terminated.\n",
      "2024-06-05 03:57:36 +0200    1767 execution.bulk     INFO     Process 1819 terminated.\n",
      "2024-06-05 03:57:36 +0200    1767 execution.bulk     INFO     Process 1815 terminated.\n",
      "2024-06-05 03:57:37 +0200    1767 execution.bulk     INFO     Executing aggregation node...\n",
      "2024-06-05 03:57:37 +0200    1767 execution.bulk     INFO     Finish executing aggregation node.\n",
      "======= Run Summary =======\n",
      "\n",
      "Run name: \"2024_06_05_035710chat_eval_run\"\n",
      "Run status: \"Completed\"\n",
      "Start time: \"2024-06-05 03:57:21.569723\"\n",
      "Duration: \"0:00:15.516937\"\n",
      "Output path: \"/Users/yonghuizhu/.promptflow/.runs/2024_06_05_035710chat_eval_run\"\n",
      "\n"
     ]
    },
    {
     "data": {
      "text/plain": [
       "<promptflow._sdk.entities._run.Run at 0x15579b550>"
      ]
     },
     "execution_count": 9,
     "metadata": {},
     "output_type": "execute_result"
    }
   ],
   "source": [
    "\n",
    "metrics_hf = pf_client.get_metrics(local_eval_run_variant)\n",
    "import json\n",
    "print(json.dumps(metrics_hf, indent=4))\n",
    "pf_client.stream(local_eval_run_variant)"
   ]
  },
  {
   "cell_type": "code",
   "execution_count": 10,
   "metadata": {},
   "outputs": [
    {
     "name": "stderr",
     "output_type": "stream",
     "text": [
      "WARNING:root:'from promptflow import tool' is deprecated and will be removed in the future. Use 'from promptflow.core import tool' instead.\n",
      "WARNING:root:'from promptflow import log_metric' is deprecated and will be removed in the future. Use 'from promptflow.core import log_metric' instead.\n",
      "WARNING:root:'from promptflow import ToolProvider' is deprecated and will be removed in the future. Use 'from promptflow.core import ToolProvider' instead.\n"
     ]
    },
    {
     "name": "stdout",
     "output_type": "stream",
     "text": [
      "The HTML file is generated at '/private/var/folders/hf/3mqmr8vd3cs309p9_zg2wcsr0000gn/T/pf-visualize-detail-fvrb2cyz.html'.\n",
      "Trying to view the result in a web browser...\n",
      "Successfully visualized from the web browser.\n"
     ]
    }
   ],
   "source": [
    "pf_client.visualize([local_base_run_hf, local_eval_run_variant])"
   ]
  }
 ],
 "metadata": {
  "kernelspec": {
   "display_name": ".venv",
   "language": "python",
   "name": "python3"
  },
  "language_info": {
   "codemirror_mode": {
    "name": "ipython",
    "version": 3
   },
   "file_extension": ".py",
   "mimetype": "text/x-python",
   "name": "python",
   "nbconvert_exporter": "python",
   "pygments_lexer": "ipython3",
   "version": "3.11.9"
  }
 },
 "nbformat": 4,
 "nbformat_minor": 2
}
