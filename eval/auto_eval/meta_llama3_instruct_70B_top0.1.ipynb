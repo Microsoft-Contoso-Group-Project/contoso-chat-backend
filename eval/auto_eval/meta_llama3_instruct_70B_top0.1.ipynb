{
 "cells": [
  {
   "cell_type": "code",
   "execution_count": 1,
   "metadata": {
    "execution": {
     "iopub.execute_input": "2024-06-09T23:21:54.561161Z",
     "iopub.status.busy": "2024-06-09T23:21:54.560746Z",
     "iopub.status.idle": "2024-06-09T23:21:55.032035Z",
     "shell.execute_reply": "2024-06-09T23:21:55.031812Z"
    }
   },
   "outputs": [
    {
     "name": "stderr",
     "output_type": "stream",
     "text": [
      "WARNING:root:'from promptflow import PFClient' is deprecated and will be removed in the future. Use 'from promptflow.client import PFClient' instead.\n"
     ]
    }
   ],
   "source": [
    "from promptflow import PFClient\n",
    "\n",
    "pf_client = PFClient()\n",
    "\n",
    "from dotenv import load_dotenv\n",
    "\n",
    "load_dotenv()\n",
    "\n",
    "runtime = \"automatic\"\n",
    "# load flow\n",
    "flow = \"../contoso-chat_hf\" #\"../contoso-chat\"\n",
    "\n",
    "\n",
    "eval_flow = \"multi_flow/\"   #\"multi_flow_hf/\"\n",
    "data = \"../data/salestestdata.jsonl\"\n"
   ]
  },
  {
   "cell_type": "code",
   "execution_count": 2,
   "metadata": {
    "execution": {
     "iopub.execute_input": "2024-06-09T23:21:55.045411Z",
     "iopub.status.busy": "2024-06-09T23:21:55.045258Z",
     "iopub.status.idle": "2024-06-09T23:21:57.565510Z",
     "shell.execute_reply": "2024-06-09T23:21:57.565259Z"
    }
   },
   "outputs": [
    {
     "name": "stderr",
     "output_type": "stream",
     "text": [
      "WARNING:root:'from promptflow import tool' is deprecated and will be removed in the future. Use 'from promptflow.core import tool' instead.\n"
     ]
    },
    {
     "name": "stderr",
     "output_type": "stream",
     "text": [
      "[2024-06-10 01:21:55 +0200][promptflow.core._connection][WARNING] - Please use connection.secrets[key] to access secrets.\n"
     ]
    },
    {
     "name": "stdout",
     "output_type": "stream",
     "text": [
      "Prompt flow service has started...\n"
     ]
    },
    {
     "name": "stdout",
     "output_type": "stream",
     "text": [
      "2024-06-10 01:21:55 +0200   27737 execution.flow     INFO     Start executing nodes in thread pool mode.\n"
     ]
    },
    {
     "name": "stdout",
     "output_type": "stream",
     "text": [
      "2024-06-10 01:21:55 +0200   27737 execution.flow     INFO     Start to run 5 nodes with concurrency level 16.\n"
     ]
    },
    {
     "name": "stdout",
     "output_type": "stream",
     "text": [
      "2024-06-10 01:21:55 +0200   27737 execution.flow     INFO     Executing node question_embedding. node run id: 75192139-25ac-466c-a602-f89d623ae0be_question_embedding_0\n"
     ]
    },
    {
     "name": "stdout",
     "output_type": "stream",
     "text": [
      "2024-06-10 01:21:55 +0200   27737 execution.flow     INFO     Executing node customer_lookup. node run id: 75192139-25ac-466c-a602-f89d623ae0be_customer_lookup_0\n"
     ]
    },
    {
     "name": "stdout",
     "output_type": "stream",
     "text": [
      "2024-06-10 01:21:55 +0200   27737 execution.flow     INFO     Node question_embedding completes.\n"
     ]
    },
    {
     "name": "stdout",
     "output_type": "stream",
     "text": [
      "2024-06-10 01:21:55 +0200   27737 execution.flow     INFO     Executing node retrieve_documentation. node run id: 75192139-25ac-466c-a602-f89d623ae0be_retrieve_documentation_0\n"
     ]
    },
    {
     "name": "stdout",
     "output_type": "stream",
     "text": [
      "2024-06-10 01:21:56 +0200   27737 execution.flow     INFO     Node customer_lookup completes.\n"
     ]
    },
    {
     "name": "stdout",
     "output_type": "stream",
     "text": [
      "You can view the trace detail from the following URL:\n",
      "http://127.0.0.1:23333/v1.0/ui/traces/?#collection=contoso-chat_hf&uiTraceId=0xcfb35e3bb79329443944fd49d4078534\n"
     ]
    },
    {
     "name": "stdout",
     "output_type": "stream",
     "text": [
      "2024-06-10 01:21:56 +0200   27737 execution.flow     INFO     Node retrieve_documentation completes.\n"
     ]
    },
    {
     "name": "stdout",
     "output_type": "stream",
     "text": [
      "2024-06-10 01:21:56 +0200   27737 execution.flow     INFO     Executing node customer_prompt. node run id: 75192139-25ac-466c-a602-f89d623ae0be_customer_prompt_0\n"
     ]
    },
    {
     "name": "stdout",
     "output_type": "stream",
     "text": [
      "2024-06-10 01:21:56 +0200   27737 execution.flow     INFO     Node customer_prompt completes.\n"
     ]
    },
    {
     "name": "stdout",
     "output_type": "stream",
     "text": [
      "2024-06-10 01:21:56 +0200   27737 execution.flow     INFO     Executing node llm_response. node run id: 75192139-25ac-466c-a602-f89d623ae0be_llm_response_0\n"
     ]
    },
    {
     "name": "stdout",
     "output_type": "stream",
     "text": [
      "2024-06-10 01:21:57 +0200   27737 execution.flow     INFO     Node llm_response completes.\n"
     ]
    }
   ],
   "source": [
    "# Add a question to test the base prompt flow.\n",
    "question = \"Can you tell me about your jackets?\"\n",
    "customerId = \"4\"\n",
    "output_hf = pf_client.test(\n",
    "    flow=flow, # Path to the flow directory\n",
    "    inputs={ # Inputs to the flow\n",
    "        \"chat_history\": [],\n",
    "        \"question\": question,\n",
    "        \"customerId\": customerId,\n",
    "    },\n",
    ")\n",
    "\n",
    "output_hf[\"answer\"] = \"\".join(list(output_hf[\"answer\"]))"
   ]
  },
  {
   "cell_type": "code",
   "execution_count": 3,
   "metadata": {
    "execution": {
     "iopub.execute_input": "2024-06-09T23:21:57.567065Z",
     "iopub.status.busy": "2024-06-09T23:21:57.566984Z",
     "iopub.status.idle": "2024-06-09T23:21:57.570038Z",
     "shell.execute_reply": "2024-06-09T23:21:57.569821Z"
    }
   },
   "outputs": [
    {
     "data": {
      "text/plain": [
       "{'answer': \"Hi there 👋 SaraLee 🙏,\\n\\nI'd love 💕 sharing our awesome collection 😎of outerwear pieces tailored perfectly 🔩for adventurers like yourself 😉! \\n\\nConsidering previous buys such ⭐️as those fantastic `Cozynight`🛍️sleeping bags & comfyTrailblazerHikesPants💪, I think two fabulous choices would complement each item beautifully:\\n\\n1⃣ Our popularSummitBreezesJacket❄(Catalog ID :\",\n",
       " 'context': [{'id': '3',\n",
       "   'title': 'Summit Breeze Jacket',\n",
       "   'content': \"Discover the joy of hiking with MountainStyle's Summit Breeze Jacket. This lightweight jacket is your perfect companion for outdoor adventures. Sporting a trail-ready, windproof design and a water-resistant fabric, it's ready to withstand any weather. The breathable polyester material and adjustable cuffs keep you comfortable, whether you're ascending a mountain or strolling through a park. And its sleek black color adds style to function. The jacket features a full-zip front closure, adjustable hood, and secure zippered pockets. Experience the comfort of its inner lining and the convenience of its packable design. Crafted for night trekkers too, the jacket has reflective accents for enhanced visibility. Rugged yet chic, the Summit Breeze Jacket is more than a hiking essential, it's the gear that inspires you to reach new heights. Choose adventure, choose the Summit Breeze Jacket.\",\n",
       "   'url': '/products/summit-breeze-jacket'},\n",
       "  {'id': '17',\n",
       "   'title': 'RainGuard Hiking Jacket',\n",
       "   'content': \"Introducing the MountainStyle RainGuard Hiking Jacket - the ultimate solution for weatherproof comfort during your outdoor undertakings! Designed with waterproof, breathable fabric, this jacket promises an outdoor experience that's as dry as it is comfortable. The rugged construction assures durability, while the adjustable hood provides a customizable fit against wind and rain. Featuring multiple pockets for safe, convenient storage and adjustable cuffs and hem, you can tailor the jacket to suit your needs on-the-go. And, don't worry about overheating during intense activities - it's equipped with ventilation zippers for increased airflow. Reflective details ensure visibility even during low-light conditions, making it perfect for evening treks. With its lightweight, packable design, carrying it inside your backpack requires minimal effort. With options for men and women, the RainGuard Hiking Jacket is perfect for hiking, camping, trekking and countless other outdoor adventures. Don't let the weather stand in your way - embrace the outdoors with MountainStyle RainGuard Hiking Jacket!\",\n",
       "   'url': '/products/rainguard-hiking-jacket'},\n",
       "  {'id': '4',\n",
       "   'title': 'TrekReady Hiking Boots',\n",
       "   'content': \"Introducing the TrekReady Hiking Boots - stepping up your hiking game, one footprint at a time! Crafted from leather, these stylistic Trailmates are made to last. TrekReady infuses durability with its reinforced stitching and toe protection, making sure your journey is never stopped short. Comfort? They have that covered too! The boots are a haven with their breathable materials, cushioned insole, with padded collar and tongue; all nestled neatly within their lightweight design. As they say, it's what's inside that counts - so inside you'll find a moisture-wicking lining that quarantines stank and keeps your feet fresh as that mountaintop breeze. Remember the fear of slippery surfaces? With these boots, you can finally tell it to 'take a hike'! Their shock-absorbing midsoles and excellent traction capabilities promise stability at your every step. Beautifully finished in a traditional lace-up system, every adventurer deserves a pair of TrekReady Hiking Boots. Hike more, worry less!\",\n",
       "   'url': '/products/trekready-hiking-boots'}]}"
      ]
     },
     "execution_count": 3,
     "metadata": {},
     "output_type": "execute_result"
    }
   ],
   "source": [
    "output_hf"
   ]
  },
  {
   "cell_type": "markdown",
   "metadata": {},
   "source": [
    "Test the groundedness of the prompt flow with the answer from the above question."
   ]
  },
  {
   "cell_type": "markdown",
   "metadata": {},
   "source": [
    "# Local Evaluation - Multiple Metrics \n",
    "\n",
    "Now use the same prompt flow and test it against the Multi Evaluation flow for groundedness, coherence, fluency, and relevance."
   ]
  },
  {
   "cell_type": "code",
   "execution_count": 4,
   "metadata": {
    "execution": {
     "iopub.execute_input": "2024-06-09T23:21:57.571306Z",
     "iopub.status.busy": "2024-06-09T23:21:57.571226Z",
     "iopub.status.idle": "2024-06-09T23:21:58.642730Z",
     "shell.execute_reply": "2024-06-09T23:21:58.642512Z"
    }
   },
   "outputs": [
    {
     "name": "stdout",
     "output_type": "stream",
     "text": [
      "question Can you tell me about your jackets?\n",
      "context [{'id': '3', 'title': 'Summit Breeze Jacket', 'content': \"Discover the joy of hiking with MountainStyle's Summit Breeze Jacket. This lightweight jacket is your perfect companion for outdoor adventures. Sporting a trail-ready, windproof design and a water-resistant fabric, it's ready to withstand any weather. The breathable polyester material and adjustable cuffs keep you comfortable, whether you're ascending a mountain or strolling through a park. And its sleek black color adds style to function. The jacket features a full-zip front closure, adjustable hood, and secure zippered pockets. Experience the comfort of its inner lining and the convenience of its packable design. Crafted for night trekkers too, the jacket has reflective accents for enhanced visibility. Rugged yet chic, the Summit Breeze Jacket is more than a hiking essential, it's the gear that inspires you to reach new heights. Choose adventure, choose the Summit Breeze Jacket.\", 'url': '/products/summit-breeze-jacket'}, {'id': '17', 'title': 'RainGuard Hiking Jacket', 'content': \"Introducing the MountainStyle RainGuard Hiking Jacket - the ultimate solution for weatherproof comfort during your outdoor undertakings! Designed with waterproof, breathable fabric, this jacket promises an outdoor experience that's as dry as it is comfortable. The rugged construction assures durability, while the adjustable hood provides a customizable fit against wind and rain. Featuring multiple pockets for safe, convenient storage and adjustable cuffs and hem, you can tailor the jacket to suit your needs on-the-go. And, don't worry about overheating during intense activities - it's equipped with ventilation zippers for increased airflow. Reflective details ensure visibility even during low-light conditions, making it perfect for evening treks. With its lightweight, packable design, carrying it inside your backpack requires minimal effort. With options for men and women, the RainGuard Hiking Jacket is perfect for hiking, camping, trekking and countless other outdoor adventures. Don't let the weather stand in your way - embrace the outdoors with MountainStyle RainGuard Hiking Jacket!\", 'url': '/products/rainguard-hiking-jacket'}, {'id': '4', 'title': 'TrekReady Hiking Boots', 'content': \"Introducing the TrekReady Hiking Boots - stepping up your hiking game, one footprint at a time! Crafted from leather, these stylistic Trailmates are made to last. TrekReady infuses durability with its reinforced stitching and toe protection, making sure your journey is never stopped short. Comfort? They have that covered too! The boots are a haven with their breathable materials, cushioned insole, with padded collar and tongue; all nestled neatly within their lightweight design. As they say, it's what's inside that counts - so inside you'll find a moisture-wicking lining that quarantines stank and keeps your feet fresh as that mountaintop breeze. Remember the fear of slippery surfaces? With these boots, you can finally tell it to 'take a hike'! Their shock-absorbing midsoles and excellent traction capabilities promise stability at your every step. Beautifully finished in a traditional lace-up system, every adventurer deserves a pair of TrekReady Hiking Boots. Hike more, worry less!\", 'url': '/products/trekready-hiking-boots'}]\n",
      "answer Hi there 👋 SaraLee 🙏,\n",
      "\n",
      "I'd love 💕 sharing our awesome collection 😎of outerwear pieces tailored perfectly 🔩for adventurers like yourself 😉! \n",
      "\n",
      "Considering previous buys such ⭐️as those fantastic `Cozynight`🛍️sleeping bags & comfyTrailblazerHikesPants💪, I think two fabulous choices would complement each item beautifully:\n",
      "\n",
      "1⃣ Our popularSummitBreezesJacket❄(Catalog ID :\n"
     ]
    },
    {
     "name": "stderr",
     "output_type": "stream",
     "text": [
      "WARNING:root:'from promptflow import log_metric' is deprecated and will be removed in the future. Use 'from promptflow.core import log_metric' instead.\n"
     ]
    },
    {
     "name": "stdout",
     "output_type": "stream",
     "text": [
      "Prompt flow service has started...\n",
      "2024-06-10 01:21:57 +0200   27737 execution.flow     INFO     Start executing nodes in thread pool mode.\n"
     ]
    },
    {
     "name": "stdout",
     "output_type": "stream",
     "text": [
      "2024-06-10 01:21:57 +0200   27737 execution.flow     INFO     Start to run 8 nodes with concurrency level 16.\n"
     ]
    },
    {
     "name": "stdout",
     "output_type": "stream",
     "text": [
      "2024-06-10 01:21:57 +0200   27737 execution.flow     INFO     Executing node coherence_score. node run id: 908d015c-4804-40dd-ac68-b4821b51f654_coherence_score_0\n"
     ]
    },
    {
     "name": "stdout",
     "output_type": "stream",
     "text": [
      "2024-06-10 01:21:57 +0200   27737 execution.flow     INFO     Executing node fluency_score. node run id: 908d015c-4804-40dd-ac68-b4821b51f654_fluency_score_0\n"
     ]
    },
    {
     "name": "stdout",
     "output_type": "stream",
     "text": [
      "2024-06-10 01:21:57 +0200   27737 execution.flow     INFO     Executing node groundedness_score. node run id: 908d015c-4804-40dd-ac68-b4821b51f654_groundedness_score_0\n"
     ]
    },
    {
     "name": "stdout",
     "output_type": "stream",
     "text": [
      "2024-06-10 01:21:57 +0200   27737 execution.flow     INFO     Executing node relevance_score. node run id: 908d015c-4804-40dd-ac68-b4821b51f654_relevance_score_0\n"
     ]
    },
    {
     "name": "stdout",
     "output_type": "stream",
     "text": [
      "2024-06-10 01:21:58 +0200   27737 execution.flow     INFO     Node fluency_score completes.\n"
     ]
    },
    {
     "name": "stdout",
     "output_type": "stream",
     "text": [
      "2024-06-10 01:21:58 +0200   27737 execution.flow     INFO     Executing node fluency_concat_scores. node run id: 908d015c-4804-40dd-ac68-b4821b51f654_fluency_concat_scores_0\n"
     ]
    },
    {
     "name": "stdout",
     "output_type": "stream",
     "text": [
      "2024-06-10 01:21:58 +0200   27737 execution.flow     INFO     Node fluency_concat_scores completes.\n"
     ]
    },
    {
     "name": "stdout",
     "output_type": "stream",
     "text": [
      "2024-06-10 01:21:58 +0200   27737 execution.flow     INFO     Node coherence_score completes.\n"
     ]
    },
    {
     "name": "stdout",
     "output_type": "stream",
     "text": [
      "2024-06-10 01:21:58 +0200   27737 execution.flow     INFO     Executing node coherence_concat_scores. node run id: 908d015c-4804-40dd-ac68-b4821b51f654_coherence_concat_scores_0\n"
     ]
    },
    {
     "name": "stdout",
     "output_type": "stream",
     "text": [
      "2024-06-10 01:21:58 +0200   27737 execution.flow     INFO     Node coherence_concat_scores completes.\n"
     ]
    },
    {
     "name": "stdout",
     "output_type": "stream",
     "text": [
      "2024-06-10 01:21:58 +0200   27737 execution.flow     INFO     Node groundedness_score completes.\n"
     ]
    },
    {
     "name": "stdout",
     "output_type": "stream",
     "text": [
      "2024-06-10 01:21:58 +0200   27737 execution.flow     INFO     Executing node groundedness_concat_scores. node run id: 908d015c-4804-40dd-ac68-b4821b51f654_groundedness_concat_scores_0\n"
     ]
    },
    {
     "name": "stdout",
     "output_type": "stream",
     "text": [
      "2024-06-10 01:21:58 +0200   27737 execution.flow     INFO     Node groundedness_concat_scores completes.\n"
     ]
    },
    {
     "name": "stdout",
     "output_type": "stream",
     "text": [
      "2024-06-10 01:21:58 +0200   27737 execution.flow     INFO     Node relevance_score completes.\n"
     ]
    },
    {
     "name": "stdout",
     "output_type": "stream",
     "text": [
      "2024-06-10 01:21:58 +0200   27737 execution.flow     INFO     Executing node relevance_concat_scores. node run id: 908d015c-4804-40dd-ac68-b4821b51f654_relevance_concat_scores_0\n"
     ]
    },
    {
     "name": "stdout",
     "output_type": "stream",
     "text": [
      "2024-06-10 01:21:58 +0200   27737 execution.flow     INFO     Node relevance_concat_scores completes.\n"
     ]
    },
    {
     "name": "stdout",
     "output_type": "stream",
     "text": [
      "2024-06-10 01:21:58 +0200   27737 execution.flow     INFO     Start executing nodes in thread pool mode.\n"
     ]
    },
    {
     "name": "stdout",
     "output_type": "stream",
     "text": [
      "2024-06-10 01:21:58 +0200   27737 execution.flow     INFO     Start to run 4 nodes with concurrency level 16.\n"
     ]
    },
    {
     "name": "stdout",
     "output_type": "stream",
     "text": [
      "2024-06-10 01:21:58 +0200   27737 execution.flow     INFO     Executing node coherence_aggregate_variants_results. node run id: 908d015c-4804-40dd-ac68-b4821b51f654_coherence_aggregate_variants_results_reduce\n"
     ]
    },
    {
     "name": "stdout",
     "output_type": "stream",
     "text": [
      "2024-06-10 01:21:58 +0200   27737 execution.flow     INFO     Executing node fluency_aggregate_variants_results. node run id: 908d015c-4804-40dd-ac68-b4821b51f654_fluency_aggregate_variants_results_reduce\n"
     ]
    },
    {
     "name": "stdout",
     "output_type": "stream",
     "text": [
      "2024-06-10 01:21:58 +0200   27737 execution.flow     INFO     Executing node groundedness_aggregate_variants_results. node run id: 908d015c-4804-40dd-ac68-b4821b51f654_groundedness_aggregate_variants_results_reduce\n"
     ]
    },
    {
     "name": "stdout",
     "output_type": "stream",
     "text": [
      "2024-06-10 01:21:58 +0200   27737 execution.flow     INFO     Node coherence_aggregate_variants_results completes.\n"
     ]
    },
    {
     "name": "stdout",
     "output_type": "stream",
     "text": [
      "2024-06-10 01:21:58 +0200   27737 execution.flow     INFO     Executing node relevance_aggregate_variants_results. node run id: 908d015c-4804-40dd-ac68-b4821b51f654_relevance_aggregate_variants_results_reduce\n"
     ]
    },
    {
     "name": "stdout",
     "output_type": "stream",
     "text": [
      "2024-06-10 01:21:58 +0200   27737 execution.flow     INFO     Node fluency_aggregate_variants_results completes.\n"
     ]
    },
    {
     "name": "stdout",
     "output_type": "stream",
     "text": [
      "2024-06-10 01:21:58 +0200   27737 execution.flow     INFO     Node groundedness_aggregate_variants_results completes.\n"
     ]
    },
    {
     "name": "stdout",
     "output_type": "stream",
     "text": [
      "2024-06-10 01:21:58 +0200   27737 execution.flow     INFO     [relevance_aggregate_variants_results in line None (index starts from 0)] stdout> results\n"
     ]
    },
    {
     "name": "stdout",
     "output_type": "stream",
     "text": [
      "2024-06-10 01:21:58 +0200   27737 execution.flow     INFO     [relevance_aggregate_variants_results in line None (index starts from 0)] stdout>  \n"
     ]
    },
    {
     "name": "stdout",
     "output_type": "stream",
     "text": [
      "2024-06-10 01:21:58 +0200   27737 execution.flow     INFO     [relevance_aggregate_variants_results in line None (index starts from 0)] stdout> [{'gpt_relevance': 2.0, 'gpt_relevance_pass_rate': 0}]\n"
     ]
    },
    {
     "name": "stdout",
     "output_type": "stream",
     "text": [
      "2024-06-10 01:21:58 +0200   27737 execution.flow     INFO     Node relevance_aggregate_variants_results completes.\n"
     ]
    }
   ],
   "source": [
    "print(\"question\",question)\n",
    "print(\"context\",output_hf[\"context\"])\n",
    "print(\"answer\", output_hf[\"answer\"])\n",
    "test_multi_hf = pf_client.test(\n",
    "    eval_flow,\n",
    "    inputs={\n",
    "        \"question\": question,\n",
    "        \"context\": str(output_hf[\"context\"]),\n",
    "        \"answer\": output_hf[\"answer\"],\n",
    "    },\n",
    ")"
   ]
  },
  {
   "cell_type": "code",
   "execution_count": 5,
   "metadata": {
    "execution": {
     "iopub.execute_input": "2024-06-09T23:21:58.643947Z",
     "iopub.status.busy": "2024-06-09T23:21:58.643858Z",
     "iopub.status.idle": "2024-06-09T23:21:58.645676Z",
     "shell.execute_reply": "2024-06-09T23:21:58.645505Z"
    }
   },
   "outputs": [
    {
     "data": {
      "text/plain": [
       "{'gpt_coherence': 2.0,\n",
       " 'gpt_fluency': 2.0,\n",
       " 'gpt_groundedness': 1.0,\n",
       " 'gpt_relevance': 2.0}"
      ]
     },
     "execution_count": 5,
     "metadata": {},
     "output_type": "execute_result"
    }
   ],
   "source": [
    "test_multi_hf"
   ]
  },
  {
   "cell_type": "code",
   "execution_count": 6,
   "metadata": {
    "execution": {
     "iopub.execute_input": "2024-06-09T23:21:58.646716Z",
     "iopub.status.busy": "2024-06-09T23:21:58.646646Z",
     "iopub.status.idle": "2024-06-09T23:22:04.186645Z",
     "shell.execute_reply": "2024-06-09T23:22:04.186410Z"
    }
   },
   "outputs": [
    {
     "name": "stdout",
     "output_type": "stream",
     "text": [
      "2024_06_10_012158chat_base_run\n"
     ]
    },
    {
     "name": "stderr",
     "output_type": "stream",
     "text": [
      "[2024-06-10 01:21:58 +0200][promptflow._sdk._orchestrator.run_submitter][INFO] - Submitting run 2024_06_10_012158chat_base_run, log path: /Users/yonghuizhu/.promptflow/.runs/2024_06_10_012158chat_base_run/logs.txt\n"
     ]
    },
    {
     "name": "stdout",
     "output_type": "stream",
     "text": [
      "Prompt flow service has started...\n",
      "You can view the traces in local from http://127.0.0.1:23333/v1.0/ui/traces/?#run=2024_06_10_012158chat_base_run\n"
     ]
    },
    {
     "name": "stdout",
     "output_type": "stream",
     "text": [
      "You can view the trace detail from the following URL:\n",
      "http://127.0.0.1:23333/v1.0/ui/traces/?#collection=multi_flow&uiTraceId=0x2c63b72dd4432c7247c8bfaf84109a60\n",
      "You can view the trace detail from the following URL:\n",
      "http://127.0.0.1:23333/v1.0/ui/traces/?#collection=multi_flow&uiTraceId=0x0cc6f02b5285ed71b03da0baaa19d3f6\n",
      "You can view the trace detail from the following URL:\n",
      "http://127.0.0.1:23333/v1.0/ui/traces/?#collection=multi_flow&uiTraceId=0x24f8e1fc29c37a459c6b8264480d3459\n",
      "You can view the trace detail from the following URL:\n",
      "http://127.0.0.1:23333/v1.0/ui/traces/?#collection=multi_flow&uiTraceId=0xa7454d7fec7525ea8fb5480c8d062329\n",
      "You can view the trace detail from the following URL:\n",
      "http://127.0.0.1:23333/v1.0/ui/traces/?#collection=multi_flow&uiTraceId=0x66c6a6d5826f03ec69688153e390c0b2\n"
     ]
    },
    {
     "name": "stdout",
     "output_type": "stream",
     "text": [
      "name: 2024_06_10_012158chat_base_run\n",
      "created_on: '2024-06-10T01:21:58.652610'\n",
      "status: Completed\n",
      "display_name: 2024_06_10_012158chat_base_run\n",
      "description:\n",
      "tags:\n",
      "properties:\n",
      "  flow_path: /Users/yonghuizhu/imperial/contoso-chat-backend/contoso-chat_hf\n",
      "  output_path: /Users/yonghuizhu/.promptflow/.runs/2024_06_10_012158chat_base_run\n",
      "  column_mapping:\n",
      "    customerId: ${data.customerId}\n",
      "    question: ${data.question}\n",
      "  system_metrics:\n",
      "    total_tokens: 7469\n",
      "    prompt_tokens: 6969\n",
      "    completion_tokens: 500\n",
      "    duration: 5.362997\n",
      "flow_name: contoso-chat_hf\n",
      "data: /Users/yonghuizhu/imperial/contoso-chat-backend/data/salestestdata.jsonl\n",
      "output: /Users/yonghuizhu/.promptflow/.runs/2024_06_10_012158chat_base_run/flow_outputs\n",
      "\n"
     ]
    }
   ],
   "source": [
    "\n",
    "# get current time stamp for run name\n",
    "import datetime\n",
    "now = datetime.datetime.now()\n",
    "timestamp = now.strftime(\"%Y_%m_%d_%H%M%S\")\n",
    "run_name_hf = timestamp+\"chat_base_run\"\n",
    "print(run_name_hf)\n",
    "\n",
    "# create base run in Azure Ai Studio\n",
    "local_base_run_hf = pf_client.run(\n",
    "    flow=flow,\n",
    "    data=data,\n",
    "    column_mapping={\n",
    "        # reference data\n",
    "        \"customerId\": \"${data.customerId}\",\n",
    "        \"question\": \"${data.question}\",\n",
    "    },\n",
    "    runtime=runtime,\n",
    "    # create a display name as current datetime\n",
    "    display_name=run_name_hf,\n",
    "    name=run_name_hf\n",
    ")\n",
    "print(local_base_run_hf)"
   ]
  },
  {
   "cell_type": "code",
   "execution_count": 7,
   "metadata": {
    "execution": {
     "iopub.execute_input": "2024-06-09T23:22:04.188412Z",
     "iopub.status.busy": "2024-06-09T23:22:04.188304Z",
     "iopub.status.idle": "2024-06-09T23:22:04.225240Z",
     "shell.execute_reply": "2024-06-09T23:22:04.225030Z"
    }
   },
   "outputs": [
    {
     "name": "stdout",
     "output_type": "stream",
     "text": [
      "2024-06-10 01:21:58 +0200   27737 execution.bulk     INFO     Current thread is not main thread, skip signal handler registration in BatchEngine.\n",
      "2024-06-10 01:21:58 +0200   27737 execution.bulk     INFO     Current system's available memory is 1350.875MB, memory consumption of current process is 269.765625MB, estimated available worker count is 1350.875/269.765625 = 5\n",
      "2024-06-10 01:21:58 +0200   27737 execution.bulk     INFO     Set process count to 4 by taking the minimum value among the factors of {'default_worker_count': 4, 'row_count': 5, 'estimated_worker_count_based_on_memory_usage': 5}.\n",
      "2024-06-10 01:21:59 +0200   27737 execution.bulk     INFO     Process name(SpawnProcess-2)-Process id(27753)-Line number(0) start execution.\n",
      "2024-06-10 01:21:59 +0200   27737 execution.bulk     INFO     Process name(SpawnProcess-3)-Process id(27754)-Line number(1) start execution.\n",
      "2024-06-10 01:21:59 +0200   27737 execution.bulk     INFO     Process name(SpawnProcess-5)-Process id(27756)-Line number(2) start execution.\n",
      "2024-06-10 01:21:59 +0200   27737 execution.bulk     INFO     Process name(SpawnProcess-4)-Process id(27755)-Line number(3) start execution.\n",
      "2024-06-10 01:22:01 +0200   27737 execution.bulk     INFO     Process name(SpawnProcess-2)-Process id(27753)-Line number(0) completed.\n",
      "2024-06-10 01:22:01 +0200   27737 execution.bulk     INFO     Process name(SpawnProcess-2)-Process id(27753)-Line number(4) start execution.\n",
      "2024-06-10 01:22:02 +0200   27737 execution.bulk     INFO     Process name(SpawnProcess-3)-Process id(27754)-Line number(1) completed.\n",
      "2024-06-10 01:22:02 +0200   27737 execution.bulk     INFO     Process name(SpawnProcess-5)-Process id(27756)-Line number(2) completed.\n",
      "2024-06-10 01:22:02 +0200   27737 execution.bulk     INFO     Process name(SpawnProcess-4)-Process id(27755)-Line number(3) completed.\n",
      "2024-06-10 01:22:02 +0200   27737 execution.bulk     INFO     Finished 4 / 5 lines.\n",
      "2024-06-10 01:22:02 +0200   27737 execution.bulk     INFO     Average execution time for completed lines: 0.75 seconds. Estimated time for incomplete lines: 0.75 seconds.\n",
      "2024-06-10 01:22:03 +0200   27737 execution.bulk     INFO     Process name(SpawnProcess-2)-Process id(27753)-Line number(4) completed.\n",
      "2024-06-10 01:22:03 +0200   27737 execution.bulk     INFO     Finished 5 / 5 lines.\n",
      "2024-06-10 01:22:03 +0200   27737 execution.bulk     INFO     Average execution time for completed lines: 0.8 seconds. Estimated time for incomplete lines: 0.0 seconds.\n",
      "2024-06-10 01:22:03 +0200   27737 execution.bulk     INFO     The thread monitoring the process [27754-SpawnProcess-3] will be terminated.\n",
      "2024-06-10 01:22:03 +0200   27754 execution.bulk     INFO     The process [27754] has received a terminate signal.\n",
      "2024-06-10 01:22:03 +0200   27737 execution.bulk     INFO     The thread monitoring the process [27755-SpawnProcess-4] will be terminated.\n",
      "2024-06-10 01:22:03 +0200   27755 execution.bulk     INFO     The process [27755] has received a terminate signal.\n",
      "2024-06-10 01:22:03 +0200   27737 execution.bulk     INFO     The thread monitoring the process [27756-SpawnProcess-5] will be terminated.\n",
      "2024-06-10 01:22:03 +0200   27756 execution.bulk     INFO     The process [27756] has received a terminate signal.\n",
      "2024-06-10 01:22:03 +0200   27737 execution.bulk     INFO     The thread monitoring the process [27753-SpawnProcess-2] will be terminated.\n",
      "2024-06-10 01:22:03 +0200   27753 execution.bulk     INFO     The process [27753] has received a terminate signal.\n",
      "2024-06-10 01:22:04 +0200   27737 execution.bulk     INFO     Process 27756 terminated.\n",
      "2024-06-10 01:22:04 +0200   27737 execution.bulk     INFO     Process 27755 terminated.\n",
      "2024-06-10 01:22:04 +0200   27737 execution.bulk     INFO     Process 27753 terminated.\n",
      "2024-06-10 01:22:04 +0200   27737 execution.bulk     INFO     Process 27754 terminated.\n",
      "======= Run Summary =======\n",
      "\n",
      "Run name: \"2024_06_10_012158chat_base_run\"\n",
      "Run status: \"Completed\"\n",
      "Start time: \"2024-06-10 01:21:58.652610\"\n",
      "Duration: \"0:00:05.507751\"\n",
      "Output path: \"/Users/yonghuizhu/.promptflow/.runs/2024_06_10_012158chat_base_run\"\n",
      "\n"
     ]
    },
    {
     "data": {
      "text/html": [
       "<div>\n",
       "<style scoped>\n",
       "    .dataframe tbody tr th:only-of-type {\n",
       "        vertical-align: middle;\n",
       "    }\n",
       "\n",
       "    .dataframe tbody tr th {\n",
       "        vertical-align: top;\n",
       "    }\n",
       "\n",
       "    .dataframe thead th {\n",
       "        text-align: right;\n",
       "    }\n",
       "</style>\n",
       "<table border=\"1\" class=\"dataframe\">\n",
       "  <thead>\n",
       "    <tr style=\"text-align: right;\">\n",
       "      <th></th>\n",
       "      <th>inputs.customerId</th>\n",
       "      <th>inputs.question</th>\n",
       "      <th>inputs.line_number</th>\n",
       "      <th>inputs.chat_history</th>\n",
       "      <th>outputs.answer</th>\n",
       "      <th>outputs.context</th>\n",
       "    </tr>\n",
       "  </thead>\n",
       "  <tbody>\n",
       "    <tr>\n",
       "      <th>0</th>\n",
       "      <td>4</td>\n",
       "      <td>tell me about your hiking jackets</td>\n",
       "      <td>0</td>\n",
       "      <td>[]</td>\n",
       "      <td>Hi there 👋 SaraLee 🏞️!\\n\\nI'd love 💕 sharing o...</td>\n",
       "      <td>[{'id': '17', 'title': 'RainGuard Hiking Jacke...</td>\n",
       "    </tr>\n",
       "    <tr>\n",
       "      <th>1</th>\n",
       "      <td>1</td>\n",
       "      <td>Do you have any climbing gear?</td>\n",
       "      <td>1</td>\n",
       "      <td>[]</td>\n",
       "      <td>Hey there 👋 JOHN SMITH 🎉,\\n\\nI see we've got q...</td>\n",
       "      <td>[{'id': '9', 'title': 'SummitClimber Backpack'...</td>\n",
       "    </tr>\n",
       "    <tr>\n",
       "      <th>2</th>\n",
       "      <td>3</td>\n",
       "      <td>Can you tell me about your selection of tents?</td>\n",
       "      <td>2</td>\n",
       "      <td>[]</td>\n",
       "      <td>Hey there 👋 Mike 🏕️!\\n\\nI see we've got our tr...</td>\n",
       "      <td>[{'id': '15', 'title': 'SkyView 2-Person Tent'...</td>\n",
       "    </tr>\n",
       "    <tr>\n",
       "      <th>3</th>\n",
       "      <td>6</td>\n",
       "      <td>Do you have any hiking boots?</td>\n",
       "      <td>3</td>\n",
       "      <td>[]</td>\n",
       "      <td>Hi there 👋️‍♀🏽**, *Emil*😊y Rodríguez!* \\n\\nYes...</td>\n",
       "      <td>[{'id': '4', 'title': 'TrekReady Hiking Boots'...</td>\n",
       "    </tr>\n",
       "    <tr>\n",
       "      <th>4</th>\n",
       "      <td>2</td>\n",
       "      <td>What gear do you recommend for hiking?</td>\n",
       "      <td>4</td>\n",
       "      <td>[]</td>\n",
       "      <td>Hi there 👋, Gold member 🏅 *ahem* I mean 😊 Hi a...</td>\n",
       "      <td>[{'id': '10', 'title': 'TrailBlaze Hiking Pant...</td>\n",
       "    </tr>\n",
       "  </tbody>\n",
       "</table>\n",
       "</div>"
      ],
      "text/plain": [
       "   inputs.customerId                                 inputs.question  \\\n",
       "0                  4               tell me about your hiking jackets   \n",
       "1                  1                  Do you have any climbing gear?   \n",
       "2                  3  Can you tell me about your selection of tents?   \n",
       "3                  6                   Do you have any hiking boots?   \n",
       "4                  2          What gear do you recommend for hiking?   \n",
       "\n",
       "   inputs.line_number inputs.chat_history  \\\n",
       "0                   0                  []   \n",
       "1                   1                  []   \n",
       "2                   2                  []   \n",
       "3                   3                  []   \n",
       "4                   4                  []   \n",
       "\n",
       "                                      outputs.answer  \\\n",
       "0  Hi there 👋 SaraLee 🏞️!\\n\\nI'd love 💕 sharing o...   \n",
       "1  Hey there 👋 JOHN SMITH 🎉,\\n\\nI see we've got q...   \n",
       "2  Hey there 👋 Mike 🏕️!\\n\\nI see we've got our tr...   \n",
       "3  Hi there 👋️‍♀🏽**, *Emil*😊y Rodríguez!* \\n\\nYes...   \n",
       "4  Hi there 👋, Gold member 🏅 *ahem* I mean 😊 Hi a...   \n",
       "\n",
       "                                     outputs.context  \n",
       "0  [{'id': '17', 'title': 'RainGuard Hiking Jacke...  \n",
       "1  [{'id': '9', 'title': 'SummitClimber Backpack'...  \n",
       "2  [{'id': '15', 'title': 'SkyView 2-Person Tent'...  \n",
       "3  [{'id': '4', 'title': 'TrekReady Hiking Boots'...  \n",
       "4  [{'id': '10', 'title': 'TrailBlaze Hiking Pant...  "
      ]
     },
     "execution_count": 7,
     "metadata": {},
     "output_type": "execute_result"
    }
   ],
   "source": [
    "pf_client.stream(local_base_run_hf)\n",
    "details = pf_client.get_details(local_base_run_hf)\n",
    "details.head(10)"
   ]
  },
  {
   "cell_type": "code",
   "execution_count": 8,
   "metadata": {
    "execution": {
     "iopub.execute_input": "2024-06-09T23:22:04.226369Z",
     "iopub.status.busy": "2024-06-09T23:22:04.226286Z",
     "iopub.status.idle": "2024-06-09T23:22:19.528876Z",
     "shell.execute_reply": "2024-06-09T23:22:19.528590Z"
    }
   },
   "outputs": [
    {
     "name": "stderr",
     "output_type": "stream",
     "text": [
      "[2024-06-10 01:22:04 +0200][promptflow._sdk._orchestrator.run_submitter][INFO] - Submitting run 2024_06_10_012158chat_eval_run, log path: /Users/yonghuizhu/.promptflow/.runs/2024_06_10_012158chat_eval_run/logs.txt\n"
     ]
    },
    {
     "name": "stdout",
     "output_type": "stream",
     "text": [
      "2024_06_10_012158chat_eval_run\n",
      "2024_06_10_012158chat_eval_run\n",
      "Prompt flow service has started...\n",
      "You can view the traces in local from http://127.0.0.1:23333/v1.0/ui/traces/?#run=2024_06_10_012158chat_eval_run\n"
     ]
    },
    {
     "name": "stdout",
     "output_type": "stream",
     "text": [
      "You can view the trace detail from the following URL:\n",
      "http://127.0.0.1:23333/v1.0/ui/traces/?#collection=multi_flow&uiTraceId=0xf34b665a615102da010527b3a971e6d0\n",
      "You can view the trace detail from the following URL:\n",
      "http://127.0.0.1:23333/v1.0/ui/traces/?#collection=multi_flow&uiTraceId=0x6c6639c0fc56d42f249bdd6dd01bdafc\n",
      "You can view the trace detail from the following URL:\n",
      "http://127.0.0.1:23333/v1.0/ui/traces/?#collection=multi_flow&uiTraceId=0x304e3ba4e4c1c562c5f7abd88902d93a\n",
      "You can view the trace detail from the following URL:\n",
      "http://127.0.0.1:23333/v1.0/ui/traces/?#collection=multi_flow&uiTraceId=0x8af17fb2f27ad8a7f475724f10fa9585\n",
      "You can view the trace detail from the following URL:\n",
      "http://127.0.0.1:23333/v1.0/ui/traces/?#collection=multi_flow&uiTraceId=0xb5432fb607d8833ff68b40ee9f9fd4dd\n"
     ]
    }
   ],
   "source": [
    "\n",
    "run_name = timestamp+\"chat_eval_run\"\n",
    "print(run_name)\n",
    "\n",
    "run_name_hf = timestamp+\"chat_eval_run\"\n",
    "print(run_name_hf)\n",
    "\n",
    "local_eval_run_variant = pf_client.run(\n",
    "    flow=eval_flow,\n",
    "    data=data,  # path to the data file\n",
    "    run=local_base_run_hf,  # use run as the variant\n",
    "    column_mapping={\n",
    "        # reference data\n",
    "        \"customerId\": \"${data.customerId}\",\n",
    "        \"question\": \"${data.question}\",\n",
    "        \"context\": \"${run.outputs.context}\",\n",
    "        # reference the run's output\n",
    "        \"answer\": \"${run.outputs.answer}\",\n",
    "    },\n",
    "    runtime=runtime,\n",
    "    display_name=run_name,\n",
    "    name=run_name\n",
    ")"
   ]
  },
  {
   "cell_type": "code",
   "execution_count": 9,
   "metadata": {
    "execution": {
     "iopub.execute_input": "2024-06-09T23:22:19.531011Z",
     "iopub.status.busy": "2024-06-09T23:22:19.530782Z",
     "iopub.status.idle": "2024-06-09T23:22:19.581526Z",
     "shell.execute_reply": "2024-06-09T23:22:19.581328Z"
    }
   },
   "outputs": [
    {
     "name": "stdout",
     "output_type": "stream",
     "text": [
      "{\n",
      "    \"gpt_coherence\": 1.8,\n",
      "    \"gpt_coherence_pass_rate(%)\": 0.0,\n",
      "    \"gpt_groundedness\": 3.0,\n",
      "    \"gpt_groundedness_pass_rate(%)\": 40.0,\n",
      "    \"gpt_fluency\": 1.8,\n",
      "    \"gpt_fluency_pass_rate(%)\": 0.0,\n",
      "    \"gpt_relevance\": 1.8,\n",
      "    \"gpt_relevance_pass_rate(%)\": 0.0\n",
      "}\n"
     ]
    },
    {
     "name": "stdout",
     "output_type": "stream",
     "text": [
      "2024-06-10 01:22:04 +0200   27737 execution.bulk     INFO     Current thread is not main thread, skip signal handler registration in BatchEngine.\n",
      "2024-06-10 01:22:04 +0200   27737 execution.bulk     INFO     Current system's available memory is 1511.203125MB, memory consumption of current process is 149.0625MB, estimated available worker count is 1511.203125/149.0625 = 10\n",
      "2024-06-10 01:22:04 +0200   27737 execution.bulk     INFO     Set process count to 4 by taking the minimum value among the factors of {'default_worker_count': 4, 'row_count': 5, 'estimated_worker_count_based_on_memory_usage': 10}.\n",
      "2024-06-10 01:22:04 +0200   27737 execution.bulk     INFO     Process name(SpawnProcess-7)-Process id(27774)-Line number(0) start execution.\n",
      "2024-06-10 01:22:04 +0200   27737 execution.bulk     INFO     Process name(SpawnProcess-8)-Process id(27777)-Line number(1) start execution.\n",
      "2024-06-10 01:22:04 +0200   27737 execution.bulk     INFO     Process name(SpawnProcess-9)-Process id(27778)-Line number(2) start execution.\n",
      "2024-06-10 01:22:04 +0200   27737 execution.bulk     INFO     Process name(SpawnProcess-10)-Process id(27779)-Line number(3) start execution.\n",
      "2024-06-10 01:22:06 +0200   27778 execution          WARNING  [fluency_score in line 2 (index starts from 0)] stderr> Exception occurs: RateLimitError: Error code: 429 - {'error': {'code': '429', 'message': 'Requests to the ChatCompletions_Create Operation under Azure OpenAI API version 2024-03-01-preview have exceeded call rate limit of your current AIServices S0 pricing tier. Please retry after 2 seconds. Please contact Azure support service if you would like to further increase the default rate limit.'}}\n",
      "2024-06-10 01:22:06 +0200   27778 execution          WARNING  [fluency_score in line 2 (index starts from 0)] stderr> RateLimitError #0, Retry-After=2, Back off 2.0 seconds for retry.\n",
      "2024-06-10 01:22:06 +0200   27737 execution.bulk     INFO     Process name(SpawnProcess-7)-Process id(27774)-Line number(0) completed.\n",
      "2024-06-10 01:22:06 +0200   27737 execution.bulk     INFO     Process name(SpawnProcess-7)-Process id(27774)-Line number(4) start execution.\n",
      "2024-06-10 01:22:06 +0200   27778 execution          WARNING  [groundedness_score in line 2 (index starts from 0)] stderr> Exception occurs: RateLimitError: Error code: 429 - {'error': {'code': '429', 'message': 'Requests to the ChatCompletions_Create Operation under Azure OpenAI API version 2024-03-01-preview have exceeded call rate limit of your current AIServices S0 pricing tier. Please retry after 2 seconds. Please contact Azure support service if you would like to further increase the default rate limit.'}}\n",
      "2024-06-10 01:22:06 +0200   27778 execution          WARNING  [groundedness_score in line 2 (index starts from 0)] stderr> RateLimitError #0, Retry-After=2, Back off 2.0 seconds for retry.\n",
      "2024-06-10 01:22:06 +0200   27774 execution          WARNING  [fluency_score in line 4 (index starts from 0)] stderr> Exception occurs: RateLimitError: Error code: 429 - {'error': {'code': '429', 'message': 'Requests to the ChatCompletions_Create Operation under Azure OpenAI API version 2024-03-01-preview have exceeded call rate limit of your current AIServices S0 pricing tier. Please retry after 2 seconds. Please contact Azure support service if you would like to further increase the default rate limit.'}}\n",
      "2024-06-10 01:22:06 +0200   27774 execution          WARNING  [coherence_score in line 4 (index starts from 0)] stderr> Exception occurs: RateLimitError: Error code: 429 - {'error': {'code': '429', 'message': 'Requests to the ChatCompletions_Create Operation under Azure OpenAI API version 2024-03-01-preview have exceeded call rate limit of your current AIServices S0 pricing tier. Please retry after 2 seconds. Please contact Azure support service if you would like to further increase the default rate limit.'}}\n",
      "2024-06-10 01:22:06 +0200   27774 execution          WARNING  [fluency_score in line 4 (index starts from 0)] stderr> RateLimitError #0, Retry-After=2, Back off 2.0 seconds for retry.\n",
      "2024-06-10 01:22:06 +0200   27774 execution          WARNING  [coherence_score in line 4 (index starts from 0)] stderr> RateLimitError #0, Retry-After=2, Back off 2.0 seconds for retry.\n",
      "2024-06-10 01:22:06 +0200   27779 execution          WARNING  [groundedness_score in line 3 (index starts from 0)] stderr> Exception occurs: RateLimitError: Error code: 429 - {'error': {'code': '429', 'message': 'Requests to the ChatCompletions_Create Operation under Azure OpenAI API version 2024-03-01-preview have exceeded call rate limit of your current AIServices S0 pricing tier. Please retry after 2 seconds. Please contact Azure support service if you would like to further increase the default rate limit.'}}\n",
      "2024-06-10 01:22:06 +0200   27779 execution          WARNING  [groundedness_score in line 3 (index starts from 0)] stderr> RateLimitError #0, Retry-After=2, Back off 2.0 seconds for retry.\n",
      "2024-06-10 01:22:06 +0200   27779 execution          WARNING  [relevance_score in line 3 (index starts from 0)] stderr> Exception occurs: RateLimitError: Error code: 429 - {'error': {'code': '429', 'message': 'Requests to the ChatCompletions_Create Operation under Azure OpenAI API version 2024-03-01-preview have exceeded call rate limit of your current AIServices S0 pricing tier. Please retry after 2 seconds. Please contact Azure support service if you would like to further increase the default rate limit.'}}\n",
      "2024-06-10 01:22:06 +0200   27779 execution          WARNING  [relevance_score in line 3 (index starts from 0)] stderr> RateLimitError #0, Retry-After=2, Back off 2.0 seconds for retry.\n",
      "2024-06-10 01:22:06 +0200   27777 execution          WARNING  [relevance_score in line 1 (index starts from 0)] stderr> Exception occurs: RateLimitError: Error code: 429 - {'error': {'code': '429', 'message': 'Requests to the ChatCompletions_Create Operation under Azure OpenAI API version 2024-03-01-preview have exceeded call rate limit of your current AIServices S0 pricing tier. Please retry after 2 seconds. Please contact Azure support service if you would like to further increase the default rate limit.'}}\n",
      "2024-06-10 01:22:06 +0200   27777 execution          WARNING  [relevance_score in line 1 (index starts from 0)] stderr> RateLimitError #0, Retry-After=2, Back off 2.0 seconds for retry.\n",
      "2024-06-10 01:22:06 +0200   27777 execution          WARNING  [groundedness_score in line 1 (index starts from 0)] stderr> Exception occurs: RateLimitError: Error code: 429 - {'error': {'code': '429', 'message': 'Requests to the ChatCompletions_Create Operation under Azure OpenAI API version 2024-03-01-preview have exceeded call rate limit of your current AIServices S0 pricing tier. Please retry after 2 seconds. Please contact Azure support service if you would like to further increase the default rate limit.'}}\n",
      "2024-06-10 01:22:06 +0200   27777 execution          WARNING  [groundedness_score in line 1 (index starts from 0)] stderr> RateLimitError #0, Retry-After=2, Back off 2.0 seconds for retry.\n",
      "2024-06-10 01:22:07 +0200   27737 execution.bulk     INFO     Finished 1 / 5 lines.\n",
      "2024-06-10 01:22:07 +0200   27737 execution.bulk     INFO     Average execution time for completed lines: 2.03 seconds. Estimated time for incomplete lines: 8.12 seconds.\n",
      "2024-06-10 01:22:08 +0200   27774 execution          WARNING  [fluency_score in line 4 (index starts from 0)] stderr> Exception occurs: RateLimitError: Error code: 429 - {'error': {'code': '429', 'message': 'Requests to the ChatCompletions_Create Operation under Azure OpenAI API version 2024-03-01-preview have exceeded call rate limit of your current AIServices S0 pricing tier. Please retry after 7 seconds. Please contact Azure support service if you would like to further increase the default rate limit.'}}\n",
      "2024-06-10 01:22:08 +0200   27774 execution          WARNING  [fluency_score in line 4 (index starts from 0)] stderr> RateLimitError #1, Retry-After=7, Back off 7.0 seconds for retry.\n",
      "2024-06-10 01:22:08 +0200   27779 execution          WARNING  [groundedness_score in line 3 (index starts from 0)] stderr> Exception occurs: RateLimitError: Error code: 429 - {'error': {'code': '429', 'message': 'Requests to the ChatCompletions_Create Operation under Azure OpenAI API version 2024-03-01-preview have exceeded call rate limit of your current AIServices S0 pricing tier. Please retry after 7 seconds. Please contact Azure support service if you would like to further increase the default rate limit.'}}\n",
      "2024-06-10 01:22:08 +0200   27779 execution          WARNING  [groundedness_score in line 3 (index starts from 0)] stderr> RateLimitError #1, Retry-After=7, Back off 7.0 seconds for retry.\n",
      "2024-06-10 01:22:08 +0200   27778 execution          WARNING  [groundedness_score in line 2 (index starts from 0)] stderr> Exception occurs: RateLimitError: Error code: 429 - {'error': {'code': '429', 'message': 'Requests to the ChatCompletions_Create Operation under Azure OpenAI API version 2024-03-01-preview have exceeded call rate limit of your current AIServices S0 pricing tier. Please retry after 7 seconds. Please contact Azure support service if you would like to further increase the default rate limit.'}}\n",
      "2024-06-10 01:22:08 +0200   27778 execution          WARNING  [groundedness_score in line 2 (index starts from 0)] stderr> RateLimitError #1, Retry-After=7, Back off 7.0 seconds for retry.\n",
      "2024-06-10 01:22:08 +0200   27774 execution          WARNING  [coherence_score in line 4 (index starts from 0)] stderr> Exception occurs: RateLimitError: Error code: 429 - {'error': {'code': '429', 'message': 'Requests to the ChatCompletions_Create Operation under Azure OpenAI API version 2024-03-01-preview have exceeded call rate limit of your current AIServices S0 pricing tier. Please retry after 7 seconds. Please contact Azure support service if you would like to further increase the default rate limit.'}}\n",
      "2024-06-10 01:22:08 +0200   27774 execution          WARNING  [coherence_score in line 4 (index starts from 0)] stderr> RateLimitError #1, Retry-After=7, Back off 7.0 seconds for retry.\n",
      "2024-06-10 01:22:08 +0200   27778 execution          WARNING  [relevance_score in line 2 (index starts from 0)] stderr> Exception occurs: RateLimitError: Error code: 429 - {'error': {'code': '429', 'message': 'Requests to the ChatCompletions_Create Operation under Azure OpenAI API version 2024-03-01-preview have exceeded call rate limit of your current AIServices S0 pricing tier. Please retry after 7 seconds. Please contact Azure support service if you would like to further increase the default rate limit.'}}\n",
      "2024-06-10 01:22:08 +0200   27778 execution          WARNING  [relevance_score in line 2 (index starts from 0)] stderr> RateLimitError #0, Retry-After=7, Back off 7.0 seconds for retry.\n",
      "2024-06-10 01:22:08 +0200   27779 execution          WARNING  [relevance_score in line 3 (index starts from 0)] stderr> Exception occurs: RateLimitError: Error code: 429 - {'error': {'code': '429', 'message': 'Requests to the ChatCompletions_Create Operation under Azure OpenAI API version 2024-03-01-preview have exceeded call rate limit of your current AIServices S0 pricing tier. Please retry after 7 seconds. Please contact Azure support service if you would like to further increase the default rate limit.'}}\n",
      "2024-06-10 01:22:08 +0200   27779 execution          WARNING  [relevance_score in line 3 (index starts from 0)] stderr> RateLimitError #1, Retry-After=7, Back off 7.0 seconds for retry.\n",
      "2024-06-10 01:22:08 +0200   27777 execution          WARNING  [relevance_score in line 1 (index starts from 0)] stderr> Exception occurs: RateLimitError: Error code: 429 - {'error': {'code': '429', 'message': 'Requests to the ChatCompletions_Create Operation under Azure OpenAI API version 2024-03-01-preview have exceeded call rate limit of your current AIServices S0 pricing tier. Please retry after 7 seconds. Please contact Azure support service if you would like to further increase the default rate limit.'}}\n",
      "2024-06-10 01:22:08 +0200   27777 execution          WARNING  [relevance_score in line 1 (index starts from 0)] stderr> RateLimitError #1, Retry-After=7, Back off 7.0 seconds for retry.\n",
      "2024-06-10 01:22:08 +0200   27777 execution          WARNING  [groundedness_score in line 1 (index starts from 0)] stderr> Exception occurs: RateLimitError: Error code: 429 - {'error': {'code': '429', 'message': 'Requests to the ChatCompletions_Create Operation under Azure OpenAI API version 2024-03-01-preview have exceeded call rate limit of your current AIServices S0 pricing tier. Please retry after 7 seconds. Please contact Azure support service if you would like to further increase the default rate limit.'}}\n",
      "2024-06-10 01:22:08 +0200   27777 execution          WARNING  [groundedness_score in line 1 (index starts from 0)] stderr> RateLimitError #1, Retry-After=7, Back off 7.0 seconds for retry.\n",
      "2024-06-10 01:22:16 +0200   27777 execution          WARNING  [groundedness_score in line 1 (index starts from 0)] stderr> Exception occurs: RateLimitError: Error code: 429 - {'error': {'code': '429', 'message': 'Requests to the ChatCompletions_Create Operation under Azure OpenAI API version 2024-03-01-preview have exceeded call rate limit of your current AIServices S0 pricing tier. Please retry after 1 second. Please contact Azure support service if you would like to further increase the default rate limit.'}}\n",
      "2024-06-10 01:22:16 +0200   27777 execution          WARNING  [relevance_score in line 1 (index starts from 0)] stderr> Exception occurs: RateLimitError: Error code: 429 - {'error': {'code': '429', 'message': 'Requests to the ChatCompletions_Create Operation under Azure OpenAI API version 2024-03-01-preview have exceeded call rate limit of your current AIServices S0 pricing tier. Please retry after 1 second. Please contact Azure support service if you would like to further increase the default rate limit.'}}\n",
      "2024-06-10 01:22:16 +0200   27777 execution          WARNING  [groundedness_score in line 1 (index starts from 0)] stderr> RateLimitError #2, Retry-After=1, Back off 1.0 seconds for retry.\n",
      "2024-06-10 01:22:16 +0200   27777 execution          WARNING  [relevance_score in line 1 (index starts from 0)] stderr> RateLimitError #2, Retry-After=1, Back off 1.0 seconds for retry.\n",
      "2024-06-10 01:22:16 +0200   27737 execution.bulk     INFO     Process name(SpawnProcess-9)-Process id(27778)-Line number(2) completed.\n",
      "2024-06-10 01:22:16 +0200   27737 execution.bulk     INFO     Process name(SpawnProcess-10)-Process id(27779)-Line number(3) completed.\n",
      "2024-06-10 01:22:16 +0200   27737 execution.bulk     INFO     Process name(SpawnProcess-7)-Process id(27774)-Line number(4) completed.\n",
      "2024-06-10 01:22:17 +0200   27737 execution.bulk     INFO     Finished 4 / 5 lines.\n",
      "2024-06-10 01:22:17 +0200   27737 execution.bulk     INFO     Average execution time for completed lines: 3.01 seconds. Estimated time for incomplete lines: 3.01 seconds.\n",
      "2024-06-10 01:22:18 +0200   27737 execution.bulk     INFO     Process name(SpawnProcess-8)-Process id(27777)-Line number(1) completed.\n",
      "2024-06-10 01:22:19 +0200   27737 execution.bulk     INFO     Finished 5 / 5 lines.\n",
      "2024-06-10 01:22:19 +0200   27737 execution.bulk     INFO     Average execution time for completed lines: 2.81 seconds. Estimated time for incomplete lines: 0.0 seconds.\n",
      "2024-06-10 01:22:19 +0200   27737 execution.bulk     INFO     The thread monitoring the process [27778-SpawnProcess-9] will be terminated.\n",
      "2024-06-10 01:22:19 +0200   27778 execution.bulk     INFO     The process [27778] has received a terminate signal.\n",
      "2024-06-10 01:22:19 +0200   27737 execution.bulk     INFO     The thread monitoring the process [27774-SpawnProcess-7] will be terminated.\n",
      "2024-06-10 01:22:19 +0200   27774 execution.bulk     INFO     The process [27774] has received a terminate signal.\n",
      "2024-06-10 01:22:19 +0200   27737 execution.bulk     INFO     The thread monitoring the process [27777-SpawnProcess-8] will be terminated.\n",
      "2024-06-10 01:22:19 +0200   27777 execution.bulk     INFO     The process [27777] has received a terminate signal.\n",
      "2024-06-10 01:22:19 +0200   27737 execution.bulk     INFO     The thread monitoring the process [27779-SpawnProcess-10] will be terminated.\n",
      "2024-06-10 01:22:19 +0200   27779 execution.bulk     INFO     The process [27779] has received a terminate signal.\n",
      "2024-06-10 01:22:19 +0200   27737 execution.bulk     INFO     Process 27778 terminated.\n",
      "2024-06-10 01:22:19 +0200   27737 execution.bulk     INFO     Process 27779 terminated.\n",
      "2024-06-10 01:22:19 +0200   27737 execution.bulk     INFO     Process 27774 terminated.\n",
      "2024-06-10 01:22:19 +0200   27737 execution.bulk     INFO     Process 27777 terminated.\n",
      "2024-06-10 01:22:19 +0200   27737 execution.bulk     INFO     Executing aggregation node...\n",
      "2024-06-10 01:22:19 +0200   27737 execution.bulk     INFO     Finish executing aggregation node.\n",
      "======= Run Summary =======\n",
      "\n",
      "Run name: \"2024_06_10_012158chat_eval_run\"\n",
      "Run status: \"Completed\"\n",
      "Start time: \"2024-06-10 01:22:04.236910\"\n",
      "Duration: \"0:00:15.264529\"\n",
      "Output path: \"/Users/yonghuizhu/.promptflow/.runs/2024_06_10_012158chat_eval_run\"\n",
      "\n"
     ]
    },
    {
     "data": {
      "text/plain": [
       "<promptflow._sdk.entities._run.Run at 0x153345550>"
      ]
     },
     "execution_count": 9,
     "metadata": {},
     "output_type": "execute_result"
    }
   ],
   "source": [
    "\n",
    "metrics_hf = pf_client.get_metrics(local_eval_run_variant)\n",
    "import json\n",
    "print(json.dumps(metrics_hf, indent=4))\n",
    "pf_client.stream(local_eval_run_variant)"
   ]
  },
  {
   "cell_type": "code",
   "execution_count": 10,
   "metadata": {
    "execution": {
     "iopub.execute_input": "2024-06-09T23:22:19.582614Z",
     "iopub.status.busy": "2024-06-09T23:22:19.582537Z",
     "iopub.status.idle": "2024-06-09T23:22:21.681190Z",
     "shell.execute_reply": "2024-06-09T23:22:21.680900Z"
    }
   },
   "outputs": [
    {
     "name": "stderr",
     "output_type": "stream",
     "text": [
      "WARNING:root:'from promptflow import tool' is deprecated and will be removed in the future. Use 'from promptflow.core import tool' instead.\n",
      "WARNING:root:'from promptflow import log_metric' is deprecated and will be removed in the future. Use 'from promptflow.core import log_metric' instead.\n"
     ]
    },
    {
     "name": "stderr",
     "output_type": "stream",
     "text": [
      "WARNING:root:'from promptflow import ToolProvider' is deprecated and will be removed in the future. Use 'from promptflow.core import ToolProvider' instead.\n"
     ]
    },
    {
     "name": "stdout",
     "output_type": "stream",
     "text": [
      "The HTML file is generated at '/private/var/folders/hf/3mqmr8vd3cs309p9_zg2wcsr0000gn/T/pf-visualize-detail-wd1licsa.html'.\n",
      "Trying to view the result in a web browser...\n"
     ]
    },
    {
     "name": "stdout",
     "output_type": "stream",
     "text": [
      "Successfully visualized from the web browser.\n"
     ]
    }
   ],
   "source": [
    "pf_client.visualize([local_base_run_hf, local_eval_run_variant])"
   ]
  }
 ],
 "metadata": {
  "kernelspec": {
   "display_name": ".venv",
   "language": "python",
   "name": "python3"
  },
  "language_info": {
   "codemirror_mode": {
    "name": "ipython",
    "version": 3
   },
   "file_extension": ".py",
   "mimetype": "text/x-python",
   "name": "python",
   "nbconvert_exporter": "python",
   "pygments_lexer": "ipython3",
   "version": "3.11.9"
  }
 },
 "nbformat": 4,
 "nbformat_minor": 2
}
