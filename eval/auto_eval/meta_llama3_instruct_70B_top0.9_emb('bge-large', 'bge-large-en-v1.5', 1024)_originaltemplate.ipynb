{
 "cells": [
  {
   "cell_type": "code",
   "execution_count": 1,
   "metadata": {
    "execution": {
     "iopub.execute_input": "2024-06-19T14:54:57.112370Z",
     "iopub.status.busy": "2024-06-19T14:54:57.112015Z",
     "iopub.status.idle": "2024-06-19T14:54:57.617065Z",
     "shell.execute_reply": "2024-06-19T14:54:57.616757Z"
    }
   },
   "outputs": [
    {
     "name": "stderr",
     "output_type": "stream",
     "text": [
      "WARNING:root:'from promptflow import PFClient' is deprecated and will be removed in the future. Use 'from promptflow.client import PFClient' instead.\n"
     ]
    }
   ],
   "source": [
    "from promptflow import PFClient\n",
    "\n",
    "pf_client = PFClient()\n",
    "\n",
    "from dotenv import load_dotenv\n",
    "\n",
    "load_dotenv()\n",
    "\n",
    "runtime = \"automatic\"\n",
    "# load flow\n",
    "flow = \"../contoso-chat_hf\" #\"../contoso-chat\"\n",
    "\n",
    "\n",
    "eval_flow = \"multi_flow/\"   #\"multi_flow_hf/\"\n",
    "data = \"../data/salestestdata.jsonl\"\n"
   ]
  },
  {
   "cell_type": "code",
   "execution_count": 2,
   "metadata": {
    "execution": {
     "iopub.execute_input": "2024-06-19T14:54:57.618492Z",
     "iopub.status.busy": "2024-06-19T14:54:57.618282Z",
     "iopub.status.idle": "2024-06-19T14:54:59.477205Z",
     "shell.execute_reply": "2024-06-19T14:54:59.476896Z"
    }
   },
   "outputs": [
    {
     "name": "stderr",
     "output_type": "stream",
     "text": [
      "WARNING:root:'from promptflow import tool' is deprecated and will be removed in the future. Use 'from promptflow.core import tool' instead.\n"
     ]
    },
    {
     "name": "stderr",
     "output_type": "stream",
     "text": [
      "[2024-06-19 15:54:57 +0100][promptflow.core._connection][WARNING] - Please use connection.secrets[key] to access secrets.\n"
     ]
    },
    {
     "name": "stdout",
     "output_type": "stream",
     "text": [
      "Prompt flow service has started...\n",
      "2024-06-19 15:54:57 +0100   23778 execution.flow     INFO     Start executing nodes in thread pool mode.\n"
     ]
    },
    {
     "name": "stdout",
     "output_type": "stream",
     "text": [
      "2024-06-19 15:54:57 +0100   23778 execution.flow     INFO     Start to run 5 nodes with concurrency level 16.\n"
     ]
    },
    {
     "name": "stdout",
     "output_type": "stream",
     "text": [
      "2024-06-19 15:54:57 +0100   23778 execution.flow     INFO     Executing node custom_question_embedding. node run id: 6a2f0160-d0bf-46f3-a96f-23cc297b43fc_custom_question_embedding_0\n"
     ]
    },
    {
     "name": "stdout",
     "output_type": "stream",
     "text": [
      "2024-06-19 15:54:57 +0100   23778 execution.flow     INFO     Executing node customer_lookup. node run id: 6a2f0160-d0bf-46f3-a96f-23cc297b43fc_customer_lookup_0\n"
     ]
    },
    {
     "name": "stdout",
     "output_type": "stream",
     "text": [
      "2024-06-19 15:54:58 +0100   23778 execution.flow     INFO     Node customer_lookup completes.\n"
     ]
    },
    {
     "name": "stdout",
     "output_type": "stream",
     "text": [
      "2024-06-19 15:54:58 +0100   23778 execution.flow     INFO     Node custom_question_embedding completes.\n"
     ]
    },
    {
     "name": "stdout",
     "output_type": "stream",
     "text": [
      "2024-06-19 15:54:58 +0100   23778 execution.flow     INFO     Executing node retrieve_documentation. node run id: 6a2f0160-d0bf-46f3-a96f-23cc297b43fc_retrieve_documentation_0\n"
     ]
    },
    {
     "name": "stdout",
     "output_type": "stream",
     "text": [
      "You can view the trace detail from the following URL:\n",
      "http://127.0.0.1:23333/v1.0/ui/traces/?#collection=contoso-chat_hf&uiTraceId=0x7a761e27de8403615c2bb2fc03dc8707\n",
      "2024-06-19 15:54:58 +0100   23778 execution.flow     INFO     Node retrieve_documentation completes.\n"
     ]
    },
    {
     "name": "stdout",
     "output_type": "stream",
     "text": [
      "2024-06-19 15:54:58 +0100   23778 execution.flow     INFO     Executing node customer_prompt. node run id: 6a2f0160-d0bf-46f3-a96f-23cc297b43fc_customer_prompt_0\n"
     ]
    },
    {
     "name": "stdout",
     "output_type": "stream",
     "text": [
      "2024-06-19 15:54:58 +0100   23778 execution.flow     INFO     Node customer_prompt completes.\n"
     ]
    },
    {
     "name": "stdout",
     "output_type": "stream",
     "text": [
      "2024-06-19 15:54:58 +0100   23778 execution.flow     INFO     Executing node llm_response. node run id: 6a2f0160-d0bf-46f3-a96f-23cc297b43fc_llm_response_0\n"
     ]
    },
    {
     "name": "stdout",
     "output_type": "stream",
     "text": [
      "2024-06-19 15:54:59 +0100   23778 execution.flow     INFO     Node llm_response completes.\n"
     ]
    }
   ],
   "source": [
    "# Add a question to test the base prompt flow.\n",
    "question = \"Can you tell me about your jackets?\"\n",
    "customerId = \"4\"\n",
    "output_hf = pf_client.test(\n",
    "    flow=flow, # Path to the flow directory\n",
    "    inputs={ # Inputs to the flow\n",
    "        \"chat_history\": [],\n",
    "        \"question\": question,\n",
    "        \"customerId\": customerId,\n",
    "    },\n",
    ")\n",
    "\n",
    "output_hf[\"answer\"] = \"\".join(list(output_hf[\"answer\"]))"
   ]
  },
  {
   "cell_type": "code",
   "execution_count": 3,
   "metadata": {
    "execution": {
     "iopub.execute_input": "2024-06-19T14:54:59.478514Z",
     "iopub.status.busy": "2024-06-19T14:54:59.478440Z",
     "iopub.status.idle": "2024-06-19T14:54:59.481261Z",
     "shell.execute_reply": "2024-06-19T14:54:59.481043Z"
    }
   },
   "outputs": [
    {
     "data": {
      "text/plain": [
       "{'answer': ' Hi there! I\\'m glad to hear that our previous conversation sparked interest - it makes every interaction special like a unique pattern on one of those stylish leather biker vests we discussed before (😎). Regarding today’s topic: Jacket-wise at \"Fashion Forward,\" where quality meets trendiness is always top priority – just as with any piece from last year when Sam bought their favorite denim bomber hoodie which still looks great after',\n",
       " 'context': [{'id': '3',\n",
       "   'title': 'Summit Breeze Jacket',\n",
       "   'content': \"Discover the joy of hiking with MountainStyle's Summit Breeze Jacket. This lightweight jacket is your perfect companion for outdoor adventures. Sporting a trail-ready, windproof design and a water-resistant fabric, it's ready to withstand any weather. The breathable polyester material and adjustable cuffs keep you comfortable, whether you're ascending a mountain or strolling through a park. And its sleek black color adds style to function. The jacket features a full-zip front closure, adjustable hood, and secure zippered pockets. Experience the comfort of its inner lining and the convenience of its packable design. Crafted for night trekkers too, the jacket has reflective accents for enhanced visibility. Rugged yet chic, the Summit Breeze Jacket is more than a hiking essential, it's the gear that inspires you to reach new heights. Choose adventure, choose the Summit Breeze Jacket.\",\n",
       "   'url': '/products/summit-breeze-jacket'},\n",
       "  {'id': '17',\n",
       "   'title': 'RainGuard Hiking Jacket',\n",
       "   'content': \"Introducing the MountainStyle RainGuard Hiking Jacket - the ultimate solution for weatherproof comfort during your outdoor undertakings! Designed with waterproof, breathable fabric, this jacket promises an outdoor experience that's as dry as it is comfortable. The rugged construction assures durability, while the adjustable hood provides a customizable fit against wind and rain. Featuring multiple pockets for safe, convenient storage and adjustable cuffs and hem, you can tailor the jacket to suit your needs on-the-go. And, don't worry about overheating during intense activities - it's equipped with ventilation zippers for increased airflow. Reflective details ensure visibility even during low-light conditions, making it perfect for evening treks. With its lightweight, packable design, carrying it inside your backpack requires minimal effort. With options for men and women, the RainGuard Hiking Jacket is perfect for hiking, camping, trekking and countless other outdoor adventures. Don't let the weather stand in your way - embrace the outdoors with MountainStyle RainGuard Hiking Jacket!\",\n",
       "   'url': '/products/rainguard-hiking-jacket'},\n",
       "  {'id': '4',\n",
       "   'title': 'TrekReady Hiking Boots',\n",
       "   'content': \"Introducing the TrekReady Hiking Boots - stepping up your hiking game, one footprint at a time! Crafted from leather, these stylistic Trailmates are made to last. TrekReady infuses durability with its reinforced stitching and toe protection, making sure your journey is never stopped short. Comfort? They have that covered too! The boots are a haven with their breathable materials, cushioned insole, with padded collar and tongue; all nestled neatly within their lightweight design. As they say, it's what's inside that counts - so inside you'll find a moisture-wicking lining that quarantines stank and keeps your feet fresh as that mountaintop breeze. Remember the fear of slippery surfaces? With these boots, you can finally tell it to 'take a hike'! Their shock-absorbing midsoles and excellent traction capabilities promise stability at your every step. Beautifully finished in a traditional lace-up system, every adventurer deserves a pair of TrekReady Hiking Boots. Hike more, worry less!\",\n",
       "   'url': '/products/trekready-hiking-boots'}]}"
      ]
     },
     "execution_count": 3,
     "metadata": {},
     "output_type": "execute_result"
    }
   ],
   "source": [
    "output_hf"
   ]
  },
  {
   "cell_type": "markdown",
   "metadata": {},
   "source": [
    "Test the groundedness of the prompt flow with the answer from the above question."
   ]
  },
  {
   "cell_type": "markdown",
   "metadata": {},
   "source": [
    "# Local Evaluation - Multiple Metrics \n",
    "\n",
    "Now use the same prompt flow and test it against the Multi Evaluation flow for groundedness, coherence, fluency, and relevance."
   ]
  },
  {
   "cell_type": "code",
   "execution_count": 4,
   "metadata": {
    "execution": {
     "iopub.execute_input": "2024-06-19T14:54:59.482461Z",
     "iopub.status.busy": "2024-06-19T14:54:59.482394Z",
     "iopub.status.idle": "2024-06-19T14:55:00.947158Z",
     "shell.execute_reply": "2024-06-19T14:55:00.946917Z"
    }
   },
   "outputs": [
    {
     "name": "stderr",
     "output_type": "stream",
     "text": [
      "WARNING:root:'from promptflow import log_metric' is deprecated and will be removed in the future. Use 'from promptflow.core import log_metric' instead.\n"
     ]
    },
    {
     "name": "stdout",
     "output_type": "stream",
     "text": [
      "question Can you tell me about your jackets?\n",
      "context [{'id': '3', 'title': 'Summit Breeze Jacket', 'content': \"Discover the joy of hiking with MountainStyle's Summit Breeze Jacket. This lightweight jacket is your perfect companion for outdoor adventures. Sporting a trail-ready, windproof design and a water-resistant fabric, it's ready to withstand any weather. The breathable polyester material and adjustable cuffs keep you comfortable, whether you're ascending a mountain or strolling through a park. And its sleek black color adds style to function. The jacket features a full-zip front closure, adjustable hood, and secure zippered pockets. Experience the comfort of its inner lining and the convenience of its packable design. Crafted for night trekkers too, the jacket has reflective accents for enhanced visibility. Rugged yet chic, the Summit Breeze Jacket is more than a hiking essential, it's the gear that inspires you to reach new heights. Choose adventure, choose the Summit Breeze Jacket.\", 'url': '/products/summit-breeze-jacket'}, {'id': '17', 'title': 'RainGuard Hiking Jacket', 'content': \"Introducing the MountainStyle RainGuard Hiking Jacket - the ultimate solution for weatherproof comfort during your outdoor undertakings! Designed with waterproof, breathable fabric, this jacket promises an outdoor experience that's as dry as it is comfortable. The rugged construction assures durability, while the adjustable hood provides a customizable fit against wind and rain. Featuring multiple pockets for safe, convenient storage and adjustable cuffs and hem, you can tailor the jacket to suit your needs on-the-go. And, don't worry about overheating during intense activities - it's equipped with ventilation zippers for increased airflow. Reflective details ensure visibility even during low-light conditions, making it perfect for evening treks. With its lightweight, packable design, carrying it inside your backpack requires minimal effort. With options for men and women, the RainGuard Hiking Jacket is perfect for hiking, camping, trekking and countless other outdoor adventures. Don't let the weather stand in your way - embrace the outdoors with MountainStyle RainGuard Hiking Jacket!\", 'url': '/products/rainguard-hiking-jacket'}, {'id': '4', 'title': 'TrekReady Hiking Boots', 'content': \"Introducing the TrekReady Hiking Boots - stepping up your hiking game, one footprint at a time! Crafted from leather, these stylistic Trailmates are made to last. TrekReady infuses durability with its reinforced stitching and toe protection, making sure your journey is never stopped short. Comfort? They have that covered too! The boots are a haven with their breathable materials, cushioned insole, with padded collar and tongue; all nestled neatly within their lightweight design. As they say, it's what's inside that counts - so inside you'll find a moisture-wicking lining that quarantines stank and keeps your feet fresh as that mountaintop breeze. Remember the fear of slippery surfaces? With these boots, you can finally tell it to 'take a hike'! Their shock-absorbing midsoles and excellent traction capabilities promise stability at your every step. Beautifully finished in a traditional lace-up system, every adventurer deserves a pair of TrekReady Hiking Boots. Hike more, worry less!\", 'url': '/products/trekready-hiking-boots'}]\n",
      "answer  Hi there! I'm glad to hear that our previous conversation sparked interest - it makes every interaction special like a unique pattern on one of those stylish leather biker vests we discussed before (😎). Regarding today’s topic: Jacket-wise at \"Fashion Forward,\" where quality meets trendiness is always top priority – just as with any piece from last year when Sam bought their favorite denim bomber hoodie which still looks great after\n",
      "Prompt flow service has started...\n"
     ]
    },
    {
     "name": "stdout",
     "output_type": "stream",
     "text": [
      "2024-06-19 15:54:59 +0100   23778 execution.flow     INFO     Start executing nodes in thread pool mode.\n"
     ]
    },
    {
     "name": "stdout",
     "output_type": "stream",
     "text": [
      "2024-06-19 15:54:59 +0100   23778 execution.flow     INFO     Start to run 8 nodes with concurrency level 16.\n"
     ]
    },
    {
     "name": "stdout",
     "output_type": "stream",
     "text": [
      "2024-06-19 15:54:59 +0100   23778 execution.flow     INFO     Executing node coherence_score. node run id: 0c1def3b-7da5-4d34-88ed-0f4956b91476_coherence_score_0\n"
     ]
    },
    {
     "name": "stdout",
     "output_type": "stream",
     "text": [
      "2024-06-19 15:54:59 +0100   23778 execution.flow     INFO     Executing node fluency_score. node run id: 0c1def3b-7da5-4d34-88ed-0f4956b91476_fluency_score_0\n"
     ]
    },
    {
     "name": "stdout",
     "output_type": "stream",
     "text": [
      "2024-06-19 15:54:59 +0100   23778 execution.flow     INFO     Executing node groundedness_score. node run id: 0c1def3b-7da5-4d34-88ed-0f4956b91476_groundedness_score_0\n"
     ]
    },
    {
     "name": "stdout",
     "output_type": "stream",
     "text": [
      "2024-06-19 15:54:59 +0100   23778 execution.flow     INFO     Executing node relevance_score. node run id: 0c1def3b-7da5-4d34-88ed-0f4956b91476_relevance_score_0\n"
     ]
    },
    {
     "name": "stdout",
     "output_type": "stream",
     "text": [
      "2024-06-19 15:55:00 +0100   23778 execution.flow     INFO     Node fluency_score completes.\n"
     ]
    },
    {
     "name": "stdout",
     "output_type": "stream",
     "text": [
      "2024-06-19 15:55:00 +0100   23778 execution.flow     INFO     Executing node fluency_concat_scores. node run id: 0c1def3b-7da5-4d34-88ed-0f4956b91476_fluency_concat_scores_0\n"
     ]
    },
    {
     "name": "stdout",
     "output_type": "stream",
     "text": [
      "2024-06-19 15:55:00 +0100   23778 execution.flow     INFO     Node fluency_concat_scores completes.\n"
     ]
    },
    {
     "name": "stdout",
     "output_type": "stream",
     "text": [
      "2024-06-19 15:55:00 +0100   23778 execution.flow     INFO     Node groundedness_score completes.\n"
     ]
    },
    {
     "name": "stdout",
     "output_type": "stream",
     "text": [
      "2024-06-19 15:55:00 +0100   23778 execution.flow     INFO     Executing node groundedness_concat_scores. node run id: 0c1def3b-7da5-4d34-88ed-0f4956b91476_groundedness_concat_scores_0\n"
     ]
    },
    {
     "name": "stdout",
     "output_type": "stream",
     "text": [
      "2024-06-19 15:55:00 +0100   23778 execution.flow     INFO     Node groundedness_concat_scores completes.\n"
     ]
    },
    {
     "name": "stdout",
     "output_type": "stream",
     "text": [
      "2024-06-19 15:55:00 +0100   23778 execution.flow     INFO     Node relevance_score completes.\n"
     ]
    },
    {
     "name": "stdout",
     "output_type": "stream",
     "text": [
      "2024-06-19 15:55:00 +0100   23778 execution.flow     INFO     Executing node relevance_concat_scores. node run id: 0c1def3b-7da5-4d34-88ed-0f4956b91476_relevance_concat_scores_0\n"
     ]
    },
    {
     "name": "stdout",
     "output_type": "stream",
     "text": [
      "2024-06-19 15:55:00 +0100   23778 execution.flow     INFO     Node relevance_concat_scores completes.\n"
     ]
    },
    {
     "name": "stdout",
     "output_type": "stream",
     "text": [
      "2024-06-19 15:55:00 +0100   23778 execution.flow     INFO     Node coherence_score completes.\n"
     ]
    },
    {
     "name": "stdout",
     "output_type": "stream",
     "text": [
      "2024-06-19 15:55:00 +0100   23778 execution.flow     INFO     Executing node coherence_concat_scores. node run id: 0c1def3b-7da5-4d34-88ed-0f4956b91476_coherence_concat_scores_0\n"
     ]
    },
    {
     "name": "stdout",
     "output_type": "stream",
     "text": [
      "2024-06-19 15:55:00 +0100   23778 execution.flow     INFO     Node coherence_concat_scores completes.\n"
     ]
    },
    {
     "name": "stdout",
     "output_type": "stream",
     "text": [
      "2024-06-19 15:55:00 +0100   23778 execution.flow     INFO     Start executing nodes in thread pool mode.\n"
     ]
    },
    {
     "name": "stdout",
     "output_type": "stream",
     "text": [
      "2024-06-19 15:55:00 +0100   23778 execution.flow     INFO     Start to run 4 nodes with concurrency level 16.\n"
     ]
    },
    {
     "name": "stdout",
     "output_type": "stream",
     "text": [
      "2024-06-19 15:55:00 +0100   23778 execution.flow     INFO     Executing node coherence_aggregate_variants_results. node run id: 0c1def3b-7da5-4d34-88ed-0f4956b91476_coherence_aggregate_variants_results_reduce\n"
     ]
    },
    {
     "name": "stdout",
     "output_type": "stream",
     "text": [
      "2024-06-19 15:55:00 +0100   23778 execution.flow     INFO     Executing node fluency_aggregate_variants_results. node run id: 0c1def3b-7da5-4d34-88ed-0f4956b91476_fluency_aggregate_variants_results_reduce\n"
     ]
    },
    {
     "name": "stdout",
     "output_type": "stream",
     "text": [
      "2024-06-19 15:55:00 +0100   23778 execution.flow     INFO     Executing node groundedness_aggregate_variants_results. node run id: 0c1def3b-7da5-4d34-88ed-0f4956b91476_groundedness_aggregate_variants_results_reduce\n"
     ]
    },
    {
     "name": "stdout",
     "output_type": "stream",
     "text": [
      "2024-06-19 15:55:00 +0100   23778 execution.flow     INFO     Node coherence_aggregate_variants_results completes.\n"
     ]
    },
    {
     "name": "stdout",
     "output_type": "stream",
     "text": [
      "2024-06-19 15:55:00 +0100   23778 execution.flow     INFO     Executing node relevance_aggregate_variants_results. node run id: 0c1def3b-7da5-4d34-88ed-0f4956b91476_relevance_aggregate_variants_results_reduce\n"
     ]
    },
    {
     "name": "stdout",
     "output_type": "stream",
     "text": [
      "2024-06-19 15:55:00 +0100   23778 execution.flow     INFO     Node fluency_aggregate_variants_results completes.\n"
     ]
    },
    {
     "name": "stdout",
     "output_type": "stream",
     "text": [
      "2024-06-19 15:55:00 +0100   23778 execution.flow     INFO     Node groundedness_aggregate_variants_results completes.\n"
     ]
    },
    {
     "name": "stdout",
     "output_type": "stream",
     "text": [
      "2024-06-19 15:55:00 +0100   23778 execution.flow     INFO     [relevance_aggregate_variants_results in line None (index starts from 0)] stdout> results\n"
     ]
    },
    {
     "name": "stdout",
     "output_type": "stream",
     "text": [
      "2024-06-19 15:55:00 +0100   23778 execution.flow     INFO     [relevance_aggregate_variants_results in line None (index starts from 0)] stdout>  \n"
     ]
    },
    {
     "name": "stdout",
     "output_type": "stream",
     "text": [
      "2024-06-19 15:55:00 +0100   23778 execution.flow     INFO     [relevance_aggregate_variants_results in line None (index starts from 0)] stdout> [{'gpt_relevance': 1.0, 'gpt_relevance_pass_rate': 0}]\n"
     ]
    },
    {
     "name": "stdout",
     "output_type": "stream",
     "text": [
      "2024-06-19 15:55:00 +0100   23778 execution.flow     INFO     Node relevance_aggregate_variants_results completes.\n"
     ]
    }
   ],
   "source": [
    "print(\"question\",question)\n",
    "print(\"context\",output_hf[\"context\"])\n",
    "print(\"answer\", output_hf[\"answer\"])\n",
    "test_multi_hf = pf_client.test(\n",
    "    eval_flow,\n",
    "    inputs={\n",
    "        \"question\": question,\n",
    "        \"context\": str(output_hf[\"context\"]),\n",
    "        \"answer\": output_hf[\"answer\"],\n",
    "    },\n",
    ")"
   ]
  },
  {
   "cell_type": "code",
   "execution_count": 5,
   "metadata": {
    "execution": {
     "iopub.execute_input": "2024-06-19T14:55:00.948357Z",
     "iopub.status.busy": "2024-06-19T14:55:00.948265Z",
     "iopub.status.idle": "2024-06-19T14:55:00.950064Z",
     "shell.execute_reply": "2024-06-19T14:55:00.949869Z"
    }
   },
   "outputs": [
    {
     "data": {
      "text/plain": [
       "{'gpt_coherence': 4.0,\n",
       " 'gpt_fluency': 4.0,\n",
       " 'gpt_groundedness': 1.0,\n",
       " 'gpt_relevance': 1.0}"
      ]
     },
     "execution_count": 5,
     "metadata": {},
     "output_type": "execute_result"
    }
   ],
   "source": [
    "test_multi_hf"
   ]
  },
  {
   "cell_type": "code",
   "execution_count": 6,
   "metadata": {
    "execution": {
     "iopub.execute_input": "2024-06-19T14:55:00.951106Z",
     "iopub.status.busy": "2024-06-19T14:55:00.951026Z",
     "iopub.status.idle": "2024-06-19T14:55:05.370813Z",
     "shell.execute_reply": "2024-06-19T14:55:05.370598Z"
    }
   },
   "outputs": [
    {
     "name": "stderr",
     "output_type": "stream",
     "text": [
      "[2024-06-19 15:55:01 +0100][promptflow._sdk._orchestrator.run_submitter][INFO] - Submitting run 2024_06_19_155500chat_base_run, log path: /Users/yonghuizhu/.promptflow/.runs/2024_06_19_155500chat_base_run/logs.txt\n"
     ]
    },
    {
     "name": "stdout",
     "output_type": "stream",
     "text": [
      "2024_06_19_155500chat_base_run\n",
      "Prompt flow service has started...\n",
      "You can view the traces in local from http://127.0.0.1:23333/v1.0/ui/traces/?#run=2024_06_19_155500chat_base_run\n"
     ]
    },
    {
     "name": "stdout",
     "output_type": "stream",
     "text": [
      "You can view the trace detail from the following URL:\n",
      "http://127.0.0.1:23333/v1.0/ui/traces/?#collection=multi_flow&uiTraceId=0x7ff444f2de110b9d7c86da15a207513b\n",
      "You can view the trace detail from the following URL:\n",
      "http://127.0.0.1:23333/v1.0/ui/traces/?#collection=multi_flow&uiTraceId=0x0bebf2957948d6baef2eaceeb7cb2f0c\n",
      "You can view the trace detail from the following URL:\n",
      "http://127.0.0.1:23333/v1.0/ui/traces/?#collection=multi_flow&uiTraceId=0xa2c7df65642435a755c36bafdb6af212\n",
      "You can view the trace detail from the following URL:\n",
      "http://127.0.0.1:23333/v1.0/ui/traces/?#collection=multi_flow&uiTraceId=0x28021b73ca12ba6405e65951d1738a2e\n",
      "You can view the trace detail from the following URL:\n",
      "http://127.0.0.1:23333/v1.0/ui/traces/?#collection=multi_flow&uiTraceId=0xb418bcc98712f82061778e6f80ae5567\n"
     ]
    },
    {
     "name": "stdout",
     "output_type": "stream",
     "text": [
      "name: 2024_06_19_155500chat_base_run\n",
      "created_on: '2024-06-19T15:55:00.957034'\n",
      "status: Completed\n",
      "display_name: 2024_06_19_155500chat_base_run\n",
      "description:\n",
      "tags:\n",
      "properties:\n",
      "  flow_path: /Users/yonghuizhu/imperial/contoso-chat-backend/contoso-chat_hf\n",
      "  output_path: /Users/yonghuizhu/.promptflow/.runs/2024_06_19_155500chat_base_run\n",
      "  column_mapping:\n",
      "    customerId: ${data.customerId}\n",
      "    question: ${data.question}\n",
      "  system_metrics:\n",
      "    total_tokens: 725\n",
      "    prompt_tokens: 225\n",
      "    completion_tokens: 500\n",
      "    duration: 4.28817\n",
      "flow_name: contoso-chat_hf\n",
      "data: /Users/yonghuizhu/imperial/contoso-chat-backend/data/salestestdata.jsonl\n",
      "output: /Users/yonghuizhu/.promptflow/.runs/2024_06_19_155500chat_base_run/flow_outputs\n",
      "\n"
     ]
    }
   ],
   "source": [
    "\n",
    "# get current time stamp for run name\n",
    "import datetime\n",
    "now = datetime.datetime.now()\n",
    "timestamp = now.strftime(\"%Y_%m_%d_%H%M%S\")\n",
    "run_name_hf = timestamp+\"chat_base_run\"\n",
    "print(run_name_hf)\n",
    "\n",
    "# create base run in Azure Ai Studio\n",
    "local_base_run_hf = pf_client.run(\n",
    "    flow=flow,\n",
    "    data=data,\n",
    "    column_mapping={\n",
    "        # reference data\n",
    "        \"customerId\": \"${data.customerId}\",\n",
    "        \"question\": \"${data.question}\",\n",
    "    },\n",
    "    runtime=runtime,\n",
    "    # create a display name as current datetime\n",
    "    display_name=run_name_hf,\n",
    "    name=run_name_hf\n",
    ")\n",
    "print(local_base_run_hf)"
   ]
  },
  {
   "cell_type": "code",
   "execution_count": 7,
   "metadata": {
    "execution": {
     "iopub.execute_input": "2024-06-19T14:55:05.372033Z",
     "iopub.status.busy": "2024-06-19T14:55:05.371949Z",
     "iopub.status.idle": "2024-06-19T14:55:05.406162Z",
     "shell.execute_reply": "2024-06-19T14:55:05.405991Z"
    }
   },
   "outputs": [
    {
     "name": "stdout",
     "output_type": "stream",
     "text": [
      "2024-06-19 15:55:01 +0100   23778 execution.bulk     INFO     Current thread is not main thread, skip signal handler registration in BatchEngine.\n",
      "2024-06-19 15:55:01 +0100   23778 execution.bulk     INFO     Current system's available memory is 3102.3125MB, memory consumption of current process is 274.90625MB, estimated available worker count is 3102.3125/274.90625 = 11\n",
      "2024-06-19 15:55:01 +0100   23778 execution.bulk     INFO     Set process count to 4 by taking the minimum value among the factors of {'default_worker_count': 4, 'row_count': 5, 'estimated_worker_count_based_on_memory_usage': 11}.\n",
      "2024-06-19 15:55:01 +0100   23778 execution.bulk     INFO     Process name(SpawnProcess-3)-Process id(23799)-Line number(0) start execution.\n",
      "2024-06-19 15:55:01 +0100   23778 execution.bulk     INFO     Process name(SpawnProcess-2)-Process id(23794)-Line number(1) start execution.\n",
      "2024-06-19 15:55:01 +0100   23778 execution.bulk     INFO     Process name(SpawnProcess-4)-Process id(23800)-Line number(2) start execution.\n",
      "2024-06-19 15:55:01 +0100   23778 execution.bulk     INFO     Process name(SpawnProcess-5)-Process id(23801)-Line number(3) start execution.\n",
      "2024-06-19 15:55:03 +0100   23778 execution.bulk     INFO     Process name(SpawnProcess-2)-Process id(23794)-Line number(1) completed.\n",
      "2024-06-19 15:55:03 +0100   23778 execution.bulk     INFO     Process name(SpawnProcess-2)-Process id(23794)-Line number(4) start execution.\n",
      "2024-06-19 15:55:03 +0100   23778 execution.bulk     INFO     Finished 1 / 5 lines.\n",
      "2024-06-19 15:55:03 +0100   23778 execution.bulk     INFO     Average execution time for completed lines: 2.01 seconds. Estimated time for incomplete lines: 8.04 seconds.\n",
      "2024-06-19 15:55:03 +0100   23778 execution.bulk     INFO     Process name(SpawnProcess-4)-Process id(23800)-Line number(2) completed.\n",
      "2024-06-19 15:55:03 +0100   23778 execution.bulk     INFO     Process name(SpawnProcess-3)-Process id(23799)-Line number(0) completed.\n",
      "2024-06-19 15:55:03 +0100   23778 execution.bulk     INFO     Process name(SpawnProcess-5)-Process id(23801)-Line number(3) completed.\n",
      "2024-06-19 15:55:04 +0100   23778 execution.bulk     INFO     Process name(SpawnProcess-2)-Process id(23794)-Line number(4) completed.\n",
      "2024-06-19 15:55:04 +0100   23778 execution.bulk     INFO     Finished 5 / 5 lines.\n",
      "2024-06-19 15:55:04 +0100   23778 execution.bulk     INFO     Average execution time for completed lines: 0.6 seconds. Estimated time for incomplete lines: 0.0 seconds.\n",
      "2024-06-19 15:55:04 +0100   23778 execution.bulk     INFO     The thread monitoring the process [23800-SpawnProcess-4] will be terminated.\n",
      "2024-06-19 15:55:04 +0100   23800 execution.bulk     INFO     The process [23800] has received a terminate signal.\n",
      "2024-06-19 15:55:04 +0100   23778 execution.bulk     INFO     The thread monitoring the process [23799-SpawnProcess-3] will be terminated.\n",
      "2024-06-19 15:55:04 +0100   23799 execution.bulk     INFO     The process [23799] has received a terminate signal.\n",
      "2024-06-19 15:55:04 +0100   23778 execution.bulk     INFO     The thread monitoring the process [23794-SpawnProcess-2] will be terminated.\n",
      "2024-06-19 15:55:04 +0100   23794 execution.bulk     INFO     The process [23794] has received a terminate signal.\n",
      "2024-06-19 15:55:04 +0100   23778 execution.bulk     INFO     The thread monitoring the process [23801-SpawnProcess-5] will be terminated.\n",
      "2024-06-19 15:55:04 +0100   23801 execution.bulk     INFO     The process [23801] has received a terminate signal.\n",
      "2024-06-19 15:55:05 +0100   23778 execution.bulk     INFO     Process 23800 terminated.\n",
      "2024-06-19 15:55:05 +0100   23778 execution.bulk     INFO     Process 23801 terminated.\n",
      "2024-06-19 15:55:05 +0100   23778 execution.bulk     INFO     Process 23799 terminated.\n",
      "2024-06-19 15:55:05 +0100   23778 execution.bulk     INFO     Process 23794 terminated.\n",
      "======= Run Summary =======\n",
      "\n",
      "Run name: \"2024_06_19_155500chat_base_run\"\n",
      "Run status: \"Completed\"\n",
      "Start time: \"2024-06-19 15:55:00.957034\"\n",
      "Duration: \"0:00:04.391570\"\n",
      "Output path: \"/Users/yonghuizhu/.promptflow/.runs/2024_06_19_155500chat_base_run\"\n",
      "\n"
     ]
    },
    {
     "data": {
      "text/html": [
       "<div>\n",
       "<style scoped>\n",
       "    .dataframe tbody tr th:only-of-type {\n",
       "        vertical-align: middle;\n",
       "    }\n",
       "\n",
       "    .dataframe tbody tr th {\n",
       "        vertical-align: top;\n",
       "    }\n",
       "\n",
       "    .dataframe thead th {\n",
       "        text-align: right;\n",
       "    }\n",
       "</style>\n",
       "<table border=\"1\" class=\"dataframe\">\n",
       "  <thead>\n",
       "    <tr style=\"text-align: right;\">\n",
       "      <th></th>\n",
       "      <th>inputs.customerId</th>\n",
       "      <th>inputs.question</th>\n",
       "      <th>inputs.line_number</th>\n",
       "      <th>inputs.chat_history</th>\n",
       "      <th>outputs.answer</th>\n",
       "      <th>outputs.context</th>\n",
       "    </tr>\n",
       "  </thead>\n",
       "  <tbody>\n",
       "    <tr>\n",
       "      <th>0</th>\n",
       "      <td>4</td>\n",
       "      <td>tell me about your hiking jackets</td>\n",
       "      <td>0</td>\n",
       "      <td>[]</td>\n",
       "      <td>Hey there! Based on our previous purchase of a...</td>\n",
       "      <td>[{'id': '17', 'title': 'RainGuard Hiking Jacke...</td>\n",
       "    </tr>\n",
       "    <tr>\n",
       "      <th>1</th>\n",
       "      <td>1</td>\n",
       "      <td>Do you have any climbing gear?</td>\n",
       "      <td>1</td>\n",
       "      <td>[]</td>\n",
       "      <td>Hi there! While I don't personally own physica...</td>\n",
       "      <td>[{'id': '9', 'title': 'SummitClimber Backpack'...</td>\n",
       "    </tr>\n",
       "    <tr>\n",
       "      <th>2</th>\n",
       "      <td>3</td>\n",
       "      <td>Can you tell me about your selection of tents?</td>\n",
       "      <td>2</td>\n",
       "      <td>[]</td>\n",
       "      <td>Hi there! As a fellow outdoor enthusiast who p...</td>\n",
       "      <td>[{'id': '15', 'title': 'SkyView 2-Person Tent'...</td>\n",
       "    </tr>\n",
       "    <tr>\n",
       "      <th>3</th>\n",
       "      <td>6</td>\n",
       "      <td>Do you have any hiking boots?</td>\n",
       "      <td>3</td>\n",
       "      <td>[]</td>\n",
       "      <td>Hi there! While I don't personally own a pair ...</td>\n",
       "      <td>[{'id': '4', 'title': 'TrekReady Hiking Boots'...</td>\n",
       "    </tr>\n",
       "    <tr>\n",
       "      <th>4</th>\n",
       "      <td>2</td>\n",
       "      <td>What gear do you recommend for hiking?</td>\n",
       "      <td>4</td>\n",
       "      <td>[]</td>\n",
       "      <td>Hey [Name]! Based on your previous purchase of...</td>\n",
       "      <td>[{'id': '10', 'title': 'TrailBlaze Hiking Pant...</td>\n",
       "    </tr>\n",
       "  </tbody>\n",
       "</table>\n",
       "</div>"
      ],
      "text/plain": [
       "   inputs.customerId                                 inputs.question  \\\n",
       "0                  4               tell me about your hiking jackets   \n",
       "1                  1                  Do you have any climbing gear?   \n",
       "2                  3  Can you tell me about your selection of tents?   \n",
       "3                  6                   Do you have any hiking boots?   \n",
       "4                  2          What gear do you recommend for hiking?   \n",
       "\n",
       "   inputs.line_number inputs.chat_history  \\\n",
       "0                   0                  []   \n",
       "1                   1                  []   \n",
       "2                   2                  []   \n",
       "3                   3                  []   \n",
       "4                   4                  []   \n",
       "\n",
       "                                      outputs.answer  \\\n",
       "0  Hey there! Based on our previous purchase of a...   \n",
       "1  Hi there! While I don't personally own physica...   \n",
       "2  Hi there! As a fellow outdoor enthusiast who p...   \n",
       "3  Hi there! While I don't personally own a pair ...   \n",
       "4  Hey [Name]! Based on your previous purchase of...   \n",
       "\n",
       "                                     outputs.context  \n",
       "0  [{'id': '17', 'title': 'RainGuard Hiking Jacke...  \n",
       "1  [{'id': '9', 'title': 'SummitClimber Backpack'...  \n",
       "2  [{'id': '15', 'title': 'SkyView 2-Person Tent'...  \n",
       "3  [{'id': '4', 'title': 'TrekReady Hiking Boots'...  \n",
       "4  [{'id': '10', 'title': 'TrailBlaze Hiking Pant...  "
      ]
     },
     "execution_count": 7,
     "metadata": {},
     "output_type": "execute_result"
    }
   ],
   "source": [
    "pf_client.stream(local_base_run_hf)\n",
    "details = pf_client.get_details(local_base_run_hf)\n",
    "details.head(10)"
   ]
  },
  {
   "cell_type": "code",
   "execution_count": 8,
   "metadata": {
    "execution": {
     "iopub.execute_input": "2024-06-19T14:55:05.407254Z",
     "iopub.status.busy": "2024-06-19T14:55:05.407172Z",
     "iopub.status.idle": "2024-06-19T14:55:22.643405Z",
     "shell.execute_reply": "2024-06-19T14:55:22.643135Z"
    }
   },
   "outputs": [
    {
     "name": "stderr",
     "output_type": "stream",
     "text": [
      "[2024-06-19 15:55:05 +0100][promptflow._sdk._orchestrator.run_submitter][INFO] - Submitting run 2024_06_19_155500chat_eval_run, log path: /Users/yonghuizhu/.promptflow/.runs/2024_06_19_155500chat_eval_run/logs.txt\n"
     ]
    },
    {
     "name": "stdout",
     "output_type": "stream",
     "text": [
      "2024_06_19_155500chat_eval_run\n",
      "2024_06_19_155500chat_eval_run\n",
      "Prompt flow service has started...\n",
      "You can view the traces in local from http://127.0.0.1:23333/v1.0/ui/traces/?#run=2024_06_19_155500chat_eval_run\n"
     ]
    },
    {
     "name": "stdout",
     "output_type": "stream",
     "text": [
      "You can view the trace detail from the following URL:\n",
      "http://127.0.0.1:23333/v1.0/ui/traces/?#collection=multi_flow&uiTraceId=0x68711b0ed711689c2a6ae16f71b8211c\n",
      "You can view the trace detail from the following URL:\n",
      "http://127.0.0.1:23333/v1.0/ui/traces/?#collection=multi_flow&uiTraceId=0x15d2426e4d8c9b94e2c33e95769d92b4\n",
      "You can view the trace detail from the following URL:\n",
      "http://127.0.0.1:23333/v1.0/ui/traces/?#collection=multi_flow&uiTraceId=0x336242066e81637463784232c098e3a9\n",
      "You can view the trace detail from the following URL:\n",
      "http://127.0.0.1:23333/v1.0/ui/traces/?#collection=multi_flow&uiTraceId=0x38ca195c21b108e993a4930783b25c1b\n",
      "You can view the trace detail from the following URL:\n",
      "http://127.0.0.1:23333/v1.0/ui/traces/?#collection=multi_flow&uiTraceId=0xbc04740de2d3769fe5ec9c280d7b2524\n"
     ]
    }
   ],
   "source": [
    "\n",
    "run_name = timestamp+\"chat_eval_run\"\n",
    "print(run_name)\n",
    "\n",
    "run_name_hf = timestamp+\"chat_eval_run\"\n",
    "print(run_name_hf)\n",
    "\n",
    "local_eval_run_variant = pf_client.run(\n",
    "    flow=eval_flow,\n",
    "    data=data,  # path to the data file\n",
    "    run=local_base_run_hf,  # use run as the variant\n",
    "    column_mapping={\n",
    "        # reference data\n",
    "        \"customerId\": \"${data.customerId}\",\n",
    "        \"question\": \"${data.question}\",\n",
    "        \"context\": \"${run.outputs.context}\",\n",
    "        # reference the run's output\n",
    "        \"answer\": \"${run.outputs.answer}\",\n",
    "    },\n",
    "    runtime=runtime,\n",
    "    display_name=run_name,\n",
    "    name=run_name\n",
    ")"
   ]
  },
  {
   "cell_type": "code",
   "execution_count": 9,
   "metadata": {
    "execution": {
     "iopub.execute_input": "2024-06-19T14:55:22.644926Z",
     "iopub.status.busy": "2024-06-19T14:55:22.644848Z",
     "iopub.status.idle": "2024-06-19T14:55:22.700125Z",
     "shell.execute_reply": "2024-06-19T14:55:22.699889Z"
    }
   },
   "outputs": [
    {
     "name": "stdout",
     "output_type": "stream",
     "text": [
      "{\n",
      "    \"gpt_coherence\": 3.8,\n",
      "    \"gpt_coherence_pass_rate(%)\": 80.0,\n",
      "    \"gpt_groundedness\": 1.0,\n",
      "    \"gpt_groundedness_pass_rate(%)\": 0.0,\n",
      "    \"gpt_fluency\": 3.6,\n",
      "    \"gpt_fluency_pass_rate(%)\": 60.0,\n",
      "    \"gpt_relevance\": 1.4,\n",
      "    \"gpt_relevance_pass_rate(%)\": 0.0\n",
      "}\n"
     ]
    },
    {
     "name": "stdout",
     "output_type": "stream",
     "text": [
      "2024-06-19 15:55:05 +0100   23778 execution.bulk     INFO     Current thread is not main thread, skip signal handler registration in BatchEngine.\n",
      "2024-06-19 15:55:05 +0100   23778 execution.bulk     INFO     Current system's available memory is 2946.765625MB, memory consumption of current process is 279.34375MB, estimated available worker count is 2946.765625/279.34375 = 10\n",
      "2024-06-19 15:55:05 +0100   23778 execution.bulk     INFO     Set process count to 4 by taking the minimum value among the factors of {'default_worker_count': 4, 'row_count': 5, 'estimated_worker_count_based_on_memory_usage': 10}.\n",
      "2024-06-19 15:55:06 +0100   23778 execution.bulk     INFO     Process name(SpawnProcess-8)-Process id(23823)-Line number(0) start execution.\n",
      "2024-06-19 15:55:06 +0100   23778 execution.bulk     INFO     Process name(SpawnProcess-7)-Process id(23816)-Line number(1) start execution.\n",
      "2024-06-19 15:55:06 +0100   23778 execution.bulk     INFO     Process name(SpawnProcess-10)-Process id(23825)-Line number(2) start execution.\n",
      "2024-06-19 15:55:06 +0100   23778 execution.bulk     INFO     Process name(SpawnProcess-9)-Process id(23824)-Line number(3) start execution.\n",
      "2024-06-19 15:55:07 +0100   23825 execution          WARNING  [fluency_score in line 2 (index starts from 0)] stderr> Exception occurs: RateLimitError: Error code: 429 - {'error': {'code': '429', 'message': 'Requests to the ChatCompletions_Create Operation under Azure OpenAI API version 2024-03-01-preview have exceeded call rate limit of your current AIServices S0 pricing tier. Please retry after 3 seconds. Please contact Azure support service if you would like to further increase the default rate limit.'}}\n",
      "2024-06-19 15:55:07 +0100   23825 execution          WARNING  [coherence_score in line 2 (index starts from 0)] stderr> Exception occurs: RateLimitError: Error code: 429 - {'error': {'code': '429', 'message': 'Requests to the ChatCompletions_Create Operation under Azure OpenAI API version 2024-03-01-preview have exceeded call rate limit of your current AIServices S0 pricing tier. Please retry after 3 seconds. Please contact Azure support service if you would like to further increase the default rate limit.'}}\n",
      "2024-06-19 15:55:07 +0100   23825 execution          WARNING  [fluency_score in line 2 (index starts from 0)] stderr> RateLimitError #0, Retry-After=3, Back off 3.0 seconds for retry.\n",
      "2024-06-19 15:55:07 +0100   23825 execution          WARNING  [coherence_score in line 2 (index starts from 0)] stderr> RateLimitError #0, Retry-After=3, Back off 3.0 seconds for retry.\n",
      "2024-06-19 15:55:07 +0100   23824 execution          WARNING  [groundedness_score in line 3 (index starts from 0)] stderr> Exception occurs: RateLimitError: Error code: 429 - {'error': {'code': '429', 'message': 'Requests to the ChatCompletions_Create Operation under Azure OpenAI API version 2024-03-01-preview have exceeded call rate limit of your current AIServices S0 pricing tier. Please retry after 3 seconds. Please contact Azure support service if you would like to further increase the default rate limit.'}}\n",
      "2024-06-19 15:55:07 +0100   23824 execution          WARNING  [groundedness_score in line 3 (index starts from 0)] stderr> RateLimitError #0, Retry-After=3, Back off 3.0 seconds for retry.\n",
      "2024-06-19 15:55:07 +0100   23823 execution          WARNING  [groundedness_score in line 0 (index starts from 0)] stderr> Exception occurs: RateLimitError: Error code: 429 - {'error': {'code': '429', 'message': 'Requests to the ChatCompletions_Create Operation under Azure OpenAI API version 2024-03-01-preview have exceeded call rate limit of your current AIServices S0 pricing tier. Please retry after 3 seconds. Please contact Azure support service if you would like to further increase the default rate limit.'}}\n",
      "2024-06-19 15:55:07 +0100   23823 execution          WARNING  [groundedness_score in line 0 (index starts from 0)] stderr> RateLimitError #0, Retry-After=3, Back off 3.0 seconds for retry.\n",
      "2024-06-19 15:55:07 +0100   23823 execution          WARNING  [relevance_score in line 0 (index starts from 0)] stderr> Exception occurs: RateLimitError: Error code: 429 - {'error': {'code': '429', 'message': 'Requests to the ChatCompletions_Create Operation under Azure OpenAI API version 2024-03-01-preview have exceeded call rate limit of your current AIServices S0 pricing tier. Please retry after 3 seconds. Please contact Azure support service if you would like to further increase the default rate limit.'}}\n",
      "2024-06-19 15:55:07 +0100   23823 execution          WARNING  [relevance_score in line 0 (index starts from 0)] stderr> RateLimitError #0, Retry-After=3, Back off 3.0 seconds for retry.\n",
      "2024-06-19 15:55:07 +0100   23824 execution          WARNING  [relevance_score in line 3 (index starts from 0)] stderr> Exception occurs: RateLimitError: Error code: 429 - {'error': {'code': '429', 'message': 'Requests to the ChatCompletions_Create Operation under Azure OpenAI API version 2024-03-01-preview have exceeded call rate limit of your current AIServices S0 pricing tier. Please retry after 3 seconds. Please contact Azure support service if you would like to further increase the default rate limit.'}}\n",
      "2024-06-19 15:55:07 +0100   23824 execution          WARNING  [relevance_score in line 3 (index starts from 0)] stderr> RateLimitError #0, Retry-After=3, Back off 3.0 seconds for retry.\n",
      "2024-06-19 15:55:08 +0100   23778 execution.bulk     INFO     Process name(SpawnProcess-7)-Process id(23816)-Line number(1) completed.\n",
      "2024-06-19 15:55:08 +0100   23778 execution.bulk     INFO     Process name(SpawnProcess-7)-Process id(23816)-Line number(4) start execution.\n",
      "2024-06-19 15:55:08 +0100   23816 execution          WARNING  [coherence_score in line 4 (index starts from 0)] stderr> Exception occurs: RateLimitError: Error code: 429 - {'error': {'code': '429', 'message': 'Requests to the ChatCompletions_Create Operation under Azure OpenAI API version 2024-03-01-preview have exceeded call rate limit of your current AIServices S0 pricing tier. Please retry after 2 seconds. Please contact Azure support service if you would like to further increase the default rate limit.'}}\n",
      "2024-06-19 15:55:08 +0100   23816 execution          WARNING  [coherence_score in line 4 (index starts from 0)] stderr> RateLimitError #0, Retry-After=2, Back off 2.0 seconds for retry.\n",
      "2024-06-19 15:55:08 +0100   23816 execution          WARNING  [fluency_score in line 4 (index starts from 0)] stderr> Exception occurs: RateLimitError: Error code: 429 - {'error': {'code': '429', 'message': 'Requests to the ChatCompletions_Create Operation under Azure OpenAI API version 2024-03-01-preview have exceeded call rate limit of your current AIServices S0 pricing tier. Please retry after 2 seconds. Please contact Azure support service if you would like to further increase the default rate limit.'}}\n",
      "2024-06-19 15:55:08 +0100   23816 execution          WARNING  [fluency_score in line 4 (index starts from 0)] stderr> RateLimitError #0, Retry-After=2, Back off 2.0 seconds for retry.\n",
      "2024-06-19 15:55:08 +0100   23778 execution.bulk     INFO     Finished 1 / 5 lines.\n",
      "2024-06-19 15:55:08 +0100   23778 execution.bulk     INFO     Average execution time for completed lines: 2.0 seconds. Estimated time for incomplete lines: 8.0 seconds.\n",
      "2024-06-19 15:55:10 +0100   23825 execution          WARNING  [coherence_score in line 2 (index starts from 0)] stderr> Exception occurs: RateLimitError: Error code: 429 - {'error': {'code': '429', 'message': 'Requests to the ChatCompletions_Create Operation under Azure OpenAI API version 2024-03-01-preview have exceeded call rate limit of your current AIServices S0 pricing tier. Please retry after 7 seconds. Please contact Azure support service if you would like to further increase the default rate limit.'}}\n",
      "2024-06-19 15:55:10 +0100   23825 execution          WARNING  [coherence_score in line 2 (index starts from 0)] stderr> RateLimitError #1, Retry-After=7, Back off 7.0 seconds for retry.\n",
      "2024-06-19 15:55:10 +0100   23825 execution          WARNING  [fluency_score in line 2 (index starts from 0)] stderr> Exception occurs: RateLimitError: Error code: 429 - {'error': {'code': '429', 'message': 'Requests to the ChatCompletions_Create Operation under Azure OpenAI API version 2024-03-01-preview have exceeded call rate limit of your current AIServices S0 pricing tier. Please retry after 7 seconds. Please contact Azure support service if you would like to further increase the default rate limit.'}}\n",
      "2024-06-19 15:55:10 +0100   23825 execution          WARNING  [fluency_score in line 2 (index starts from 0)] stderr> RateLimitError #1, Retry-After=7, Back off 7.0 seconds for retry.\n",
      "2024-06-19 15:55:10 +0100   23816 execution          WARNING  [groundedness_score in line 4 (index starts from 0)] stderr> Exception occurs: RateLimitError: Error code: 429 - {'error': {'code': '429', 'message': 'Requests to the ChatCompletions_Create Operation under Azure OpenAI API version 2024-03-01-preview have exceeded call rate limit of your current AIServices S0 pricing tier. Please retry after 6 seconds. Please contact Azure support service if you would like to further increase the default rate limit.'}}\n",
      "2024-06-19 15:55:10 +0100   23816 execution          WARNING  [groundedness_score in line 4 (index starts from 0)] stderr> RateLimitError #0, Retry-After=6, Back off 6.0 seconds for retry.\n",
      "2024-06-19 15:55:10 +0100   23816 execution          WARNING  [relevance_score in line 4 (index starts from 0)] stderr> Exception occurs: RateLimitError: Error code: 429 - {'error': {'code': '429', 'message': 'Requests to the ChatCompletions_Create Operation under Azure OpenAI API version 2024-03-01-preview have exceeded call rate limit of your current AIServices S0 pricing tier. Please retry after 6 seconds. Please contact Azure support service if you would like to further increase the default rate limit.'}}\n",
      "2024-06-19 15:55:10 +0100   23816 execution          WARNING  [relevance_score in line 4 (index starts from 0)] stderr> RateLimitError #0, Retry-After=6, Back off 6.0 seconds for retry.\n",
      "2024-06-19 15:55:10 +0100   23824 execution          WARNING  [groundedness_score in line 3 (index starts from 0)] stderr> Exception occurs: RateLimitError: Error code: 429 - {'error': {'code': '429', 'message': 'Requests to the ChatCompletions_Create Operation under Azure OpenAI API version 2024-03-01-preview have exceeded call rate limit of your current AIServices S0 pricing tier. Please retry after 6 seconds. Please contact Azure support service if you would like to further increase the default rate limit.'}}\n",
      "2024-06-19 15:55:10 +0100   23824 execution          WARNING  [groundedness_score in line 3 (index starts from 0)] stderr> RateLimitError #1, Retry-After=6, Back off 6.0 seconds for retry.\n",
      "2024-06-19 15:55:10 +0100   23823 execution          WARNING  [groundedness_score in line 0 (index starts from 0)] stderr> Exception occurs: RateLimitError: Error code: 429 - {'error': {'code': '429', 'message': 'Requests to the ChatCompletions_Create Operation under Azure OpenAI API version 2024-03-01-preview have exceeded call rate limit of your current AIServices S0 pricing tier. Please retry after 6 seconds. Please contact Azure support service if you would like to further increase the default rate limit.'}}\n",
      "2024-06-19 15:55:10 +0100   23823 execution          WARNING  [groundedness_score in line 0 (index starts from 0)] stderr> RateLimitError #1, Retry-After=6, Back off 6.0 seconds for retry.\n",
      "2024-06-19 15:55:10 +0100   23823 execution          WARNING  [relevance_score in line 0 (index starts from 0)] stderr> Exception occurs: RateLimitError: Error code: 429 - {'error': {'code': '429', 'message': 'Requests to the ChatCompletions_Create Operation under Azure OpenAI API version 2024-03-01-preview have exceeded call rate limit of your current AIServices S0 pricing tier. Please retry after 6 seconds. Please contact Azure support service if you would like to further increase the default rate limit.'}}\n",
      "2024-06-19 15:55:10 +0100   23823 execution          WARNING  [relevance_score in line 0 (index starts from 0)] stderr> RateLimitError #1, Retry-After=6, Back off 6.0 seconds for retry.\n",
      "2024-06-19 15:55:10 +0100   23824 execution          WARNING  [relevance_score in line 3 (index starts from 0)] stderr> Exception occurs: RateLimitError: Error code: 429 - {'error': {'code': '429', 'message': 'Requests to the ChatCompletions_Create Operation under Azure OpenAI API version 2024-03-01-preview have exceeded call rate limit of your current AIServices S0 pricing tier. Please retry after 6 seconds. Please contact Azure support service if you would like to further increase the default rate limit.'}}\n",
      "2024-06-19 15:55:10 +0100   23824 execution          WARNING  [relevance_score in line 3 (index starts from 0)] stderr> RateLimitError #1, Retry-After=6, Back off 6.0 seconds for retry.\n",
      "2024-06-19 15:55:16 +0100   23824 execution          WARNING  [groundedness_score in line 3 (index starts from 0)] stderr> Exception occurs: RateLimitError: Error code: 429 - {'error': {'code': '429', 'message': 'Requests to the ChatCompletions_Create Operation under Azure OpenAI API version 2024-03-01-preview have exceeded call rate limit of your current AIServices S0 pricing tier. Please retry after 1 second. Please contact Azure support service if you would like to further increase the default rate limit.'}}\n",
      "2024-06-19 15:55:16 +0100   23824 execution          WARNING  [groundedness_score in line 3 (index starts from 0)] stderr> RateLimitError #2, Retry-After=1, Back off 1.0 seconds for retry.\n",
      "2024-06-19 15:55:16 +0100   23823 execution          WARNING  [groundedness_score in line 0 (index starts from 0)] stderr> Exception occurs: RateLimitError: Error code: 429 - {'error': {'code': '429', 'message': 'Requests to the ChatCompletions_Create Operation under Azure OpenAI API version 2024-03-01-preview have exceeded call rate limit of your current AIServices S0 pricing tier. Please retry after 1 second. Please contact Azure support service if you would like to further increase the default rate limit.'}}\n",
      "2024-06-19 15:55:16 +0100   23823 execution          WARNING  [groundedness_score in line 0 (index starts from 0)] stderr> RateLimitError #2, Retry-After=1, Back off 1.0 seconds for retry.\n",
      "2024-06-19 15:55:17 +0100   23823 execution          WARNING  [relevance_score in line 0 (index starts from 0)] stderr> Exception occurs: RateLimitError: Error code: 429 - {'error': {'code': '429', 'message': 'Requests to the ChatCompletions_Create Operation under Azure OpenAI API version 2024-03-01-preview have exceeded call rate limit of your current AIServices S0 pricing tier. Please retry after 1 second. Please contact Azure support service if you would like to further increase the default rate limit.'}}\n",
      "2024-06-19 15:55:17 +0100   23823 execution          WARNING  [relevance_score in line 0 (index starts from 0)] stderr> RateLimitError #2, Retry-After=1, Back off 1.0 seconds for retry.\n",
      "2024-06-19 15:55:17 +0100   23824 execution          WARNING  [relevance_score in line 3 (index starts from 0)] stderr> Exception occurs: RateLimitError: Error code: 429 - {'error': {'code': '429', 'message': 'Requests to the ChatCompletions_Create Operation under Azure OpenAI API version 2024-03-01-preview have exceeded call rate limit of your current AIServices S0 pricing tier. Please retry after 1 second. Please contact Azure support service if you would like to further increase the default rate limit.'}}\n",
      "2024-06-19 15:55:17 +0100   23824 execution          WARNING  [relevance_score in line 3 (index starts from 0)] stderr> RateLimitError #2, Retry-After=1, Back off 1.0 seconds for retry.\n",
      "2024-06-19 15:55:17 +0100   23778 execution.bulk     INFO     Process name(SpawnProcess-7)-Process id(23816)-Line number(4) completed.\n",
      "2024-06-19 15:55:18 +0100   23825 execution          WARNING  [relevance_score in line 2 (index starts from 0)] stderr> Exception occurs: RateLimitError: Error code: 429 - {'error': {'code': '429', 'message': 'Requests to the ChatCompletions_Create Operation under Azure OpenAI API version 2024-03-01-preview have exceeded call rate limit of your current AIServices S0 pricing tier. Please retry after 2 seconds. Please contact Azure support service if you would like to further increase the default rate limit.'}}\n",
      "2024-06-19 15:55:18 +0100   23825 execution          WARNING  [relevance_score in line 2 (index starts from 0)] stderr> RateLimitError #0, Retry-After=2, Back off 2.0 seconds for retry.\n",
      "2024-06-19 15:55:18 +0100   23778 execution.bulk     INFO     Finished 2 / 5 lines.\n",
      "2024-06-19 15:55:18 +0100   23778 execution.bulk     INFO     Average execution time for completed lines: 6.01 seconds. Estimated time for incomplete lines: 18.03 seconds.\n",
      "2024-06-19 15:55:18 +0100   23778 execution.bulk     INFO     Process name(SpawnProcess-9)-Process id(23824)-Line number(3) completed.\n",
      "2024-06-19 15:55:19 +0100   23778 execution.bulk     INFO     Process name(SpawnProcess-8)-Process id(23823)-Line number(0) completed.\n",
      "2024-06-19 15:55:19 +0100   23778 execution.bulk     INFO     Finished 4 / 5 lines.\n",
      "2024-06-19 15:55:19 +0100   23778 execution.bulk     INFO     Average execution time for completed lines: 3.25 seconds. Estimated time for incomplete lines: 3.25 seconds.\n",
      "2024-06-19 15:55:20 +0100   23825 execution          WARNING  [relevance_score in line 2 (index starts from 0)] stderr> Exception occurs: RateLimitError: Error code: 429 - {'error': {'code': '429', 'message': 'Requests to the ChatCompletions_Create Operation under Azure OpenAI API version 2024-03-01-preview have exceeded call rate limit of your current AIServices S0 pricing tier. Please retry after 1 second. Please contact Azure support service if you would like to further increase the default rate limit.'}}\n",
      "2024-06-19 15:55:20 +0100   23825 execution          WARNING  [relevance_score in line 2 (index starts from 0)] stderr> RateLimitError #1, Retry-After=1, Back off 1.0 seconds for retry.\n",
      "2024-06-19 15:55:21 +0100   23778 execution.bulk     INFO     Process name(SpawnProcess-10)-Process id(23825)-Line number(2) completed.\n",
      "2024-06-19 15:55:22 +0100   23778 execution.bulk     INFO     Finished 5 / 5 lines.\n",
      "2024-06-19 15:55:22 +0100   23778 execution.bulk     INFO     Average execution time for completed lines: 3.2 seconds. Estimated time for incomplete lines: 0.0 seconds.\n",
      "2024-06-19 15:55:22 +0100   23778 execution.bulk     INFO     The thread monitoring the process [23816-SpawnProcess-7] will be terminated.\n",
      "2024-06-19 15:55:22 +0100   23816 execution.bulk     INFO     The process [23816] has received a terminate signal.\n",
      "2024-06-19 15:55:22 +0100   23778 execution.bulk     INFO     The thread monitoring the process [23824-SpawnProcess-9] will be terminated.\n",
      "2024-06-19 15:55:22 +0100   23824 execution.bulk     INFO     The process [23824] has received a terminate signal.\n",
      "2024-06-19 15:55:22 +0100   23778 execution.bulk     INFO     The thread monitoring the process [23825-SpawnProcess-10] will be terminated.\n",
      "2024-06-19 15:55:22 +0100   23825 execution.bulk     INFO     The process [23825] has received a terminate signal.\n",
      "2024-06-19 15:55:22 +0100   23778 execution.bulk     INFO     The thread monitoring the process [23823-SpawnProcess-8] will be terminated.\n",
      "2024-06-19 15:55:22 +0100   23823 execution.bulk     INFO     The process [23823] has received a terminate signal.\n",
      "2024-06-19 15:55:22 +0100   23778 execution.bulk     INFO     Process 23824 terminated.\n",
      "2024-06-19 15:55:22 +0100   23778 execution.bulk     INFO     Process 23816 terminated.\n",
      "2024-06-19 15:55:22 +0100   23778 execution.bulk     INFO     Process 23825 terminated.\n",
      "2024-06-19 15:55:22 +0100   23778 execution.bulk     INFO     Process 23823 terminated.\n",
      "2024-06-19 15:55:22 +0100   23778 execution.bulk     INFO     Executing aggregation node...\n",
      "2024-06-19 15:55:22 +0100   23778 execution.bulk     INFO     Finish executing aggregation node.\n",
      "======= Run Summary =======\n",
      "\n",
      "Run name: \"2024_06_19_155500chat_eval_run\"\n",
      "Run status: \"Completed\"\n",
      "Start time: \"2024-06-19 15:55:05.418200\"\n",
      "Duration: \"0:00:17.198182\"\n",
      "Output path: \"/Users/yonghuizhu/.promptflow/.runs/2024_06_19_155500chat_eval_run\"\n",
      "\n"
     ]
    },
    {
     "data": {
      "text/plain": [
       "<promptflow._sdk.entities._run.Run at 0x11c825010>"
      ]
     },
     "execution_count": 9,
     "metadata": {},
     "output_type": "execute_result"
    }
   ],
   "source": [
    "\n",
    "metrics_hf = pf_client.get_metrics(local_eval_run_variant)\n",
    "import json\n",
    "print(json.dumps(metrics_hf, indent=4))\n",
    "pf_client.stream(local_eval_run_variant)"
   ]
  },
  {
   "cell_type": "code",
   "execution_count": 10,
   "metadata": {
    "execution": {
     "iopub.execute_input": "2024-06-19T14:55:22.701354Z",
     "iopub.status.busy": "2024-06-19T14:55:22.701276Z",
     "iopub.status.idle": "2024-06-19T14:55:24.761257Z",
     "shell.execute_reply": "2024-06-19T14:55:24.760692Z"
    }
   },
   "outputs": [
    {
     "name": "stderr",
     "output_type": "stream",
     "text": [
      "WARNING:root:'from promptflow import tool' is deprecated and will be removed in the future. Use 'from promptflow.core import tool' instead.\n",
      "WARNING:root:'from promptflow import log_metric' is deprecated and will be removed in the future. Use 'from promptflow.core import log_metric' instead.\n"
     ]
    },
    {
     "name": "stderr",
     "output_type": "stream",
     "text": [
      "WARNING:root:'from promptflow import ToolProvider' is deprecated and will be removed in the future. Use 'from promptflow.core import ToolProvider' instead.\n"
     ]
    },
    {
     "name": "stdout",
     "output_type": "stream",
     "text": [
      "The HTML file is generated at '/private/var/folders/hf/3mqmr8vd3cs309p9_zg2wcsr0000gn/T/pf-visualize-detail-kxvgh960.html'.\n",
      "Trying to view the result in a web browser...\n",
      "Successfully visualized from the web browser.\n"
     ]
    }
   ],
   "source": [
    "pf_client.visualize([local_base_run_hf, local_eval_run_variant])"
   ]
  }
 ],
 "metadata": {
  "kernelspec": {
   "display_name": ".venv",
   "language": "python",
   "name": "python3"
  },
  "language_info": {
   "codemirror_mode": {
    "name": "ipython",
    "version": 3
   },
   "file_extension": ".py",
   "mimetype": "text/x-python",
   "name": "python",
   "nbconvert_exporter": "python",
   "pygments_lexer": "ipython3",
   "version": "3.11.9"
  }
 },
 "nbformat": 4,
 "nbformat_minor": 2
}
