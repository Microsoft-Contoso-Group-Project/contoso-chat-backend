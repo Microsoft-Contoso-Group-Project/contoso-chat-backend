{
 "cells": [
  {
   "cell_type": "markdown",
   "metadata": {},
   "source": [
    "Batch run contoso-chat"
   ]
  },
  {
   "cell_type": "code",
   "execution_count": 1,
   "metadata": {},
   "outputs": [
    {
     "name": "stderr",
     "output_type": "stream",
     "text": [
      "WARNING:root:'from promptflow import PFClient' is deprecated and will be removed in the future. Use 'from promptflow.client import PFClient' instead.\n"
     ]
    }
   ],
   "source": [
    "from promptflow import PFClient\n",
    "from promptflow.entities import Run\n",
    "\n",
    "pf_client = PFClient()"
   ]
  },
  {
   "cell_type": "code",
   "execution_count": 2,
   "metadata": {},
   "outputs": [],
   "source": [
    "# load flow\n",
    "flow = \"../contoso-chat\"\n",
    "# load data\n",
    "data = \"../data/salestestdata.jsonl\""
   ]
  },
  {
   "cell_type": "code",
   "execution_count": 3,
   "metadata": {},
   "outputs": [
    {
     "name": "stdout",
     "output_type": "stream",
     "text": [
      "2024_06_04_143107chat_base_run\n"
     ]
    }
   ],
   "source": [
    "# get current time stamp for run name\n",
    "import datetime\n",
    "now = datetime.datetime.now()\n",
    "timestamp = now.strftime(\"%Y_%m_%d_%H%M%S\")\n",
    "run_name = timestamp+\"chat_base_run\"\n",
    "print(run_name)"
   ]
  },
  {
   "cell_type": "code",
   "execution_count": 4,
   "metadata": {},
   "outputs": [
    {
     "name": "stdout",
     "output_type": "stream",
     "text": [
      "Starting prompt flow service...\n",
      "Start prompt flow service on port 23333, version: 1.11.0.\n"
     ]
    },
    {
     "name": "stderr",
     "output_type": "stream",
     "text": [
      "[2024-06-04 14:31:11 +0000][promptflow._sdk._orchestrator.run_submitter][INFO] - Submitting run contoso_chat_variant_0_20240604_143107_402558, log path: /home/vscode/.promptflow/.runs/contoso_chat_variant_0_20240604_143107_402558/logs.txt\n",
      "WARNING:root:'from promptflow import tool' is deprecated and will be removed in the future. Use 'from promptflow.core import tool' instead.\n"
     ]
    },
    {
     "name": "stdout",
     "output_type": "stream",
     "text": [
      "You can stop the prompt flow service with the following command:'\u001b[1mpf service stop\u001b[0m'.\n",
      "Alternatively, if no requests are made within 1 hours, it will automatically stop.\n",
      "You can view the traces in local from http://127.0.0.1:23333/v1.0/ui/traces/?#run=contoso_chat_variant_0_20240604_143107_402558\n",
      "2024-06-04 14:31:25 +0000    3330 execution.bulk     INFO     Process 3352 terminated.\n",
      "2024-06-04 14:31:25 +0000    3330 execution.bulk     WARNING  Process 3368 had been terminated.\n",
      "2024-06-04 14:31:25 +0000    3330 execution.bulk     WARNING  Process 3362 had been terminated.\n",
      "2024-06-04 14:31:25 +0000    3330 execution.bulk     WARNING  Process 3372 had been terminated.\n",
      "name: contoso_chat_variant_0_20240604_143107_402558\n",
      "created_on: '2024-06-04T14:31:07.387086'\n",
      "status: Completed\n",
      "display_name: contoso_chat_variant_0_20240604_143107_402558\n",
      "description:\n",
      "tags:\n",
      "properties:\n",
      "  flow_path: /workspaces/contoso-chat-backend/contoso-chat\n",
      "  output_path: /home/vscode/.promptflow/.runs/contoso_chat_variant_0_20240604_143107_402558\n",
      "  column_mapping:\n",
      "    customerId: ${data.customerId}\n",
      "    question: ${data.question}\n",
      "  system_metrics:\n",
      "    total_tokens: 7717\n",
      "    prompt_tokens: 6949\n",
      "    completion_tokens: 768\n",
      "    duration: 14.617138\n",
      "flow_name: contoso-chat\n",
      "data: /workspaces/contoso-chat-backend/data/salestestdata.jsonl\n",
      "output: \n",
      "  /home/vscode/.promptflow/.runs/contoso_chat_variant_0_20240604_143107_402558/flow_outputs\n",
      "\n"
     ]
    }
   ],
   "source": [
    "# Get a pf client to manage runs\n",
    "pf = PFClient()\n",
    "\n",
    "# Initialize an Run object\n",
    "base_run = Run(\n",
    "    flow=flow,\n",
    "    # run flow against local data or existing run, only one of data & run can be specified.\n",
    "    data=data,\n",
    "    #run=\"<existing-run-name>\",\n",
    "    column_mapping={\n",
    "        # reference data\n",
    "        \"customerId\": \"${data.customerId}\",\n",
    "        \"question\": \"${data.question}\",\n",
    "    },\n",
    "    #variant=\"${summarize_text_content.variant_0}\"\n",
    ")\n",
    "\n",
    "# Create the run\n",
    "result = pf.runs.create_or_update(base_run)\n",
    "\n",
    "print(result)"
   ]
  },
  {
   "cell_type": "code",
   "execution_count": 5,
   "metadata": {},
   "outputs": [],
   "source": [
    "result_df = pf_client.get_details(base_run.name, all_results=True)"
   ]
  },
  {
   "cell_type": "code",
   "execution_count": 6,
   "metadata": {},
   "outputs": [
    {
     "data": {
      "text/html": [
       "<div>\n",
       "<style scoped>\n",
       "    .dataframe tbody tr th:only-of-type {\n",
       "        vertical-align: middle;\n",
       "    }\n",
       "\n",
       "    .dataframe tbody tr th {\n",
       "        vertical-align: top;\n",
       "    }\n",
       "\n",
       "    .dataframe thead th {\n",
       "        text-align: right;\n",
       "    }\n",
       "</style>\n",
       "<table border=\"1\" class=\"dataframe\">\n",
       "  <thead>\n",
       "    <tr style=\"text-align: right;\">\n",
       "      <th></th>\n",
       "      <th>inputs.customerId</th>\n",
       "      <th>inputs.question</th>\n",
       "      <th>inputs.line_number</th>\n",
       "      <th>inputs.chat_history</th>\n",
       "      <th>outputs.answer</th>\n",
       "      <th>outputs.context</th>\n",
       "    </tr>\n",
       "  </thead>\n",
       "  <tbody>\n",
       "    <tr>\n",
       "      <th>0</th>\n",
       "      <td>4</td>\n",
       "      <td>tell me about your hiking jackets</td>\n",
       "      <td>0</td>\n",
       "      <td>[]</td>\n",
       "      <td>Hey Sarah Lee! 😊 Let me tell you about our hik...</td>\n",
       "      <td>[{'id': '17', 'title': 'RainGuard Hiking Jacke...</td>\n",
       "    </tr>\n",
       "    <tr>\n",
       "      <th>1</th>\n",
       "      <td>1</td>\n",
       "      <td>Do you have any climbing gear?</td>\n",
       "      <td>1</td>\n",
       "      <td>[]</td>\n",
       "      <td>Hey John! 😄 Absolutely, we have some fantastic...</td>\n",
       "      <td>[{'id': '9', 'title': 'SummitClimber Backpack'...</td>\n",
       "    </tr>\n",
       "    <tr>\n",
       "      <th>2</th>\n",
       "      <td>3</td>\n",
       "      <td>Can you tell me about your selection of tents?</td>\n",
       "      <td>2</td>\n",
       "      <td>[]</td>\n",
       "      <td>Hey Michael! 🏕️ When it comes to tents, we've ...</td>\n",
       "      <td>[{'id': '15', 'title': 'SkyView 2-Person Tent'...</td>\n",
       "    </tr>\n",
       "    <tr>\n",
       "      <th>3</th>\n",
       "      <td>6</td>\n",
       "      <td>Do you have any hiking boots?</td>\n",
       "      <td>3</td>\n",
       "      <td>[]</td>\n",
       "      <td>Hey Emily! 👋 Absolutely, we have some awesome ...</td>\n",
       "      <td>[{'id': '4', 'title': 'TrekReady Hiking Boots'...</td>\n",
       "    </tr>\n",
       "    <tr>\n",
       "      <th>4</th>\n",
       "      <td>2</td>\n",
       "      <td>What gear do you recommend for hiking?</td>\n",
       "      <td>4</td>\n",
       "      <td>[]</td>\n",
       "      <td>Hey Jane Doe! 👋 For hiking, I recommend the Tr...</td>\n",
       "      <td>[{'id': '10', 'title': 'TrailBlaze Hiking Pant...</td>\n",
       "    </tr>\n",
       "  </tbody>\n",
       "</table>\n",
       "</div>"
      ],
      "text/plain": [
       "   inputs.customerId                                 inputs.question  \\\n",
       "0                  4               tell me about your hiking jackets   \n",
       "1                  1                  Do you have any climbing gear?   \n",
       "2                  3  Can you tell me about your selection of tents?   \n",
       "3                  6                   Do you have any hiking boots?   \n",
       "4                  2          What gear do you recommend for hiking?   \n",
       "\n",
       "   inputs.line_number inputs.chat_history  \\\n",
       "0                   0                  []   \n",
       "1                   1                  []   \n",
       "2                   2                  []   \n",
       "3                   3                  []   \n",
       "4                   4                  []   \n",
       "\n",
       "                                      outputs.answer  \\\n",
       "0  Hey Sarah Lee! 😊 Let me tell you about our hik...   \n",
       "1  Hey John! 😄 Absolutely, we have some fantastic...   \n",
       "2  Hey Michael! 🏕️ When it comes to tents, we've ...   \n",
       "3  Hey Emily! 👋 Absolutely, we have some awesome ...   \n",
       "4  Hey Jane Doe! 👋 For hiking, I recommend the Tr...   \n",
       "\n",
       "                                     outputs.context  \n",
       "0  [{'id': '17', 'title': 'RainGuard Hiking Jacke...  \n",
       "1  [{'id': '9', 'title': 'SummitClimber Backpack'...  \n",
       "2  [{'id': '15', 'title': 'SkyView 2-Person Tent'...  \n",
       "3  [{'id': '4', 'title': 'TrekReady Hiking Boots'...  \n",
       "4  [{'id': '10', 'title': 'TrailBlaze Hiking Pant...  "
      ]
     },
     "execution_count": 6,
     "metadata": {},
     "output_type": "execute_result"
    }
   ],
   "source": [
    "result_df.head(10)"
   ]
  },
  {
   "cell_type": "markdown",
   "metadata": {},
   "source": [
    "Run contoso-chat evaluation"
   ]
  },
  {
   "cell_type": "code",
   "execution_count": 7,
   "metadata": {},
   "outputs": [
    {
     "ename": "ModuleNotFoundError",
     "evalue": "No module named 'azure.ai.generative'",
     "output_type": "error",
     "traceback": [
      "\u001b[0;31m---------------------------------------------------------------------------\u001b[0m",
      "\u001b[0;31mModuleNotFoundError\u001b[0m                       Traceback (most recent call last)",
      "Cell \u001b[0;32mIn[7], line 2\u001b[0m\n\u001b[1;32m      1\u001b[0m \u001b[38;5;28;01mimport\u001b[39;00m \u001b[38;5;21;01mos\u001b[39;00m\n\u001b[0;32m----> 2\u001b[0m \u001b[38;5;28;01mfrom\u001b[39;00m \u001b[38;5;21;01mazure\u001b[39;00m\u001b[38;5;21;01m.\u001b[39;00m\u001b[38;5;21;01mai\u001b[39;00m\u001b[38;5;21;01m.\u001b[39;00m\u001b[38;5;21;01mgenerative\u001b[39;00m\u001b[38;5;21;01m.\u001b[39;00m\u001b[38;5;21;01mevaluate\u001b[39;00m \u001b[38;5;28;01mimport\u001b[39;00m evaluate\n\u001b[1;32m      3\u001b[0m \u001b[38;5;28;01mimport\u001b[39;00m \u001b[38;5;21;01mjson\u001b[39;00m\n\u001b[1;32m      4\u001b[0m \u001b[38;5;28;01mimport\u001b[39;00m \u001b[38;5;21;01mnumpy\u001b[39;00m \u001b[38;5;28;01mas\u001b[39;00m \u001b[38;5;21;01mnp\u001b[39;00m\n",
      "\u001b[0;31mModuleNotFoundError\u001b[0m: No module named 'azure.ai.generative'"
     ]
    }
   ],
   "source": [
    "import os\n",
    "from azure.ai.generative.evaluate import evaluate\n",
    "import json\n",
    "import numpy as np\n",
    "from azure.ai.resources.client import AIClient\n",
    "from azure.identity import InteractiveBrowserCredential, DefaultAzureCredential\n",
    "from azure.ai.resources.entities import AzureOpenAIModelConfiguration\n",
    "from azure.ai.generative.evaluate.metrics import PromptMetric\n",
    "import nest_asyncio\n",
    "nest_asyncio.apply()"
   ]
  },
  {
   "cell_type": "code",
   "execution_count": null,
   "metadata": {},
   "outputs": [],
   "source": [
    "try:\n",
    "    credential = DefaultAzureCredential()\n",
    "    # Check if given credential can get token successfully.\n",
    "    credential.get_token(\"https://management.azure.com/.default\")\n",
    "except Exception as ex:\n",
    "    # Fall back to InteractiveBrowserCredential in case DefaultAzureCredential not work\n",
    "    credential = InteractiveBrowserCredential()\n"
   ]
  },
  {
   "cell_type": "code",
   "execution_count": null,
   "metadata": {},
   "outputs": [],
   "source": [
    "config_path = \"../config.json\""
   ]
  },
  {
   "cell_type": "code",
   "execution_count": null,
   "metadata": {},
   "outputs": [],
   "source": [
    "\n",
    "#custom_prompt_metric = PromptMetric.from_template(path=\"metrics/my_custom_relevance.jinja2\", name=\"my_custom_relevance\")\n",
    "client = AIClient.from_config(credential=credential, path=config_path)\n",
    "tracking_uri = client.tracking_uri"
   ]
  },
  {
   "cell_type": "code",
   "execution_count": null,
   "metadata": {},
   "outputs": [],
   "source": [
    "connection = client.connections.get(\"aoai-connection\")\n",
    "\n",
    "config = AzureOpenAIModelConfiguration.from_connection(connection, model_name=\"gpt-4\",\n",
    "                                                           deployment_name=\"gpt-4\")"
   ]
  },
  {
   "cell_type": "code",
   "execution_count": null,
   "metadata": {},
   "outputs": [],
   "source": [
    "result = evaluate(  # This will log metric/artifacts using mlflow\n",
    "    evaluation_name=\"contoso-chat-sales-only-eval\",\n",
    "    data=result_df,\n",
    "    task_type=\"qa\",\n",
    "    #metrics_list=[custom_prompt_metric, \"gpt_groundedness\", answer_length],\n",
    "    metrics_list=[\"gpt_groundedness\", \"gpt_relevance\", \"gpt_coherence\", \"gpt_fluency\"],\n",
    "    model_config=config,\n",
    "    data_mapping={\n",
    "        # reference data\n",
    "        \"customerId\": \"${inputs.customerId}\",\n",
    "        \"question\": \"${inputs.question}\",\n",
    "        \"contexts\": \"${outputs.context}\",\n",
    "        # reference the run's output\n",
    "        \"answer\": \"${outputs.answer}\",\n",
    "    },\n",
    "    tracking_uri=tracking_uri,\n",
    "    output_path=os.getcwd() + \"/downloaded_artifacts/remote\"\n",
    ")\n",
    "print(result)\n",
    "print(result.metrics_summary)\n",
    "print(\"Studio Url\")\n",
    "print(result.studio_url)    "
   ]
  },
  {
   "cell_type": "code",
   "execution_count": null,
   "metadata": {},
   "outputs": [],
   "source": []
  }
 ],
 "metadata": {
  "kernelspec": {
   "display_name": "contoso",
   "language": "python",
   "name": "python3"
  },
  "language_info": {
   "codemirror_mode": {
    "name": "ipython",
    "version": 3
   },
   "file_extension": ".py",
   "mimetype": "text/x-python",
   "name": "python",
   "nbconvert_exporter": "python",
   "pygments_lexer": "ipython3",
   "version": "3.11.9"
  }
 },
 "nbformat": 4,
 "nbformat_minor": 2
}
