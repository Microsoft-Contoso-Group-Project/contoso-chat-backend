{
 "cells": [
  {
   "cell_type": "code",
   "execution_count": 5,
   "metadata": {},
   "outputs": [],
   "source": [
    "import os\n",
    "from pathlib import Path\n",
    "\n",
    "from promptflow import PFClient\n",
    "from promptflow.entities import (\n",
    "    AzureOpenAIConnection,\n",
    "    CustomConnection,\n",
    "    CognitiveSearchConnection,\n",
    ")\n",
    "from dotenv import load_dotenv\n",
    "\n",
    "load_dotenv()\n",
    "\n",
    "pf = PFClient()"
   ]
  },
  {
   "cell_type": "code",
   "execution_count": 6,
   "metadata": {},
   "outputs": [
    {
     "ename": "KeyError",
     "evalue": "'CONTOSO_AI_SERVICES_KEY'",
     "output_type": "error",
     "traceback": [
      "\u001b[0;31m---------------------------------------------------------------------------\u001b[0m",
      "\u001b[0;31mKeyError\u001b[0m                                  Traceback (most recent call last)",
      "Cell \u001b[0;32mIn[6], line 2\u001b[0m\n\u001b[1;32m      1\u001b[0m \u001b[38;5;66;03m# Create local Azure OpenAI Connection\u001b[39;00m\n\u001b[0;32m----> 2\u001b[0m AOAI_KEY\u001b[38;5;241m=\u001b[39m \u001b[43mos\u001b[49m\u001b[38;5;241;43m.\u001b[39;49m\u001b[43menviron\u001b[49m\u001b[43m[\u001b[49m\u001b[38;5;124;43m\"\u001b[39;49m\u001b[38;5;124;43mCONTOSO_AI_SERVICES_KEY\u001b[39;49m\u001b[38;5;124;43m\"\u001b[39;49m\u001b[43m]\u001b[49m\n\u001b[1;32m      3\u001b[0m AOAI_ENDPOINT\u001b[38;5;241m=\u001b[39m os\u001b[38;5;241m.\u001b[39menviron[\u001b[38;5;124m\"\u001b[39m\u001b[38;5;124mCONTOSO_AI_SERVICES_ENDPOINT\u001b[39m\u001b[38;5;124m\"\u001b[39m]\n\u001b[1;32m      4\u001b[0m API_VERSION \u001b[38;5;241m=\u001b[39m os\u001b[38;5;241m.\u001b[39mgetenv(\u001b[38;5;124m\"\u001b[39m\u001b[38;5;124mAZURE_OPENAI_API_VERSION\u001b[39m\u001b[38;5;124m\"\u001b[39m) \u001b[38;5;129;01mor\u001b[39;00m \u001b[38;5;124m\"\u001b[39m\u001b[38;5;124m2024-03-01-preview\u001b[39m\u001b[38;5;124m\"\u001b[39m\n",
      "File \u001b[0;32m<frozen os>:679\u001b[0m, in \u001b[0;36m__getitem__\u001b[0;34m(self, key)\u001b[0m\n",
      "\u001b[0;31mKeyError\u001b[0m: 'CONTOSO_AI_SERVICES_KEY'"
     ]
    }
   ],
   "source": [
    "# Create local Azure OpenAI Connection\n",
    "AOAI_KEY= os.environ[\"CONTOSO_AI_SERVICES_KEY\"]\n",
    "AOAI_ENDPOINT= os.environ[\"CONTOSO_AI_SERVICES_ENDPOINT\"]\n",
    "API_VERSION = os.getenv(\"AZURE_OPENAI_API_VERSION\") or \"2024-03-01-preview\"\n",
    "connection = AzureOpenAIConnection(\n",
    "    name=\"aoai-connection\",\n",
    "    api_key=AOAI_KEY,\n",
    "    api_base=AOAI_ENDPOINT,\n",
    "    api_type=\"azure\",\n",
    "    api_version=API_VERSION,\n",
    ")\n",
    "\n",
    "print(f\"Creating connection {connection.name}...\")\n",
    "result = pf.connections.create_or_update(connection)\n",
    "print(result)"
   ]
  },
  {
   "cell_type": "code",
   "execution_count": null,
   "metadata": {},
   "outputs": [],
   "source": [
    "# Create the local contoso-cosmos connection\n",
    "COSMOS_ENDPOINT = os.environ[\"COSMOS_ENDPOINT\"]\n",
    "COSMOS_KEY = os.environ[\"COSMOS_KEY\"]\n",
    "connection = CustomConnection(\n",
    "    name=\"contoso-cosmos\",\n",
    "    configs={\n",
    "        \"endpoint\": COSMOS_ENDPOINT,\n",
    "        \"databaseId\": \"contoso-outdoor\",\n",
    "        \"containerId\": \"customers\",\n",
    "    },\n",
    "    secrets={\"key\": COSMOS_KEY},\n",
    ")\n",
    "\n",
    "print(f\"Creating connection {connection.name}...\")\n",
    "result = pf.connections.create_or_update(connection)\n",
    "print(result)"
   ]
  },
  {
   "cell_type": "code",
   "execution_count": null,
   "metadata": {},
   "outputs": [],
   "source": [
    "# Create the local contoso-search connection\n",
    "SEARCH_ENDPOINT = os.environ[\"CONTOSO_SEARCH_ENDPOINT\"]\n",
    "SEARCH_KEY = os.environ[\"CONTOSO_SEARCH_KEY\"]\n",
    "API_VERSION = os.getenv(\"AZURE_OPENAI_API_VERSION\") or \"2024-03-01-preview\"\n",
    "connection = CognitiveSearchConnection(\n",
    "    name=\"contoso-search\",\n",
    "    api_key=SEARCH_KEY,\n",
    "    api_base=SEARCH_ENDPOINT,\n",
    "    api_version=API_VERSION,\n",
    ")\n",
    "\n",
    "print(f\"Creating connection {connection.name}...\")\n",
    "result = pf.connections.create_or_update(connection)\n",
    "print(result)"
   ]
  },
  {
   "cell_type": "code",
   "execution_count": null,
   "metadata": {},
   "outputs": [],
   "source": [
    "# Create the local contoso-search connection\n",
    "SUPPORT_ENDPOINT = os.environ.get(\"SUPPORT_ENDPOINT\", \"\")\n",
    "SUPPORT_KEY = os.environ.get(\"SUPPORT_KEY\", \"\")\n",
    "print(SUPPORT_ENDPOINT)\n",
    "\n",
    "if(SUPPORT_ENDPOINT == \"\"):\n",
    "    print(\"Skipping support connection creation, missing environment variables\")\n",
    "else:\n",
    "    connection = CustomConnection(\n",
    "        name=\"support-endpoint\",\n",
    "        configs={\n",
    "            \"api_base\": SUPPORT_ENDPOINT,\n",
    "        },\n",
    "        secrets={\"api_key\": SUPPORT_KEY},\n",
    "    )\n",
    "\n",
    "\n",
    "    print(f\"Creating connection {connection.name}...\")\n",
    "    result = pf.connections.create_or_update(connection)\n",
    "    print(result)"
   ]
  },
  {
   "cell_type": "code",
   "execution_count": null,
   "metadata": {},
   "outputs": [],
   "source": [
    "# Create the local contoso-search connection\n",
    "CHAT_ENDPOINT = os.environ.get(\"CHAT_ENDPOINT\", \"\")\n",
    "CHAT_KEY = os.environ.get(\"CHAT_KEY\", \"\")\n",
    "\n",
    "if(CHAT_ENDPOINT == \"\"):\n",
    "    print(\"Skipping chat connection creation, missing environment variables\")\n",
    "else:\n",
    "    connection = CustomConnection(\n",
    "        name=\"chat-endpoint\",\n",
    "        configs={\n",
    "            \"api_base\": CHAT_ENDPOINT,\n",
    "        },\n",
    "        secrets={\"api_key\": CHAT_KEY},\n",
    "    )\n",
    "\n",
    "\n",
    "    print(f\"Creating connection {connection.name}...\")\n",
    "    result = pf.connections.create_or_update(connection)\n",
    "    print(result)"
   ]
  },
  {
   "cell_type": "code",
   "execution_count": null,
   "metadata": {},
   "outputs": [],
   "source": [
    "'''\n",
    "This block can be used to integrate HuggingFace serverless API into the prompt flow, by setting up new connection between the contoso chat and HuggingFace\n",
    "'''\n",
    "from promptflow._sdk.entities._connection import ServerlessConnection\n",
    "HF_KEY = \"\" \n",
    "\n",
    "HF_endpoints = {\"meta_llama3_instruct\":\"https://api-inference.huggingface.co/models/meta-llama/Meta-Llama-3-8B-Instruct\",\"gpt2\":\"https://api-inference.huggingface.co/models/openai-community/gpt2\"}#{name:api_base}\n",
    "\n",
    "for name, end_point in HF_endpoints.items():\n",
    "    connection =ServerlessConnection(name=name,api_key=HF_KEY,api_base=end_point)\n",
    "    print(f\"Creating connection {connection.name}...\")\n",
    "    result = pf.connections.create_or_update(connection)\n",
    "    print(result)"
   ]
  }
 ],
 "metadata": {
  "kernelspec": {
   "display_name": "pfmain",
   "language": "python",
   "name": "python3"
  },
  "language_info": {
   "codemirror_mode": {
    "name": "ipython",
    "version": 3
   },
   "file_extension": ".py",
   "mimetype": "text/x-python",
   "name": "python",
   "nbconvert_exporter": "python",
   "pygments_lexer": "ipython3",
   "version": "3.11.9"
  }
 },
 "nbformat": 4,
 "nbformat_minor": 2
}
