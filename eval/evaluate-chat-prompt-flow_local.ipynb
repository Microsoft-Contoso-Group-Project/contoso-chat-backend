{
 "cells": [
  {
   "cell_type": "code",
   "execution_count": 1,
   "metadata": {},
   "outputs": [
    {
     "name": "stderr",
     "output_type": "stream",
     "text": [
      "WARNING:root:'from promptflow import PFClient' is deprecated and will be removed in the future. Use 'from promptflow.client import PFClient' instead.\n"
     ]
    },
    {
     "data": {
      "text/plain": [
       "True"
      ]
     },
     "execution_count": 1,
     "metadata": {},
     "output_type": "execute_result"
    }
   ],
   "source": [
    "from promptflow import PFClient\n",
    "\n",
    "pf_client = PFClient()\n",
    "\n",
    "from dotenv import load_dotenv\n",
    "\n",
    "load_dotenv()"
   ]
  },
  {
   "cell_type": "code",
   "execution_count": 2,
   "metadata": {},
   "outputs": [
    {
     "name": "stdout",
     "output_type": "stream",
     "text": [
      "Prompt flow service has started...\n"
     ]
    },
    {
     "name": "stderr",
     "output_type": "stream",
     "text": [
      "WARNING:root:'from promptflow import tool' is deprecated and will be removed in the future. Use 'from promptflow.core import tool' instead.\n",
      "[2024-06-05 00:04:26 +0000][promptflow.core._connection][WARNING] - Please use connection.secrets[key] to access secrets.\n"
     ]
    },
    {
     "name": "stdout",
     "output_type": "stream",
     "text": [
      "2024-06-05 00:04:28 +0000   25129 execution.flow     INFO     Start executing nodes in thread pool mode.\n",
      "2024-06-05 00:04:28 +0000   25129 execution.flow     INFO     Start to run 5 nodes with concurrency level 16.\n",
      "2024-06-05 00:04:28 +0000   25129 execution.flow     INFO     Executing node question_embedding. node run id: 8b1fecad-ce71-488b-87e8-76bde5758105_question_embedding_0\n",
      "2024-06-05 00:04:28 +0000   25129 execution.flow     INFO     Executing node customer_lookup. node run id: 8b1fecad-ce71-488b-87e8-76bde5758105_customer_lookup_0\n",
      "2024-06-05 00:04:28 +0000   25129 execution.flow     INFO     Node customer_lookup completes.\n",
      "2024-06-05 00:04:30 +0000   25129 execution.flow     INFO     Node question_embedding completes.\n",
      "2024-06-05 00:04:30 +0000   25129 execution.flow     INFO     Executing node retrieve_documentation. node run id: 8b1fecad-ce71-488b-87e8-76bde5758105_retrieve_documentation_0\n",
      "You can view the trace detail from the following URL:\n",
      "http://127.0.0.1:23333/v1.0/ui/traces/?#collection=contoso-chat_hf&uiTraceId=0x01b57e2a38969b2295f79b862191b0fe\n",
      "2024-06-05 00:04:31 +0000   25129 execution.flow     INFO     Node retrieve_documentation completes.\n",
      "2024-06-05 00:04:31 +0000   25129 execution.flow     INFO     Executing node customer_prompt. node run id: 8b1fecad-ce71-488b-87e8-76bde5758105_customer_prompt_0\n",
      "2024-06-05 00:04:31 +0000   25129 execution.flow     INFO     Node customer_prompt completes.\n",
      "2024-06-05 00:04:31 +0000   25129 execution.flow     INFO     Executing node llm_response. node run id: 8b1fecad-ce71-488b-87e8-76bde5758105_llm_response_0\n",
      "2024-06-05 00:04:31 +0000   25129 execution.flow     INFO     Node llm_response completes.\n"
     ]
    }
   ],
   "source": [
    "# Add a question to test the base prompt flow.\n",
    "question = \"Can you tell me about your jackets?\"\n",
    "customerId = \"4\"\n",
    "output_hf = pf_client.test(\n",
    "    flow=\"../contoso-chat_hf\", # Path to the flow directory\n",
    "    inputs={ # Inputs to the flow\n",
    "        \"chat_history\": [],\n",
    "        \"question\": question,\n",
    "        \"customerId\": customerId,\n",
    "    },\n",
    ")\n",
    "\n",
    "output_hf[\"answer\"] = \"\".join(list(output_hf[\"answer\"]))"
   ]
  },
  {
   "cell_type": "code",
   "execution_count": 3,
   "metadata": {},
   "outputs": [
    {
     "data": {
      "text/plain": [
       "{'answer': \"Hi there 🙋\\u200d♀️ Sara LEE 👩🏻,\\n\\nAs we discussed earlier 😊, I'd like share our fantastic selection 💥of outerwear coats & shells available exclusively here @ContesoOutdors.com 🔝. Specifically:\\n\\n1⃣ Our top-selling item ⭐️ : summit breez eJacket ☁☀ offers unparalleled performance ✨in windy situations ❄😎.\\n2nd option would b t he r ainG uard\",\n",
       " 'context': [{'id': '3',\n",
       "   'title': 'Summit Breeze Jacket',\n",
       "   'content': \"Discover the joy of hiking with MountainStyle's Summit Breeze Jacket. This lightweight jacket is your perfect companion for outdoor adventures. Sporting a trail-ready, windproof design and a water-resistant fabric, it's ready to withstand any weather. The breathable polyester material and adjustable cuffs keep you comfortable, whether you're ascending a mountain or strolling through a park. And its sleek black color adds style to function. The jacket features a full-zip front closure, adjustable hood, and secure zippered pockets. Experience the comfort of its inner lining and the convenience of its packable design. Crafted for night trekkers too, the jacket has reflective accents for enhanced visibility. Rugged yet chic, the Summit Breeze Jacket is more than a hiking essential, it's the gear that inspires you to reach new heights. Choose adventure, choose the Summit Breeze Jacket.\",\n",
       "   'url': '/products/summit-breeze-jacket'},\n",
       "  {'id': '17',\n",
       "   'title': 'RainGuard Hiking Jacket',\n",
       "   'content': \"Introducing the MountainStyle RainGuard Hiking Jacket - the ultimate solution for weatherproof comfort during your outdoor undertakings! Designed with waterproof, breathable fabric, this jacket promises an outdoor experience that's as dry as it is comfortable. The rugged construction assures durability, while the adjustable hood provides a customizable fit against wind and rain. Featuring multiple pockets for safe, convenient storage and adjustable cuffs and hem, you can tailor the jacket to suit your needs on-the-go. And, don't worry about overheating during intense activities - it's equipped with ventilation zippers for increased airflow. Reflective details ensure visibility even during low-light conditions, making it perfect for evening treks. With its lightweight, packable design, carrying it inside your backpack requires minimal effort. With options for men and women, the RainGuard Hiking Jacket is perfect for hiking, camping, trekking and countless other outdoor adventures. Don't let the weather stand in your way - embrace the outdoors with MountainStyle RainGuard Hiking Jacket!\",\n",
       "   'url': '/products/rainguard-hiking-jacket'},\n",
       "  {'id': '4',\n",
       "   'title': 'TrekReady Hiking Boots',\n",
       "   'content': \"Introducing the TrekReady Hiking Boots - stepping up your hiking game, one footprint at a time! Crafted from leather, these stylistic Trailmates are made to last. TrekReady infuses durability with its reinforced stitching and toe protection, making sure your journey is never stopped short. Comfort? They have that covered too! The boots are a haven with their breathable materials, cushioned insole, with padded collar and tongue; all nestled neatly within their lightweight design. As they say, it's what's inside that counts - so inside you'll find a moisture-wicking lining that quarantines stank and keeps your feet fresh as that mountaintop breeze. Remember the fear of slippery surfaces? With these boots, you can finally tell it to 'take a hike'! Their shock-absorbing midsoles and excellent traction capabilities promise stability at your every step. Beautifully finished in a traditional lace-up system, every adventurer deserves a pair of TrekReady Hiking Boots. Hike more, worry less!\",\n",
       "   'url': '/products/trekready-hiking-boots'}]}"
      ]
     },
     "execution_count": 3,
     "metadata": {},
     "output_type": "execute_result"
    }
   ],
   "source": [
    "output_hf"
   ]
  },
  {
   "cell_type": "markdown",
   "metadata": {},
   "source": [
    "Test the groundedness of the prompt flow with the answer from the above question."
   ]
  },
  {
   "cell_type": "markdown",
   "metadata": {},
   "source": [
    "# Local Evaluation - Multiple Metrics \n",
    "\n",
    "Now use the same prompt flow and test it against the Multi Evaluation flow for groundedness, coherence, fluency, and relevance."
   ]
  },
  {
   "cell_type": "code",
   "execution_count": 4,
   "metadata": {},
   "outputs": [
    {
     "name": "stdout",
     "output_type": "stream",
     "text": [
      "question Can you tell me about your jackets?\n",
      "context [{'id': '3', 'title': 'Summit Breeze Jacket', 'content': \"Discover the joy of hiking with MountainStyle's Summit Breeze Jacket. This lightweight jacket is your perfect companion for outdoor adventures. Sporting a trail-ready, windproof design and a water-resistant fabric, it's ready to withstand any weather. The breathable polyester material and adjustable cuffs keep you comfortable, whether you're ascending a mountain or strolling through a park. And its sleek black color adds style to function. The jacket features a full-zip front closure, adjustable hood, and secure zippered pockets. Experience the comfort of its inner lining and the convenience of its packable design. Crafted for night trekkers too, the jacket has reflective accents for enhanced visibility. Rugged yet chic, the Summit Breeze Jacket is more than a hiking essential, it's the gear that inspires you to reach new heights. Choose adventure, choose the Summit Breeze Jacket.\", 'url': '/products/summit-breeze-jacket'}, {'id': '17', 'title': 'RainGuard Hiking Jacket', 'content': \"Introducing the MountainStyle RainGuard Hiking Jacket - the ultimate solution for weatherproof comfort during your outdoor undertakings! Designed with waterproof, breathable fabric, this jacket promises an outdoor experience that's as dry as it is comfortable. The rugged construction assures durability, while the adjustable hood provides a customizable fit against wind and rain. Featuring multiple pockets for safe, convenient storage and adjustable cuffs and hem, you can tailor the jacket to suit your needs on-the-go. And, don't worry about overheating during intense activities - it's equipped with ventilation zippers for increased airflow. Reflective details ensure visibility even during low-light conditions, making it perfect for evening treks. With its lightweight, packable design, carrying it inside your backpack requires minimal effort. With options for men and women, the RainGuard Hiking Jacket is perfect for hiking, camping, trekking and countless other outdoor adventures. Don't let the weather stand in your way - embrace the outdoors with MountainStyle RainGuard Hiking Jacket!\", 'url': '/products/rainguard-hiking-jacket'}, {'id': '4', 'title': 'TrekReady Hiking Boots', 'content': \"Introducing the TrekReady Hiking Boots - stepping up your hiking game, one footprint at a time! Crafted from leather, these stylistic Trailmates are made to last. TrekReady infuses durability with its reinforced stitching and toe protection, making sure your journey is never stopped short. Comfort? They have that covered too! The boots are a haven with their breathable materials, cushioned insole, with padded collar and tongue; all nestled neatly within their lightweight design. As they say, it's what's inside that counts - so inside you'll find a moisture-wicking lining that quarantines stank and keeps your feet fresh as that mountaintop breeze. Remember the fear of slippery surfaces? With these boots, you can finally tell it to 'take a hike'! Their shock-absorbing midsoles and excellent traction capabilities promise stability at your every step. Beautifully finished in a traditional lace-up system, every adventurer deserves a pair of TrekReady Hiking Boots. Hike more, worry less!\", 'url': '/products/trekready-hiking-boots'}]\n",
      "answer Hi there 🙋‍♀️ Sara LEE 👩🏻,\n",
      "\n",
      "As we discussed earlier 😊, I'd like share our fantastic selection 💥of outerwear coats & shells available exclusively here @ContesoOutdors.com 🔝. Specifically:\n",
      "\n",
      "1⃣ Our top-selling item ⭐️ : summit breez eJacket ☁☀ offers unparalleled performance ✨in windy situations ❄😎.\n",
      "2nd option would b t he r ainG uard\n",
      "Prompt flow service has started...\n"
     ]
    },
    {
     "name": "stderr",
     "output_type": "stream",
     "text": [
      "WARNING:root:'from promptflow import log_metric' is deprecated and will be removed in the future. Use 'from promptflow.core import log_metric' instead.\n"
     ]
    },
    {
     "name": "stdout",
     "output_type": "stream",
     "text": [
      "2024-06-05 00:04:33 +0000   25129 execution.flow     INFO     Start executing nodes in thread pool mode.\n",
      "2024-06-05 00:04:33 +0000   25129 execution.flow     INFO     Start to run 8 nodes with concurrency level 16.\n",
      "2024-06-05 00:04:33 +0000   25129 execution.flow     INFO     Executing node coherence_score. node run id: 20b2294d-026f-44c0-80df-dbb9c34e8db0_coherence_score_0\n",
      "2024-06-05 00:04:33 +0000   25129 execution.flow     INFO     Executing node fluency_score. node run id: 20b2294d-026f-44c0-80df-dbb9c34e8db0_fluency_score_0\n",
      "2024-06-05 00:04:33 +0000   25129 execution.flow     INFO     Executing node groundedness_score. node run id: 20b2294d-026f-44c0-80df-dbb9c34e8db0_groundedness_score_0\n",
      "2024-06-05 00:04:33 +0000   25129 execution.flow     INFO     Executing node relevance_score. node run id: 20b2294d-026f-44c0-80df-dbb9c34e8db0_relevance_score_0\n",
      "2024-06-05 00:04:34 +0000   25129 execution.flow     INFO     Node coherence_score completes.\n",
      "2024-06-05 00:04:34 +0000   25129 execution.flow     INFO     Executing node coherence_concat_scores. node run id: 20b2294d-026f-44c0-80df-dbb9c34e8db0_coherence_concat_scores_0\n",
      "2024-06-05 00:04:34 +0000   25129 execution.flow     INFO     Node coherence_concat_scores completes.\n",
      "2024-06-05 00:04:34 +0000   25129 execution.flow     INFO     Node groundedness_score completes.\n",
      "2024-06-05 00:04:34 +0000   25129 execution.flow     INFO     Executing node groundedness_concat_scores. node run id: 20b2294d-026f-44c0-80df-dbb9c34e8db0_groundedness_concat_scores_0\n",
      "2024-06-05 00:04:34 +0000   25129 execution.flow     INFO     Node groundedness_concat_scores completes.\n",
      "2024-06-05 00:04:34 +0000   25129 execution.flow     INFO     Node fluency_score completes.\n",
      "2024-06-05 00:04:34 +0000   25129 execution.flow     INFO     Executing node fluency_concat_scores. node run id: 20b2294d-026f-44c0-80df-dbb9c34e8db0_fluency_concat_scores_0\n",
      "2024-06-05 00:04:34 +0000   25129 execution.flow     INFO     Node fluency_concat_scores completes.\n",
      "2024-06-05 00:04:35 +0000   25129 execution.flow     INFO     Node relevance_score completes.\n",
      "2024-06-05 00:04:35 +0000   25129 execution.flow     INFO     Executing node relevance_concat_scores. node run id: 20b2294d-026f-44c0-80df-dbb9c34e8db0_relevance_concat_scores_0\n",
      "2024-06-05 00:04:35 +0000   25129 execution.flow     INFO     Node relevance_concat_scores completes.\n",
      "2024-06-05 00:04:35 +0000   25129 execution.flow     INFO     Start executing nodes in thread pool mode.\n",
      "2024-06-05 00:04:35 +0000   25129 execution.flow     INFO     Start to run 4 nodes with concurrency level 16.\n",
      "2024-06-05 00:04:35 +0000   25129 execution.flow     INFO     Executing node coherence_aggregate_variants_results. node run id: 20b2294d-026f-44c0-80df-dbb9c34e8db0_coherence_aggregate_variants_results_reduce\n",
      "2024-06-05 00:04:35 +0000   25129 execution.flow     INFO     Executing node fluency_aggregate_variants_results. node run id: 20b2294d-026f-44c0-80df-dbb9c34e8db0_fluency_aggregate_variants_results_reduce\n",
      "2024-06-05 00:04:35 +0000   25129 execution.flow     INFO     Node coherence_aggregate_variants_results completes.\n",
      "2024-06-05 00:04:35 +0000   25129 execution.flow     INFO     Executing node groundedness_aggregate_variants_results. node run id: 20b2294d-026f-44c0-80df-dbb9c34e8db0_groundedness_aggregate_variants_results_reduce\n",
      "2024-06-05 00:04:35 +0000   25129 execution.flow     INFO     Node groundedness_aggregate_variants_results completes.\n",
      "2024-06-05 00:04:35 +0000   25129 execution.flow     INFO     Node fluency_aggregate_variants_results completes.\n",
      "2024-06-05 00:04:35 +0000   25129 execution.flow     INFO     Executing node relevance_aggregate_variants_results. node run id: 20b2294d-026f-44c0-80df-dbb9c34e8db0_relevance_aggregate_variants_results_reduce\n",
      "2024-06-05 00:04:35 +0000   25129 execution.flow     INFO     [relevance_aggregate_variants_results in line None (index starts from 0)] stdout> results\n",
      "2024-06-05 00:04:35 +0000   25129 execution.flow     INFO     [relevance_aggregate_variants_results in line None (index starts from 0)] stdout>  \n",
      "2024-06-05 00:04:35 +0000   25129 execution.flow     INFO     [relevance_aggregate_variants_results in line None (index starts from 0)] stdout> [{'gpt_relevance': 1.0, 'gpt_relevance_pass_rate': 0}]\n",
      "2024-06-05 00:04:35 +0000   25129 execution.flow     INFO     Node relevance_aggregate_variants_results completes.\n"
     ]
    },
    {
     "name": "stdout",
     "output_type": "stream",
     "text": [
      "You can view the trace detail from the following URL:\n",
      "http://127.0.0.1:23333/v1.0/ui/traces/?#collection=contoso-chat_hf&uiTraceId=0xfae504eeb22148c415300afff68a869b\n",
      "You can view the trace detail from the following URL:\n",
      "http://127.0.0.1:23333/v1.0/ui/traces/?#collection=contoso-chat_hf&uiTraceId=0xbc17296eade90a356e0aad65dbfa1abb\n",
      "You can view the trace detail from the following URL:\n",
      "http://127.0.0.1:23333/v1.0/ui/traces/?#collection=contoso-chat_hf&uiTraceId=0x420e9e56b9db3e16de641aed03d11172\n",
      "You can view the trace detail from the following URL:\n",
      "http://127.0.0.1:23333/v1.0/ui/traces/?#collection=contoso-chat_hf&uiTraceId=0x4f1137a6d7143ea48b4396aedd8cab50\n",
      "You can view the trace detail from the following URL:\n",
      "http://127.0.0.1:23333/v1.0/ui/traces/?#collection=contoso-chat_hf&uiTraceId=0x8d05382f572d5f86092c7eb1496d6745\n"
     ]
    }
   ],
   "source": [
    "print(\"question\",question)\n",
    "print(\"context\",output_hf[\"context\"])\n",
    "print(\"answer\", output_hf[\"answer\"])\n",
    "test_multi_hf = pf_client.test(\n",
    "    \"multi_flow\",\n",
    "    inputs={\n",
    "        \"question\": question,\n",
    "        \"context\": str(output_hf[\"context\"]),\n",
    "        \"answer\": output_hf[\"answer\"],\n",
    "    },\n",
    ")"
   ]
  },
  {
   "cell_type": "code",
   "execution_count": 5,
   "metadata": {},
   "outputs": [
    {
     "data": {
      "text/plain": [
       "{'gpt_coherence': 2.0,\n",
       " 'gpt_fluency': 2.0,\n",
       " 'gpt_groundedness': 1.0,\n",
       " 'gpt_relevance': 1.0}"
      ]
     },
     "execution_count": 5,
     "metadata": {},
     "output_type": "execute_result"
    }
   ],
   "source": [
    "test_multi_hf"
   ]
  },
  {
   "cell_type": "code",
   "execution_count": 6,
   "metadata": {},
   "outputs": [
    {
     "name": "stdout",
     "output_type": "stream",
     "text": [
      "2024_06_05_000437chat_base_run\n"
     ]
    },
    {
     "name": "stderr",
     "output_type": "stream",
     "text": [
      "[2024-06-05 00:04:37 +0000][promptflow._sdk._orchestrator.run_submitter][INFO] - Submitting run 2024_06_05_000437chat_base_run, log path: /home/vscode/.promptflow/.runs/2024_06_05_000437chat_base_run/logs.txt\n"
     ]
    },
    {
     "name": "stdout",
     "output_type": "stream",
     "text": [
      "Prompt flow service has started...\n",
      "You can view the traces in local from http://127.0.0.1:23333/v1.0/ui/traces/?#run=2024_06_05_000437chat_base_run\n",
      "You can view the trace detail from the following URL:\n",
      "http://127.0.0.1:23333/v1.0/ui/traces/?#collection=multi_flow&uiTraceId=0xd5556e5fd5cee85bcb04deff8f864524\n",
      "You can view the trace detail from the following URL:\n",
      "http://127.0.0.1:23333/v1.0/ui/traces/?#collection=multi_flow&uiTraceId=0x1706377153ce64dbef7b0fa87c47e1cd\n",
      "You can view the trace detail from the following URL:\n",
      "http://127.0.0.1:23333/v1.0/ui/traces/?#collection=multi_flow&uiTraceId=0xa4b7762f2e35ac376118d4b142c93560\n",
      "You can view the trace detail from the following URL:\n",
      "http://127.0.0.1:23333/v1.0/ui/traces/?#collection=multi_flow&uiTraceId=0x75c37fe619b8042a182c52b434053efb\n"
     ]
    }
   ],
   "source": [
    "runtime = \"automatic\"\n",
    "# load flow\n",
    "flow = \"../contoso-chat\"\n",
    "flow_hf = \"../contoso-chat_hf\"\n",
    "# load data\n",
    "data = \"../data/salestestdata.jsonl\"\n",
    "\n",
    "# get current time stamp for run name\n",
    "import datetime\n",
    "now = datetime.datetime.now()\n",
    "timestamp = now.strftime(\"%Y_%m_%d_%H%M%S\")\n",
    "run_name_hf = timestamp+\"chat_base_run\"\n",
    "print(run_name_hf)\n",
    "\n",
    "# create base run in Azure Ai Studio\n",
    "local_base_run_hf = pf_client.run(\n",
    "    flow=flow_hf,\n",
    "    data=data,\n",
    "    column_mapping={\n",
    "        # reference data\n",
    "        \"customerId\": \"${data.customerId}\",\n",
    "        \"question\": \"${data.question}\",\n",
    "    },\n",
    "    runtime=runtime,\n",
    "    # create a display name as current datetime\n",
    "    display_name=run_name_hf,\n",
    "    name=run_name_hf\n",
    ")\n",
    "print(local_base_run_hf)"
   ]
  },
  {
   "cell_type": "code",
   "execution_count": null,
   "metadata": {},
   "outputs": [
    {
     "name": "stdout",
     "output_type": "stream",
     "text": [
      "2024-06-04 23:52:15 +0000   12607 execution.bulk     INFO     Current thread is not main thread, skip signal handler registration in BatchEngine.\n",
      "2024-06-04 23:52:17 +0000   12607 execution.bulk     INFO     Set process count to 4 by taking the minimum value among the factors of {'default_worker_count': 4, 'row_count': 5}.\n",
      "2024-06-04 23:52:34 +0000   12607 execution.bulk     INFO     Process name(ForkProcess-2:1)-Process id(13479)-Line number(0) start execution.\n",
      "2024-06-04 23:52:34 +0000   12607 execution.bulk     INFO     Process name(ForkProcess-2:2)-Process id(13483)-Line number(1) start execution.\n",
      "2024-06-04 23:52:34 +0000   12607 execution.bulk     INFO     Process name(ForkProcess-2:3)-Process id(13486)-Line number(2) start execution.\n",
      "2024-06-04 23:52:34 +0000   12607 execution.bulk     INFO     Process name(ForkProcess-2:4)-Process id(13487)-Line number(3) start execution.\n",
      "2024-06-04 23:52:41 +0000   12607 execution.bulk     INFO     Process name(ForkProcess-2:1)-Process id(13479)-Line number(0) completed.\n",
      "2024-06-04 23:52:41 +0000   12607 execution.bulk     INFO     Process name(ForkProcess-2:1)-Process id(13479)-Line number(4) start execution.\n",
      "2024-06-04 23:52:41 +0000   12607 execution.bulk     INFO     Finished 1 / 5 lines.\n",
      "2024-06-04 23:52:41 +0000   12607 execution.bulk     INFO     Average execution time for completed lines: 22.2 seconds. Estimated time for incomplete lines: 88.8 seconds.\n",
      "2024-06-04 23:52:41 +0000   12607 execution.bulk     INFO     Process name(ForkProcess-2:4)-Process id(13487)-Line number(3) completed.\n",
      "2024-06-04 23:52:41 +0000   12607 execution.bulk     INFO     Process name(ForkProcess-2:2)-Process id(13483)-Line number(1) completed.\n",
      "2024-06-04 23:52:41 +0000   12607 execution.bulk     INFO     Process name(ForkProcess-2:3)-Process id(13486)-Line number(2) completed.\n",
      "2024-06-04 23:52:42 +0000   12607 execution.bulk     INFO     Finished 4 / 5 lines.\n",
      "2024-06-04 23:52:42 +0000   12607 execution.bulk     INFO     Average execution time for completed lines: 5.8 seconds. Estimated time for incomplete lines: 5.8 seconds.\n",
      "2024-06-04 23:52:44 +0000   12607 execution.bulk     INFO     Process name(ForkProcess-2:1)-Process id(13479)-Line number(4) completed.\n",
      "2024-06-04 23:52:45 +0000   12607 execution.bulk     INFO     Finished 5 / 5 lines.\n",
      "2024-06-04 23:52:45 +0000   12607 execution.bulk     INFO     Average execution time for completed lines: 5.25 seconds. Estimated time for incomplete lines: 0.0 seconds.\n",
      "2024-06-04 23:52:45 +0000   12607 execution.bulk     INFO     The thread monitoring the process [13487-ForkProcess-2:4] will be terminated.\n",
      "2024-06-04 23:52:45 +0000   13487 execution.bulk     INFO     The process [13487] has received a terminate signal.\n",
      "2024-06-04 23:52:45 +0000   12607 execution.bulk     INFO     The thread monitoring the process [13479-ForkProcess-2:1] will be terminated.\n",
      "2024-06-04 23:52:45 +0000   12607 execution.bulk     INFO     The thread monitoring the process [13483-ForkProcess-2:2] will be terminated.\n",
      "2024-06-04 23:52:45 +0000   12607 execution.bulk     INFO     The thread monitoring the process [13486-ForkProcess-2:3] will be terminated.\n",
      "2024-06-04 23:52:45 +0000   13479 execution.bulk     INFO     The process [13479] has received a terminate signal.\n",
      "2024-06-04 23:52:45 +0000   13483 execution.bulk     INFO     The process [13483] has received a terminate signal.\n",
      "2024-06-04 23:52:45 +0000   13486 execution.bulk     INFO     The process [13486] has received a terminate signal.\n",
      "======= Run Summary =======\n",
      "\n",
      "Run name: \"2024_06_04_235210chat_base_run\"\n",
      "Run status: \"Completed\"\n",
      "Start time: \"2024-06-04 23:52:10.290266\"\n",
      "Duration: \"0:00:36.290548\"\n",
      "Output path: \"/home/vscode/.promptflow/.runs/2024_06_04_235210chat_base_run\"\n",
      "\n"
     ]
    },
    {
     "data": {
      "text/html": [
       "<div>\n",
       "<style scoped>\n",
       "    .dataframe tbody tr th:only-of-type {\n",
       "        vertical-align: middle;\n",
       "    }\n",
       "\n",
       "    .dataframe tbody tr th {\n",
       "        vertical-align: top;\n",
       "    }\n",
       "\n",
       "    .dataframe thead th {\n",
       "        text-align: right;\n",
       "    }\n",
       "</style>\n",
       "<table border=\"1\" class=\"dataframe\">\n",
       "  <thead>\n",
       "    <tr style=\"text-align: right;\">\n",
       "      <th></th>\n",
       "      <th>inputs.customerId</th>\n",
       "      <th>inputs.question</th>\n",
       "      <th>inputs.line_number</th>\n",
       "      <th>inputs.chat_history</th>\n",
       "      <th>outputs.answer</th>\n",
       "      <th>outputs.context</th>\n",
       "    </tr>\n",
       "  </thead>\n",
       "  <tbody>\n",
       "    <tr>\n",
       "      <th>0</th>\n",
       "      <td>4</td>\n",
       "      <td>tell me about your hiking jackets</td>\n",
       "      <td>0</td>\n",
       "      <td>[]</td>\n",
       "      <td>Hi there 👋 Sara!\\n\\nAs we've previously discus...</td>\n",
       "      <td>[{'id': '17', 'title': 'RainGuard Hiking Jacke...</td>\n",
       "    </tr>\n",
       "    <tr>\n",
       "      <th>1</th>\n",
       "      <td>1</td>\n",
       "      <td>Do you have any climbing gear?</td>\n",
       "      <td>1</td>\n",
       "      <td>[]</td>\n",
       "      <td>Hi there 👋 Jonhny boy 🎉,\\n\\nAs we've got recor...</td>\n",
       "      <td>[{'id': '9', 'title': 'SummitClimber Backpack'...</td>\n",
       "    </tr>\n",
       "    <tr>\n",
       "      <th>2</th>\n",
       "      <td>3</td>\n",
       "      <td>Can you tell me about your selection of tents?</td>\n",
       "      <td>2</td>\n",
       "      <td>[]</td>\n",
       "      <td>Hi there 👋 Mikehohnson 🙌!\\n\\nAs we've previous...</td>\n",
       "      <td>[{'id': '15', 'title': 'SkyView 2-Person Tent'...</td>\n",
       "    </tr>\n",
       "    <tr>\n",
       "      <th>3</th>\n",
       "      <td>6</td>\n",
       "      <td>Do you have any hiking boots?</td>\n",
       "      <td>3</td>\n",
       "      <td>[]</td>\n",
       "      <td>Hi there 👋 Emmaolette 😊,\\n\\nAs we've previousl...</td>\n",
       "      <td>[{'id': '4', 'title': 'TrekReady Hiking Boots'...</td>\n",
       "    </tr>\n",
       "    <tr>\n",
       "      <th>4</th>\n",
       "      <td>2</td>\n",
       "      <td>What gear do you recommend for hiking?</td>\n",
       "      <td>4</td>\n",
       "      <td>[]</td>\n",
       "      <td>Hi there 👋 Janie-Doe 🙌,\\n\\nAs someone who alre...</td>\n",
       "      <td>[{'id': '10', 'title': 'TrailBlaze Hiking Pant...</td>\n",
       "    </tr>\n",
       "  </tbody>\n",
       "</table>\n",
       "</div>"
      ],
      "text/plain": [
       "   inputs.customerId                                 inputs.question  \\\n",
       "0                  4               tell me about your hiking jackets   \n",
       "1                  1                  Do you have any climbing gear?   \n",
       "2                  3  Can you tell me about your selection of tents?   \n",
       "3                  6                   Do you have any hiking boots?   \n",
       "4                  2          What gear do you recommend for hiking?   \n",
       "\n",
       "   inputs.line_number inputs.chat_history  \\\n",
       "0                   0                  []   \n",
       "1                   1                  []   \n",
       "2                   2                  []   \n",
       "3                   3                  []   \n",
       "4                   4                  []   \n",
       "\n",
       "                                      outputs.answer  \\\n",
       "0  Hi there 👋 Sara!\\n\\nAs we've previously discus...   \n",
       "1  Hi there 👋 Jonhny boy 🎉,\\n\\nAs we've got recor...   \n",
       "2  Hi there 👋 Mikehohnson 🙌!\\n\\nAs we've previous...   \n",
       "3  Hi there 👋 Emmaolette 😊,\\n\\nAs we've previousl...   \n",
       "4  Hi there 👋 Janie-Doe 🙌,\\n\\nAs someone who alre...   \n",
       "\n",
       "                                     outputs.context  \n",
       "0  [{'id': '17', 'title': 'RainGuard Hiking Jacke...  \n",
       "1  [{'id': '9', 'title': 'SummitClimber Backpack'...  \n",
       "2  [{'id': '15', 'title': 'SkyView 2-Person Tent'...  \n",
       "3  [{'id': '4', 'title': 'TrekReady Hiking Boots'...  \n",
       "4  [{'id': '10', 'title': 'TrailBlaze Hiking Pant...  "
      ]
     },
     "execution_count": 7,
     "metadata": {},
     "output_type": "execute_result"
    }
   ],
   "source": [
    "pf_client.stream(local_base_run_hf)\n",
    "details = pf_client.get_details(local_base_run_hf)\n",
    "details.head(10)"
   ]
  },
  {
   "cell_type": "code",
   "execution_count": null,
   "metadata": {},
   "outputs": [
    {
     "name": "stdout",
     "output_type": "stream",
     "text": [
      "2024_06_04_235210chat_eval_run\n",
      "2024_06_04_235210chat_eval_run\n",
      "Prompt flow service has started...\n",
      "You can view the traces in local from http://127.0.0.1:23333/v1.0/ui/traces/?#run=2024_06_04_235210chat_eval_run\n"
     ]
    },
    {
     "name": "stderr",
     "output_type": "stream",
     "text": [
      "[2024-06-04 23:52:48 +0000][promptflow._sdk._orchestrator.run_submitter][INFO] - Submitting run 2024_06_04_235210chat_eval_run, log path: /home/vscode/.promptflow/.runs/2024_06_04_235210chat_eval_run/logs.txt\n"
     ]
    },
    {
     "name": "stdout",
     "output_type": "stream",
     "text": [
      "You can view the trace detail from the following URL:\n",
      "http://127.0.0.1:23333/v1.0/ui/traces/?#collection=multi_flow&uiTraceId=0xe23167910cd15e3568a971d5fb60f42a\n",
      "You can view the trace detail from the following URL:\n",
      "http://127.0.0.1:23333/v1.0/ui/traces/?#collection=multi_flow&uiTraceId=0xdafde3310a49f82346501d8311b757e1\n",
      "You can view the trace detail from the following URL:\n",
      "http://127.0.0.1:23333/v1.0/ui/traces/?#collection=multi_flow&uiTraceId=0x9c95564d7b9f19a421a9402d08a55383\n",
      "You can view the trace detail from the following URL:\n",
      "http://127.0.0.1:23333/v1.0/ui/traces/?#collection=multi_flow&uiTraceId=0x579a1c467489c7a9703a39d4f5e7e291\n",
      "You can view the trace detail from the following URL:\n",
      "http://127.0.0.1:23333/v1.0/ui/traces/?#collection=multi_flow&uiTraceId=0xecbf31af1cf1a1ca21e3a47dddfae2de\n"
     ]
    }
   ],
   "source": [
    "eval_flow = \"multi_flow/\"\n",
    "\n",
    "data = \"../data/salestestdata.jsonl\"\n",
    "run_name = timestamp+\"chat_eval_run\"\n",
    "print(run_name)\n",
    "\n",
    "run_name_hf = timestamp+\"chat_eval_run\"\n",
    "print(run_name_hf)\n",
    "\n",
    "local_eval_run_variant = pf_client.run(\n",
    "    flow=eval_flow,\n",
    "    data=data,  # path to the data file\n",
    "    run=local_base_run_hf,  # use run as the variant\n",
    "    column_mapping={\n",
    "        # reference data\n",
    "        \"customerId\": \"${data.customerId}\",\n",
    "        \"question\": \"${data.question}\",\n",
    "        \"context\": \"${run.outputs.context}\",\n",
    "        # reference the run's output\n",
    "        \"answer\": \"${run.outputs.answer}\",\n",
    "    },\n",
    "    runtime=runtime,\n",
    "    display_name=run_name,\n",
    "    name=run_name\n",
    ")"
   ]
  },
  {
   "cell_type": "code",
   "execution_count": null,
   "metadata": {},
   "outputs": [],
   "source": [
    "\n",
    "metrics_hf = pf_client.get_metrics(local_eval_run_variant)\n",
    "import json\n",
    "print(json.dumps(metrics_hf, indent=4))\n",
    "#pf_client.stream(local_eval_run_variant)"
   ]
  },
  {
   "cell_type": "code",
   "execution_count": null,
   "metadata": {},
   "outputs": [],
   "source": [
    "pf_client.visualize([local_base_run_hf, local_eval_run_variant])"
   ]
  }
 ],
 "metadata": {
  "kernelspec": {
   "display_name": ".venv",
   "language": "python",
   "name": "python3"
  },
  "language_info": {
   "codemirror_mode": {
    "name": "ipython",
    "version": 3
   },
   "file_extension": ".py",
   "mimetype": "text/x-python",
   "name": "python",
   "nbconvert_exporter": "python",
   "pygments_lexer": "ipython3",
   "version": "3.11.9"
  }
 },
 "nbformat": 4,
 "nbformat_minor": 2
}
