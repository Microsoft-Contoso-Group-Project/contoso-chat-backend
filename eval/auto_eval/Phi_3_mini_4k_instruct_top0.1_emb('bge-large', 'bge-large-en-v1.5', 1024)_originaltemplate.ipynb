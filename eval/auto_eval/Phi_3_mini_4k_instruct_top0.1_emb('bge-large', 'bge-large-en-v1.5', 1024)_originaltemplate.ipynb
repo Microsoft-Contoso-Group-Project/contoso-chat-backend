{
 "cells": [
  {
   "cell_type": "code",
   "execution_count": 1,
   "metadata": {
    "execution": {
     "iopub.execute_input": "2024-06-19T14:52:04.993497Z",
     "iopub.status.busy": "2024-06-19T14:52:04.993427Z",
     "iopub.status.idle": "2024-06-19T14:52:05.774331Z",
     "shell.execute_reply": "2024-06-19T14:52:05.773983Z"
    }
   },
   "outputs": [
    {
     "name": "stderr",
     "output_type": "stream",
     "text": [
      "WARNING:root:'from promptflow import PFClient' is deprecated and will be removed in the future. Use 'from promptflow.client import PFClient' instead.\n"
     ]
    }
   ],
   "source": [
    "from promptflow import PFClient\n",
    "\n",
    "pf_client = PFClient()\n",
    "\n",
    "from dotenv import load_dotenv\n",
    "\n",
    "load_dotenv()\n",
    "\n",
    "runtime = \"automatic\"\n",
    "# load flow\n",
    "flow = \"../contoso-chat_hf\" #\"../contoso-chat\"\n",
    "\n",
    "\n",
    "eval_flow = \"multi_flow/\"   #\"multi_flow_hf/\"\n",
    "data = \"../data/salestestdata.jsonl\"\n"
   ]
  },
  {
   "cell_type": "code",
   "execution_count": 2,
   "metadata": {
    "execution": {
     "iopub.execute_input": "2024-06-19T14:52:05.775998Z",
     "iopub.status.busy": "2024-06-19T14:52:05.775769Z",
     "iopub.status.idle": "2024-06-19T14:52:07.757141Z",
     "shell.execute_reply": "2024-06-19T14:52:07.756857Z"
    }
   },
   "outputs": [
    {
     "name": "stderr",
     "output_type": "stream",
     "text": [
      "WARNING:root:'from promptflow import tool' is deprecated and will be removed in the future. Use 'from promptflow.core import tool' instead.\n"
     ]
    },
    {
     "name": "stderr",
     "output_type": "stream",
     "text": [
      "[2024-06-19 15:52:06 +0100][promptflow.core._connection][WARNING] - Please use connection.secrets[key] to access secrets.\n"
     ]
    },
    {
     "name": "stdout",
     "output_type": "stream",
     "text": [
      "Prompt flow service has started...\n",
      "2024-06-19 15:52:06 +0100   23190 execution.flow     INFO     Start executing nodes in thread pool mode.\n"
     ]
    },
    {
     "name": "stdout",
     "output_type": "stream",
     "text": [
      "2024-06-19 15:52:06 +0100   23190 execution.flow     INFO     Start to run 5 nodes with concurrency level 16.\n"
     ]
    },
    {
     "name": "stdout",
     "output_type": "stream",
     "text": [
      "2024-06-19 15:52:06 +0100   23190 execution.flow     INFO     Executing node custom_question_embedding. node run id: 2a9dc695-d67b-480e-af86-01b7a20d6993_custom_question_embedding_0\n"
     ]
    },
    {
     "name": "stdout",
     "output_type": "stream",
     "text": [
      "2024-06-19 15:52:06 +0100   23190 execution.flow     INFO     Executing node customer_lookup. node run id: 2a9dc695-d67b-480e-af86-01b7a20d6993_customer_lookup_0\n"
     ]
    },
    {
     "name": "stdout",
     "output_type": "stream",
     "text": [
      "2024-06-19 15:52:06 +0100   23190 execution.flow     INFO     Node customer_lookup completes.\n"
     ]
    },
    {
     "name": "stdout",
     "output_type": "stream",
     "text": [
      "2024-06-19 15:52:06 +0100   23190 execution.flow     INFO     Node custom_question_embedding completes.\n"
     ]
    },
    {
     "name": "stdout",
     "output_type": "stream",
     "text": [
      "2024-06-19 15:52:06 +0100   23190 execution.flow     INFO     Executing node retrieve_documentation. node run id: 2a9dc695-d67b-480e-af86-01b7a20d6993_retrieve_documentation_0\n"
     ]
    },
    {
     "name": "stdout",
     "output_type": "stream",
     "text": [
      "You can view the trace detail from the following URL:\n",
      "http://127.0.0.1:23333/v1.0/ui/traces/?#collection=contoso-chat_hf&uiTraceId=0x6c5e4cbbac4c83a12c9e86867f6b5d75\n"
     ]
    },
    {
     "name": "stdout",
     "output_type": "stream",
     "text": [
      "2024-06-19 15:52:07 +0100   23190 execution.flow     INFO     Node retrieve_documentation completes.\n"
     ]
    },
    {
     "name": "stdout",
     "output_type": "stream",
     "text": [
      "2024-06-19 15:52:07 +0100   23190 execution.flow     INFO     Executing node customer_prompt. node run id: 2a9dc695-d67b-480e-af86-01b7a20d6993_customer_prompt_0\n"
     ]
    },
    {
     "name": "stdout",
     "output_type": "stream",
     "text": [
      "2024-06-19 15:52:07 +0100   23190 execution.flow     INFO     Node customer_prompt completes.\n"
     ]
    },
    {
     "name": "stdout",
     "output_type": "stream",
     "text": [
      "2024-06-19 15:52:07 +0100   23190 execution.flow     INFO     Executing node llm_response. node run id: 2a9dc695-d67b-480e-af86-01b7a20d6993_llm_response_0\n"
     ]
    },
    {
     "name": "stdout",
     "output_type": "stream",
     "text": [
      "2024-06-19 15:52:07 +0100   23190 execution.flow     INFO     Node llm_response completes.\n"
     ]
    }
   ],
   "source": [
    "# Add a question to test the base prompt flow.\n",
    "question = \"Can you tell me about your jackets?\"\n",
    "customerId = \"4\"\n",
    "output_hf = pf_client.test(\n",
    "    flow=flow, # Path to the flow directory\n",
    "    inputs={ # Inputs to the flow\n",
    "        \"chat_history\": [],\n",
    "        \"question\": question,\n",
    "        \"customerId\": customerId,\n",
    "    },\n",
    ")\n",
    "\n",
    "output_hf[\"answer\"] = \"\".join(list(output_hf[\"answer\"]))"
   ]
  },
  {
   "cell_type": "code",
   "execution_count": 3,
   "metadata": {
    "execution": {
     "iopub.execute_input": "2024-06-19T14:52:07.758535Z",
     "iopub.status.busy": "2024-06-19T14:52:07.758454Z",
     "iopub.status.idle": "2024-06-19T14:52:07.761313Z",
     "shell.execute_reply": "2024-06-19T14:52:07.761115Z"
    }
   },
   "outputs": [
    {
     "data": {
      "text/plain": [
       "{'answer': ' Hi there! I\\'m glad to hear that our previous conversation sparked interest - it makes every interaction special like a unique pattern on one of those stylish leather biker vests we discussed before (😎). Regarding today’s topic: Jacket-wise at \"Fashion Forward,\" where quality meets trendiness is always top priority – just as with any piece from last year when Sam bought their favorite denim bomber hoodie which still looks great after',\n",
       " 'context': [{'id': '3',\n",
       "   'title': 'Summit Breeze Jacket',\n",
       "   'content': \"Discover the joy of hiking with MountainStyle's Summit Breeze Jacket. This lightweight jacket is your perfect companion for outdoor adventures. Sporting a trail-ready, windproof design and a water-resistant fabric, it's ready to withstand any weather. The breathable polyester material and adjustable cuffs keep you comfortable, whether you're ascending a mountain or strolling through a park. And its sleek black color adds style to function. The jacket features a full-zip front closure, adjustable hood, and secure zippered pockets. Experience the comfort of its inner lining and the convenience of its packable design. Crafted for night trekkers too, the jacket has reflective accents for enhanced visibility. Rugged yet chic, the Summit Breeze Jacket is more than a hiking essential, it's the gear that inspires you to reach new heights. Choose adventure, choose the Summit Breeze Jacket.\",\n",
       "   'url': '/products/summit-breeze-jacket'},\n",
       "  {'id': '17',\n",
       "   'title': 'RainGuard Hiking Jacket',\n",
       "   'content': \"Introducing the MountainStyle RainGuard Hiking Jacket - the ultimate solution for weatherproof comfort during your outdoor undertakings! Designed with waterproof, breathable fabric, this jacket promises an outdoor experience that's as dry as it is comfortable. The rugged construction assures durability, while the adjustable hood provides a customizable fit against wind and rain. Featuring multiple pockets for safe, convenient storage and adjustable cuffs and hem, you can tailor the jacket to suit your needs on-the-go. And, don't worry about overheating during intense activities - it's equipped with ventilation zippers for increased airflow. Reflective details ensure visibility even during low-light conditions, making it perfect for evening treks. With its lightweight, packable design, carrying it inside your backpack requires minimal effort. With options for men and women, the RainGuard Hiking Jacket is perfect for hiking, camping, trekking and countless other outdoor adventures. Don't let the weather stand in your way - embrace the outdoors with MountainStyle RainGuard Hiking Jacket!\",\n",
       "   'url': '/products/rainguard-hiking-jacket'},\n",
       "  {'id': '4',\n",
       "   'title': 'TrekReady Hiking Boots',\n",
       "   'content': \"Introducing the TrekReady Hiking Boots - stepping up your hiking game, one footprint at a time! Crafted from leather, these stylistic Trailmates are made to last. TrekReady infuses durability with its reinforced stitching and toe protection, making sure your journey is never stopped short. Comfort? They have that covered too! The boots are a haven with their breathable materials, cushioned insole, with padded collar and tongue; all nestled neatly within their lightweight design. As they say, it's what's inside that counts - so inside you'll find a moisture-wicking lining that quarantines stank and keeps your feet fresh as that mountaintop breeze. Remember the fear of slippery surfaces? With these boots, you can finally tell it to 'take a hike'! Their shock-absorbing midsoles and excellent traction capabilities promise stability at your every step. Beautifully finished in a traditional lace-up system, every adventurer deserves a pair of TrekReady Hiking Boots. Hike more, worry less!\",\n",
       "   'url': '/products/trekready-hiking-boots'}]}"
      ]
     },
     "execution_count": 3,
     "metadata": {},
     "output_type": "execute_result"
    }
   ],
   "source": [
    "output_hf"
   ]
  },
  {
   "cell_type": "markdown",
   "metadata": {},
   "source": [
    "Test the groundedness of the prompt flow with the answer from the above question."
   ]
  },
  {
   "cell_type": "markdown",
   "metadata": {},
   "source": [
    "# Local Evaluation - Multiple Metrics \n",
    "\n",
    "Now use the same prompt flow and test it against the Multi Evaluation flow for groundedness, coherence, fluency, and relevance."
   ]
  },
  {
   "cell_type": "code",
   "execution_count": 4,
   "metadata": {
    "execution": {
     "iopub.execute_input": "2024-06-19T14:52:07.762444Z",
     "iopub.status.busy": "2024-06-19T14:52:07.762376Z",
     "iopub.status.idle": "2024-06-19T14:52:13.991252Z",
     "shell.execute_reply": "2024-06-19T14:52:13.991008Z"
    }
   },
   "outputs": [
    {
     "name": "stdout",
     "output_type": "stream",
     "text": [
      "question Can you tell me about your jackets?\n",
      "context [{'id': '3', 'title': 'Summit Breeze Jacket', 'content': \"Discover the joy of hiking with MountainStyle's Summit Breeze Jacket. This lightweight jacket is your perfect companion for outdoor adventures. Sporting a trail-ready, windproof design and a water-resistant fabric, it's ready to withstand any weather. The breathable polyester material and adjustable cuffs keep you comfortable, whether you're ascending a mountain or strolling through a park. And its sleek black color adds style to function. The jacket features a full-zip front closure, adjustable hood, and secure zippered pockets. Experience the comfort of its inner lining and the convenience of its packable design. Crafted for night trekkers too, the jacket has reflective accents for enhanced visibility. Rugged yet chic, the Summit Breeze Jacket is more than a hiking essential, it's the gear that inspires you to reach new heights. Choose adventure, choose the Summit Breeze Jacket.\", 'url': '/products/summit-breeze-jacket'}, {'id': '17', 'title': 'RainGuard Hiking Jacket', 'content': \"Introducing the MountainStyle RainGuard Hiking Jacket - the ultimate solution for weatherproof comfort during your outdoor undertakings! Designed with waterproof, breathable fabric, this jacket promises an outdoor experience that's as dry as it is comfortable. The rugged construction assures durability, while the adjustable hood provides a customizable fit against wind and rain. Featuring multiple pockets for safe, convenient storage and adjustable cuffs and hem, you can tailor the jacket to suit your needs on-the-go. And, don't worry about overheating during intense activities - it's equipped with ventilation zippers for increased airflow. Reflective details ensure visibility even during low-light conditions, making it perfect for evening treks. With its lightweight, packable design, carrying it inside your backpack requires minimal effort. With options for men and women, the RainGuard Hiking Jacket is perfect for hiking, camping, trekking and countless other outdoor adventures. Don't let the weather stand in your way - embrace the outdoors with MountainStyle RainGuard Hiking Jacket!\", 'url': '/products/rainguard-hiking-jacket'}, {'id': '4', 'title': 'TrekReady Hiking Boots', 'content': \"Introducing the TrekReady Hiking Boots - stepping up your hiking game, one footprint at a time! Crafted from leather, these stylistic Trailmates are made to last. TrekReady infuses durability with its reinforced stitching and toe protection, making sure your journey is never stopped short. Comfort? They have that covered too! The boots are a haven with their breathable materials, cushioned insole, with padded collar and tongue; all nestled neatly within their lightweight design. As they say, it's what's inside that counts - so inside you'll find a moisture-wicking lining that quarantines stank and keeps your feet fresh as that mountaintop breeze. Remember the fear of slippery surfaces? With these boots, you can finally tell it to 'take a hike'! Their shock-absorbing midsoles and excellent traction capabilities promise stability at your every step. Beautifully finished in a traditional lace-up system, every adventurer deserves a pair of TrekReady Hiking Boots. Hike more, worry less!\", 'url': '/products/trekready-hiking-boots'}]\n",
      "answer  Hi there! I'm glad to hear that our previous conversation sparked interest - it makes every interaction special like a unique pattern on one of those stylish leather biker vests we discussed before (😎). Regarding today’s topic: Jacket-wise at \"Fashion Forward,\" where quality meets trendiness is always top priority – just as with any piece from last year when Sam bought their favorite denim bomber hoodie which still looks great after\n",
      "Prompt flow service has started...\n"
     ]
    },
    {
     "name": "stderr",
     "output_type": "stream",
     "text": [
      "WARNING:root:'from promptflow import log_metric' is deprecated and will be removed in the future. Use 'from promptflow.core import log_metric' instead.\n"
     ]
    },
    {
     "name": "stdout",
     "output_type": "stream",
     "text": [
      "2024-06-19 15:52:08 +0100   23190 execution.flow     INFO     Start executing nodes in thread pool mode.\n"
     ]
    },
    {
     "name": "stdout",
     "output_type": "stream",
     "text": [
      "2024-06-19 15:52:08 +0100   23190 execution.flow     INFO     Start to run 8 nodes with concurrency level 16.\n"
     ]
    },
    {
     "name": "stdout",
     "output_type": "stream",
     "text": [
      "2024-06-19 15:52:08 +0100   23190 execution.flow     INFO     Executing node coherence_score. node run id: 2c4b18e8-7692-4778-afd7-ee77fc08066e_coherence_score_0\n"
     ]
    },
    {
     "name": "stdout",
     "output_type": "stream",
     "text": [
      "2024-06-19 15:52:08 +0100   23190 execution.flow     INFO     Executing node fluency_score. node run id: 2c4b18e8-7692-4778-afd7-ee77fc08066e_fluency_score_0\n"
     ]
    },
    {
     "name": "stdout",
     "output_type": "stream",
     "text": [
      "2024-06-19 15:52:08 +0100   23190 execution.flow     INFO     Executing node groundedness_score. node run id: 2c4b18e8-7692-4778-afd7-ee77fc08066e_groundedness_score_0\n"
     ]
    },
    {
     "name": "stdout",
     "output_type": "stream",
     "text": [
      "2024-06-19 15:52:08 +0100   23190 execution.flow     INFO     Executing node relevance_score. node run id: 2c4b18e8-7692-4778-afd7-ee77fc08066e_relevance_score_0\n"
     ]
    },
    {
     "name": "stdout",
     "output_type": "stream",
     "text": [
      "2024-06-19 15:52:11 +0100   23190 execution.flow     INFO     Node coherence_score completes.\n"
     ]
    },
    {
     "name": "stdout",
     "output_type": "stream",
     "text": [
      "2024-06-19 15:52:11 +0100   23190 execution.flow     INFO     Node fluency_score completes.\n"
     ]
    },
    {
     "name": "stdout",
     "output_type": "stream",
     "text": [
      "2024-06-19 15:52:11 +0100   23190 execution.flow     INFO     Executing node coherence_concat_scores. node run id: 2c4b18e8-7692-4778-afd7-ee77fc08066e_coherence_concat_scores_0\n"
     ]
    },
    {
     "name": "stdout",
     "output_type": "stream",
     "text": [
      "2024-06-19 15:52:11 +0100   23190 execution.flow     INFO     Executing node fluency_concat_scores. node run id: 2c4b18e8-7692-4778-afd7-ee77fc08066e_fluency_concat_scores_0\n"
     ]
    },
    {
     "name": "stdout",
     "output_type": "stream",
     "text": [
      "2024-06-19 15:52:11 +0100   23190 execution.flow     INFO     Node coherence_concat_scores completes.\n"
     ]
    },
    {
     "name": "stdout",
     "output_type": "stream",
     "text": [
      "2024-06-19 15:52:11 +0100   23190 execution.flow     INFO     Node fluency_concat_scores completes.\n"
     ]
    },
    {
     "name": "stdout",
     "output_type": "stream",
     "text": [
      "2024-06-19 15:52:11 +0100   23190 execution.flow     INFO     Node groundedness_score completes.\n"
     ]
    },
    {
     "name": "stdout",
     "output_type": "stream",
     "text": [
      "2024-06-19 15:52:11 +0100   23190 execution.flow     INFO     Executing node groundedness_concat_scores. node run id: 2c4b18e8-7692-4778-afd7-ee77fc08066e_groundedness_concat_scores_0\n"
     ]
    },
    {
     "name": "stdout",
     "output_type": "stream",
     "text": [
      "2024-06-19 15:52:11 +0100   23190 execution.flow     INFO     Node groundedness_concat_scores completes.\n"
     ]
    },
    {
     "name": "stdout",
     "output_type": "stream",
     "text": [
      "2024-06-19 15:52:13 +0100   23190 execution.flow     INFO     Node relevance_score completes.\n"
     ]
    },
    {
     "name": "stdout",
     "output_type": "stream",
     "text": [
      "2024-06-19 15:52:13 +0100   23190 execution.flow     INFO     Executing node relevance_concat_scores. node run id: 2c4b18e8-7692-4778-afd7-ee77fc08066e_relevance_concat_scores_0\n"
     ]
    },
    {
     "name": "stdout",
     "output_type": "stream",
     "text": [
      "2024-06-19 15:52:13 +0100   23190 execution.flow     INFO     Node relevance_concat_scores completes.\n"
     ]
    },
    {
     "name": "stdout",
     "output_type": "stream",
     "text": [
      "2024-06-19 15:52:13 +0100   23190 execution.flow     INFO     Start executing nodes in thread pool mode.\n"
     ]
    },
    {
     "name": "stdout",
     "output_type": "stream",
     "text": [
      "2024-06-19 15:52:13 +0100   23190 execution.flow     INFO     Start to run 4 nodes with concurrency level 16.\n"
     ]
    },
    {
     "name": "stdout",
     "output_type": "stream",
     "text": [
      "2024-06-19 15:52:13 +0100   23190 execution.flow     INFO     Executing node coherence_aggregate_variants_results. node run id: 2c4b18e8-7692-4778-afd7-ee77fc08066e_coherence_aggregate_variants_results_reduce\n"
     ]
    },
    {
     "name": "stdout",
     "output_type": "stream",
     "text": [
      "2024-06-19 15:52:13 +0100   23190 execution.flow     INFO     Executing node fluency_aggregate_variants_results. node run id: 2c4b18e8-7692-4778-afd7-ee77fc08066e_fluency_aggregate_variants_results_reduce\n"
     ]
    },
    {
     "name": "stdout",
     "output_type": "stream",
     "text": [
      "2024-06-19 15:52:13 +0100   23190 execution.flow     INFO     Executing node groundedness_aggregate_variants_results. node run id: 2c4b18e8-7692-4778-afd7-ee77fc08066e_groundedness_aggregate_variants_results_reduce\n"
     ]
    },
    {
     "name": "stdout",
     "output_type": "stream",
     "text": [
      "2024-06-19 15:52:13 +0100   23190 execution.flow     INFO     Executing node relevance_aggregate_variants_results. node run id: 2c4b18e8-7692-4778-afd7-ee77fc08066e_relevance_aggregate_variants_results_reduce\n"
     ]
    },
    {
     "name": "stdout",
     "output_type": "stream",
     "text": [
      "2024-06-19 15:52:13 +0100   23190 execution.flow     INFO     Node coherence_aggregate_variants_results completes.\n"
     ]
    },
    {
     "name": "stdout",
     "output_type": "stream",
     "text": [
      "2024-06-19 15:52:13 +0100   23190 execution.flow     INFO     Node fluency_aggregate_variants_results completes.\n"
     ]
    },
    {
     "name": "stdout",
     "output_type": "stream",
     "text": [
      "2024-06-19 15:52:13 +0100   23190 execution.flow     INFO     Node groundedness_aggregate_variants_results completes.\n"
     ]
    },
    {
     "name": "stdout",
     "output_type": "stream",
     "text": [
      "2024-06-19 15:52:13 +0100   23190 execution.flow     INFO     [relevance_aggregate_variants_results in line None (index starts from 0)] stdout> results\n"
     ]
    },
    {
     "name": "stdout",
     "output_type": "stream",
     "text": [
      "2024-06-19 15:52:13 +0100   23190 execution.flow     INFO     [relevance_aggregate_variants_results in line None (index starts from 0)] stdout>  \n"
     ]
    },
    {
     "name": "stdout",
     "output_type": "stream",
     "text": [
      "2024-06-19 15:52:13 +0100   23190 execution.flow     INFO     [relevance_aggregate_variants_results in line None (index starts from 0)] stdout> [{'gpt_relevance': 1.0, 'gpt_relevance_pass_rate': 0}]\n"
     ]
    },
    {
     "name": "stdout",
     "output_type": "stream",
     "text": [
      "2024-06-19 15:52:13 +0100   23190 execution.flow     INFO     Node relevance_aggregate_variants_results completes.\n"
     ]
    }
   ],
   "source": [
    "print(\"question\",question)\n",
    "print(\"context\",output_hf[\"context\"])\n",
    "print(\"answer\", output_hf[\"answer\"])\n",
    "test_multi_hf = pf_client.test(\n",
    "    eval_flow,\n",
    "    inputs={\n",
    "        \"question\": question,\n",
    "        \"context\": str(output_hf[\"context\"]),\n",
    "        \"answer\": output_hf[\"answer\"],\n",
    "    },\n",
    ")"
   ]
  },
  {
   "cell_type": "code",
   "execution_count": 5,
   "metadata": {
    "execution": {
     "iopub.execute_input": "2024-06-19T14:52:13.992501Z",
     "iopub.status.busy": "2024-06-19T14:52:13.992416Z",
     "iopub.status.idle": "2024-06-19T14:52:13.994257Z",
     "shell.execute_reply": "2024-06-19T14:52:13.994041Z"
    }
   },
   "outputs": [
    {
     "data": {
      "text/plain": [
       "{'gpt_coherence': 4.0,\n",
       " 'gpt_fluency': 4.0,\n",
       " 'gpt_groundedness': 1.0,\n",
       " 'gpt_relevance': 1.0}"
      ]
     },
     "execution_count": 5,
     "metadata": {},
     "output_type": "execute_result"
    }
   ],
   "source": [
    "test_multi_hf"
   ]
  },
  {
   "cell_type": "code",
   "execution_count": 6,
   "metadata": {
    "execution": {
     "iopub.execute_input": "2024-06-19T14:52:13.995399Z",
     "iopub.status.busy": "2024-06-19T14:52:13.995312Z",
     "iopub.status.idle": "2024-06-19T14:52:18.522594Z",
     "shell.execute_reply": "2024-06-19T14:52:18.522341Z"
    }
   },
   "outputs": [
    {
     "name": "stderr",
     "output_type": "stream",
     "text": [
      "[2024-06-19 15:52:14 +0100][promptflow._sdk._orchestrator.run_submitter][INFO] - Submitting run 2024_06_19_155213chat_base_run, log path: /Users/yonghuizhu/.promptflow/.runs/2024_06_19_155213chat_base_run/logs.txt\n"
     ]
    },
    {
     "name": "stdout",
     "output_type": "stream",
     "text": [
      "2024_06_19_155213chat_base_run\n",
      "Prompt flow service has started...\n",
      "You can view the traces in local from http://127.0.0.1:23333/v1.0/ui/traces/?#run=2024_06_19_155213chat_base_run\n"
     ]
    },
    {
     "name": "stdout",
     "output_type": "stream",
     "text": [
      "You can view the trace detail from the following URL:\n",
      "http://127.0.0.1:23333/v1.0/ui/traces/?#collection=multi_flow&uiTraceId=0x7571d0577ee76a138da0c640e1dc70f2\n",
      "You can view the trace detail from the following URL:\n",
      "http://127.0.0.1:23333/v1.0/ui/traces/?#collection=multi_flow&uiTraceId=0x969616e8f62215c63d704129e24cac3b\n",
      "You can view the trace detail from the following URL:\n",
      "http://127.0.0.1:23333/v1.0/ui/traces/?#collection=multi_flow&uiTraceId=0x59a11c348f856cf9993b7db83cabbd30\n",
      "You can view the trace detail from the following URL:\n",
      "http://127.0.0.1:23333/v1.0/ui/traces/?#collection=multi_flow&uiTraceId=0x6d06bc9d31b999f8a07598bea324f123\n",
      "You can view the trace detail from the following URL:\n",
      "http://127.0.0.1:23333/v1.0/ui/traces/?#collection=multi_flow&uiTraceId=0x95493fee240c3ebe30fb64cf0aeb42a5\n"
     ]
    },
    {
     "name": "stdout",
     "output_type": "stream",
     "text": [
      "name: 2024_06_19_155213chat_base_run\n",
      "created_on: '2024-06-19T15:52:14.001696'\n",
      "status: Completed\n",
      "display_name: 2024_06_19_155213chat_base_run\n",
      "description:\n",
      "tags:\n",
      "properties:\n",
      "  flow_path: /Users/yonghuizhu/imperial/contoso-chat-backend/contoso-chat_hf\n",
      "  output_path: /Users/yonghuizhu/.promptflow/.runs/2024_06_19_155213chat_base_run\n",
      "  column_mapping:\n",
      "    customerId: ${data.customerId}\n",
      "    question: ${data.question}\n",
      "  system_metrics:\n",
      "    total_tokens: 725\n",
      "    prompt_tokens: 225\n",
      "    completion_tokens: 500\n",
      "    duration: 4.378268\n",
      "flow_name: contoso-chat_hf\n",
      "data: /Users/yonghuizhu/imperial/contoso-chat-backend/data/salestestdata.jsonl\n",
      "output: /Users/yonghuizhu/.promptflow/.runs/2024_06_19_155213chat_base_run/flow_outputs\n",
      "\n"
     ]
    }
   ],
   "source": [
    "\n",
    "# get current time stamp for run name\n",
    "import datetime\n",
    "now = datetime.datetime.now()\n",
    "timestamp = now.strftime(\"%Y_%m_%d_%H%M%S\")\n",
    "run_name_hf = timestamp+\"chat_base_run\"\n",
    "print(run_name_hf)\n",
    "\n",
    "# create base run in Azure Ai Studio\n",
    "local_base_run_hf = pf_client.run(\n",
    "    flow=flow,\n",
    "    data=data,\n",
    "    column_mapping={\n",
    "        # reference data\n",
    "        \"customerId\": \"${data.customerId}\",\n",
    "        \"question\": \"${data.question}\",\n",
    "    },\n",
    "    runtime=runtime,\n",
    "    # create a display name as current datetime\n",
    "    display_name=run_name_hf,\n",
    "    name=run_name_hf\n",
    ")\n",
    "print(local_base_run_hf)"
   ]
  },
  {
   "cell_type": "code",
   "execution_count": 7,
   "metadata": {
    "execution": {
     "iopub.execute_input": "2024-06-19T14:52:18.524108Z",
     "iopub.status.busy": "2024-06-19T14:52:18.524020Z",
     "iopub.status.idle": "2024-06-19T14:52:18.563135Z",
     "shell.execute_reply": "2024-06-19T14:52:18.562917Z"
    }
   },
   "outputs": [
    {
     "name": "stdout",
     "output_type": "stream",
     "text": [
      "2024-06-19 15:52:14 +0100   23190 execution.bulk     INFO     Current thread is not main thread, skip signal handler registration in BatchEngine.\n",
      "2024-06-19 15:52:14 +0100   23190 execution.bulk     INFO     Current system's available memory is 2537.890625MB, memory consumption of current process is 270.21875MB, estimated available worker count is 2537.890625/270.21875 = 9\n",
      "2024-06-19 15:52:14 +0100   23190 execution.bulk     INFO     Set process count to 4 by taking the minimum value among the factors of {'default_worker_count': 4, 'row_count': 5, 'estimated_worker_count_based_on_memory_usage': 9}.\n",
      "2024-06-19 15:52:15 +0100   23190 execution.bulk     INFO     Process name(SpawnProcess-3)-Process id(23231)-Line number(0) start execution.\n",
      "2024-06-19 15:52:15 +0100   23190 execution.bulk     INFO     Process name(SpawnProcess-5)-Process id(23233)-Line number(1) start execution.\n",
      "2024-06-19 15:52:15 +0100   23190 execution.bulk     INFO     Process name(SpawnProcess-2)-Process id(23226)-Line number(2) start execution.\n",
      "2024-06-19 15:52:15 +0100   23190 execution.bulk     INFO     Process name(SpawnProcess-4)-Process id(23232)-Line number(3) start execution.\n",
      "2024-06-19 15:52:16 +0100   23190 execution.bulk     INFO     Process name(SpawnProcess-2)-Process id(23226)-Line number(2) completed.\n",
      "2024-06-19 15:52:16 +0100   23190 execution.bulk     INFO     Process name(SpawnProcess-2)-Process id(23226)-Line number(4) start execution.\n",
      "2024-06-19 15:52:17 +0100   23190 execution.bulk     INFO     Finished 1 / 5 lines.\n",
      "2024-06-19 15:52:17 +0100   23190 execution.bulk     INFO     Average execution time for completed lines: 2.01 seconds. Estimated time for incomplete lines: 8.04 seconds.\n",
      "2024-06-19 15:52:17 +0100   23190 execution.bulk     INFO     Process name(SpawnProcess-5)-Process id(23233)-Line number(1) completed.\n",
      "2024-06-19 15:52:17 +0100   23190 execution.bulk     INFO     Process name(SpawnProcess-3)-Process id(23231)-Line number(0) completed.\n",
      "2024-06-19 15:52:17 +0100   23190 execution.bulk     INFO     Process name(SpawnProcess-4)-Process id(23232)-Line number(3) completed.\n",
      "2024-06-19 15:52:17 +0100   23190 execution.bulk     INFO     Process name(SpawnProcess-2)-Process id(23226)-Line number(4) completed.\n",
      "2024-06-19 15:52:18 +0100   23190 execution.bulk     INFO     Finished 5 / 5 lines.\n",
      "2024-06-19 15:52:18 +0100   23190 execution.bulk     INFO     Average execution time for completed lines: 0.6 seconds. Estimated time for incomplete lines: 0.0 seconds.\n",
      "2024-06-19 15:52:18 +0100   23190 execution.bulk     INFO     The thread monitoring the process [23233-SpawnProcess-5] will be terminated.\n",
      "2024-06-19 15:52:18 +0100   23233 execution.bulk     INFO     The process [23233] has received a terminate signal.\n",
      "2024-06-19 15:52:18 +0100   23190 execution.bulk     INFO     The thread monitoring the process [23226-SpawnProcess-2] will be terminated.\n",
      "2024-06-19 15:52:18 +0100   23226 execution.bulk     INFO     The process [23226] has received a terminate signal.\n",
      "2024-06-19 15:52:18 +0100   23190 execution.bulk     INFO     The thread monitoring the process [23231-SpawnProcess-3] will be terminated.\n",
      "2024-06-19 15:52:18 +0100   23190 execution.bulk     INFO     The thread monitoring the process [23232-SpawnProcess-4] will be terminated.\n",
      "2024-06-19 15:52:18 +0100   23231 execution.bulk     INFO     The process [23231] has received a terminate signal.\n",
      "2024-06-19 15:52:18 +0100   23232 execution.bulk     INFO     The process [23232] has received a terminate signal.\n",
      "2024-06-19 15:52:18 +0100   23190 execution.bulk     INFO     Process 23233 terminated.\n",
      "2024-06-19 15:52:18 +0100   23190 execution.bulk     INFO     Process 23232 terminated.\n",
      "2024-06-19 15:52:18 +0100   23190 execution.bulk     INFO     Process 23231 terminated.\n",
      "2024-06-19 15:52:18 +0100   23190 execution.bulk     INFO     Process 23226 terminated.\n",
      "======= Run Summary =======\n",
      "\n",
      "Run name: \"2024_06_19_155213chat_base_run\"\n",
      "Run status: \"Completed\"\n",
      "Start time: \"2024-06-19 15:52:14.001696\"\n",
      "Duration: \"0:00:04.496973\"\n",
      "Output path: \"/Users/yonghuizhu/.promptflow/.runs/2024_06_19_155213chat_base_run\"\n",
      "\n"
     ]
    },
    {
     "data": {
      "text/html": [
       "<div>\n",
       "<style scoped>\n",
       "    .dataframe tbody tr th:only-of-type {\n",
       "        vertical-align: middle;\n",
       "    }\n",
       "\n",
       "    .dataframe tbody tr th {\n",
       "        vertical-align: top;\n",
       "    }\n",
       "\n",
       "    .dataframe thead th {\n",
       "        text-align: right;\n",
       "    }\n",
       "</style>\n",
       "<table border=\"1\" class=\"dataframe\">\n",
       "  <thead>\n",
       "    <tr style=\"text-align: right;\">\n",
       "      <th></th>\n",
       "      <th>inputs.customerId</th>\n",
       "      <th>inputs.question</th>\n",
       "      <th>inputs.line_number</th>\n",
       "      <th>inputs.chat_history</th>\n",
       "      <th>outputs.answer</th>\n",
       "      <th>outputs.context</th>\n",
       "    </tr>\n",
       "  </thead>\n",
       "  <tbody>\n",
       "    <tr>\n",
       "      <th>0</th>\n",
       "      <td>4</td>\n",
       "      <td>tell me about your hiking jackets</td>\n",
       "      <td>0</td>\n",
       "      <td>[]</td>\n",
       "      <td>Hey there! Based on our previous purchase of a...</td>\n",
       "      <td>[{'id': '17', 'title': 'RainGuard Hiking Jacke...</td>\n",
       "    </tr>\n",
       "    <tr>\n",
       "      <th>1</th>\n",
       "      <td>1</td>\n",
       "      <td>Do you have any climbing gear?</td>\n",
       "      <td>1</td>\n",
       "      <td>[]</td>\n",
       "      <td>Hi there! While I don't personally own physica...</td>\n",
       "      <td>[{'id': '9', 'title': 'SummitClimber Backpack'...</td>\n",
       "    </tr>\n",
       "    <tr>\n",
       "      <th>2</th>\n",
       "      <td>3</td>\n",
       "      <td>Can you tell me about your selection of tents?</td>\n",
       "      <td>2</td>\n",
       "      <td>[]</td>\n",
       "      <td>Hi there! As a fellow outdoor enthusiast who p...</td>\n",
       "      <td>[{'id': '15', 'title': 'SkyView 2-Person Tent'...</td>\n",
       "    </tr>\n",
       "    <tr>\n",
       "      <th>3</th>\n",
       "      <td>6</td>\n",
       "      <td>Do you have any hiking boots?</td>\n",
       "      <td>3</td>\n",
       "      <td>[]</td>\n",
       "      <td>Hi there! While I don't personally own a pair ...</td>\n",
       "      <td>[{'id': '4', 'title': 'TrekReady Hiking Boots'...</td>\n",
       "    </tr>\n",
       "    <tr>\n",
       "      <th>4</th>\n",
       "      <td>2</td>\n",
       "      <td>What gear do you recommend for hiking?</td>\n",
       "      <td>4</td>\n",
       "      <td>[]</td>\n",
       "      <td>Hey [Name]! Based on your previous purchase of...</td>\n",
       "      <td>[{'id': '10', 'title': 'TrailBlaze Hiking Pant...</td>\n",
       "    </tr>\n",
       "  </tbody>\n",
       "</table>\n",
       "</div>"
      ],
      "text/plain": [
       "   inputs.customerId                                 inputs.question  \\\n",
       "0                  4               tell me about your hiking jackets   \n",
       "1                  1                  Do you have any climbing gear?   \n",
       "2                  3  Can you tell me about your selection of tents?   \n",
       "3                  6                   Do you have any hiking boots?   \n",
       "4                  2          What gear do you recommend for hiking?   \n",
       "\n",
       "   inputs.line_number inputs.chat_history  \\\n",
       "0                   0                  []   \n",
       "1                   1                  []   \n",
       "2                   2                  []   \n",
       "3                   3                  []   \n",
       "4                   4                  []   \n",
       "\n",
       "                                      outputs.answer  \\\n",
       "0  Hey there! Based on our previous purchase of a...   \n",
       "1  Hi there! While I don't personally own physica...   \n",
       "2  Hi there! As a fellow outdoor enthusiast who p...   \n",
       "3  Hi there! While I don't personally own a pair ...   \n",
       "4  Hey [Name]! Based on your previous purchase of...   \n",
       "\n",
       "                                     outputs.context  \n",
       "0  [{'id': '17', 'title': 'RainGuard Hiking Jacke...  \n",
       "1  [{'id': '9', 'title': 'SummitClimber Backpack'...  \n",
       "2  [{'id': '15', 'title': 'SkyView 2-Person Tent'...  \n",
       "3  [{'id': '4', 'title': 'TrekReady Hiking Boots'...  \n",
       "4  [{'id': '10', 'title': 'TrailBlaze Hiking Pant...  "
      ]
     },
     "execution_count": 7,
     "metadata": {},
     "output_type": "execute_result"
    }
   ],
   "source": [
    "pf_client.stream(local_base_run_hf)\n",
    "details = pf_client.get_details(local_base_run_hf)\n",
    "details.head(10)"
   ]
  },
  {
   "cell_type": "code",
   "execution_count": 8,
   "metadata": {
    "execution": {
     "iopub.execute_input": "2024-06-19T14:52:18.564326Z",
     "iopub.status.busy": "2024-06-19T14:52:18.564247Z",
     "iopub.status.idle": "2024-06-19T14:52:35.897523Z",
     "shell.execute_reply": "2024-06-19T14:52:35.897292Z"
    }
   },
   "outputs": [
    {
     "name": "stderr",
     "output_type": "stream",
     "text": [
      "[2024-06-19 15:52:18 +0100][promptflow._sdk._orchestrator.run_submitter][INFO] - Submitting run 2024_06_19_155213chat_eval_run, log path: /Users/yonghuizhu/.promptflow/.runs/2024_06_19_155213chat_eval_run/logs.txt\n"
     ]
    },
    {
     "name": "stdout",
     "output_type": "stream",
     "text": [
      "2024_06_19_155213chat_eval_run\n",
      "2024_06_19_155213chat_eval_run\n",
      "Prompt flow service has started...\n",
      "You can view the traces in local from http://127.0.0.1:23333/v1.0/ui/traces/?#run=2024_06_19_155213chat_eval_run\n"
     ]
    },
    {
     "name": "stdout",
     "output_type": "stream",
     "text": [
      "You can view the trace detail from the following URL:\n",
      "http://127.0.0.1:23333/v1.0/ui/traces/?#collection=multi_flow&uiTraceId=0x658e409ebf75e31de93c3d8bd03afdf4\n",
      "You can view the trace detail from the following URL:\n",
      "http://127.0.0.1:23333/v1.0/ui/traces/?#collection=multi_flow&uiTraceId=0x11caa9b0a05532b1d350484a832f0151\n",
      "You can view the trace detail from the following URL:\n",
      "http://127.0.0.1:23333/v1.0/ui/traces/?#collection=multi_flow&uiTraceId=0xb8b666b54c75029299b6e2919db32bff\n",
      "You can view the trace detail from the following URL:\n",
      "http://127.0.0.1:23333/v1.0/ui/traces/?#collection=multi_flow&uiTraceId=0xfc5c7593fb6cd0f8f0950f1883b58ed6\n",
      "You can view the trace detail from the following URL:\n",
      "http://127.0.0.1:23333/v1.0/ui/traces/?#collection=multi_flow&uiTraceId=0xd5be11647d57025ee8415b19e86f8657\n"
     ]
    }
   ],
   "source": [
    "\n",
    "run_name = timestamp+\"chat_eval_run\"\n",
    "print(run_name)\n",
    "\n",
    "run_name_hf = timestamp+\"chat_eval_run\"\n",
    "print(run_name_hf)\n",
    "\n",
    "local_eval_run_variant = pf_client.run(\n",
    "    flow=eval_flow,\n",
    "    data=data,  # path to the data file\n",
    "    run=local_base_run_hf,  # use run as the variant\n",
    "    column_mapping={\n",
    "        # reference data\n",
    "        \"customerId\": \"${data.customerId}\",\n",
    "        \"question\": \"${data.question}\",\n",
    "        \"context\": \"${run.outputs.context}\",\n",
    "        # reference the run's output\n",
    "        \"answer\": \"${run.outputs.answer}\",\n",
    "    },\n",
    "    runtime=runtime,\n",
    "    display_name=run_name,\n",
    "    name=run_name\n",
    ")"
   ]
  },
  {
   "cell_type": "code",
   "execution_count": 9,
   "metadata": {
    "execution": {
     "iopub.execute_input": "2024-06-19T14:52:35.899391Z",
     "iopub.status.busy": "2024-06-19T14:52:35.899316Z",
     "iopub.status.idle": "2024-06-19T14:52:35.953285Z",
     "shell.execute_reply": "2024-06-19T14:52:35.952980Z"
    }
   },
   "outputs": [
    {
     "name": "stdout",
     "output_type": "stream",
     "text": [
      "{\n",
      "    \"gpt_coherence\": 3.8,\n",
      "    \"gpt_coherence_pass_rate(%)\": 80.0,\n",
      "    \"gpt_fluency\": 3.4,\n",
      "    \"gpt_fluency_pass_rate(%)\": 60.0,\n",
      "    \"gpt_groundedness\": 1.0,\n",
      "    \"gpt_groundedness_pass_rate(%)\": 0.0,\n",
      "    \"gpt_relevance\": 1.8,\n",
      "    \"gpt_relevance_pass_rate(%)\": 0.0\n",
      "}\n"
     ]
    },
    {
     "name": "stdout",
     "output_type": "stream",
     "text": [
      "2024-06-19 15:52:18 +0100   23190 execution.bulk     INFO     Current thread is not main thread, skip signal handler registration in BatchEngine.\n",
      "2024-06-19 15:52:18 +0100   23190 execution.bulk     INFO     Current system's available memory is 2604.546875MB, memory consumption of current process is 273.953125MB, estimated available worker count is 2604.546875/273.953125 = 9\n",
      "2024-06-19 15:52:18 +0100   23190 execution.bulk     INFO     Set process count to 4 by taking the minimum value among the factors of {'default_worker_count': 4, 'row_count': 5, 'estimated_worker_count_based_on_memory_usage': 9}.\n",
      "2024-06-19 15:52:19 +0100   23190 execution.bulk     INFO     Process name(SpawnProcess-8)-Process id(23259)-Line number(0) start execution.\n",
      "2024-06-19 15:52:19 +0100   23190 execution.bulk     INFO     Process name(SpawnProcess-10)-Process id(23261)-Line number(1) start execution.\n",
      "2024-06-19 15:52:19 +0100   23190 execution.bulk     INFO     Process name(SpawnProcess-7)-Process id(23252)-Line number(2) start execution.\n",
      "2024-06-19 15:52:19 +0100   23190 execution.bulk     INFO     Process name(SpawnProcess-9)-Process id(23260)-Line number(3) start execution.\n",
      "2024-06-19 15:52:20 +0100   23261 execution          WARNING  [fluency_score in line 1 (index starts from 0)] stderr> Exception occurs: RateLimitError: Error code: 429 - {'error': {'code': '429', 'message': 'Requests to the ChatCompletions_Create Operation under Azure OpenAI API version 2024-03-01-preview have exceeded call rate limit of your current AIServices S0 pricing tier. Please retry after 1 second. Please contact Azure support service if you would like to further increase the default rate limit.'}}\n",
      "2024-06-19 15:52:20 +0100   23261 execution          WARNING  [fluency_score in line 1 (index starts from 0)] stderr> RateLimitError #0, Retry-After=1, Back off 1.0 seconds for retry.\n",
      "2024-06-19 15:52:21 +0100   23259 execution          WARNING  [groundedness_score in line 0 (index starts from 0)] stderr> Exception occurs: RateLimitError: Error code: 429 - {'error': {'code': '429', 'message': 'Requests to the ChatCompletions_Create Operation under Azure OpenAI API version 2024-03-01-preview have exceeded call rate limit of your current AIServices S0 pricing tier. Please retry after 3 seconds. Please contact Azure support service if you would like to further increase the default rate limit.'}}\n",
      "2024-06-19 15:52:21 +0100   23259 execution          WARNING  [groundedness_score in line 0 (index starts from 0)] stderr> RateLimitError #0, Retry-After=3, Back off 3.0 seconds for retry.\n",
      "2024-06-19 15:52:21 +0100   23259 execution          WARNING  [relevance_score in line 0 (index starts from 0)] stderr> Exception occurs: RateLimitError: Error code: 429 - {'error': {'code': '429', 'message': 'Requests to the ChatCompletions_Create Operation under Azure OpenAI API version 2024-03-01-preview have exceeded call rate limit of your current AIServices S0 pricing tier. Please retry after 3 seconds. Please contact Azure support service if you would like to further increase the default rate limit.'}}\n",
      "2024-06-19 15:52:21 +0100   23259 execution          WARNING  [relevance_score in line 0 (index starts from 0)] stderr> RateLimitError #0, Retry-After=3, Back off 3.0 seconds for retry.\n",
      "2024-06-19 15:52:21 +0100   23261 execution          WARNING  [groundedness_score in line 1 (index starts from 0)] stderr> Exception occurs: RateLimitError: Error code: 429 - {'error': {'code': '429', 'message': 'Requests to the ChatCompletions_Create Operation under Azure OpenAI API version 2024-03-01-preview have exceeded call rate limit of your current AIServices S0 pricing tier. Please retry after 3 seconds. Please contact Azure support service if you would like to further increase the default rate limit.'}}\n",
      "2024-06-19 15:52:21 +0100   23261 execution          WARNING  [groundedness_score in line 1 (index starts from 0)] stderr> RateLimitError #0, Retry-After=3, Back off 3.0 seconds for retry.\n",
      "2024-06-19 15:52:21 +0100   23190 execution.bulk     INFO     Process name(SpawnProcess-7)-Process id(23252)-Line number(2) completed.\n",
      "2024-06-19 15:52:21 +0100   23190 execution.bulk     INFO     Process name(SpawnProcess-7)-Process id(23252)-Line number(4) start execution.\n",
      "2024-06-19 15:52:21 +0100   23252 execution          WARNING  [coherence_score in line 4 (index starts from 0)] stderr> Exception occurs: RateLimitError: Error code: 429 - {'error': {'code': '429', 'message': 'Requests to the ChatCompletions_Create Operation under Azure OpenAI API version 2024-03-01-preview have exceeded call rate limit of your current AIServices S0 pricing tier. Please retry after 3 seconds. Please contact Azure support service if you would like to further increase the default rate limit.'}}\n",
      "2024-06-19 15:52:21 +0100   23252 execution          WARNING  [fluency_score in line 4 (index starts from 0)] stderr> Exception occurs: RateLimitError: Error code: 429 - {'error': {'code': '429', 'message': 'Requests to the ChatCompletions_Create Operation under Azure OpenAI API version 2024-03-01-preview have exceeded call rate limit of your current AIServices S0 pricing tier. Please retry after 3 seconds. Please contact Azure support service if you would like to further increase the default rate limit.'}}\n",
      "2024-06-19 15:52:21 +0100   23252 execution          WARNING  [coherence_score in line 4 (index starts from 0)] stderr> RateLimitError #0, Retry-After=3, Back off 3.0 seconds for retry.\n",
      "2024-06-19 15:52:21 +0100   23252 execution          WARNING  [fluency_score in line 4 (index starts from 0)] stderr> RateLimitError #0, Retry-After=3, Back off 3.0 seconds for retry.\n",
      "2024-06-19 15:52:21 +0100   23260 execution          WARNING  [groundedness_score in line 3 (index starts from 0)] stderr> Exception occurs: RateLimitError: Error code: 429 - {'error': {'code': '429', 'message': 'Requests to the ChatCompletions_Create Operation under Azure OpenAI API version 2024-03-01-preview have exceeded call rate limit of your current AIServices S0 pricing tier. Please retry after 3 seconds. Please contact Azure support service if you would like to further increase the default rate limit.'}}\n",
      "2024-06-19 15:52:21 +0100   23260 execution          WARNING  [groundedness_score in line 3 (index starts from 0)] stderr> RateLimitError #0, Retry-After=3, Back off 3.0 seconds for retry.\n",
      "2024-06-19 15:52:21 +0100   23260 execution          WARNING  [relevance_score in line 3 (index starts from 0)] stderr> Exception occurs: RateLimitError: Error code: 429 - {'error': {'code': '429', 'message': 'Requests to the ChatCompletions_Create Operation under Azure OpenAI API version 2024-03-01-preview have exceeded call rate limit of your current AIServices S0 pricing tier. Please retry after 3 seconds. Please contact Azure support service if you would like to further increase the default rate limit.'}}\n",
      "2024-06-19 15:52:21 +0100   23260 execution          WARNING  [relevance_score in line 3 (index starts from 0)] stderr> RateLimitError #0, Retry-After=3, Back off 3.0 seconds for retry.\n",
      "2024-06-19 15:52:21 +0100   23190 execution.bulk     INFO     Finished 1 / 5 lines.\n",
      "2024-06-19 15:52:21 +0100   23190 execution.bulk     INFO     Average execution time for completed lines: 2.0 seconds. Estimated time for incomplete lines: 8.0 seconds.\n",
      "2024-06-19 15:52:21 +0100   23261 execution          WARNING  [fluency_score in line 1 (index starts from 0)] stderr> Exception occurs: RateLimitError: Error code: 429 - {'error': {'code': '429', 'message': 'Requests to the ChatCompletions_Create Operation under Azure OpenAI API version 2024-03-01-preview have exceeded call rate limit of your current AIServices S0 pricing tier. Please retry after 2 seconds. Please contact Azure support service if you would like to further increase the default rate limit.'}}\n",
      "2024-06-19 15:52:21 +0100   23261 execution          WARNING  [fluency_score in line 1 (index starts from 0)] stderr> RateLimitError #1, Retry-After=2, Back off 2.0 seconds for retry.\n",
      "2024-06-19 15:52:24 +0100   23259 execution          WARNING  [groundedness_score in line 0 (index starts from 0)] stderr> Exception occurs: RateLimitError: Error code: 429 - {'error': {'code': '429', 'message': 'Requests to the ChatCompletions_Create Operation under Azure OpenAI API version 2024-03-01-preview have exceeded call rate limit of your current AIServices S0 pricing tier. Please retry after 6 seconds. Please contact Azure support service if you would like to further increase the default rate limit.'}}\n",
      "2024-06-19 15:52:24 +0100   23259 execution          WARNING  [groundedness_score in line 0 (index starts from 0)] stderr> RateLimitError #1, Retry-After=6, Back off 6.0 seconds for retry.\n",
      "2024-06-19 15:52:24 +0100   23259 execution          WARNING  [relevance_score in line 0 (index starts from 0)] stderr> Exception occurs: RateLimitError: Error code: 429 - {'error': {'code': '429', 'message': 'Requests to the ChatCompletions_Create Operation under Azure OpenAI API version 2024-03-01-preview have exceeded call rate limit of your current AIServices S0 pricing tier. Please retry after 6 seconds. Please contact Azure support service if you would like to further increase the default rate limit.'}}\n",
      "2024-06-19 15:52:24 +0100   23259 execution          WARNING  [relevance_score in line 0 (index starts from 0)] stderr> RateLimitError #1, Retry-After=6, Back off 6.0 seconds for retry.\n",
      "2024-06-19 15:52:24 +0100   23261 execution          WARNING  [groundedness_score in line 1 (index starts from 0)] stderr> Exception occurs: RateLimitError: Error code: 429 - {'error': {'code': '429', 'message': 'Requests to the ChatCompletions_Create Operation under Azure OpenAI API version 2024-03-01-preview have exceeded call rate limit of your current AIServices S0 pricing tier. Please retry after 6 seconds. Please contact Azure support service if you would like to further increase the default rate limit.'}}\n",
      "2024-06-19 15:52:24 +0100   23261 execution          WARNING  [groundedness_score in line 1 (index starts from 0)] stderr> RateLimitError #1, Retry-After=6, Back off 6.0 seconds for retry.\n",
      "2024-06-19 15:52:24 +0100   23261 execution          WARNING  [relevance_score in line 1 (index starts from 0)] stderr> Exception occurs: RateLimitError: Error code: 429 - {'error': {'code': '429', 'message': 'Requests to the ChatCompletions_Create Operation under Azure OpenAI API version 2024-03-01-preview have exceeded call rate limit of your current AIServices S0 pricing tier. Please retry after 6 seconds. Please contact Azure support service if you would like to further increase the default rate limit.'}}\n",
      "2024-06-19 15:52:24 +0100   23261 execution          WARNING  [relevance_score in line 1 (index starts from 0)] stderr> RateLimitError #0, Retry-After=6, Back off 6.0 seconds for retry.\n",
      "2024-06-19 15:52:24 +0100   23252 execution          WARNING  [fluency_score in line 4 (index starts from 0)] stderr> Exception occurs: RateLimitError: Error code: 429 - {'error': {'code': '429', 'message': 'Requests to the ChatCompletions_Create Operation under Azure OpenAI API version 2024-03-01-preview have exceeded call rate limit of your current AIServices S0 pricing tier. Please retry after 6 seconds. Please contact Azure support service if you would like to further increase the default rate limit.'}}\n",
      "2024-06-19 15:52:24 +0100   23252 execution          WARNING  [coherence_score in line 4 (index starts from 0)] stderr> Exception occurs: RateLimitError: Error code: 429 - {'error': {'code': '429', 'message': 'Requests to the ChatCompletions_Create Operation under Azure OpenAI API version 2024-03-01-preview have exceeded call rate limit of your current AIServices S0 pricing tier. Please retry after 6 seconds. Please contact Azure support service if you would like to further increase the default rate limit.'}}\n",
      "2024-06-19 15:52:24 +0100   23252 execution          WARNING  [fluency_score in line 4 (index starts from 0)] stderr> RateLimitError #1, Retry-After=6, Back off 6.0 seconds for retry.\n",
      "2024-06-19 15:52:24 +0100   23252 execution          WARNING  [coherence_score in line 4 (index starts from 0)] stderr> RateLimitError #1, Retry-After=6, Back off 6.0 seconds for retry.\n",
      "2024-06-19 15:52:24 +0100   23260 execution          WARNING  [groundedness_score in line 3 (index starts from 0)] stderr> Exception occurs: RateLimitError: Error code: 429 - {'error': {'code': '429', 'message': 'Requests to the ChatCompletions_Create Operation under Azure OpenAI API version 2024-03-01-preview have exceeded call rate limit of your current AIServices S0 pricing tier. Please retry after 6 seconds. Please contact Azure support service if you would like to further increase the default rate limit.'}}\n",
      "2024-06-19 15:52:24 +0100   23260 execution          WARNING  [groundedness_score in line 3 (index starts from 0)] stderr> RateLimitError #1, Retry-After=6, Back off 6.0 seconds for retry.\n",
      "2024-06-19 15:52:24 +0100   23260 execution          WARNING  [relevance_score in line 3 (index starts from 0)] stderr> Exception occurs: RateLimitError: Error code: 429 - {'error': {'code': '429', 'message': 'Requests to the ChatCompletions_Create Operation under Azure OpenAI API version 2024-03-01-preview have exceeded call rate limit of your current AIServices S0 pricing tier. Please retry after 6 seconds. Please contact Azure support service if you would like to further increase the default rate limit.'}}\n",
      "2024-06-19 15:52:24 +0100   23260 execution          WARNING  [relevance_score in line 3 (index starts from 0)] stderr> RateLimitError #1, Retry-After=6, Back off 6.0 seconds for retry.\n",
      "2024-06-19 15:52:30 +0100   23252 execution          WARNING  [fluency_score in line 4 (index starts from 0)] stderr> Exception occurs: RateLimitError: Error code: 429 - {'error': {'code': '429', 'message': 'Requests to the ChatCompletions_Create Operation under Azure OpenAI API version 2024-03-01-preview have exceeded call rate limit of your current AIServices S0 pricing tier. Please retry after 1 second. Please contact Azure support service if you would like to further increase the default rate limit.'}}\n",
      "2024-06-19 15:52:30 +0100   23252 execution          WARNING  [fluency_score in line 4 (index starts from 0)] stderr> RateLimitError #2, Retry-After=1, Back off 1.0 seconds for retry.\n",
      "2024-06-19 15:52:30 +0100   23260 execution          WARNING  [groundedness_score in line 3 (index starts from 0)] stderr> Exception occurs: RateLimitError: Error code: 429 - {'error': {'code': '429', 'message': 'Requests to the ChatCompletions_Create Operation under Azure OpenAI API version 2024-03-01-preview have exceeded call rate limit of your current AIServices S0 pricing tier. Please retry after 1 second. Please contact Azure support service if you would like to further increase the default rate limit.'}}\n",
      "2024-06-19 15:52:30 +0100   23260 execution          WARNING  [groundedness_score in line 3 (index starts from 0)] stderr> RateLimitError #2, Retry-After=1, Back off 1.0 seconds for retry.\n",
      "2024-06-19 15:52:30 +0100   23260 execution          WARNING  [relevance_score in line 3 (index starts from 0)] stderr> Exception occurs: RateLimitError: Error code: 429 - {'error': {'code': '429', 'message': 'Requests to the ChatCompletions_Create Operation under Azure OpenAI API version 2024-03-01-preview have exceeded call rate limit of your current AIServices S0 pricing tier. Please retry after 1 second. Please contact Azure support service if you would like to further increase the default rate limit.'}}\n",
      "2024-06-19 15:52:30 +0100   23260 execution          WARNING  [relevance_score in line 3 (index starts from 0)] stderr> RateLimitError #2, Retry-After=1, Back off 1.0 seconds for retry.\n",
      "2024-06-19 15:52:31 +0100   23190 execution.bulk     INFO     Process name(SpawnProcess-10)-Process id(23261)-Line number(1) completed.\n",
      "2024-06-19 15:52:31 +0100   23190 execution.bulk     INFO     Process name(SpawnProcess-8)-Process id(23259)-Line number(0) completed.\n",
      "2024-06-19 15:52:31 +0100   23190 execution.bulk     INFO     Finished 3 / 5 lines.\n",
      "2024-06-19 15:52:31 +0100   23190 execution.bulk     INFO     Average execution time for completed lines: 4.0 seconds. Estimated time for incomplete lines: 8.0 seconds.\n",
      "2024-06-19 15:52:31 +0100   23252 execution          WARNING  [relevance_score in line 4 (index starts from 0)] stderr> Exception occurs: RateLimitError: Error code: 429 - {'error': {'code': '429', 'message': 'Requests to the ChatCompletions_Create Operation under Azure OpenAI API version 2024-03-01-preview have exceeded call rate limit of your current AIServices S0 pricing tier. Please retry after 2 seconds. Please contact Azure support service if you would like to further increase the default rate limit.'}}\n",
      "2024-06-19 15:52:31 +0100   23252 execution          WARNING  [relevance_score in line 4 (index starts from 0)] stderr> RateLimitError #0, Retry-After=2, Back off 2.0 seconds for retry.\n",
      "2024-06-19 15:52:32 +0100   23190 execution.bulk     INFO     Process name(SpawnProcess-9)-Process id(23260)-Line number(3) completed.\n",
      "2024-06-19 15:52:32 +0100   23190 execution.bulk     INFO     Finished 4 / 5 lines.\n",
      "2024-06-19 15:52:32 +0100   23190 execution.bulk     INFO     Average execution time for completed lines: 3.25 seconds. Estimated time for incomplete lines: 3.25 seconds.\n",
      "2024-06-19 15:52:34 +0100   23190 execution.bulk     INFO     Process name(SpawnProcess-7)-Process id(23252)-Line number(4) completed.\n",
      "2024-06-19 15:52:35 +0100   23190 execution.bulk     INFO     Finished 5 / 5 lines.\n",
      "2024-06-19 15:52:35 +0100   23190 execution.bulk     INFO     Average execution time for completed lines: 3.2 seconds. Estimated time for incomplete lines: 0.0 seconds.\n",
      "2024-06-19 15:52:35 +0100   23190 execution.bulk     INFO     The thread monitoring the process [23261-SpawnProcess-10] will be terminated.\n",
      "2024-06-19 15:52:35 +0100   23261 execution.bulk     INFO     The process [23261] has received a terminate signal.\n",
      "2024-06-19 15:52:35 +0100   23190 execution.bulk     INFO     The thread monitoring the process [23260-SpawnProcess-9] will be terminated.\n",
      "2024-06-19 15:52:35 +0100   23260 execution.bulk     INFO     The process [23260] has received a terminate signal.\n",
      "2024-06-19 15:52:35 +0100   23190 execution.bulk     INFO     The thread monitoring the process [23259-SpawnProcess-8] will be terminated.\n",
      "2024-06-19 15:52:35 +0100   23259 execution.bulk     INFO     The process [23259] has received a terminate signal.\n",
      "2024-06-19 15:52:35 +0100   23190 execution.bulk     INFO     The thread monitoring the process [23252-SpawnProcess-7] will be terminated.\n",
      "2024-06-19 15:52:35 +0100   23252 execution.bulk     INFO     The process [23252] has received a terminate signal.\n",
      "2024-06-19 15:52:35 +0100   23190 execution.bulk     INFO     Process 23260 terminated.\n",
      "2024-06-19 15:52:35 +0100   23190 execution.bulk     INFO     Process 23259 terminated.\n",
      "2024-06-19 15:52:35 +0100   23190 execution.bulk     INFO     Process 23252 terminated.\n",
      "2024-06-19 15:52:35 +0100   23190 execution.bulk     INFO     Process 23261 terminated.\n",
      "2024-06-19 15:52:35 +0100   23190 execution.bulk     INFO     Executing aggregation node...\n",
      "2024-06-19 15:52:35 +0100   23190 execution.bulk     INFO     Finish executing aggregation node.\n",
      "======= Run Summary =======\n",
      "\n",
      "Run name: \"2024_06_19_155213chat_eval_run\"\n",
      "Run status: \"Completed\"\n",
      "Start time: \"2024-06-19 15:52:18.575710\"\n",
      "Duration: \"0:00:17.293931\"\n",
      "Output path: \"/Users/yonghuizhu/.promptflow/.runs/2024_06_19_155213chat_eval_run\"\n",
      "\n"
     ]
    },
    {
     "data": {
      "text/plain": [
       "<promptflow._sdk.entities._run.Run at 0x123774c10>"
      ]
     },
     "execution_count": 9,
     "metadata": {},
     "output_type": "execute_result"
    }
   ],
   "source": [
    "\n",
    "metrics_hf = pf_client.get_metrics(local_eval_run_variant)\n",
    "import json\n",
    "print(json.dumps(metrics_hf, indent=4))\n",
    "pf_client.stream(local_eval_run_variant)"
   ]
  },
  {
   "cell_type": "code",
   "execution_count": 10,
   "metadata": {
    "execution": {
     "iopub.execute_input": "2024-06-19T14:52:35.954495Z",
     "iopub.status.busy": "2024-06-19T14:52:35.954411Z",
     "iopub.status.idle": "2024-06-19T14:52:38.276183Z",
     "shell.execute_reply": "2024-06-19T14:52:38.275850Z"
    }
   },
   "outputs": [
    {
     "name": "stderr",
     "output_type": "stream",
     "text": [
      "WARNING:root:'from promptflow import tool' is deprecated and will be removed in the future. Use 'from promptflow.core import tool' instead.\n",
      "WARNING:root:'from promptflow import log_metric' is deprecated and will be removed in the future. Use 'from promptflow.core import log_metric' instead.\n"
     ]
    },
    {
     "name": "stderr",
     "output_type": "stream",
     "text": [
      "WARNING:root:'from promptflow import ToolProvider' is deprecated and will be removed in the future. Use 'from promptflow.core import ToolProvider' instead.\n"
     ]
    },
    {
     "name": "stdout",
     "output_type": "stream",
     "text": [
      "The HTML file is generated at '/private/var/folders/hf/3mqmr8vd3cs309p9_zg2wcsr0000gn/T/pf-visualize-detail-kxsajmq3.html'.\n",
      "Trying to view the result in a web browser...\n"
     ]
    },
    {
     "name": "stdout",
     "output_type": "stream",
     "text": [
      "Successfully visualized from the web browser.\n"
     ]
    }
   ],
   "source": [
    "pf_client.visualize([local_base_run_hf, local_eval_run_variant])"
   ]
  }
 ],
 "metadata": {
  "kernelspec": {
   "display_name": ".venv",
   "language": "python",
   "name": "python3"
  },
  "language_info": {
   "codemirror_mode": {
    "name": "ipython",
    "version": 3
   },
   "file_extension": ".py",
   "mimetype": "text/x-python",
   "name": "python",
   "nbconvert_exporter": "python",
   "pygments_lexer": "ipython3",
   "version": "3.11.9"
  }
 },
 "nbformat": 4,
 "nbformat_minor": 2
}
