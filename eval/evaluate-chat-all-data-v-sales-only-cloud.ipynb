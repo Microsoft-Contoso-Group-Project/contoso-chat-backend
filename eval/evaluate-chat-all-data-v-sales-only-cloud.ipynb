{
 "cells": [
  {
   "cell_type": "markdown",
   "metadata": {},
   "source": [
    "# AI Studio Azure batch run Evaluation\n",
    "### Chat Prompt Flow - All Data Run Base Run\n",
    "\n",
    "Now in order to test these more thoroughly, we can use the Azure AI Studio to run batches of test data with the evaluation prompt flow on a larger dataset."
   ]
  },
  {
   "cell_type": "code",
   "execution_count": 1,
   "metadata": {},
   "outputs": [
    {
     "name": "stderr",
     "output_type": "stream",
     "text": [
      "WARNING:root:'from promptflow import PFClient' is deprecated and will be removed in the future. Use 'from promptflow.client import PFClient' instead.\n"
     ]
    }
   ],
   "source": [
    "import json\n",
    "# Import required libraries\n",
    "from promptflow.azure import PFClient\n",
    "# Import required libraries\n",
    "from azure.identity import DefaultAzureCredential, InteractiveBrowserCredential\n",
    "from evaluate import run_azure_flow, run_azure_eval_flow"
   ]
  },
  {
   "cell_type": "code",
   "execution_count": 2,
   "metadata": {},
   "outputs": [],
   "source": [
    "try:\n",
    "    credential = DefaultAzureCredential()\n",
    "    # Check if given credential can get token successfully.\n",
    "    credential.get_token(\"https://management.azure.com/.default\")\n",
    "except Exception as ex:\n",
    "    # Fall back to InteractiveBrowserCredential in case DefaultAzureCredential not work\n",
    "    credential = InteractiveBrowserCredential()"
   ]
  },
  {
   "cell_type": "markdown",
   "metadata": {},
   "source": [
    "Populate the `config.json` file with the subscription_id, resource_group, and workspace_name."
   ]
  },
  {
   "cell_type": "code",
   "execution_count": 3,
   "metadata": {},
   "outputs": [
    {
     "name": "stderr",
     "output_type": "stream",
     "text": [
      "Found the config file in: ../config.json\n"
     ]
    }
   ],
   "source": [
    "config_path = \"../config.json\"\n",
    "pf_azure_client = PFClient.from_config(credential=credential, path=config_path)"
   ]
  },
  {
   "cell_type": "markdown",
   "metadata": {},
   "source": [
    "Set the properties needed to run in Azure"
   ]
  },
  {
   "cell_type": "code",
   "execution_count": 4,
   "metadata": {},
   "outputs": [],
   "source": [
    "# Update the runtime to the name of the runtime you created previously\n",
    "runtime = \"automatic\"\n",
    "flow = \"../contoso-chat\"\n",
    "data = \"../data/alltestdata.jsonl\"\n",
    "run_name = \"chat_all_data_base_run\"\n",
    "column_mapping={\"customerId\": \"${data.customerId}\",\"question\": \"${data.question}\"}\n"
   ]
  },
  {
   "cell_type": "markdown",
   "metadata": {},
   "source": [
    "Create a base run to use as the variant for the evaluation runs. "
   ]
  },
  {
   "cell_type": "code",
   "execution_count": 5,
   "metadata": {},
   "outputs": [
    {
     "name": "stderr",
     "output_type": "stream",
     "text": [
      "\u001b[32mUploading alltestdata.jsonl\u001b[32m (< 1 MB): 100%|██████████| 1.51k/1.51k [00:00<00:00, 48.1kB/s]\n",
      "\u001b[39m\n",
      "\n",
      "[2024-06-04 00:58:03 +0000][promptflow][WARNING] - You're using compute session, if it's first time you're using it, it may take a while to build session and you may see 'NotStarted' status for a while. \n"
     ]
    },
    {
     "name": "stdout",
     "output_type": "stream",
     "text": [
      "Portal url: https://ai.azure.com/projectflows/trace/run/chat_all_data_base_run_06_04_0057/details?wsid=/subscriptions/28e0cd19-9f05-4b6c-bac8-3bb37e8eeee3/resourcegroups/rg-deployment6/providers/Microsoft.MachineLearningServices/workspaces/contoso-chat-sf-aiproj\n"
     ]
    }
   ],
   "source": [
    "base_run = run_azure_flow(runtime, flow, run_name, data, column_mapping, pf_azure_client)"
   ]
  },
  {
   "cell_type": "code",
   "execution_count": 6,
   "metadata": {},
   "outputs": [
    {
     "name": "stdout",
     "output_type": "stream",
     "text": [
      "(Run status is 'NotStarted', continue streaming...)\n",
      "(Run status is 'NotStarted', continue streaming...)\n",
      "(Run status is 'NotStarted', continue streaming...)\n",
      "(Run status is 'Preparing', continue streaming...)\n",
      "2024-06-04 01:00:29 +0000      98 promptflow-runtime INFO     [chat_all_data_base_run_06_04_0057] Receiving v2 bulk run request bff02c86-81d4-48ea-8e7a-bb968d23fb2d: {\"flow_id\": \"chat_all_data_base_run_06_04_0057\", \"flow_run_id\": \"chat_all_data_base_run_06_04_0057\", \"flow_source\": {\"flow_source_type\": 1, \"flow_source_info\": {\"snapshot_id\": \"a605f013-817f-49b3-903d-02f47414d3de\"}, \"flow_dag_file\": \"flow.dag.yaml\"}, \"connections\": \"**data_scrubbed**\", \"log_path\": \"https://stcontosoz2rl7ers7zqcm.blob.core.windows.net/095e81c8-ded8-4405-8381-dd6f75af10c3-azureml/ExperimentRun/dcid.chat_all_data_base_run_06_04_0057/logs/azureml/executionlogs.txt?sv=2019-07-07&sr=b&sig=**data_scrubbed**&skoid=196af4dc-b9e8-4c71-858c-f1cdd5b8c37d&sktid=b8c35a17-09c7-40ba-9173-6be750b65674&skt=2024-06-04T00%3A48%3A05Z&ske=2024-06-05T08%3A58%3A05Z&sks=b&skv=2019-07-07&st=2024-06-04T00%3A50%3A27Z&se=2024-06-04T09%3A00%3A27Z&sp=rcw\", \"app_insights_instrumentation_key\": \"InstrumentationKey=**data_scrubbed**;IngestionEndpoint=https://switzerlandnorth-0.in.applicationinsights.azure.com/;LiveEndpoint=https://switzerlandnorth.livediagnostics.monitor.azure.com/\", \"flow_name\": \"chat_all_data_base_run_06_04_0057\", \"batch_timeout_sec\": 36000, \"data_inputs\": {\"data\": \"azureml://datastores/workspaceblobstore/paths/LocalUpload/95d29047bbd601233b0275c6ef72dc19/alltestdata.jsonl\"}, \"inputs_mapping\": {\"customerId\": \"${data.customerId}\", \"question\": \"${data.question}\"}, \"azure_storage_setting\": {\"azure_storage_mode\": 1, \"storage_account_name\": \"stcontosoz2rl7ers7zqcm\", \"blob_container_name\": \"095e81c8-ded8-4405-8381-dd6f75af10c3-azureml-blobstore\", \"flow_artifacts_root_path\": \"promptflow/PromptFlowArtifacts/chat_all_data_base_run_06_04_0057\", \"blob_container_sas_token\": \"?sv=2019-07-07&sr=c&sig=**data_scrubbed**&skoid=196af4dc-b9e8-4c71-858c-f1cdd5b8c37d&sktid=b8c35a17-09c7-40ba-9173-6be750b65674&skt=2024-06-04T01%3A00%3A29Z&ske=2024-06-11T01%3A00%3A29Z&sks=b&skv=2019-07-07&se=2024-06-11T01%3A00%3A29Z&sp=racwl\", \"output_datastore_name\": \"workspaceblobstore\"}}\n",
      "2024-06-04 01:00:30 +0000      98 promptflow-runtime INFO     Runtime version: 20240515.v1. PromptFlow version: 1.11.0rc4\n",
      "2024-06-04 01:00:30 +0000      98 promptflow-runtime INFO     Updating chat_all_data_base_run_06_04_0057 to Status.Preparing...\n",
      "2024-06-04 01:00:30 +0000      98 promptflow-runtime INFO     Downloading snapshot to /mnt/host/service/app/35875/requests/chat_all_data_base_run_06_04_0057\n",
      "2024-06-04 01:00:30 +0000      98 promptflow-runtime INFO     Get snapshot sas url for a605f013-817f-49b3-903d-02f47414d3de.\n",
      "2024-06-04 01:00:30 +0000      98 promptflow-runtime INFO     Snapshot a605f013-817f-49b3-903d-02f47414d3de contains 15 files.\n",
      "2024-06-04 01:00:30 +0000      98 promptflow-runtime INFO     Download snapshot a605f013-817f-49b3-903d-02f47414d3de completed.\n",
      "2024-06-04 01:00:30 +0000      98 promptflow-runtime INFO     Successfully download snapshot to /mnt/host/service/app/35875/requests/chat_all_data_base_run_06_04_0057\n",
      "2024-06-04 01:00:30 +0000      98 promptflow-runtime INFO     About to execute a python flow.\n",
      "2024-06-04 01:00:32 +0000      98 promptflow-runtime INFO     Use spawn method to start child process.\n",
      "2024-06-04 01:00:33 +0000      98 promptflow-runtime INFO     Starting to check process 192 status for run chat_all_data_base_run_06_04_0057\n",
      "2024-06-04 01:00:33 +0000      98 promptflow-runtime INFO     Start checking run status for run chat_all_data_base_run_06_04_0057\n",
      "2024-06-04 01:00:37 +0000     192 promptflow-runtime INFO     [98--192] Start processing flowV2......\n",
      "2024-06-04 01:00:37 +0000     192 promptflow-runtime INFO     Runtime version: 20240515.v1. PromptFlow version: 1.11.0rc4\n",
      "2024-06-04 01:00:37 +0000     192 promptflow-runtime INFO     Setting mlflow tracking uri...\n",
      "2024-06-04 01:00:37 +0000     192 promptflow-runtime INFO     Validating 'AzureML Data Scientist' user authentication...\n",
      "2024-06-04 01:00:39 +0000     192 promptflow-runtime INFO     Successfully validated 'AzureML Data Scientist' user authentication.\n",
      "2024-06-04 01:00:39 +0000     192 promptflow-runtime INFO     Using AzureMLRunStorageV2\n",
      "2024-06-04 01:00:39 +0000     192 promptflow-runtime INFO     Setting mlflow tracking uri to 'azureml://switzerlandnorth.api.azureml.ms/mlflow/v1.0/subscriptions/28e0cd19-9f05-4b6c-bac8-3bb37e8eeee3/resourceGroups/rg-deployment6/providers/Microsoft.MachineLearningServices/workspaces/contoso-chat-sf-aiproj'\n",
      "2024-06-04 01:00:39 +0000     192 promptflow-runtime INFO     Setting mlflow tracking uri to 'azureml://switzerlandnorth.api.azureml.ms/mlflow/v1.0/subscriptions/28e0cd19-9f05-4b6c-bac8-3bb37e8eeee3/resourceGroups/rg-deployment6/providers/Microsoft.MachineLearningServices/workspaces/contoso-chat-sf-aiproj'\n",
      "2024-06-04 01:00:39 +0000     192 promptflow-runtime INFO     Creating unregistered output Asset for Run chat_all_data_base_run_06_04_0057...\n",
      "2024-06-04 01:00:40 +0000     192 promptflow-runtime INFO     Created debug_info Asset: azureml://locations/switzerlandnorth/workspaces/095e81c8-ded8-4405-8381-dd6f75af10c3/data/azureml_chat_all_data_base_run_06_04_0057_output_data_debug_info/versions/1\n",
      "2024-06-04 01:00:40 +0000     192 promptflow-runtime INFO     Creating unregistered output Asset for Run chat_all_data_base_run_06_04_0057...\n",
      "2024-06-04 01:00:40 +0000     192 promptflow-runtime INFO     Created flow_outputs output Asset: azureml://locations/switzerlandnorth/workspaces/095e81c8-ded8-4405-8381-dd6f75af10c3/data/azureml_chat_all_data_base_run_06_04_0057_output_data_flow_outputs/versions/1\n",
      "2024-06-04 01:00:40 +0000     192 promptflow-runtime INFO     Patching chat_all_data_base_run_06_04_0057...\n",
      "2024-06-04 01:00:45 +0000     192 promptflow-runtime INFO     Resolve data from url finished in 1.9267607360015973 seconds\n",
      "2024-06-04 01:00:45 +0000     192 promptflow-runtime INFO     Starting the aml run 'chat_all_data_base_run_06_04_0057'...\n",
      "2024-06-04 01:00:46 +0000     192 execution.bulk     INFO     The timeout for the batch run is 36000 seconds.\n",
      "2024-06-04 01:00:47 +0000     192 execution.bulk     INFO     Set process count to 4 by taking the minimum value among the factors of {'default_worker_count': 4, 'row_count': 12}.\n",
      "2024-06-04 01:00:52 +0000     192 execution.bulk     INFO     Process name(ForkProcess-2:2:2)-Process id(358)-Line number(0) start execution.\n",
      "2024-06-04 01:00:52 +0000     192 execution.bulk     INFO     Process name(ForkProcess-2:2:3)-Process id(366)-Line number(1) start execution.\n",
      "2024-06-04 01:00:52 +0000     192 execution.bulk     INFO     Process name(ForkProcess-2:2:4)-Process id(379)-Line number(3) start execution.\n",
      "2024-06-04 01:00:52 +0000     192 execution.bulk     INFO     Process name(ForkProcess-2:2:1)-Process id(349)-Line number(2) start execution.\n",
      "2024-06-04 01:00:59 +0000     192 execution.bulk     INFO     Process name(ForkProcess-2:2:3)-Process id(366)-Line number(1) completed.\n",
      "2024-06-04 01:00:59 +0000     192 execution.bulk     INFO     Process name(ForkProcess-2:2:3)-Process id(366)-Line number(4) start execution.\n",
      "2024-06-04 01:00:59 +0000     192 execution.bulk     INFO     Process name(ForkProcess-2:2:4)-Process id(379)-Line number(3) completed.\n",
      "2024-06-04 01:00:59 +0000     192 execution.bulk     INFO     Process name(ForkProcess-2:2:4)-Process id(379)-Line number(5) start execution.\n",
      "2024-06-04 01:01:00 +0000     192 execution.bulk     INFO     Finished 2 / 12 lines.\n",
      "2024-06-04 01:01:00 +0000     192 execution.bulk     INFO     Average execution time for completed lines: 6.51 seconds. Estimated time for incomplete lines: 65.1 seconds.\n",
      "(Run status is 'Running', continue streaming...)\n",
      "2024-06-04 01:01:03 +0000     192 execution.bulk     INFO     Process name(ForkProcess-2:2:2)-Process id(358)-Line number(0) completed.\n",
      "2024-06-04 01:01:03 +0000     192 execution.bulk     INFO     Process name(ForkProcess-2:2:2)-Process id(358)-Line number(6) start execution.\n",
      "2024-06-04 01:01:03 +0000     192 execution.bulk     INFO     Finished 3 / 12 lines.\n",
      "2024-06-04 01:01:03 +0000     192 execution.bulk     INFO     Average execution time for completed lines: 5.36 seconds. Estimated time for incomplete lines: 48.24 seconds.\n",
      "2024-06-04 01:01:04 +0000     192 execution.bulk     INFO     Process name(ForkProcess-2:2:1)-Process id(349)-Line number(2) completed.\n",
      "2024-06-04 01:01:04 +0000     192 execution.bulk     INFO     Process name(ForkProcess-2:2:1)-Process id(349)-Line number(7) start execution.\n",
      "2024-06-04 01:01:05 +0000     192 execution.bulk     INFO     Finished 4 / 12 lines.\n",
      "2024-06-04 01:01:05 +0000     192 execution.bulk     INFO     Average execution time for completed lines: 4.53 seconds. Estimated time for incomplete lines: 36.24 seconds.\n",
      "2024-06-04 01:01:07 +0000     192 execution.bulk     INFO     Process name(ForkProcess-2:2:3)-Process id(366)-Line number(4) completed.\n",
      "2024-06-04 01:01:07 +0000     192 execution.bulk     INFO     Process name(ForkProcess-2:2:3)-Process id(366)-Line number(8) start execution.\n",
      "2024-06-04 01:01:07 +0000     192 execution.bulk     INFO     Finished 5 / 12 lines.\n",
      "2024-06-04 01:01:07 +0000     192 execution.bulk     INFO     Average execution time for completed lines: 4.03 seconds. Estimated time for incomplete lines: 28.21 seconds.\n",
      "2024-06-04 01:01:07 +0000     192 execution.bulk     INFO     Process name(ForkProcess-2:2:4)-Process id(379)-Line number(5) completed.\n",
      "2024-06-04 01:01:07 +0000     192 execution.bulk     INFO     Process name(ForkProcess-2:2:4)-Process id(379)-Line number(9) start execution.\n",
      "2024-06-04 01:01:08 +0000     192 execution.bulk     INFO     Finished 6 / 12 lines.\n",
      "2024-06-04 01:01:08 +0000     192 execution.bulk     INFO     Average execution time for completed lines: 3.53 seconds. Estimated time for incomplete lines: 21.18 seconds.\n",
      "2024-06-04 01:01:11 +0000     192 execution.bulk     INFO     Process name(ForkProcess-2:2:2)-Process id(358)-Line number(6) completed.\n",
      "2024-06-04 01:01:11 +0000     192 execution.bulk     INFO     Process name(ForkProcess-2:2:2)-Process id(358)-Line number(10) start execution.\n",
      "2024-06-04 01:01:12 +0000     192 execution.bulk     INFO     Finished 7 / 12 lines.\n",
      "2024-06-04 01:01:12 +0000     192 execution.bulk     INFO     Average execution time for completed lines: 3.6 seconds. Estimated time for incomplete lines: 18.0 seconds.\n",
      "2024-06-04 01:01:12 +0000     192 execution.bulk     INFO     Process name(ForkProcess-2:2:1)-Process id(349)-Line number(7) completed.\n",
      "2024-06-04 01:01:12 +0000     192 execution.bulk     INFO     Process name(ForkProcess-2:2:1)-Process id(349)-Line number(11) start execution.\n",
      "2024-06-04 01:01:13 +0000     192 execution.bulk     INFO     Finished 8 / 12 lines.\n",
      "2024-06-04 01:01:13 +0000     192 execution.bulk     INFO     Average execution time for completed lines: 3.28 seconds. Estimated time for incomplete lines: 13.12 seconds.\n",
      "2024-06-04 01:01:14 +0000     192 execution.bulk     INFO     Process name(ForkProcess-2:2:3)-Process id(366)-Line number(8) completed.\n",
      "2024-06-04 01:01:14 +0000     192 execution.bulk     INFO     Finished 9 / 12 lines.\n",
      "2024-06-04 01:01:14 +0000     192 execution.bulk     INFO     Average execution time for completed lines: 3.03 seconds. Estimated time for incomplete lines: 9.09 seconds.\n",
      "2024-06-04 01:01:15 +0000     192 execution.bulk     INFO     Process name(ForkProcess-2:2:4)-Process id(379)-Line number(9) completed.\n",
      "2024-06-04 01:01:15 +0000     192 execution.bulk     INFO     Finished 10 / 12 lines.\n",
      "2024-06-04 01:01:15 +0000     192 execution.bulk     INFO     Average execution time for completed lines: 2.83 seconds. Estimated time for incomplete lines: 5.66 seconds.\n",
      "2024-06-04 01:01:16 +0000     192 execution.bulk     INFO     Process name(ForkProcess-2:2:2)-Process id(358)-Line number(10) completed.\n",
      "2024-06-04 01:01:16 +0000     192 execution.bulk     INFO     Process name(ForkProcess-2:2:1)-Process id(349)-Line number(11) completed.\n",
      "2024-06-04 01:01:16 +0000     192 execution.bulk     INFO     Finished 12 / 12 lines.\n",
      "2024-06-04 01:01:16 +0000     192 execution.bulk     INFO     Average execution time for completed lines: 2.45 seconds. Estimated time for incomplete lines: 0.0 seconds.\n",
      "2024-06-04 01:01:16 +0000     192 execution.bulk     INFO     The thread monitoring the process [366-ForkProcess-2:2:3] will be terminated.\n",
      "2024-06-04 01:01:16 +0000     192 execution.bulk     INFO     The thread monitoring the process [358-ForkProcess-2:2:2] will be terminated.\n",
      "2024-06-04 01:01:16 +0000     192 execution.bulk     INFO     The thread monitoring the process [379-ForkProcess-2:2:4] will be terminated.\n",
      "2024-06-04 01:01:16 +0000     192 execution.bulk     INFO     The thread monitoring the process [349-ForkProcess-2:2:1] will be terminated.\n",
      "2024-06-04 01:01:16 +0000     366 execution.bulk     INFO     The process [366] has received a terminate signal.\n",
      "2024-06-04 01:01:16 +0000     358 execution.bulk     INFO     The process [358] has received a terminate signal.\n",
      "2024-06-04 01:01:16 +0000     379 execution.bulk     INFO     The process [379] has received a terminate signal.\n",
      "2024-06-04 01:01:16 +0000     349 execution.bulk     INFO     The process [349] has received a terminate signal.\n",
      "2024-06-04 01:01:17 +0000     192 promptflow-runtime INFO     Post processing batch result...\n",
      "2024-06-04 01:01:19 +0000     192 execution.bulk     INFO     Upload status summary metrics for run chat_all_data_base_run_06_04_0057 finished in 2.407965753998724 seconds\n",
      "2024-06-04 01:01:20 +0000     192 promptflow-runtime INFO     Successfully write run properties {\"_azureml.evaluate_artifacts\": \"[{\\\"path\\\": \\\"instance_results.jsonl\\\", \\\"type\\\": \\\"table\\\"}]\", \"azureml.promptflow.total_tokens\": 17775, \"azureml.promptflow.completion_tokens\": 1188, \"azureml.promptflow.prompt_tokens\": 16587} with run id 'chat_all_data_base_run_06_04_0057'\n",
      "2024-06-04 01:01:20 +0000     192 execution.bulk     INFO     Upload RH properties for run chat_all_data_base_run_06_04_0057 finished in 0.06756784500612412 seconds\n",
      "2024-06-04 01:01:20 +0000     192 promptflow-runtime INFO     Creating Artifact for Run chat_all_data_base_run_06_04_0057...\n",
      "2024-06-04 01:01:20 +0000     192 promptflow-runtime INFO     Created instance_results.jsonl Artifact.\n",
      "2024-06-04 01:01:20 +0000     192 promptflow-runtime INFO     Ending the aml run 'chat_all_data_base_run_06_04_0057' with status 'Completed'...\n",
      "======= Run Summary =======\n",
      "Run name: \"chat_all_data_base_run_06_04_0057\"\n",
      "Run status: \"Completed\"\n",
      "Start time: \"2024-06-04 01:00:46.077209+00:00\"\n",
      "Duration: \"0:00:34.267591\"\n",
      "Run url: \"https://ai.azure.com/projectflows/trace/run/chat_all_data_base_run_06_04_0057/details?wsid=/subscriptions/28e0cd19-9f05-4b6c-bac8-3bb37e8eeee3/resourcegroups/rg-deployment6/providers/Microsoft.MachineLearningServices/workspaces/contoso-chat-sf-aiproj\""
     ]
    },
    {
     "data": {
      "text/plain": [
       "<promptflow._sdk.entities._run.Run at 0x76ed68f75e50>"
      ]
     },
     "execution_count": 6,
     "metadata": {},
     "output_type": "execute_result"
    }
   ],
   "source": [
    "pf_azure_client.stream(base_run)"
   ]
  },
  {
   "cell_type": "code",
   "execution_count": 7,
   "metadata": {},
   "outputs": [
    {
     "data": {
      "text/html": [
       "<div>\n",
       "<style scoped>\n",
       "    .dataframe tbody tr th:only-of-type {\n",
       "        vertical-align: middle;\n",
       "    }\n",
       "\n",
       "    .dataframe tbody tr th {\n",
       "        vertical-align: top;\n",
       "    }\n",
       "\n",
       "    .dataframe thead th {\n",
       "        text-align: right;\n",
       "    }\n",
       "</style>\n",
       "<table border=\"1\" class=\"dataframe\">\n",
       "  <thead>\n",
       "    <tr style=\"text-align: right;\">\n",
       "      <th></th>\n",
       "      <th>inputs.customerId</th>\n",
       "      <th>inputs.question</th>\n",
       "      <th>inputs.line_number</th>\n",
       "      <th>inputs.chat_history</th>\n",
       "      <th>outputs.answer</th>\n",
       "      <th>outputs.context</th>\n",
       "    </tr>\n",
       "    <tr>\n",
       "      <th>outputs.line_number</th>\n",
       "      <th></th>\n",
       "      <th></th>\n",
       "      <th></th>\n",
       "      <th></th>\n",
       "      <th></th>\n",
       "      <th></th>\n",
       "    </tr>\n",
       "  </thead>\n",
       "  <tbody>\n",
       "    <tr>\n",
       "      <th>0</th>\n",
       "      <td>4</td>\n",
       "      <td>tell me about your hiking jackets</td>\n",
       "      <td>0</td>\n",
       "      <td>[]</td>\n",
       "      <td>Hey Sarah Lee! 🌟 Let me tell you about our awe...</td>\n",
       "      <td>[{'id': '17', 'title': 'RainGuard Hiking Jacke...</td>\n",
       "    </tr>\n",
       "    <tr>\n",
       "      <th>1</th>\n",
       "      <td>1</td>\n",
       "      <td>Do you have any climbing gear?</td>\n",
       "      <td>1</td>\n",
       "      <td>[]</td>\n",
       "      <td>Hey John! 👋 Absolutely, we have some awesome c...</td>\n",
       "      <td>[{'id': '9', 'title': 'SummitClimber Backpack'...</td>\n",
       "    </tr>\n",
       "    <tr>\n",
       "      <th>2</th>\n",
       "      <td>3</td>\n",
       "      <td>Can you tell me about your selection of tents?</td>\n",
       "      <td>2</td>\n",
       "      <td>[]</td>\n",
       "      <td>Hey Michael! 🌟 We have a great selection of te...</td>\n",
       "      <td>[{'id': '15', 'title': 'SkyView 2-Person Tent'...</td>\n",
       "    </tr>\n",
       "    <tr>\n",
       "      <th>3</th>\n",
       "      <td>6</td>\n",
       "      <td>Do you have any hiking boots?</td>\n",
       "      <td>3</td>\n",
       "      <td>[]</td>\n",
       "      <td>Hey Emily! 👋 Absolutely, we have some awesome ...</td>\n",
       "      <td>[{'id': '4', 'title': 'TrekReady Hiking Boots'...</td>\n",
       "    </tr>\n",
       "    <tr>\n",
       "      <th>4</th>\n",
       "      <td>2</td>\n",
       "      <td>What gear do you recommend for hiking?</td>\n",
       "      <td>4</td>\n",
       "      <td>[]</td>\n",
       "      <td>Hey Jane! 🌲 For hiking gear, I recommend the T...</td>\n",
       "      <td>[{'id': '10', 'title': 'TrailBlaze Hiking Pant...</td>\n",
       "    </tr>\n",
       "    <tr>\n",
       "      <th>5</th>\n",
       "      <td>7</td>\n",
       "      <td>what is the temperature rating of my sleeping ...</td>\n",
       "      <td>5</td>\n",
       "      <td>[]</td>\n",
       "      <td>Hey Jason Brown! 🌟 The temperature rating of y...</td>\n",
       "      <td>[{'id': '7', 'title': 'CozyNights Sleeping Bag...</td>\n",
       "    </tr>\n",
       "    <tr>\n",
       "      <th>6</th>\n",
       "      <td>7</td>\n",
       "      <td>what is the temperature rating of the cozynigh...</td>\n",
       "      <td>6</td>\n",
       "      <td>[]</td>\n",
       "      <td>Hey Jason! 🌟 The temperature rating of the Coz...</td>\n",
       "      <td>[{'id': '7', 'title': 'CozyNights Sleeping Bag...</td>\n",
       "    </tr>\n",
       "    <tr>\n",
       "      <th>7</th>\n",
       "      <td>8</td>\n",
       "      <td>what is the waterproof rating of the tent I bo...</td>\n",
       "      <td>7</td>\n",
       "      <td>[]</td>\n",
       "      <td>Hey Melissa! 🌟 The TrailMaster X4 Tent you bou...</td>\n",
       "      <td>[{'id': '8', 'title': 'Alpine Explorer Tent', ...</td>\n",
       "    </tr>\n",
       "    <tr>\n",
       "      <th>8</th>\n",
       "      <td>8</td>\n",
       "      <td>what is the waterproof rating of the TrailMast...</td>\n",
       "      <td>8</td>\n",
       "      <td>[]</td>\n",
       "      <td>Hey Melissa! 🌟 The TrailMaster X4 Tent's rainf...</td>\n",
       "      <td>[{'id': '1', 'title': 'TrailMaster X4 Tent', '...</td>\n",
       "    </tr>\n",
       "    <tr>\n",
       "      <th>9</th>\n",
       "      <td>2</td>\n",
       "      <td>What is your return or exchange policy?</td>\n",
       "      <td>9</td>\n",
       "      <td>[]</td>\n",
       "      <td>Hi Jane Doe! 😊 As a Gold member, you can enjoy...</td>\n",
       "      <td>[{'id': '1', 'title': 'TrailMaster X4 Tent', '...</td>\n",
       "    </tr>\n",
       "  </tbody>\n",
       "</table>\n",
       "</div>"
      ],
      "text/plain": [
       "                    inputs.customerId  \\\n",
       "outputs.line_number                     \n",
       "0                                   4   \n",
       "1                                   1   \n",
       "2                                   3   \n",
       "3                                   6   \n",
       "4                                   2   \n",
       "5                                   7   \n",
       "6                                   7   \n",
       "7                                   8   \n",
       "8                                   8   \n",
       "9                                   2   \n",
       "\n",
       "                                                       inputs.question  \\\n",
       "outputs.line_number                                                      \n",
       "0                                    tell me about your hiking jackets   \n",
       "1                                       Do you have any climbing gear?   \n",
       "2                       Can you tell me about your selection of tents?   \n",
       "3                                        Do you have any hiking boots?   \n",
       "4                               What gear do you recommend for hiking?   \n",
       "5                    what is the temperature rating of my sleeping ...   \n",
       "6                    what is the temperature rating of the cozynigh...   \n",
       "7                    what is the waterproof rating of the tent I bo...   \n",
       "8                    what is the waterproof rating of the TrailMast...   \n",
       "9                              What is your return or exchange policy?   \n",
       "\n",
       "                     inputs.line_number inputs.chat_history  \\\n",
       "outputs.line_number                                           \n",
       "0                                     0                  []   \n",
       "1                                     1                  []   \n",
       "2                                     2                  []   \n",
       "3                                     3                  []   \n",
       "4                                     4                  []   \n",
       "5                                     5                  []   \n",
       "6                                     6                  []   \n",
       "7                                     7                  []   \n",
       "8                                     8                  []   \n",
       "9                                     9                  []   \n",
       "\n",
       "                                                        outputs.answer  \\\n",
       "outputs.line_number                                                      \n",
       "0                    Hey Sarah Lee! 🌟 Let me tell you about our awe...   \n",
       "1                    Hey John! 👋 Absolutely, we have some awesome c...   \n",
       "2                    Hey Michael! 🌟 We have a great selection of te...   \n",
       "3                    Hey Emily! 👋 Absolutely, we have some awesome ...   \n",
       "4                    Hey Jane! 🌲 For hiking gear, I recommend the T...   \n",
       "5                    Hey Jason Brown! 🌟 The temperature rating of y...   \n",
       "6                    Hey Jason! 🌟 The temperature rating of the Coz...   \n",
       "7                    Hey Melissa! 🌟 The TrailMaster X4 Tent you bou...   \n",
       "8                    Hey Melissa! 🌟 The TrailMaster X4 Tent's rainf...   \n",
       "9                    Hi Jane Doe! 😊 As a Gold member, you can enjoy...   \n",
       "\n",
       "                                                       outputs.context  \n",
       "outputs.line_number                                                     \n",
       "0                    [{'id': '17', 'title': 'RainGuard Hiking Jacke...  \n",
       "1                    [{'id': '9', 'title': 'SummitClimber Backpack'...  \n",
       "2                    [{'id': '15', 'title': 'SkyView 2-Person Tent'...  \n",
       "3                    [{'id': '4', 'title': 'TrekReady Hiking Boots'...  \n",
       "4                    [{'id': '10', 'title': 'TrailBlaze Hiking Pant...  \n",
       "5                    [{'id': '7', 'title': 'CozyNights Sleeping Bag...  \n",
       "6                    [{'id': '7', 'title': 'CozyNights Sleeping Bag...  \n",
       "7                    [{'id': '8', 'title': 'Alpine Explorer Tent', ...  \n",
       "8                    [{'id': '1', 'title': 'TrailMaster X4 Tent', '...  \n",
       "9                    [{'id': '1', 'title': 'TrailMaster X4 Tent', '...  "
      ]
     },
     "execution_count": 7,
     "metadata": {},
     "output_type": "execute_result"
    }
   ],
   "source": [
    "details = pf_azure_client.get_details(base_run)\n",
    "details.head(10)"
   ]
  },
  {
   "cell_type": "markdown",
   "metadata": {},
   "source": [
    "## Chat Prompt Flow Evaluation - All Data Eval Run"
   ]
  },
  {
   "cell_type": "code",
   "execution_count": 8,
   "metadata": {},
   "outputs": [],
   "source": [
    "eval_flow = \"multi_flow/\"\n",
    "data = \"../data/alltestdata.jsonl\"\n",
    "run_name = \"chat_all_data_eval_run\"\n",
    "column_mapping={\n",
    "        # reference data\n",
    "        \"customerId\": \"${data.customerId}\",\n",
    "        \"question\": \"${data.question}\",\n",
    "        \"context\": \"${run.outputs.context}\",\n",
    "        # reference the run's output\n",
    "        \"answer\": \"${run.outputs.answer}\",\n",
    "    }"
   ]
  },
  {
   "cell_type": "code",
   "execution_count": 9,
   "metadata": {},
   "outputs": [
    {
     "name": "stderr",
     "output_type": "stream",
     "text": [
      "[2024-06-04 01:01:37 +0000][promptflow][WARNING] - You're using compute session, if it's first time you're using it, it may take a while to build session and you may see 'NotStarted' status for a while. \n"
     ]
    },
    {
     "name": "stdout",
     "output_type": "stream",
     "text": [
      "Portal url: https://ai.azure.com/projectflows/trace/run/chat_all_data_eval_run_06_04_0101/details?wsid=/subscriptions/28e0cd19-9f05-4b6c-bac8-3bb37e8eeee3/resourcegroups/rg-deployment6/providers/Microsoft.MachineLearningServices/workspaces/contoso-chat-sf-aiproj\n"
     ]
    }
   ],
   "source": [
    "eval_run = run_azure_eval_flow(runtime, eval_flow, run_name, data, column_mapping, base_run, pf_azure_client)"
   ]
  },
  {
   "cell_type": "code",
   "execution_count": 10,
   "metadata": {},
   "outputs": [
    {
     "name": "stdout",
     "output_type": "stream",
     "text": [
      "(Run status is 'NotStarted', continue streaming...)\n",
      "(Run status is 'NotStarted', continue streaming...)\n",
      "(Run status is 'NotStarted', continue streaming...)\n",
      "(Run status is 'NotStarted', continue streaming...)\n",
      "======= Run Summary =======\n",
      "Run name: \"chat_all_data_eval_run_06_04_0101\"\n",
      "Run status: \"Failed\"\n",
      "Start time: \"2024-06-04 01:04:12.117944+00:00\"\n",
      "Duration: \"0:00:00\"\n",
      "Run url: \"https://ai.azure.com/projectflows/trace/run/chat_all_data_eval_run_06_04_0101/details?wsid=/subscriptions/28e0cd19-9f05-4b6c-bac8-3bb37e8eeee3/resourcegroups/rg-deployment6/providers/Microsoft.MachineLearningServices/workspaces/contoso-chat-sf-aiproj\""
     ]
    },
    {
     "ename": "InvalidRunStatusError",
     "evalue": "Failed to submit bulk run due to Not found connection meta_llama3_instruct for user Jim Zhu",
     "output_type": "error",
     "traceback": [
      "\u001b[0;31m---------------------------------------------------------------------------\u001b[0m",
      "\u001b[0;31mInvalidRunStatusError\u001b[0m                     Traceback (most recent call last)",
      "Cell \u001b[0;32mIn[10], line 1\u001b[0m\n\u001b[0;32m----> 1\u001b[0m \u001b[43mpf_azure_client\u001b[49m\u001b[38;5;241;43m.\u001b[39;49m\u001b[43mstream\u001b[49m\u001b[43m(\u001b[49m\u001b[43meval_run\u001b[49m\u001b[43m)\u001b[49m\n",
      "File \u001b[0;32m/usr/local/lib/python3.11/site-packages/promptflow/azure/_pf_client.py:318\u001b[0m, in \u001b[0;36mPFClient.stream\u001b[0;34m(self, run, raise_on_error)\u001b[0m\n\u001b[1;32m    316\u001b[0m \u001b[38;5;28;01mif\u001b[39;00m \u001b[38;5;28misinstance\u001b[39m(run, Run):\n\u001b[1;32m    317\u001b[0m     run \u001b[38;5;241m=\u001b[39m run\u001b[38;5;241m.\u001b[39mname\n\u001b[0;32m--> 318\u001b[0m \u001b[38;5;28;01mreturn\u001b[39;00m \u001b[38;5;28;43mself\u001b[39;49m\u001b[38;5;241;43m.\u001b[39;49m\u001b[43mruns\u001b[49m\u001b[38;5;241;43m.\u001b[39;49m\u001b[43mstream\u001b[49m\u001b[43m(\u001b[49m\u001b[43mrun\u001b[49m\u001b[43m,\u001b[49m\u001b[43m \u001b[49m\u001b[43mraise_on_error\u001b[49m\u001b[43m)\u001b[49m\n",
      "File \u001b[0;32m/usr/local/lib/python3.11/site-packages/promptflow/_sdk/_telemetry/activity.py:265\u001b[0m, in \u001b[0;36mmonitor_operation.<locals>.monitor.<locals>.wrapper\u001b[0;34m(self, *args, **kwargs)\u001b[0m\n\u001b[1;32m    263\u001b[0m     thread \u001b[38;5;241m=\u001b[39m threading\u001b[38;5;241m.\u001b[39mThread(target\u001b[38;5;241m=\u001b[39mcheck_latest_version, daemon\u001b[38;5;241m=\u001b[39m\u001b[38;5;28;01mTrue\u001b[39;00m)\n\u001b[1;32m    264\u001b[0m     thread\u001b[38;5;241m.\u001b[39mstart()\n\u001b[0;32m--> 265\u001b[0m \u001b[38;5;28;01mreturn\u001b[39;00m \u001b[43mf\u001b[49m\u001b[43m(\u001b[49m\u001b[38;5;28;43mself\u001b[39;49m\u001b[43m,\u001b[49m\u001b[43m \u001b[49m\u001b[38;5;241;43m*\u001b[39;49m\u001b[43margs\u001b[49m\u001b[43m,\u001b[49m\u001b[43m \u001b[49m\u001b[38;5;241;43m*\u001b[39;49m\u001b[38;5;241;43m*\u001b[39;49m\u001b[43mkwargs\u001b[49m\u001b[43m)\u001b[49m\n",
      "File \u001b[0;32m/usr/local/lib/python3.11/site-packages/promptflow/azure/operations/_run_operations.py:693\u001b[0m, in \u001b[0;36mRunOperations.stream\u001b[0;34m(self, run, raise_on_error, timeout, **kwargs)\u001b[0m\n\u001b[1;32m    691\u001b[0m     error_message \u001b[38;5;241m=\u001b[39m \u001b[38;5;124m\"\u001b[39m\u001b[38;5;124mRun is canceled.\u001b[39m\u001b[38;5;124m\"\u001b[39m\n\u001b[1;32m    692\u001b[0m \u001b[38;5;28;01mif\u001b[39;00m raise_on_error:\n\u001b[0;32m--> 693\u001b[0m     \u001b[38;5;28;01mraise\u001b[39;00m InvalidRunStatusError(error_message)\n\u001b[1;32m    694\u001b[0m \u001b[38;5;28;01melse\u001b[39;00m:\n\u001b[1;32m    695\u001b[0m     print_red_error(error_message)\n",
      "\u001b[0;31mInvalidRunStatusError\u001b[0m: Failed to submit bulk run due to Not found connection meta_llama3_instruct for user Jim Zhu"
     ]
    }
   ],
   "source": [
    "pf_azure_client.stream(eval_run)"
   ]
  },
  {
   "cell_type": "code",
   "execution_count": null,
   "metadata": {},
   "outputs": [],
   "source": [
    "details = pf_azure_client.get_details(eval_run)\n",
    "details.head(10)"
   ]
  },
  {
   "cell_type": "code",
   "execution_count": null,
   "metadata": {},
   "outputs": [],
   "source": [
    "\n",
    "metrics = pf_azure_client.get_metrics(eval_run)\n",
    "print(json.dumps(metrics, indent=4))"
   ]
  },
  {
   "cell_type": "code",
   "execution_count": null,
   "metadata": {},
   "outputs": [],
   "source": [
    "pf_azure_client.visualize([base_run, eval_run])"
   ]
  },
  {
   "cell_type": "markdown",
   "metadata": {},
   "source": [
    "### Chat Prompt Flow - Chat Only Data Run Base Run\n"
   ]
  },
  {
   "cell_type": "code",
   "execution_count": null,
   "metadata": {},
   "outputs": [],
   "source": [
    "pf_azure_client = PFClient.from_config(credential=credential, path=config_path)\n",
    "\n",
    "flow = \"../contoso-chat\"\n",
    "data = \"../data/salestestdata.jsonl\"\n",
    "run_name = \"chat_only_data_base_run\"\n",
    "column_mapping={\"customerId\": \"${data.customerId}\",\"question\": \"${data.question}\"}"
   ]
  },
  {
   "cell_type": "code",
   "execution_count": null,
   "metadata": {},
   "outputs": [],
   "source": [
    "base_run_chat_only = run_azure_flow(runtime, flow, run_name, data, column_mapping, pf_azure_client)"
   ]
  },
  {
   "cell_type": "markdown",
   "metadata": {},
   "source": [
    "### Chat Prompt Flow - Chat Only Data Run Eval Run"
   ]
  },
  {
   "cell_type": "code",
   "execution_count": null,
   "metadata": {},
   "outputs": [],
   "source": [
    "eval_flow = \"multi_flow/\"\n",
    "run_name = \"chat_only_data_eval_run\"\n",
    "column_mapping={\n",
    "        # reference data\n",
    "        \"customerId\": \"${data.customerId}\",\n",
    "        \"question\": \"${data.question}\",\n",
    "        \"context\": \"${run.outputs.context}\",\n",
    "        # reference the run's output\n",
    "        \"answer\": \"${run.outputs.answer}\",\n",
    "    }"
   ]
  },
  {
   "cell_type": "code",
   "execution_count": null,
   "metadata": {},
   "outputs": [],
   "source": [
    "eval_run = run_azure_eval_flow(runtime, eval_flow, run_name, data, column_mapping, base_run_chat_only, pf_azure_client)"
   ]
  },
  {
   "cell_type": "code",
   "execution_count": null,
   "metadata": {},
   "outputs": [],
   "source": [
    "pf_azure_client.stream(eval_run)"
   ]
  },
  {
   "cell_type": "code",
   "execution_count": null,
   "metadata": {},
   "outputs": [],
   "source": [
    "details = pf_azure_client.get_details(eval_run)\n",
    "details.head(10)"
   ]
  },
  {
   "cell_type": "code",
   "execution_count": null,
   "metadata": {},
   "outputs": [],
   "source": [
    "metrics = pf_azure_client.get_metrics(eval_run)\n",
    "print(json.dumps(metrics, indent=4))"
   ]
  },
  {
   "cell_type": "code",
   "execution_count": null,
   "metadata": {},
   "outputs": [],
   "source": []
  }
 ],
 "metadata": {
  "kernelspec": {
   "display_name": ".venv",
   "language": "python",
   "name": "python3"
  },
  "language_info": {
   "codemirror_mode": {
    "name": "ipython",
    "version": 3
   },
   "file_extension": ".py",
   "mimetype": "text/x-python",
   "name": "python",
   "nbconvert_exporter": "python",
   "pygments_lexer": "ipython3",
   "version": "3.11.9"
  }
 },
 "nbformat": 4,
 "nbformat_minor": 2
}
