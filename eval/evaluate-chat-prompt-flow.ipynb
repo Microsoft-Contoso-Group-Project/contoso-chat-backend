{
 "cells": [
  {
   "cell_type": "markdown",
   "metadata": {},
   "source": [
    "# Local Evaluation - Groundedness\n",
    "\n",
    "After you have setup and configured the prompt flow, its time to evaluation its performance. Here we can use the prompt flow SDK to test different questions and see how the prompt flow performs using the evaluation prompt flows provided."
   ]
  },
  {
   "cell_type": "code",
   "execution_count": 1,
   "metadata": {},
   "outputs": [
    {
     "name": "stderr",
     "output_type": "stream",
     "text": [
      "WARNING:root:'from promptflow import PFClient' is deprecated and will be removed in the future. Use 'from promptflow.client import PFClient' instead.\n"
     ]
    },
    {
     "data": {
      "text/plain": [
       "True"
      ]
     },
     "execution_count": 1,
     "metadata": {},
     "output_type": "execute_result"
    }
   ],
   "source": [
    "from promptflow import PFClient\n",
    "\n",
    "pf_client = PFClient()\n",
    "\n",
    "from dotenv import load_dotenv\n",
    "\n",
    "load_dotenv()"
   ]
  },
  {
   "cell_type": "code",
   "execution_count": 3,
   "metadata": {},
   "outputs": [
    {
     "name": "stderr",
     "output_type": "stream",
     "text": [
      "WARNING:root:'from promptflow import tool' is deprecated and will be removed in the future. Use 'from promptflow.core import tool' instead.\n",
      "[2024-06-04 23:45:41 +0000][promptflow.core._connection][WARNING] - Please use connection.secrets[key] to access secrets.\n"
     ]
    },
    {
     "name": "stdout",
     "output_type": "stream",
     "text": [
      "Prompt flow service has started...\n",
      "2024-06-04 23:45:41 +0000    7762 execution.flow     INFO     Start executing nodes in thread pool mode.\n",
      "2024-06-04 23:45:41 +0000    7762 execution.flow     INFO     Start to run 5 nodes with concurrency level 16.\n",
      "2024-06-04 23:45:41 +0000    7762 execution.flow     INFO     Executing node question_embedding. node run id: c2206879-2ed0-4218-9d7c-ea1b0fedf62d_question_embedding_0\n",
      "2024-06-04 23:45:41 +0000    7762 execution.flow     INFO     Executing node customer_lookup. node run id: c2206879-2ed0-4218-9d7c-ea1b0fedf62d_customer_lookup_0\n",
      "2024-06-04 23:45:41 +0000    7762 execution.flow     INFO     Node customer_lookup completes.\n",
      "2024-06-04 23:45:42 +0000    7762 execution.flow     INFO     Node question_embedding completes.\n",
      "2024-06-04 23:45:42 +0000    7762 execution.flow     INFO     Executing node retrieve_documentation. node run id: c2206879-2ed0-4218-9d7c-ea1b0fedf62d_retrieve_documentation_0\n",
      "You can view the trace detail from the following URL:\n",
      "http://127.0.0.1:23333/v1.0/ui/traces/?#collection=contoso-chat&uiTraceId=0xc9b6c5d59ed62a5242b33266c2da2067\n",
      "2024-06-04 23:45:42 +0000    7762 execution.flow     INFO     Node retrieve_documentation completes.\n",
      "2024-06-04 23:45:42 +0000    7762 execution.flow     INFO     Executing node customer_prompt. node run id: c2206879-2ed0-4218-9d7c-ea1b0fedf62d_customer_prompt_0\n",
      "2024-06-04 23:45:42 +0000    7762 execution.flow     INFO     Node customer_prompt completes.\n",
      "2024-06-04 23:45:42 +0000    7762 execution.flow     INFO     Executing node llm_response. node run id: c2206879-2ed0-4218-9d7c-ea1b0fedf62d_llm_response_0\n",
      "2024-06-04 23:45:42 +0000    7762 execution.flow     INFO     Node llm_response completes.\n"
     ]
    }
   ],
   "source": [
    "# Add a question to test the base prompt flow.\n",
    "question = \"Can you tell me about your jackets?\"\n",
    "customerId = \"4\"\n",
    "output = pf_client.test(\n",
    "    flow=\"../contoso-chat\", # Path to the flow directory\n",
    "    inputs={ # Inputs to the flow\n",
    "        \"chat_history\": [],\n",
    "        \"question\": question,\n",
    "        \"customerId\": customerId,\n",
    "    },\n",
    ")\n",
    "\n",
    "output[\"answer\"] = \"\".join(list(output[\"answer\"]))"
   ]
  },
  {
   "cell_type": "code",
   "execution_count": 4,
   "metadata": {},
   "outputs": [
    {
     "data": {
      "text/plain": [
       "{'answer': \"Of course, Sarah Lee! 😄 We have two fantastic jackets that would be perfect for your outdoor adventures:\\n\\n1. Summit Breeze Jacket: 🏔️🌬️ This lightweight jacket is your ultimate companion for hiking. It's windproof, water-resistant, and has adjustable cuffs for your comfort. With its inner lining and reflective accents, you'll feel confident day or night. It's time to reach new heights with the Summit Breeze Jacket! \\n\\n2. RainGuard Hiking Jacket: ☔⛰️ Don't let the weather stop you! This jacket is waterproof, breathable, and has ventilation zippers for increased airflow. With adjustable features and plenty of pockets, it's perfect for all your outdoor undertakings!\\n\\nBoth jackets are amazing options, and with your Platinum membership status, you'll get the best deals! 🌟 Let me know if you need any more information or recommendations. Happy exploring! 🚀\",\n",
       " 'context': [{'id': '3',\n",
       "   'title': 'Summit Breeze Jacket',\n",
       "   'content': \"Discover the joy of hiking with MountainStyle's Summit Breeze Jacket. This lightweight jacket is your perfect companion for outdoor adventures. Sporting a trail-ready, windproof design and a water-resistant fabric, it's ready to withstand any weather. The breathable polyester material and adjustable cuffs keep you comfortable, whether you're ascending a mountain or strolling through a park. And its sleek black color adds style to function. The jacket features a full-zip front closure, adjustable hood, and secure zippered pockets. Experience the comfort of its inner lining and the convenience of its packable design. Crafted for night trekkers too, the jacket has reflective accents for enhanced visibility. Rugged yet chic, the Summit Breeze Jacket is more than a hiking essential, it's the gear that inspires you to reach new heights. Choose adventure, choose the Summit Breeze Jacket.\",\n",
       "   'url': '/products/summit-breeze-jacket'},\n",
       "  {'id': '17',\n",
       "   'title': 'RainGuard Hiking Jacket',\n",
       "   'content': \"Introducing the MountainStyle RainGuard Hiking Jacket - the ultimate solution for weatherproof comfort during your outdoor undertakings! Designed with waterproof, breathable fabric, this jacket promises an outdoor experience that's as dry as it is comfortable. The rugged construction assures durability, while the adjustable hood provides a customizable fit against wind and rain. Featuring multiple pockets for safe, convenient storage and adjustable cuffs and hem, you can tailor the jacket to suit your needs on-the-go. And, don't worry about overheating during intense activities - it's equipped with ventilation zippers for increased airflow. Reflective details ensure visibility even during low-light conditions, making it perfect for evening treks. With its lightweight, packable design, carrying it inside your backpack requires minimal effort. With options for men and women, the RainGuard Hiking Jacket is perfect for hiking, camping, trekking and countless other outdoor adventures. Don't let the weather stand in your way - embrace the outdoors with MountainStyle RainGuard Hiking Jacket!\",\n",
       "   'url': '/products/rainguard-hiking-jacket'},\n",
       "  {'id': '4',\n",
       "   'title': 'TrekReady Hiking Boots',\n",
       "   'content': \"Introducing the TrekReady Hiking Boots - stepping up your hiking game, one footprint at a time! Crafted from leather, these stylistic Trailmates are made to last. TrekReady infuses durability with its reinforced stitching and toe protection, making sure your journey is never stopped short. Comfort? They have that covered too! The boots are a haven with their breathable materials, cushioned insole, with padded collar and tongue; all nestled neatly within their lightweight design. As they say, it's what's inside that counts - so inside you'll find a moisture-wicking lining that quarantines stank and keeps your feet fresh as that mountaintop breeze. Remember the fear of slippery surfaces? With these boots, you can finally tell it to 'take a hike'! Their shock-absorbing midsoles and excellent traction capabilities promise stability at your every step. Beautifully finished in a traditional lace-up system, every adventurer deserves a pair of TrekReady Hiking Boots. Hike more, worry less!\",\n",
       "   'url': '/products/trekready-hiking-boots'}]}"
      ]
     },
     "execution_count": 4,
     "metadata": {},
     "output_type": "execute_result"
    }
   ],
   "source": [
    "output"
   ]
  },
  {
   "cell_type": "markdown",
   "metadata": {},
   "source": [
    "Test the groundedness of the prompt flow with the answer from the above question."
   ]
  },
  {
   "cell_type": "code",
   "execution_count": null,
   "metadata": {},
   "outputs": [],
   "source": [
    "test = pf_client.test(\n",
    "    flow=\"groundedness\",\n",
    "    inputs={\n",
    "        \"question\": question,\n",
    "        \"context\": str(output[\"context\"]),\n",
    "        \"answer\": output[\"answer\"],\n",
    "    },\n",
    ")"
   ]
  },
  {
   "cell_type": "code",
   "execution_count": null,
   "metadata": {},
   "outputs": [],
   "source": [
    "test"
   ]
  },
  {
   "cell_type": "markdown",
   "metadata": {},
   "source": [
    "# Local Evaluation - Multiple Metrics \n",
    "\n",
    "Now use the same prompt flow and test it against the Multi Evaluation flow for groundedness, coherence, fluency, and relevance."
   ]
  },
  {
   "cell_type": "code",
   "execution_count": null,
   "metadata": {},
   "outputs": [],
   "source": [
    "print(\"question\",question)\n",
    "print(\"context\",output[\"context\"])\n",
    "print(\"answer\", output[\"answer\"])\n",
    "test_multi = pf_client.test(\n",
    "    \"multi_flow\",\n",
    "    inputs={\n",
    "        \"question\": question,\n",
    "        \"context\": str(output[\"context\"]),\n",
    "        \"answer\": output[\"answer\"],\n",
    "    },\n",
    ")\n"
   ]
  },
  {
   "cell_type": "code",
   "execution_count": null,
   "metadata": {},
   "outputs": [],
   "source": [
    "test_multi"
   ]
  },
  {
   "cell_type": "markdown",
   "metadata": {},
   "source": [
    "# AI Studio Azure batch run on an evaluation json dataset\n",
    "\n",
    "Now in order to test these more thoroughly, we can use the Azure AI Studio to run batches of test data with the evaluation prompt flow on a larger dataset."
   ]
  },
  {
   "cell_type": "code",
   "execution_count": 1,
   "metadata": {},
   "outputs": [],
   "source": [
    "import json\n",
    "# Import required libraries\n",
    "from promptflow.azure import PFClient\n",
    "\n",
    "# Import required libraries\n",
    "from azure.identity import DefaultAzureCredential, InteractiveBrowserCredential"
   ]
  },
  {
   "cell_type": "code",
   "execution_count": 2,
   "metadata": {},
   "outputs": [],
   "source": [
    "try:\n",
    "    credential = DefaultAzureCredential()\n",
    "    # Check if given credential can get token successfully.\n",
    "    credential.get_token(\"https://management.azure.com/.default\")\n",
    "except Exception as ex:\n",
    "    # Fall back to InteractiveBrowserCredential in case DefaultAzureCredential not work\n",
    "    credential = InteractiveBrowserCredential()"
   ]
  },
  {
   "cell_type": "markdown",
   "metadata": {},
   "source": [
    "Populate the `config.json` file with the subscription_id, resource_group, and workspace_name."
   ]
  },
  {
   "cell_type": "markdown",
   "metadata": {},
   "source": [
    "Add the runtime from the AI Studio that will be used for the cloud batch runs."
   ]
  },
  {
   "cell_type": "code",
   "execution_count": 4,
   "metadata": {},
   "outputs": [],
   "source": [
    "# Update the runtime to the name of the runtime you created previously\n",
    "runtime = \"automatic\"\n",
    "# load flow\n",
    "flow = \"../contoso-chat\"\n",
    "flow_hf = \"../contoso-chat_hf\"\n",
    "# load data\n",
    "data = \"../data/salestestdata.jsonl\"\n",
    "config_path = \"../config.json\""
   ]
  },
  {
   "cell_type": "code",
   "execution_count": 5,
   "metadata": {},
   "outputs": [
    {
     "name": "stdout",
     "output_type": "stream",
     "text": [
      "2024_06_04_142628chat_base_run\n"
     ]
    }
   ],
   "source": [
    "# get current time stamp for run name\n",
    "import datetime\n",
    "now = datetime.datetime.now()\n",
    "timestamp = now.strftime(\"%Y_%m_%d_%H%M%S\")\n",
    "run_name = timestamp+\"chat_base_run\"\n",
    "print(run_name)\n",
    "\n",
    "pf_azure_client = PFClient.from_config(credential=credential, path=config_path)"
   ]
  },
  {
   "cell_type": "markdown",
   "metadata": {},
   "source": [
    "Create a base run to use as the variant for the evaluation runs. \n",
    "\n",
    "_NOTE: If you get \"'An existing connection was forcibly closed by the remote host'\" run the cell again._"
   ]
  },
  {
   "cell_type": "code",
   "execution_count": 6,
   "metadata": {},
   "outputs": [
    {
     "name": "stderr",
     "output_type": "stream",
     "text": [
      "[2024-06-04 14:26:42 +0000][promptflow][WARNING] - You're using compute session, if it's first time you're using it, it may take a while to build session and you may see 'NotStarted' status for a while. \n"
     ]
    },
    {
     "name": "stdout",
     "output_type": "stream",
     "text": [
      "Portal url: https://ai.azure.com/projectflows/trace/run/2024_06_04_142628chat_base_run/details?wsid=/subscriptions/28e0cd19-9f05-4b6c-bac8-3bb37e8eeee3/resourcegroups/rg-deployment6/providers/Microsoft.MachineLearningServices/workspaces/contoso-chat-sf-aiproj\n",
      "name: 2024_06_04_142628chat_base_run\n",
      "created_on: '2024-06-04T14:26:48.142237+00:00'\n",
      "status: Preparing\n",
      "display_name: 2024_06_04_142628chat_base_run\n",
      "description:\n",
      "tags: {}\n",
      "properties:\n",
      "  azureml.promptflow.inputs_mapping: '{\"customerId\":\"${data.customerId}\",\"question\":\"${data.question}\"}'\n",
      "  azureml.promptflow.runtime_name: automatic\n",
      "  azureml.promptflow.disable_trace: 'false'\n",
      "  azureml.promptflow.session_id: 3ee7611837014426b3f88afef8d079a99d16385b9b37e347\n",
      "  azureml.promptflow.definition_file_name: flow.dag.yaml\n",
      "  azureml.promptflow.flow_lineage_id: 23ccbb0c520a4d89658b65dfca05e64d37bb66f7118de0ef2e9c2fce1513d985\n",
      "  azureml.promptflow.flow_definition_datastore_name: workspaceblobstore\n",
      "  azureml.promptflow.flow_definition_blob_path: LocalUpload/09c8912aed3d182dd1ca96a56f5e2f86/contoso-chat/flow.dag.yaml\n",
      "  _azureml.evaluation_run: promptflow.BatchRun\n",
      "  azureml.promptflow.snapshot_id: cf914f35-01bb-42fa-9002-cce5f3c04a78\n",
      "  azureml.promptflow.runtime_version: 20240515.v1\n",
      "creation_context:\n",
      "  userObjectId: 43e494fa-d160-4f6b-acc8-5d56e5f2e891\n",
      "  userPuId: 100320037AF139DC\n",
      "  userIdp: https://sts.windows.net/2b897507-ee8c-4575-830b-4f8267c3d307/\n",
      "  userAltSecId: 5::100320011172729C\n",
      "  userIss: https://sts.windows.net/b8c35a17-09c7-40ba-9173-6be750b65674/\n",
      "  userTenantId: b8c35a17-09c7-40ba-9173-6be750b65674\n",
      "  userName: Jim Zhu\n",
      "  upn:\n",
      "start_time:\n",
      "end_time:\n",
      "duration:\n",
      "portal_url: \n",
      "  https://ai.azure.com/projectflows/trace/run/2024_06_04_142628chat_base_run/details?wsid=/subscriptions/28e0cd19-9f05-4b6c-bac8-3bb37e8eeee3/resourcegroups/rg-deployment6/providers/Microsoft.MachineLearningServices/workspaces/contoso-chat-sf-aiproj\n",
      "data: \n",
      "  azureml://datastores/workspaceblobstore/paths/LocalUpload/4d587c1ae8d46401e3a71b74abe367df/salestestdata.jsonl\n",
      "output:\n",
      "\n"
     ]
    }
   ],
   "source": [
    "# create base run in Azure Ai Studio\n",
    "base_run = pf_azure_client.run(\n",
    "    flow=flow,\n",
    "    data=data,\n",
    "    column_mapping={\n",
    "        # reference data\n",
    "        \"customerId\": \"${data.customerId}\",\n",
    "        \"question\": \"${data.question}\",\n",
    "    },\n",
    "    runtime=runtime,\n",
    "    # create a display name as current datetime\n",
    "    display_name=run_name,\n",
    "    name=run_name\n",
    ")\n",
    "print(base_run)"
   ]
  },
  {
   "cell_type": "code",
   "execution_count": null,
   "metadata": {},
   "outputs": [],
   "source": [
    "pf_azure_client.stream(base_run)"
   ]
  },
  {
   "cell_type": "code",
   "execution_count": 16,
   "metadata": {},
   "outputs": [
    {
     "data": {
      "text/html": [
       "<div>\n",
       "<style scoped>\n",
       "    .dataframe tbody tr th:only-of-type {\n",
       "        vertical-align: middle;\n",
       "    }\n",
       "\n",
       "    .dataframe tbody tr th {\n",
       "        vertical-align: top;\n",
       "    }\n",
       "\n",
       "    .dataframe thead th {\n",
       "        text-align: right;\n",
       "    }\n",
       "</style>\n",
       "<table border=\"1\" class=\"dataframe\">\n",
       "  <thead>\n",
       "    <tr style=\"text-align: right;\">\n",
       "      <th></th>\n",
       "      <th>inputs.customerId</th>\n",
       "      <th>inputs.question</th>\n",
       "      <th>inputs.line_number</th>\n",
       "      <th>inputs.chat_history</th>\n",
       "      <th>outputs.answer</th>\n",
       "      <th>outputs.context</th>\n",
       "    </tr>\n",
       "    <tr>\n",
       "      <th>outputs.line_number</th>\n",
       "      <th></th>\n",
       "      <th></th>\n",
       "      <th></th>\n",
       "      <th></th>\n",
       "      <th></th>\n",
       "      <th></th>\n",
       "    </tr>\n",
       "  </thead>\n",
       "  <tbody>\n",
       "    <tr>\n",
       "      <th>0</th>\n",
       "      <td>4</td>\n",
       "      <td>tell me about your hiking jackets</td>\n",
       "      <td>0</td>\n",
       "      <td>[]</td>\n",
       "      <td>Hey Sarah Lee! 🌟 Let me tell you about our awe...</td>\n",
       "      <td>[{'id': '17', 'title': 'RainGuard Hiking Jacke...</td>\n",
       "    </tr>\n",
       "    <tr>\n",
       "      <th>1</th>\n",
       "      <td>1</td>\n",
       "      <td>Do you have any climbing gear?</td>\n",
       "      <td>1</td>\n",
       "      <td>[]</td>\n",
       "      <td>Hey John! 👋 Absolutely, we have some great cli...</td>\n",
       "      <td>[{'id': '9', 'title': 'SummitClimber Backpack'...</td>\n",
       "    </tr>\n",
       "    <tr>\n",
       "      <th>2</th>\n",
       "      <td>3</td>\n",
       "      <td>Can you tell me about your selection of tents?</td>\n",
       "      <td>2</td>\n",
       "      <td>[]</td>\n",
       "      <td>Hey Michael! 👋 We have a great selection of te...</td>\n",
       "      <td>[{'id': '15', 'title': 'SkyView 2-Person Tent'...</td>\n",
       "    </tr>\n",
       "    <tr>\n",
       "      <th>3</th>\n",
       "      <td>6</td>\n",
       "      <td>Do you have any hiking boots?</td>\n",
       "      <td>3</td>\n",
       "      <td>[]</td>\n",
       "      <td>Hey Emily Rodriguez! 👋 Absolutely, we have som...</td>\n",
       "      <td>[{'id': '4', 'title': 'TrekReady Hiking Boots'...</td>\n",
       "    </tr>\n",
       "    <tr>\n",
       "      <th>4</th>\n",
       "      <td>2</td>\n",
       "      <td>What gear do you recommend for hiking?</td>\n",
       "      <td>4</td>\n",
       "      <td>[]</td>\n",
       "      <td>Hey Jane! 🌲🏕️ For hiking, I recommend the Trai...</td>\n",
       "      <td>[{'id': '10', 'title': 'TrailBlaze Hiking Pant...</td>\n",
       "    </tr>\n",
       "  </tbody>\n",
       "</table>\n",
       "</div>"
      ],
      "text/plain": [
       "                    inputs.customerId  \\\n",
       "outputs.line_number                     \n",
       "0                                   4   \n",
       "1                                   1   \n",
       "2                                   3   \n",
       "3                                   6   \n",
       "4                                   2   \n",
       "\n",
       "                                                    inputs.question  \\\n",
       "outputs.line_number                                                   \n",
       "0                                 tell me about your hiking jackets   \n",
       "1                                    Do you have any climbing gear?   \n",
       "2                    Can you tell me about your selection of tents?   \n",
       "3                                     Do you have any hiking boots?   \n",
       "4                            What gear do you recommend for hiking?   \n",
       "\n",
       "                     inputs.line_number inputs.chat_history  \\\n",
       "outputs.line_number                                           \n",
       "0                                     0                  []   \n",
       "1                                     1                  []   \n",
       "2                                     2                  []   \n",
       "3                                     3                  []   \n",
       "4                                     4                  []   \n",
       "\n",
       "                                                        outputs.answer  \\\n",
       "outputs.line_number                                                      \n",
       "0                    Hey Sarah Lee! 🌟 Let me tell you about our awe...   \n",
       "1                    Hey John! 👋 Absolutely, we have some great cli...   \n",
       "2                    Hey Michael! 👋 We have a great selection of te...   \n",
       "3                    Hey Emily Rodriguez! 👋 Absolutely, we have som...   \n",
       "4                    Hey Jane! 🌲🏕️ For hiking, I recommend the Trai...   \n",
       "\n",
       "                                                       outputs.context  \n",
       "outputs.line_number                                                     \n",
       "0                    [{'id': '17', 'title': 'RainGuard Hiking Jacke...  \n",
       "1                    [{'id': '9', 'title': 'SummitClimber Backpack'...  \n",
       "2                    [{'id': '15', 'title': 'SkyView 2-Person Tent'...  \n",
       "3                    [{'id': '4', 'title': 'TrekReady Hiking Boots'...  \n",
       "4                    [{'id': '10', 'title': 'TrailBlaze Hiking Pant...  "
      ]
     },
     "execution_count": 16,
     "metadata": {},
     "output_type": "execute_result"
    }
   ],
   "source": [
    "details = pf_azure_client.get_details(base_run)\n",
    "details.head(10)"
   ]
  },
  {
   "cell_type": "code",
   "execution_count": 30,
   "metadata": {},
   "outputs": [
    {
     "data": {
      "text/html": [
       "<div>\n",
       "<style scoped>\n",
       "    .dataframe tbody tr th:only-of-type {\n",
       "        vertical-align: middle;\n",
       "    }\n",
       "\n",
       "    .dataframe tbody tr th {\n",
       "        vertical-align: top;\n",
       "    }\n",
       "\n",
       "    .dataframe thead th {\n",
       "        text-align: right;\n",
       "    }\n",
       "</style>\n",
       "<table border=\"1\" class=\"dataframe\">\n",
       "  <thead>\n",
       "    <tr style=\"text-align: right;\">\n",
       "      <th></th>\n",
       "      <th>inputs.customerId</th>\n",
       "      <th>inputs.question</th>\n",
       "      <th>inputs.line_number</th>\n",
       "      <th>inputs.chat_history</th>\n",
       "    </tr>\n",
       "    <tr>\n",
       "      <th>outputs.line_number</th>\n",
       "      <th></th>\n",
       "      <th></th>\n",
       "      <th></th>\n",
       "      <th></th>\n",
       "    </tr>\n",
       "  </thead>\n",
       "  <tbody>\n",
       "    <tr>\n",
       "      <th>0</th>\n",
       "      <td>4</td>\n",
       "      <td>tell me about your hiking jackets</td>\n",
       "      <td>0</td>\n",
       "      <td>[]</td>\n",
       "    </tr>\n",
       "    <tr>\n",
       "      <th>1</th>\n",
       "      <td>1</td>\n",
       "      <td>Do you have any climbing gear?</td>\n",
       "      <td>1</td>\n",
       "      <td>[]</td>\n",
       "    </tr>\n",
       "    <tr>\n",
       "      <th>2</th>\n",
       "      <td>3</td>\n",
       "      <td>Can you tell me about your selection of tents?</td>\n",
       "      <td>2</td>\n",
       "      <td>[]</td>\n",
       "    </tr>\n",
       "    <tr>\n",
       "      <th>3</th>\n",
       "      <td>6</td>\n",
       "      <td>Do you have any hiking boots?</td>\n",
       "      <td>3</td>\n",
       "      <td>[]</td>\n",
       "    </tr>\n",
       "    <tr>\n",
       "      <th>4</th>\n",
       "      <td>2</td>\n",
       "      <td>What gear do you recommend for hiking?</td>\n",
       "      <td>4</td>\n",
       "      <td>[]</td>\n",
       "    </tr>\n",
       "  </tbody>\n",
       "</table>\n",
       "</div>"
      ],
      "text/plain": [
       "                    inputs.customerId  \\\n",
       "outputs.line_number                     \n",
       "0                                   4   \n",
       "1                                   1   \n",
       "2                                   3   \n",
       "3                                   6   \n",
       "4                                   2   \n",
       "\n",
       "                                                    inputs.question  \\\n",
       "outputs.line_number                                                   \n",
       "0                                 tell me about your hiking jackets   \n",
       "1                                    Do you have any climbing gear?   \n",
       "2                    Can you tell me about your selection of tents?   \n",
       "3                                     Do you have any hiking boots?   \n",
       "4                            What gear do you recommend for hiking?   \n",
       "\n",
       "                     inputs.line_number inputs.chat_history  \n",
       "outputs.line_number                                          \n",
       "0                                     0                  []  \n",
       "1                                     1                  []  \n",
       "2                                     2                  []  \n",
       "3                                     3                  []  \n",
       "4                                     4                  []  "
      ]
     },
     "execution_count": 30,
     "metadata": {},
     "output_type": "execute_result"
    }
   ],
   "source": [
    "details = pf_azure_client_hf.get_details(base_run_hf)\n",
    "details.head(10)"
   ]
  },
  {
   "cell_type": "markdown",
   "metadata": {},
   "source": [
    "# Cloud Eval run on Json Data"
   ]
  },
  {
   "cell_type": "code",
   "execution_count": null,
   "metadata": {},
   "outputs": [],
   "source": [
    "eval_flow = \"multi_flow/\"\n",
    "\n",
    "data = \"../data/salestestdata.jsonl\"\n",
    "run_name = timestamp+\"chat_eval_run\"\n",
    "print(run_name)\n",
    "\n",
    "\n",
    "\n",
    "eval_run_variant = pf_azure_client.run(\n",
    "    flow=eval_flow,\n",
    "    data=data,  # path to the data file\n",
    "    run=base_run,  # use run as the variant\n",
    "    column_mapping={\n",
    "        # reference data\n",
    "        \"customerId\": \"${data.customerId}\",\n",
    "        \"question\": \"${data.question}\",\n",
    "        \"context\": \"${run.outputs.context}\",\n",
    "        # reference the run's output\n",
    "        \"answer\": \"${run.outputs.answer}\",\n",
    "    },\n",
    "    runtime=runtime,\n",
    "    display_name=run_name,\n",
    "    name=run_name\n",
    ")\n"
   ]
  },
  {
   "cell_type": "code",
   "execution_count": null,
   "metadata": {},
   "outputs": [],
   "source": [
    "pf_azure_client.stream(eval_run_variant)"
   ]
  },
  {
   "cell_type": "code",
   "execution_count": null,
   "metadata": {},
   "outputs": [],
   "source": [
    "details = pf_azure_client.get_details(eval_run_variant)\n",
    "details.head(10)"
   ]
  },
  {
   "cell_type": "code",
   "execution_count": null,
   "metadata": {},
   "outputs": [],
   "source": [
    "\n",
    "metrics = pf_azure_client.get_metrics(eval_run_variant)\n",
    "print(json.dumps(metrics, indent=4))"
   ]
  },
  {
   "cell_type": "code",
   "execution_count": null,
   "metadata": {},
   "outputs": [],
   "source": [
    "pf_azure_client.visualize([base_run, eval_run_variant])"
   ]
  }
 ],
 "metadata": {
  "kernelspec": {
   "display_name": ".venv",
   "language": "python",
   "name": "python3"
  },
  "language_info": {
   "codemirror_mode": {
    "name": "ipython",
    "version": 3
   },
   "file_extension": ".py",
   "mimetype": "text/x-python",
   "name": "python",
   "nbconvert_exporter": "python",
   "pygments_lexer": "ipython3",
   "version": "3.11.9"
  }
 },
 "nbformat": 4,
 "nbformat_minor": 2
}
