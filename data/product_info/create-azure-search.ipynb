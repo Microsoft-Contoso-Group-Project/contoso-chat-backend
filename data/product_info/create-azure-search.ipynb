{
 "cells": [
  {
   "cell_type": "markdown",
   "metadata": {},
   "source": [
    "# Generating your product search index\n",
    "Thereis notebook is designed to automatically create the product search index for you. It uses the [product catalog](products.csv) file to create the index. In order to do so it needs names ane keys for the following services:\n",
    "\n",
    "- Azure Search Service\n",
    "- Azure OpenAI Service\n",
    "\n",
    "You can find the names and keys in the Azure Portal. These need to be entered in a `.env` file in the root of this repository. The `.env` file is not checked in to source control. You can use the [`.env.sample`](../../.env.sample) file as a template."
   ]
  },
  {
   "cell_type": "code",
   "execution_count": 1,
   "metadata": {
    "execution": {
     "iopub.execute_input": "2024-06-10T21:11:16.463726Z",
     "iopub.status.busy": "2024-06-10T21:11:16.463484Z",
     "iopub.status.idle": "2024-06-10T21:11:16.874280Z",
     "shell.execute_reply": "2024-06-10T21:11:16.874020Z"
    }
   },
   "outputs": [
    {
     "data": {
      "text/plain": [
       "True"
      ]
     },
     "execution_count": 1,
     "metadata": {},
     "output_type": "execute_result"
    }
   ],
   "source": [
    "import os\n",
    "import pandas as pd\n",
    "from azure.core.credentials import AzureKeyCredential\n",
    "from azure.search.documents import SearchClient\n",
    "from azure.search.documents.indexes import SearchIndexClient\n",
    "from azure.search.documents.indexes.models import (\n",
    "    HnswParameters,\n",
    "    HnswAlgorithmConfiguration,\n",
    "    SemanticPrioritizedFields,\n",
    "    SearchableField,\n",
    "    SearchField,\n",
    "    SearchFieldDataType,\n",
    "    SearchIndex,\n",
    "    SemanticSearch,\n",
    "    SemanticConfiguration,\n",
    "    SemanticField,\n",
    "    SimpleField,\n",
    "    VectorSearch,\n",
    "    VectorSearchAlgorithmKind,\n",
    "    VectorSearchAlgorithmMetric,\n",
    "    ExhaustiveKnnAlgorithmConfiguration,\n",
    "    ExhaustiveKnnParameters,\n",
    "    VectorSearchProfile,\n",
    ")\n",
    "from typing import List, Dict\n",
    "from openai import AzureOpenAI\n",
    "from dotenv import load_dotenv\n",
    "\n",
    "from pathlib import Path\n",
    "\n",
    "load_dotenv()"
   ]
  },
  {
   "cell_type": "code",
   "execution_count": 2,
   "metadata": {
    "execution": {
     "iopub.execute_input": "2024-06-10T21:11:16.889348Z",
     "iopub.status.busy": "2024-06-10T21:11:16.889224Z",
     "iopub.status.idle": "2024-06-10T21:11:16.890833Z",
     "shell.execute_reply": "2024-06-10T21:11:16.890642Z"
    }
   },
   "outputs": [],
   "source": [
    "def delete_index(search_index_client: SearchIndexClient, search_index: str):\n",
    "    print(f\"deleting index {search_index}\")\n",
    "    search_index_client.delete_index(search_index)"
   ]
  },
  {
   "cell_type": "code",
   "execution_count": 3,
   "metadata": {
    "execution": {
     "iopub.execute_input": "2024-06-10T21:11:16.891922Z",
     "iopub.status.busy": "2024-06-10T21:11:16.891856Z",
     "iopub.status.idle": "2024-06-10T21:11:16.895036Z",
     "shell.execute_reply": "2024-06-10T21:11:16.894848Z"
    }
   },
   "outputs": [],
   "source": [
    "def create_index_definition(name: str) -> SearchIndex:\n",
    "    \"\"\"\n",
    "    Returns an Azure Cognitive Search index with the given name.\n",
    "    \"\"\"\n",
    "    # The fields we want to index. The \"embedding\" field is a vector field that will\n",
    "    # be used for vector search.\n",
    "    fields = [\n",
    "        SimpleField(name=\"id\", type=SearchFieldDataType.String, key=True),\n",
    "        SearchableField(name=\"content\", type=SearchFieldDataType.String),\n",
    "        SimpleField(name=\"filepath\", type=SearchFieldDataType.String),\n",
    "        SearchableField(name=\"title\", type=SearchFieldDataType.String),\n",
    "        SimpleField(name=\"url\", type=SearchFieldDataType.String),\n",
    "        SearchField(\n",
    "            name=\"contentVector\",\n",
    "            type=SearchFieldDataType.Collection(SearchFieldDataType.Single),\n",
    "            searchable=True,\n",
    "            # Size of the vector created by the text-embedding-ada-002 model.\n",
    "            vector_search_dimensions=1536,\n",
    "            #vector_search_dimensions=1536,\n",
    "            vector_search_profile_name=\"myHnswProfile\",\n",
    "        ),\n",
    "    ]\n",
    "\n",
    "    # The \"content\" field should be prioritized for semantic ranking.\n",
    "    semantic_config = SemanticConfiguration(\n",
    "        name=\"default\",\n",
    "        prioritized_fields=SemanticPrioritizedFields(\n",
    "            title_field=SemanticField(field_name=\"title\"),\n",
    "            keywords_fields=[],\n",
    "            content_fields=[SemanticField(field_name=\"content\")],\n",
    "        ),\n",
    "    )\n",
    "\n",
    "    # For vector search, we want to use the HNSW (Hierarchical Navigable Small World)\n",
    "    # algorithm (a type of approximate nearest neighbor search algorithm) with cosine\n",
    "    # distance.\n",
    "    vector_search = VectorSearch(\n",
    "        algorithms=[\n",
    "            HnswAlgorithmConfiguration(\n",
    "                name=\"myHnsw\",\n",
    "                kind=VectorSearchAlgorithmKind.HNSW,\n",
    "                parameters=HnswParameters(\n",
    "                    m=4,\n",
    "                    ef_construction=400,\n",
    "                    ef_search=500,\n",
    "                    metric=VectorSearchAlgorithmMetric.COSINE,\n",
    "                ),\n",
    "            ),\n",
    "            ExhaustiveKnnAlgorithmConfiguration(\n",
    "                name=\"myExhaustiveKnn\",\n",
    "                kind=VectorSearchAlgorithmKind.EXHAUSTIVE_KNN,\n",
    "                parameters=ExhaustiveKnnParameters(\n",
    "                    metric=VectorSearchAlgorithmMetric.COSINE\n",
    "                ),\n",
    "            ),\n",
    "        ],\n",
    "        profiles=[\n",
    "            VectorSearchProfile(\n",
    "                name=\"myHnswProfile\",\n",
    "                algorithm_configuration_name=\"myHnsw\",\n",
    "            ),\n",
    "            VectorSearchProfile(\n",
    "                name=\"myExhaustiveKnnProfile\",\n",
    "                algorithm_configuration_name=\"myExhaustiveKnn\",\n",
    "            ),\n",
    "        ],\n",
    "    )\n",
    "\n",
    "    # Create the semantic settings with the configuration\n",
    "    semantic_search = SemanticSearch(configurations=[semantic_config])\n",
    "\n",
    "    # Create the search index.\n",
    "    index = SearchIndex(\n",
    "        name=name,\n",
    "        fields=fields,\n",
    "        semantic_search=semantic_search,\n",
    "        vector_search=vector_search,\n",
    "    )\n",
    "\n",
    "    return index"
   ]
  },
  {
   "cell_type": "code",
   "execution_count": 4,
   "metadata": {
    "execution": {
     "iopub.execute_input": "2024-06-10T21:11:16.896108Z",
     "iopub.status.busy": "2024-06-10T21:11:16.896044Z",
     "iopub.status.idle": "2024-06-10T21:11:16.898361Z",
     "shell.execute_reply": "2024-06-10T21:11:16.898183Z"
    }
   },
   "outputs": [],
   "source": [
    "def gen_contoso_products(\n",
    "    path: str,\n",
    ") -> List[Dict[str, any]]:\n",
    "    openai_service_endoint = os.environ[\"CONTOSO_AI_SERVICES_ENDPOINT\"]\n",
    "    openai_deployment = \"text-embedding-ada-002\"\n",
    "\n",
    "    # openai.Embedding.create() -> client.embeddings.create()\n",
    "    client = AzureOpenAI(\n",
    "        api_version=\"2023-07-01-preview\",\n",
    "        azure_endpoint=openai_service_endoint,\n",
    "        azure_deployment=openai_deployment,\n",
    "        api_key=os.environ[\"CONTOSO_AI_SERVICES_KEY\"],\n",
    "    )\n",
    "\n",
    "    products = pd.read_csv(path)\n",
    "    items = []\n",
    "    for product in products.to_dict(\"records\"):\n",
    "        content = product[\"description\"]\n",
    "        id = str(product[\"id\"])\n",
    "        title = product[\"name\"]\n",
    "        url = f\"/products/{title.lower().replace(' ', '-')}\"\n",
    "        emb = client.embeddings.create(input=content, model=openai_deployment)\n",
    "        rec = {\n",
    "            \"id\": id,\n",
    "            \"content\": content,\n",
    "            \"filepath\": f\"{title.lower().replace(' ', '-')}\",\n",
    "            \"title\": title,\n",
    "            \"url\": url,\n",
    "            \"contentVector\": emb.data[0].embedding,\n",
    "        }\n",
    "        items.append(rec)\n",
    "\n",
    "    return items"
   ]
  },
  {
   "cell_type": "code",
   "execution_count": 5,
   "metadata": {
    "execution": {
     "iopub.execute_input": "2024-06-10T21:11:16.899410Z",
     "iopub.status.busy": "2024-06-10T21:11:16.899349Z",
     "iopub.status.idle": "2024-06-10T21:11:18.701485Z",
     "shell.execute_reply": "2024-06-10T21:11:18.701255Z"
    }
   },
   "outputs": [
    {
     "name": "stderr",
     "output_type": "stream",
     "text": [
      "/var/folders/hf/3mqmr8vd3cs309p9_zg2wcsr0000gn/T/ipykernel_34942/441300175.py:2: DeprecationWarning: pkg_resources is deprecated as an API. See https://setuptools.pypa.io/en/latest/pkg_resources.html\n",
      "  import pkg_resources\n"
     ]
    },
    {
     "name": "stdout",
     "output_type": "stream",
     "text": [
      "sentence-transformers is already installed.\n"
     ]
    },
    {
     "name": "stderr",
     "output_type": "stream",
     "text": [
      "/Users/yonghuizhu/miniconda3/envs/contoso-chat/lib/python3.11/site-packages/sentence_transformers/cross_encoder/CrossEncoder.py:11: TqdmWarning: IProgress not found. Please update jupyter and ipywidgets. See https://ipywidgets.readthedocs.io/en/stable/user_install.html\n",
      "  from tqdm.autonotebook import tqdm, trange\n"
     ]
    }
   ],
   "source": [
    "import subprocess\n",
    "import pkg_resources\n",
    "import sys \n",
    "\n",
    "def install_package(package_name):\n",
    "    try:\n",
    "        # Check if the package is already installed\n",
    "        dist = pkg_resources.get_distribution(package_name)\n",
    "        print(f\"{package_name} is already installed.\")\n",
    "    except pkg_resources.DistributionNotFound:\n",
    "        # If not installed, install it using pip\n",
    "        print(f\"{package_name} is not installed. Installing now...\")\n",
    "        subprocess.check_call([sys.executable, \"-m\", \"pip\", \"install\", \"--upgrade\", package_name])\n",
    "\n",
    "# Specify the package to be checked and installed\n",
    "package_name = 'sentence-transformers'\n",
    "install_package(package_name)\n",
    "\n",
    "from sentence_transformers import SentenceTransformer\n",
    "\n",
    "def gen_contoso_products_with_bge(\n",
    "    path: str,\n",
    ") -> List[Dict[str, any]]:\n",
    "    model = SentenceTransformer('BAAI/bge-large-en-v1.5')\n",
    "\n",
    "    products = pd.read_csv(path)\n",
    "    items = []\n",
    "\n",
    "    for product in products.to_dict(\"records\"):\n",
    "        content = product[\"description\"]\n",
    "        id = str(product[\"id\"])\n",
    "        title = product[\"name\"]\n",
    "        url = f\"/products/{title.lower().replace(' ', '-')}\"\n",
    "        \n",
    "        emb = model.encode(content, normalize_embeddings=True)\n",
    "\n",
    "        rec = {\n",
    "            \"id\": id,\n",
    "            \"content\": content,\n",
    "            \"filepath\": f\"{title.lower().replace(' ', '-')}\",\n",
    "            \"title\": title,\n",
    "            \"url\": url,\n",
    "            \"contentVector\": emb.tolist(),  \n",
    "        }\n",
    "        items.append(rec)\n",
    "\n",
    "    return items"
   ]
  },
  {
   "cell_type": "code",
   "execution_count": 6,
   "metadata": {
    "execution": {
     "iopub.execute_input": "2024-06-10T21:11:18.702889Z",
     "iopub.status.busy": "2024-06-10T21:11:18.702756Z",
     "iopub.status.idle": "2024-06-10T21:11:20.257624Z",
     "shell.execute_reply": "2024-06-10T21:11:20.256929Z"
    }
   },
   "outputs": [
    {
     "name": "stdout",
     "output_type": "stream",
     "text": [
      "deleting index contoso-products\n"
     ]
    },
    {
     "name": "stdout",
     "output_type": "stream",
     "text": [
      "creating index contoso-products\n"
     ]
    },
    {
     "name": "stdout",
     "output_type": "stream",
     "text": [
      "index contoso-products created\n"
     ]
    }
   ],
   "source": [
    "contoso_search = os.environ[\"CONTOSO_SEARCH_ENDPOINT\"]\n",
    "contoso_search_key = os.environ[\"CONTOSO_SEARCH_KEY\"]\n",
    "index_name = \"contoso-products\"\n",
    "\n",
    "search_index_client = SearchIndexClient(\n",
    "    contoso_search, AzureKeyCredential(contoso_search_key)\n",
    ")\n",
    "\n",
    "delete_index(search_index_client, index_name)\n",
    "index = create_index_definition(index_name)\n",
    "print(f\"creating index {index_name}\")\n",
    "search_index_client.create_or_update_index(index)\n",
    "print(f\"index {index_name} created\")"
   ]
  },
  {
   "cell_type": "code",
   "execution_count": 7,
   "metadata": {
    "execution": {
     "iopub.execute_input": "2024-06-10T21:11:20.261127Z",
     "iopub.status.busy": "2024-06-10T21:11:20.260716Z",
     "iopub.status.idle": "2024-06-10T21:11:26.064246Z",
     "shell.execute_reply": "2024-06-10T21:11:26.063379Z"
    }
   },
   "outputs": [
    {
     "name": "stdout",
     "output_type": "stream",
     "text": [
      "indexing documents\n"
     ]
    },
    {
     "name": "stdout",
     "output_type": "stream",
     "text": [
      "uploading 20 documents to index contoso-products\n"
     ]
    },
    {
     "data": {
      "text/plain": [
       "'\\n\\nprint(f\"indexing documents\")\\ndocs = gen_contoso_products_with_bge(\"products.csv\")\\n\\nsearch_client = SearchClient(\\n    endpoint=contoso_search,\\n    index_name=index_name,\\n    credential=AzureKeyCredential(contoso_search_key),\\n)\\n\\nprint(f\"uploading {len(docs)} documents to index {index_name}\")\\nds = search_client.upload_documents(docs)\\n'"
      ]
     },
     "execution_count": 7,
     "metadata": {},
     "output_type": "execute_result"
    }
   ],
   "source": [
    "print(f\"indexing documents\")\n",
    "\n",
    "docs = gen_contoso_products(\"products.csv\")\n",
    "\n",
    "search_client = SearchClient(\n",
    "     endpoint=contoso_search,\n",
    "     index_name=index_name,\n",
    "     credential=AzureKeyCredential(contoso_search_key),\n",
    ")\n",
    "\n",
    "print(f\"uploading {len(docs)} documents to index {index_name}\")\n",
    "ds = search_client.upload_documents(docs)\n",
    "\n",
    "\n",
    "'''\n",
    "\n",
    "print(f\"indexing documents\")\n",
    "docs = gen_contoso_products_with_bge(\"products.csv\")\n",
    "\n",
    "search_client = SearchClient(\n",
    "    endpoint=contoso_search,\n",
    "    index_name=index_name,\n",
    "    credential=AzureKeyCredential(contoso_search_key),\n",
    ")\n",
    "\n",
    "print(f\"uploading {len(docs)} documents to index {index_name}\")\n",
    "ds = search_client.upload_documents(docs)\n",
    "'''\n"
   ]
  },
  {
   "cell_type": "code",
   "execution_count": null,
   "metadata": {},
   "outputs": [],
   "source": []
  }
 ],
 "metadata": {
  "kernelspec": {
   "display_name": ".venv",
   "language": "python",
   "name": "python3"
  },
  "language_info": {
   "codemirror_mode": {
    "name": "ipython",
    "version": 3
   },
   "file_extension": ".py",
   "mimetype": "text/x-python",
   "name": "python",
   "nbconvert_exporter": "python",
   "pygments_lexer": "ipython3",
   "version": "3.11.9"
  }
 },
 "nbformat": 4,
 "nbformat_minor": 2
}
