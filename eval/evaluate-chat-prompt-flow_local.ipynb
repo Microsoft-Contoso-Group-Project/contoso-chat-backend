{
 "cells": [
  {
   "cell_type": "code",
   "execution_count": 1,
   "metadata": {
    "execution": {
     "iopub.execute_input": "2024-06-09T22:56:54.242672Z",
     "iopub.status.busy": "2024-06-09T22:56:54.241981Z",
     "iopub.status.idle": "2024-06-09T22:56:54.950573Z",
     "shell.execute_reply": "2024-06-09T22:56:54.950370Z"
    }
   },
   "outputs": [
    {
     "name": "stderr",
     "output_type": "stream",
     "text": [
      "WARNING:root:'from promptflow import PFClient' is deprecated and will be removed in the future. Use 'from promptflow.client import PFClient' instead.\n"
     ]
    }
   ],
   "source": [
    "from promptflow import PFClient\n",
    "\n",
    "pf_client = PFClient()\n",
    "\n",
    "from dotenv import load_dotenv\n",
    "\n",
    "load_dotenv()\n",
    "\n",
    "runtime = \"automatic\"\n",
    "# load flow\n",
    "flow = \"../contoso-chat_hf\" #\"../contoso-chat\"\n",
    "\n",
    "\n",
    "eval_flow = \"multi_flow/\"   #\"multi_flow_hf/\"\n",
    "data = \"../data/salestestdata.jsonl\"\n"
   ]
  },
  {
   "cell_type": "code",
   "execution_count": 2,
   "metadata": {
    "execution": {
     "iopub.execute_input": "2024-06-09T22:56:54.962439Z",
     "iopub.status.busy": "2024-06-09T22:56:54.962288Z",
     "iopub.status.idle": "2024-06-09T22:56:57.458996Z",
     "shell.execute_reply": "2024-06-09T22:56:57.458725Z"
    }
   },
   "outputs": [
    {
     "name": "stderr",
     "output_type": "stream",
     "text": [
      "WARNING:root:'from promptflow import tool' is deprecated and will be removed in the future. Use 'from promptflow.core import tool' instead.\n"
     ]
    },
    {
     "name": "stderr",
     "output_type": "stream",
     "text": [
      "[2024-06-10 00:56:55 +0200][promptflow.core._connection][WARNING] - Please use connection.secrets[key] to access secrets.\n"
     ]
    },
    {
     "name": "stdout",
     "output_type": "stream",
     "text": [
      "Prompt flow service has started...\n"
     ]
    },
    {
     "name": "stdout",
     "output_type": "stream",
     "text": [
      "2024-06-10 00:56:55 +0200   26317 execution.flow     INFO     Start executing nodes in thread pool mode.\n"
     ]
    },
    {
     "name": "stdout",
     "output_type": "stream",
     "text": [
      "2024-06-10 00:56:55 +0200   26317 execution.flow     INFO     Start to run 5 nodes with concurrency level 16.\n"
     ]
    },
    {
     "name": "stdout",
     "output_type": "stream",
     "text": [
      "2024-06-10 00:56:55 +0200   26317 execution.flow     INFO     Executing node question_embedding. node run id: 6c939d43-f7f5-481f-b0d1-859a98a5490a_question_embedding_0\n"
     ]
    },
    {
     "name": "stdout",
     "output_type": "stream",
     "text": [
      "2024-06-10 00:56:55 +0200   26317 execution.flow     INFO     Executing node customer_lookup. node run id: 6c939d43-f7f5-481f-b0d1-859a98a5490a_customer_lookup_0\n"
     ]
    },
    {
     "name": "stdout",
     "output_type": "stream",
     "text": [
      "2024-06-10 00:56:55 +0200   26317 execution.flow     INFO     Node question_embedding completes.\n"
     ]
    },
    {
     "name": "stdout",
     "output_type": "stream",
     "text": [
      "2024-06-10 00:56:55 +0200   26317 execution.flow     INFO     Executing node retrieve_documentation. node run id: 6c939d43-f7f5-481f-b0d1-859a98a5490a_retrieve_documentation_0\n"
     ]
    },
    {
     "name": "stdout",
     "output_type": "stream",
     "text": [
      "2024-06-10 00:56:55 +0200   26317 execution.flow     INFO     Node customer_lookup completes.\n"
     ]
    },
    {
     "name": "stdout",
     "output_type": "stream",
     "text": [
      "You can view the trace detail from the following URL:\n",
      "http://127.0.0.1:23333/v1.0/ui/traces/?#collection=contoso-chat_hf&uiTraceId=0x300ad12e531e259961e682c0abd83146\n"
     ]
    },
    {
     "name": "stdout",
     "output_type": "stream",
     "text": [
      "2024-06-10 00:56:56 +0200   26317 execution.flow     INFO     Node retrieve_documentation completes.\n"
     ]
    },
    {
     "name": "stdout",
     "output_type": "stream",
     "text": [
      "2024-06-10 00:56:56 +0200   26317 execution.flow     INFO     Executing node customer_prompt. node run id: 6c939d43-f7f5-481f-b0d1-859a98a5490a_customer_prompt_0\n"
     ]
    },
    {
     "name": "stdout",
     "output_type": "stream",
     "text": [
      "2024-06-10 00:56:56 +0200   26317 execution.flow     INFO     Node customer_prompt completes.\n"
     ]
    },
    {
     "name": "stdout",
     "output_type": "stream",
     "text": [
      "2024-06-10 00:56:56 +0200   26317 execution.flow     INFO     Executing node llm_response. node run id: 6c939d43-f7f5-481f-b0d1-859a98a5490a_llm_response_0\n"
     ]
    },
    {
     "name": "stdout",
     "output_type": "stream",
     "text": [
      "2024-06-10 00:56:57 +0200   26317 execution.flow     INFO     Node llm_response completes.\n"
     ]
    }
   ],
   "source": [
    "# Add a question to test the base prompt flow.\n",
    "question = \"Can you tell me about your jackets?\"\n",
    "customerId = \"4\"\n",
    "output_hf = pf_client.test(\n",
    "    flow=flow, # Path to the flow directory\n",
    "    inputs={ # Inputs to the flow\n",
    "        \"chat_history\": [],\n",
    "        \"question\": question,\n",
    "        \"customerId\": customerId,\n",
    "    },\n",
    ")\n",
    "\n",
    "output_hf[\"answer\"] = \"\".join(list(output_hf[\"answer\"]))"
   ]
  },
  {
   "cell_type": "code",
   "execution_count": 3,
   "metadata": {
    "execution": {
     "iopub.execute_input": "2024-06-09T22:56:57.460389Z",
     "iopub.status.busy": "2024-06-09T22:56:57.460308Z",
     "iopub.status.idle": "2024-06-09T22:56:57.463505Z",
     "shell.execute_reply": "2024-06-09T22:56:57.463304Z"
    }
   },
   "outputs": [
    {
     "data": {
      "text/plain": [
       "{'answer': \"Hi there 👋 SaraLee 🙏,\\n\\nI'd love 💕 sharing our awesome collection 😎of outerwear pieces tailored perfectly 🔩for adventurers like yourself 😉! \\n\\nConsidering previous buys such ⭐️as those fantastic `Cozynight`🛍️sleeping bags & comfyTrailblazerHikesPants💪, I think two fabulous choices would complement each item beautifully:\\n\\n1⃣ Our popularSummitBreezesJacket❄(Catalog ID :\",\n",
       " 'context': [{'id': '3',\n",
       "   'title': 'Summit Breeze Jacket',\n",
       "   'content': \"Discover the joy of hiking with MountainStyle's Summit Breeze Jacket. This lightweight jacket is your perfect companion for outdoor adventures. Sporting a trail-ready, windproof design and a water-resistant fabric, it's ready to withstand any weather. The breathable polyester material and adjustable cuffs keep you comfortable, whether you're ascending a mountain or strolling through a park. And its sleek black color adds style to function. The jacket features a full-zip front closure, adjustable hood, and secure zippered pockets. Experience the comfort of its inner lining and the convenience of its packable design. Crafted for night trekkers too, the jacket has reflective accents for enhanced visibility. Rugged yet chic, the Summit Breeze Jacket is more than a hiking essential, it's the gear that inspires you to reach new heights. Choose adventure, choose the Summit Breeze Jacket.\",\n",
       "   'url': '/products/summit-breeze-jacket'},\n",
       "  {'id': '17',\n",
       "   'title': 'RainGuard Hiking Jacket',\n",
       "   'content': \"Introducing the MountainStyle RainGuard Hiking Jacket - the ultimate solution for weatherproof comfort during your outdoor undertakings! Designed with waterproof, breathable fabric, this jacket promises an outdoor experience that's as dry as it is comfortable. The rugged construction assures durability, while the adjustable hood provides a customizable fit against wind and rain. Featuring multiple pockets for safe, convenient storage and adjustable cuffs and hem, you can tailor the jacket to suit your needs on-the-go. And, don't worry about overheating during intense activities - it's equipped with ventilation zippers for increased airflow. Reflective details ensure visibility even during low-light conditions, making it perfect for evening treks. With its lightweight, packable design, carrying it inside your backpack requires minimal effort. With options for men and women, the RainGuard Hiking Jacket is perfect for hiking, camping, trekking and countless other outdoor adventures. Don't let the weather stand in your way - embrace the outdoors with MountainStyle RainGuard Hiking Jacket!\",\n",
       "   'url': '/products/rainguard-hiking-jacket'},\n",
       "  {'id': '4',\n",
       "   'title': 'TrekReady Hiking Boots',\n",
       "   'content': \"Introducing the TrekReady Hiking Boots - stepping up your hiking game, one footprint at a time! Crafted from leather, these stylistic Trailmates are made to last. TrekReady infuses durability with its reinforced stitching and toe protection, making sure your journey is never stopped short. Comfort? They have that covered too! The boots are a haven with their breathable materials, cushioned insole, with padded collar and tongue; all nestled neatly within their lightweight design. As they say, it's what's inside that counts - so inside you'll find a moisture-wicking lining that quarantines stank and keeps your feet fresh as that mountaintop breeze. Remember the fear of slippery surfaces? With these boots, you can finally tell it to 'take a hike'! Their shock-absorbing midsoles and excellent traction capabilities promise stability at your every step. Beautifully finished in a traditional lace-up system, every adventurer deserves a pair of TrekReady Hiking Boots. Hike more, worry less!\",\n",
       "   'url': '/products/trekready-hiking-boots'}]}"
      ]
     },
     "execution_count": 3,
     "metadata": {},
     "output_type": "execute_result"
    }
   ],
   "source": [
    "output_hf"
   ]
  },
  {
   "cell_type": "markdown",
   "metadata": {},
   "source": [
    "Test the groundedness of the prompt flow with the answer from the above question."
   ]
  },
  {
   "cell_type": "markdown",
   "metadata": {},
   "source": [
    "# Local Evaluation - Multiple Metrics \n",
    "\n",
    "Now use the same prompt flow and test it against the Multi Evaluation flow for groundedness, coherence, fluency, and relevance."
   ]
  },
  {
   "cell_type": "code",
   "execution_count": 4,
   "metadata": {
    "execution": {
     "iopub.execute_input": "2024-06-09T22:56:57.464728Z",
     "iopub.status.busy": "2024-06-09T22:56:57.464657Z",
     "iopub.status.idle": "2024-06-09T22:56:58.639180Z",
     "shell.execute_reply": "2024-06-09T22:56:58.638961Z"
    }
   },
   "outputs": [
    {
     "name": "stdout",
     "output_type": "stream",
     "text": [
      "question Can you tell me about your jackets?\n",
      "context [{'id': '3', 'title': 'Summit Breeze Jacket', 'content': \"Discover the joy of hiking with MountainStyle's Summit Breeze Jacket. This lightweight jacket is your perfect companion for outdoor adventures. Sporting a trail-ready, windproof design and a water-resistant fabric, it's ready to withstand any weather. The breathable polyester material and adjustable cuffs keep you comfortable, whether you're ascending a mountain or strolling through a park. And its sleek black color adds style to function. The jacket features a full-zip front closure, adjustable hood, and secure zippered pockets. Experience the comfort of its inner lining and the convenience of its packable design. Crafted for night trekkers too, the jacket has reflective accents for enhanced visibility. Rugged yet chic, the Summit Breeze Jacket is more than a hiking essential, it's the gear that inspires you to reach new heights. Choose adventure, choose the Summit Breeze Jacket.\", 'url': '/products/summit-breeze-jacket'}, {'id': '17', 'title': 'RainGuard Hiking Jacket', 'content': \"Introducing the MountainStyle RainGuard Hiking Jacket - the ultimate solution for weatherproof comfort during your outdoor undertakings! Designed with waterproof, breathable fabric, this jacket promises an outdoor experience that's as dry as it is comfortable. The rugged construction assures durability, while the adjustable hood provides a customizable fit against wind and rain. Featuring multiple pockets for safe, convenient storage and adjustable cuffs and hem, you can tailor the jacket to suit your needs on-the-go. And, don't worry about overheating during intense activities - it's equipped with ventilation zippers for increased airflow. Reflective details ensure visibility even during low-light conditions, making it perfect for evening treks. With its lightweight, packable design, carrying it inside your backpack requires minimal effort. With options for men and women, the RainGuard Hiking Jacket is perfect for hiking, camping, trekking and countless other outdoor adventures. Don't let the weather stand in your way - embrace the outdoors with MountainStyle RainGuard Hiking Jacket!\", 'url': '/products/rainguard-hiking-jacket'}, {'id': '4', 'title': 'TrekReady Hiking Boots', 'content': \"Introducing the TrekReady Hiking Boots - stepping up your hiking game, one footprint at a time! Crafted from leather, these stylistic Trailmates are made to last. TrekReady infuses durability with its reinforced stitching and toe protection, making sure your journey is never stopped short. Comfort? They have that covered too! The boots are a haven with their breathable materials, cushioned insole, with padded collar and tongue; all nestled neatly within their lightweight design. As they say, it's what's inside that counts - so inside you'll find a moisture-wicking lining that quarantines stank and keeps your feet fresh as that mountaintop breeze. Remember the fear of slippery surfaces? With these boots, you can finally tell it to 'take a hike'! Their shock-absorbing midsoles and excellent traction capabilities promise stability at your every step. Beautifully finished in a traditional lace-up system, every adventurer deserves a pair of TrekReady Hiking Boots. Hike more, worry less!\", 'url': '/products/trekready-hiking-boots'}]\n",
      "answer Hi there 👋 SaraLee 🙏,\n",
      "\n",
      "I'd love 💕 sharing our awesome collection 😎of outerwear pieces tailored perfectly 🔩for adventurers like yourself 😉! \n",
      "\n",
      "Considering previous buys such ⭐️as those fantastic `Cozynight`🛍️sleeping bags & comfyTrailblazerHikesPants💪, I think two fabulous choices would complement each item beautifully:\n",
      "\n",
      "1⃣ Our popularSummitBreezesJacket❄(Catalog ID :\n"
     ]
    },
    {
     "name": "stderr",
     "output_type": "stream",
     "text": [
      "WARNING:root:'from promptflow import log_metric' is deprecated and will be removed in the future. Use 'from promptflow.core import log_metric' instead.\n"
     ]
    },
    {
     "name": "stdout",
     "output_type": "stream",
     "text": [
      "Prompt flow service has started...\n",
      "2024-06-10 00:56:57 +0200   26317 execution.flow     INFO     Start executing nodes in thread pool mode.\n"
     ]
    },
    {
     "name": "stdout",
     "output_type": "stream",
     "text": [
      "2024-06-10 00:56:57 +0200   26317 execution.flow     INFO     Start to run 8 nodes with concurrency level 16.\n"
     ]
    },
    {
     "name": "stdout",
     "output_type": "stream",
     "text": [
      "2024-06-10 00:56:57 +0200   26317 execution.flow     INFO     Executing node coherence_score. node run id: 20d4dd69-1c8d-4663-8d00-1a05cc5dec81_coherence_score_0\n"
     ]
    },
    {
     "name": "stdout",
     "output_type": "stream",
     "text": [
      "2024-06-10 00:56:57 +0200   26317 execution.flow     INFO     Executing node fluency_score. node run id: 20d4dd69-1c8d-4663-8d00-1a05cc5dec81_fluency_score_0\n"
     ]
    },
    {
     "name": "stdout",
     "output_type": "stream",
     "text": [
      "2024-06-10 00:56:57 +0200   26317 execution.flow     INFO     Executing node groundedness_score. node run id: 20d4dd69-1c8d-4663-8d00-1a05cc5dec81_groundedness_score_0\n"
     ]
    },
    {
     "name": "stdout",
     "output_type": "stream",
     "text": [
      "2024-06-10 00:56:57 +0200   26317 execution.flow     INFO     Executing node relevance_score. node run id: 20d4dd69-1c8d-4663-8d00-1a05cc5dec81_relevance_score_0\n"
     ]
    },
    {
     "name": "stdout",
     "output_type": "stream",
     "text": [
      "2024-06-10 00:56:58 +0200   26317 execution.flow     INFO     Node fluency_score completes.\n"
     ]
    },
    {
     "name": "stdout",
     "output_type": "stream",
     "text": [
      "2024-06-10 00:56:58 +0200   26317 execution.flow     INFO     Node coherence_score completes.\n"
     ]
    },
    {
     "name": "stdout",
     "output_type": "stream",
     "text": [
      "2024-06-10 00:56:58 +0200   26317 execution.flow     INFO     Executing node fluency_concat_scores. node run id: 20d4dd69-1c8d-4663-8d00-1a05cc5dec81_fluency_concat_scores_0\n"
     ]
    },
    {
     "name": "stdout",
     "output_type": "stream",
     "text": [
      "2024-06-10 00:56:58 +0200   26317 execution.flow     INFO     Executing node coherence_concat_scores. node run id: 20d4dd69-1c8d-4663-8d00-1a05cc5dec81_coherence_concat_scores_0\n"
     ]
    },
    {
     "name": "stdout",
     "output_type": "stream",
     "text": [
      "2024-06-10 00:56:58 +0200   26317 execution.flow     INFO     Node fluency_concat_scores completes.\n"
     ]
    },
    {
     "name": "stdout",
     "output_type": "stream",
     "text": [
      "2024-06-10 00:56:58 +0200   26317 execution.flow     INFO     Node coherence_concat_scores completes.\n"
     ]
    },
    {
     "name": "stdout",
     "output_type": "stream",
     "text": [
      "2024-06-10 00:56:58 +0200   26317 execution.flow     INFO     Node groundedness_score completes.\n"
     ]
    },
    {
     "name": "stdout",
     "output_type": "stream",
     "text": [
      "2024-06-10 00:56:58 +0200   26317 execution.flow     INFO     Executing node groundedness_concat_scores. node run id: 20d4dd69-1c8d-4663-8d00-1a05cc5dec81_groundedness_concat_scores_0\n"
     ]
    },
    {
     "name": "stdout",
     "output_type": "stream",
     "text": [
      "2024-06-10 00:56:58 +0200   26317 execution.flow     INFO     Node groundedness_concat_scores completes.\n"
     ]
    },
    {
     "name": "stdout",
     "output_type": "stream",
     "text": [
      "2024-06-10 00:56:58 +0200   26317 execution.flow     INFO     Node relevance_score completes.\n"
     ]
    },
    {
     "name": "stdout",
     "output_type": "stream",
     "text": [
      "2024-06-10 00:56:58 +0200   26317 execution.flow     INFO     Executing node relevance_concat_scores. node run id: 20d4dd69-1c8d-4663-8d00-1a05cc5dec81_relevance_concat_scores_0\n"
     ]
    },
    {
     "name": "stdout",
     "output_type": "stream",
     "text": [
      "2024-06-10 00:56:58 +0200   26317 execution.flow     INFO     Node relevance_concat_scores completes.\n"
     ]
    },
    {
     "name": "stdout",
     "output_type": "stream",
     "text": [
      "2024-06-10 00:56:58 +0200   26317 execution.flow     INFO     Start executing nodes in thread pool mode.\n"
     ]
    },
    {
     "name": "stdout",
     "output_type": "stream",
     "text": [
      "2024-06-10 00:56:58 +0200   26317 execution.flow     INFO     Start to run 4 nodes with concurrency level 16.\n"
     ]
    },
    {
     "name": "stdout",
     "output_type": "stream",
     "text": [
      "2024-06-10 00:56:58 +0200   26317 execution.flow     INFO     Executing node coherence_aggregate_variants_results. node run id: 20d4dd69-1c8d-4663-8d00-1a05cc5dec81_coherence_aggregate_variants_results_reduce\n"
     ]
    },
    {
     "name": "stdout",
     "output_type": "stream",
     "text": [
      "2024-06-10 00:56:58 +0200   26317 execution.flow     INFO     Executing node fluency_aggregate_variants_results. node run id: 20d4dd69-1c8d-4663-8d00-1a05cc5dec81_fluency_aggregate_variants_results_reduce\n"
     ]
    },
    {
     "name": "stdout",
     "output_type": "stream",
     "text": [
      "2024-06-10 00:56:58 +0200   26317 execution.flow     INFO     Executing node groundedness_aggregate_variants_results. node run id: 20d4dd69-1c8d-4663-8d00-1a05cc5dec81_groundedness_aggregate_variants_results_reduce\n"
     ]
    },
    {
     "name": "stdout",
     "output_type": "stream",
     "text": [
      "2024-06-10 00:56:58 +0200   26317 execution.flow     INFO     Executing node relevance_aggregate_variants_results. node run id: 20d4dd69-1c8d-4663-8d00-1a05cc5dec81_relevance_aggregate_variants_results_reduce\n"
     ]
    },
    {
     "name": "stdout",
     "output_type": "stream",
     "text": [
      "2024-06-10 00:56:58 +0200   26317 execution.flow     INFO     Node coherence_aggregate_variants_results completes.\n"
     ]
    },
    {
     "name": "stdout",
     "output_type": "stream",
     "text": [
      "2024-06-10 00:56:58 +0200   26317 execution.flow     INFO     Node fluency_aggregate_variants_results completes.\n"
     ]
    },
    {
     "name": "stdout",
     "output_type": "stream",
     "text": [
      "2024-06-10 00:56:58 +0200   26317 execution.flow     INFO     Node groundedness_aggregate_variants_results completes.\n"
     ]
    },
    {
     "name": "stdout",
     "output_type": "stream",
     "text": [
      "2024-06-10 00:56:58 +0200   26317 execution.flow     INFO     [relevance_aggregate_variants_results in line None (index starts from 0)] stdout> results\n"
     ]
    },
    {
     "name": "stdout",
     "output_type": "stream",
     "text": [
      "2024-06-10 00:56:58 +0200   26317 execution.flow     INFO     [relevance_aggregate_variants_results in line None (index starts from 0)] stdout>  \n"
     ]
    },
    {
     "name": "stdout",
     "output_type": "stream",
     "text": [
      "2024-06-10 00:56:58 +0200   26317 execution.flow     INFO     [relevance_aggregate_variants_results in line None (index starts from 0)] stdout> [{'gpt_relevance': 2.0, 'gpt_relevance_pass_rate': 0}]\n"
     ]
    },
    {
     "name": "stdout",
     "output_type": "stream",
     "text": [
      "2024-06-10 00:56:58 +0200   26317 execution.flow     INFO     Node relevance_aggregate_variants_results completes.\n"
     ]
    }
   ],
   "source": [
    "print(\"question\",question)\n",
    "print(\"context\",output_hf[\"context\"])\n",
    "print(\"answer\", output_hf[\"answer\"])\n",
    "test_multi_hf = pf_client.test(\n",
    "    eval_flow,\n",
    "    inputs={\n",
    "        \"question\": question,\n",
    "        \"context\": str(output_hf[\"context\"]),\n",
    "        \"answer\": output_hf[\"answer\"],\n",
    "    },\n",
    ")"
   ]
  },
  {
   "cell_type": "code",
   "execution_count": 5,
   "metadata": {
    "execution": {
     "iopub.execute_input": "2024-06-09T22:56:58.640471Z",
     "iopub.status.busy": "2024-06-09T22:56:58.640378Z",
     "iopub.status.idle": "2024-06-09T22:56:58.642283Z",
     "shell.execute_reply": "2024-06-09T22:56:58.642084Z"
    }
   },
   "outputs": [
    {
     "data": {
      "text/plain": [
       "{'gpt_coherence': 2.0,\n",
       " 'gpt_fluency': 2.0,\n",
       " 'gpt_groundedness': 1.0,\n",
       " 'gpt_relevance': 2.0}"
      ]
     },
     "execution_count": 5,
     "metadata": {},
     "output_type": "execute_result"
    }
   ],
   "source": [
    "test_multi_hf"
   ]
  },
  {
   "cell_type": "code",
   "execution_count": 6,
   "metadata": {
    "execution": {
     "iopub.execute_input": "2024-06-09T22:56:58.643438Z",
     "iopub.status.busy": "2024-06-09T22:56:58.643355Z",
     "iopub.status.idle": "2024-06-09T22:57:04.196095Z",
     "shell.execute_reply": "2024-06-09T22:57:04.195837Z"
    }
   },
   "outputs": [
    {
     "name": "stdout",
     "output_type": "stream",
     "text": [
      "2024_06_10_005658chat_base_run\n"
     ]
    },
    {
     "name": "stderr",
     "output_type": "stream",
     "text": [
      "[2024-06-10 00:56:58 +0200][promptflow._sdk._orchestrator.run_submitter][INFO] - Submitting run 2024_06_10_005658chat_base_run, log path: /Users/yonghuizhu/.promptflow/.runs/2024_06_10_005658chat_base_run/logs.txt\n"
     ]
    },
    {
     "name": "stdout",
     "output_type": "stream",
     "text": [
      "Prompt flow service has started...\n",
      "You can view the traces in local from http://127.0.0.1:23333/v1.0/ui/traces/?#run=2024_06_10_005658chat_base_run\n"
     ]
    },
    {
     "name": "stdout",
     "output_type": "stream",
     "text": [
      "You can view the trace detail from the following URL:\n",
      "http://127.0.0.1:23333/v1.0/ui/traces/?#collection=multi_flow&uiTraceId=0x7ac72b59417c9bf2cfe5e33a2fc4cd9c\n",
      "You can view the trace detail from the following URL:\n",
      "http://127.0.0.1:23333/v1.0/ui/traces/?#collection=multi_flow&uiTraceId=0x80c22ea6469857aaee67fcc907d08a94\n",
      "You can view the trace detail from the following URL:\n",
      "http://127.0.0.1:23333/v1.0/ui/traces/?#collection=multi_flow&uiTraceId=0xcfb6e53a3b992579dda51a5a4103e32f\n",
      "You can view the trace detail from the following URL:\n",
      "http://127.0.0.1:23333/v1.0/ui/traces/?#collection=multi_flow&uiTraceId=0x437abbc7beeaec28996c7ba95fca6050\n",
      "You can view the trace detail from the following URL:\n",
      "http://127.0.0.1:23333/v1.0/ui/traces/?#collection=multi_flow&uiTraceId=0xab049d57f5e4b7eb4645f645fbdcd468\n"
     ]
    },
    {
     "name": "stdout",
     "output_type": "stream",
     "text": [
      "name: 2024_06_10_005658chat_base_run\n",
      "created_on: '2024-06-10T00:56:58.650188'\n",
      "status: Completed\n",
      "display_name: 2024_06_10_005658chat_base_run\n",
      "description:\n",
      "tags:\n",
      "properties:\n",
      "  flow_path: /Users/yonghuizhu/imperial/contoso-chat-backend/contoso-chat_hf\n",
      "  output_path: /Users/yonghuizhu/.promptflow/.runs/2024_06_10_005658chat_base_run\n",
      "  column_mapping:\n",
      "    customerId: ${data.customerId}\n",
      "    question: ${data.question}\n",
      "  system_metrics:\n",
      "    total_tokens: 7469\n",
      "    prompt_tokens: 6969\n",
      "    completion_tokens: 500\n",
      "    duration: 5.373\n",
      "flow_name: contoso-chat_hf\n",
      "data: /Users/yonghuizhu/imperial/contoso-chat-backend/data/salestestdata.jsonl\n",
      "output: /Users/yonghuizhu/.promptflow/.runs/2024_06_10_005658chat_base_run/flow_outputs\n",
      "\n"
     ]
    }
   ],
   "source": [
    "\n",
    "# get current time stamp for run name\n",
    "import datetime\n",
    "now = datetime.datetime.now()\n",
    "timestamp = now.strftime(\"%Y_%m_%d_%H%M%S\")\n",
    "run_name_hf = timestamp+\"chat_base_run\"\n",
    "print(run_name_hf)\n",
    "\n",
    "# create base run in Azure Ai Studio\n",
    "local_base_run_hf = pf_client.run(\n",
    "    flow=flow,\n",
    "    data=data,\n",
    "    column_mapping={\n",
    "        # reference data\n",
    "        \"customerId\": \"${data.customerId}\",\n",
    "        \"question\": \"${data.question}\",\n",
    "    },\n",
    "    runtime=runtime,\n",
    "    # create a display name as current datetime\n",
    "    display_name=run_name_hf,\n",
    "    name=run_name_hf\n",
    ")\n",
    "print(local_base_run_hf)"
   ]
  },
  {
   "cell_type": "code",
   "execution_count": 7,
   "metadata": {
    "execution": {
     "iopub.execute_input": "2024-06-09T22:57:04.197683Z",
     "iopub.status.busy": "2024-06-09T22:57:04.197574Z",
     "iopub.status.idle": "2024-06-09T22:57:04.233400Z",
     "shell.execute_reply": "2024-06-09T22:57:04.233197Z"
    }
   },
   "outputs": [
    {
     "name": "stdout",
     "output_type": "stream",
     "text": [
      "2024-06-10 00:56:58 +0200   26317 execution.bulk     INFO     Current thread is not main thread, skip signal handler registration in BatchEngine.\n",
      "2024-06-10 00:56:59 +0200   26317 execution.bulk     INFO     Current system's available memory is 1477.828125MB, memory consumption of current process is 269.265625MB, estimated available worker count is 1477.828125/269.265625 = 5\n",
      "2024-06-10 00:56:59 +0200   26317 execution.bulk     INFO     Set process count to 4 by taking the minimum value among the factors of {'default_worker_count': 4, 'row_count': 5, 'estimated_worker_count_based_on_memory_usage': 5}.\n",
      "2024-06-10 00:56:59 +0200   26317 execution.bulk     INFO     Process name(SpawnProcess-5)-Process id(26339)-Line number(1) start execution.\n",
      "2024-06-10 00:56:59 +0200   26317 execution.bulk     INFO     Process name(SpawnProcess-2)-Process id(26335)-Line number(0) start execution.\n",
      "2024-06-10 00:56:59 +0200   26317 execution.bulk     INFO     Process name(SpawnProcess-3)-Process id(26337)-Line number(2) start execution.\n",
      "2024-06-10 00:56:59 +0200   26317 execution.bulk     INFO     Process name(SpawnProcess-4)-Process id(26338)-Line number(3) start execution.\n",
      "2024-06-10 00:57:01 +0200   26317 execution.bulk     INFO     Process name(SpawnProcess-2)-Process id(26335)-Line number(0) completed.\n",
      "2024-06-10 00:57:01 +0200   26317 execution.bulk     INFO     Process name(SpawnProcess-2)-Process id(26335)-Line number(4) start execution.\n",
      "2024-06-10 00:57:02 +0200   26317 execution.bulk     INFO     Process name(SpawnProcess-4)-Process id(26338)-Line number(3) completed.\n",
      "2024-06-10 00:57:02 +0200   26317 execution.bulk     INFO     Process name(SpawnProcess-3)-Process id(26337)-Line number(2) completed.\n",
      "2024-06-10 00:57:02 +0200   26317 execution.bulk     INFO     Process name(SpawnProcess-5)-Process id(26339)-Line number(1) completed.\n",
      "2024-06-10 00:57:02 +0200   26317 execution.bulk     INFO     Finished 4 / 5 lines.\n",
      "2024-06-10 00:57:02 +0200   26317 execution.bulk     INFO     Average execution time for completed lines: 0.75 seconds. Estimated time for incomplete lines: 0.75 seconds.\n",
      "2024-06-10 00:57:03 +0200   26317 execution.bulk     INFO     Process name(SpawnProcess-2)-Process id(26335)-Line number(4) completed.\n",
      "2024-06-10 00:57:03 +0200   26317 execution.bulk     INFO     Finished 5 / 5 lines.\n",
      "2024-06-10 00:57:03 +0200   26317 execution.bulk     INFO     Average execution time for completed lines: 0.8 seconds. Estimated time for incomplete lines: 0.0 seconds.\n",
      "2024-06-10 00:57:03 +0200   26317 execution.bulk     INFO     The thread monitoring the process [26338-SpawnProcess-4] will be terminated.\n",
      "2024-06-10 00:57:03 +0200   26338 execution.bulk     INFO     The process [26338] has received a terminate signal.\n",
      "2024-06-10 00:57:03 +0200   26317 execution.bulk     INFO     The thread monitoring the process [26337-SpawnProcess-3] will be terminated.\n",
      "2024-06-10 00:57:03 +0200   26337 execution.bulk     INFO     The process [26337] has received a terminate signal.\n",
      "2024-06-10 00:57:03 +0200   26317 execution.bulk     INFO     The thread monitoring the process [26335-SpawnProcess-2] will be terminated.\n",
      "2024-06-10 00:57:03 +0200   26317 execution.bulk     INFO     The thread monitoring the process [26339-SpawnProcess-5] will be terminated.\n",
      "2024-06-10 00:57:03 +0200   26339 execution.bulk     INFO     The process [26339] has received a terminate signal.\n",
      "2024-06-10 00:57:03 +0200   26335 execution.bulk     INFO     The process [26335] has received a terminate signal.\n",
      "2024-06-10 00:57:04 +0200   26317 execution.bulk     INFO     Process 26339 terminated.\n",
      "2024-06-10 00:57:04 +0200   26317 execution.bulk     INFO     Process 26338 terminated.\n",
      "2024-06-10 00:57:04 +0200   26317 execution.bulk     INFO     Process 26337 terminated.\n",
      "2024-06-10 00:57:04 +0200   26317 execution.bulk     INFO     Process 26335 terminated.\n",
      "======= Run Summary =======\n",
      "\n",
      "Run name: \"2024_06_10_005658chat_base_run\"\n",
      "Run status: \"Completed\"\n",
      "Start time: \"2024-06-10 00:56:58.650188\"\n",
      "Duration: \"0:00:05.520681\"\n",
      "Output path: \"/Users/yonghuizhu/.promptflow/.runs/2024_06_10_005658chat_base_run\"\n",
      "\n"
     ]
    },
    {
     "data": {
      "text/html": [
       "<div>\n",
       "<style scoped>\n",
       "    .dataframe tbody tr th:only-of-type {\n",
       "        vertical-align: middle;\n",
       "    }\n",
       "\n",
       "    .dataframe tbody tr th {\n",
       "        vertical-align: top;\n",
       "    }\n",
       "\n",
       "    .dataframe thead th {\n",
       "        text-align: right;\n",
       "    }\n",
       "</style>\n",
       "<table border=\"1\" class=\"dataframe\">\n",
       "  <thead>\n",
       "    <tr style=\"text-align: right;\">\n",
       "      <th></th>\n",
       "      <th>inputs.customerId</th>\n",
       "      <th>inputs.question</th>\n",
       "      <th>inputs.line_number</th>\n",
       "      <th>inputs.chat_history</th>\n",
       "      <th>outputs.answer</th>\n",
       "      <th>outputs.context</th>\n",
       "    </tr>\n",
       "  </thead>\n",
       "  <tbody>\n",
       "    <tr>\n",
       "      <th>0</th>\n",
       "      <td>4</td>\n",
       "      <td>tell me about your hiking jackets</td>\n",
       "      <td>0</td>\n",
       "      <td>[]</td>\n",
       "      <td>Hi there 👋 SaraLee 🏞️!\\n\\nI'd love 💕 sharing o...</td>\n",
       "      <td>[{'id': '17', 'title': 'RainGuard Hiking Jacke...</td>\n",
       "    </tr>\n",
       "    <tr>\n",
       "      <th>1</th>\n",
       "      <td>1</td>\n",
       "      <td>Do you have any climbing gear?</td>\n",
       "      <td>1</td>\n",
       "      <td>[]</td>\n",
       "      <td>Hey there 👋 JOHN SMITH 🎉,\\n\\nI see we've got q...</td>\n",
       "      <td>[{'id': '9', 'title': 'SummitClimber Backpack'...</td>\n",
       "    </tr>\n",
       "    <tr>\n",
       "      <th>2</th>\n",
       "      <td>3</td>\n",
       "      <td>Can you tell me about your selection of tents?</td>\n",
       "      <td>2</td>\n",
       "      <td>[]</td>\n",
       "      <td>Hey there 👋 Mike 🏕️!\\n\\nI see we've got our tr...</td>\n",
       "      <td>[{'id': '15', 'title': 'SkyView 2-Person Tent'...</td>\n",
       "    </tr>\n",
       "    <tr>\n",
       "      <th>3</th>\n",
       "      <td>6</td>\n",
       "      <td>Do you have any hiking boots?</td>\n",
       "      <td>3</td>\n",
       "      <td>[]</td>\n",
       "      <td>Hi there 👋️‍♀🏽**, *Emil*😊y Rodríguez!* \\n\\nYes...</td>\n",
       "      <td>[{'id': '4', 'title': 'TrekReady Hiking Boots'...</td>\n",
       "    </tr>\n",
       "    <tr>\n",
       "      <th>4</th>\n",
       "      <td>2</td>\n",
       "      <td>What gear do you recommend for hiking?</td>\n",
       "      <td>4</td>\n",
       "      <td>[]</td>\n",
       "      <td>Hi there 👋, Gold member 🏅 *ahem* I mean 😊 Hi a...</td>\n",
       "      <td>[{'id': '10', 'title': 'TrailBlaze Hiking Pant...</td>\n",
       "    </tr>\n",
       "  </tbody>\n",
       "</table>\n",
       "</div>"
      ],
      "text/plain": [
       "   inputs.customerId                                 inputs.question  \\\n",
       "0                  4               tell me about your hiking jackets   \n",
       "1                  1                  Do you have any climbing gear?   \n",
       "2                  3  Can you tell me about your selection of tents?   \n",
       "3                  6                   Do you have any hiking boots?   \n",
       "4                  2          What gear do you recommend for hiking?   \n",
       "\n",
       "   inputs.line_number inputs.chat_history  \\\n",
       "0                   0                  []   \n",
       "1                   1                  []   \n",
       "2                   2                  []   \n",
       "3                   3                  []   \n",
       "4                   4                  []   \n",
       "\n",
       "                                      outputs.answer  \\\n",
       "0  Hi there 👋 SaraLee 🏞️!\\n\\nI'd love 💕 sharing o...   \n",
       "1  Hey there 👋 JOHN SMITH 🎉,\\n\\nI see we've got q...   \n",
       "2  Hey there 👋 Mike 🏕️!\\n\\nI see we've got our tr...   \n",
       "3  Hi there 👋️‍♀🏽**, *Emil*😊y Rodríguez!* \\n\\nYes...   \n",
       "4  Hi there 👋, Gold member 🏅 *ahem* I mean 😊 Hi a...   \n",
       "\n",
       "                                     outputs.context  \n",
       "0  [{'id': '17', 'title': 'RainGuard Hiking Jacke...  \n",
       "1  [{'id': '9', 'title': 'SummitClimber Backpack'...  \n",
       "2  [{'id': '15', 'title': 'SkyView 2-Person Tent'...  \n",
       "3  [{'id': '4', 'title': 'TrekReady Hiking Boots'...  \n",
       "4  [{'id': '10', 'title': 'TrailBlaze Hiking Pant...  "
      ]
     },
     "execution_count": 7,
     "metadata": {},
     "output_type": "execute_result"
    }
   ],
   "source": [
    "pf_client.stream(local_base_run_hf)\n",
    "details = pf_client.get_details(local_base_run_hf)\n",
    "details.head(10)"
   ]
  },
  {
   "cell_type": "code",
   "execution_count": 8,
   "metadata": {
    "execution": {
     "iopub.execute_input": "2024-06-09T22:57:04.234679Z",
     "iopub.status.busy": "2024-06-09T22:57:04.234602Z",
     "iopub.status.idle": "2024-06-09T22:57:19.556928Z",
     "shell.execute_reply": "2024-06-09T22:57:19.556631Z"
    }
   },
   "outputs": [
    {
     "name": "stderr",
     "output_type": "stream",
     "text": [
      "[2024-06-10 00:57:04 +0200][promptflow._sdk._orchestrator.run_submitter][INFO] - Submitting run 2024_06_10_005658chat_eval_run, log path: /Users/yonghuizhu/.promptflow/.runs/2024_06_10_005658chat_eval_run/logs.txt\n"
     ]
    },
    {
     "name": "stdout",
     "output_type": "stream",
     "text": [
      "2024_06_10_005658chat_eval_run\n",
      "2024_06_10_005658chat_eval_run\n",
      "Prompt flow service has started...\n",
      "You can view the traces in local from http://127.0.0.1:23333/v1.0/ui/traces/?#run=2024_06_10_005658chat_eval_run\n"
     ]
    },
    {
     "name": "stdout",
     "output_type": "stream",
     "text": [
      "You can view the trace detail from the following URL:\n",
      "http://127.0.0.1:23333/v1.0/ui/traces/?#collection=multi_flow&uiTraceId=0x00f4d8d13731a27b45e8ebd47356099a\n",
      "You can view the trace detail from the following URL:\n",
      "http://127.0.0.1:23333/v1.0/ui/traces/?#collection=multi_flow&uiTraceId=0x65efcf941769182ddd2d3f538b825390\n",
      "You can view the trace detail from the following URL:\n",
      "http://127.0.0.1:23333/v1.0/ui/traces/?#collection=multi_flow&uiTraceId=0x35910c40356c5dd117027952f6178cfb\n",
      "You can view the trace detail from the following URL:\n",
      "http://127.0.0.1:23333/v1.0/ui/traces/?#collection=multi_flow&uiTraceId=0x4f0c6142cdca28820033cb4903457a33\n",
      "You can view the trace detail from the following URL:\n",
      "http://127.0.0.1:23333/v1.0/ui/traces/?#collection=multi_flow&uiTraceId=0xccc9f5bff1ca00dfbc1363ff534ee214\n"
     ]
    }
   ],
   "source": [
    "\n",
    "run_name = timestamp+\"chat_eval_run\"\n",
    "print(run_name)\n",
    "\n",
    "run_name_hf = timestamp+\"chat_eval_run\"\n",
    "print(run_name_hf)\n",
    "\n",
    "local_eval_run_variant = pf_client.run(\n",
    "    flow=eval_flow,\n",
    "    data=data,  # path to the data file\n",
    "    run=local_base_run_hf,  # use run as the variant\n",
    "    column_mapping={\n",
    "        # reference data\n",
    "        \"customerId\": \"${data.customerId}\",\n",
    "        \"question\": \"${data.question}\",\n",
    "        \"context\": \"${run.outputs.context}\",\n",
    "        # reference the run's output\n",
    "        \"answer\": \"${run.outputs.answer}\",\n",
    "    },\n",
    "    runtime=runtime,\n",
    "    display_name=run_name,\n",
    "    name=run_name\n",
    ")"
   ]
  },
  {
   "cell_type": "code",
   "execution_count": 9,
   "metadata": {
    "execution": {
     "iopub.execute_input": "2024-06-09T22:57:19.558649Z",
     "iopub.status.busy": "2024-06-09T22:57:19.558574Z",
     "iopub.status.idle": "2024-06-09T22:57:19.609581Z",
     "shell.execute_reply": "2024-06-09T22:57:19.609364Z"
    }
   },
   "outputs": [
    {
     "name": "stdout",
     "output_type": "stream",
     "text": [
      "{\n",
      "    \"gpt_coherence\": 2.0,\n",
      "    \"gpt_coherence_pass_rate(%)\": 0.0,\n",
      "    \"gpt_fluency\": 1.8,\n",
      "    \"gpt_fluency_pass_rate(%)\": 0.0,\n",
      "    \"gpt_groundedness\": 2.6,\n",
      "    \"gpt_groundedness_pass_rate(%)\": 40.0,\n",
      "    \"gpt_relevance\": 1.8,\n",
      "    \"gpt_relevance_pass_rate(%)\": 0.0\n",
      "}\n"
     ]
    },
    {
     "name": "stdout",
     "output_type": "stream",
     "text": [
      "2024-06-10 00:57:04 +0200   26317 execution.bulk     INFO     Current thread is not main thread, skip signal handler registration in BatchEngine.\n",
      "2024-06-10 00:57:04 +0200   26317 execution.bulk     INFO     Current system's available memory is 1571.390625MB, memory consumption of current process is 150.65625MB, estimated available worker count is 1571.390625/150.65625 = 10\n",
      "2024-06-10 00:57:04 +0200   26317 execution.bulk     INFO     Set process count to 4 by taking the minimum value among the factors of {'default_worker_count': 4, 'row_count': 5, 'estimated_worker_count_based_on_memory_usage': 10}.\n",
      "2024-06-10 00:57:04 +0200   26317 execution.bulk     INFO     Process name(SpawnProcess-9)-Process id(26364)-Line number(0) start execution.\n",
      "2024-06-10 00:57:04 +0200   26317 execution.bulk     INFO     Process name(SpawnProcess-10)-Process id(26365)-Line number(1) start execution.\n",
      "2024-06-10 00:57:04 +0200   26317 execution.bulk     INFO     Process name(SpawnProcess-8)-Process id(26363)-Line number(2) start execution.\n",
      "2024-06-10 00:57:05 +0200   26317 execution.bulk     INFO     Process name(SpawnProcess-7)-Process id(26359)-Line number(3) start execution.\n",
      "2024-06-10 00:57:06 +0200   26365 execution          WARNING  [groundedness_score in line 1 (index starts from 0)] stderr> Exception occurs: RateLimitError: Error code: 429 - {'error': {'code': '429', 'message': 'Requests to the ChatCompletions_Create Operation under Azure OpenAI API version 2024-03-01-preview have exceeded call rate limit of your current AIServices S0 pricing tier. Please retry after 2 seconds. Please contact Azure support service if you would like to further increase the default rate limit.'}}\n",
      "2024-06-10 00:57:06 +0200   26365 execution          WARNING  [groundedness_score in line 1 (index starts from 0)] stderr> RateLimitError #0, Retry-After=2, Back off 2.0 seconds for retry.\n",
      "2024-06-10 00:57:06 +0200   26363 execution          WARNING  [groundedness_score in line 2 (index starts from 0)] stderr> Exception occurs: RateLimitError: Error code: 429 - {'error': {'code': '429', 'message': 'Requests to the ChatCompletions_Create Operation under Azure OpenAI API version 2024-03-01-preview have exceeded call rate limit of your current AIServices S0 pricing tier. Please retry after 2 seconds. Please contact Azure support service if you would like to further increase the default rate limit.'}}\n",
      "2024-06-10 00:57:06 +0200   26363 execution          WARNING  [groundedness_score in line 2 (index starts from 0)] stderr> RateLimitError #0, Retry-After=2, Back off 2.0 seconds for retry.\n",
      "2024-06-10 00:57:06 +0200   26365 execution          WARNING  [relevance_score in line 1 (index starts from 0)] stderr> Exception occurs: RateLimitError: Error code: 429 - {'error': {'code': '429', 'message': 'Requests to the ChatCompletions_Create Operation under Azure OpenAI API version 2024-03-01-preview have exceeded call rate limit of your current AIServices S0 pricing tier. Please retry after 2 seconds. Please contact Azure support service if you would like to further increase the default rate limit.'}}\n",
      "2024-06-10 00:57:06 +0200   26365 execution          WARNING  [relevance_score in line 1 (index starts from 0)] stderr> RateLimitError #0, Retry-After=2, Back off 2.0 seconds for retry.\n",
      "2024-06-10 00:57:06 +0200   26317 execution.bulk     INFO     Process name(SpawnProcess-7)-Process id(26359)-Line number(3) completed.\n",
      "2024-06-10 00:57:06 +0200   26317 execution.bulk     INFO     Process name(SpawnProcess-7)-Process id(26359)-Line number(4) start execution.\n",
      "2024-06-10 00:57:06 +0200   26364 execution          WARNING  [groundedness_score in line 0 (index starts from 0)] stderr> Exception occurs: RateLimitError: Error code: 429 - {'error': {'code': '429', 'message': 'Requests to the ChatCompletions_Create Operation under Azure OpenAI API version 2024-03-01-preview have exceeded call rate limit of your current AIServices S0 pricing tier. Please retry after 2 seconds. Please contact Azure support service if you would like to further increase the default rate limit.'}}\n",
      "2024-06-10 00:57:06 +0200   26364 execution          WARNING  [groundedness_score in line 0 (index starts from 0)] stderr> RateLimitError #0, Retry-After=2, Back off 2.0 seconds for retry.\n",
      "2024-06-10 00:57:06 +0200   26359 execution          WARNING  [coherence_score in line 4 (index starts from 0)] stderr> Exception occurs: RateLimitError: Error code: 429 - {'error': {'code': '429', 'message': 'Requests to the ChatCompletions_Create Operation under Azure OpenAI API version 2024-03-01-preview have exceeded call rate limit of your current AIServices S0 pricing tier. Please retry after 2 seconds. Please contact Azure support service if you would like to further increase the default rate limit.'}}\n",
      "2024-06-10 00:57:06 +0200   26359 execution          WARNING  [fluency_score in line 4 (index starts from 0)] stderr> Exception occurs: RateLimitError: Error code: 429 - {'error': {'code': '429', 'message': 'Requests to the ChatCompletions_Create Operation under Azure OpenAI API version 2024-03-01-preview have exceeded call rate limit of your current AIServices S0 pricing tier. Please retry after 2 seconds. Please contact Azure support service if you would like to further increase the default rate limit.'}}\n",
      "2024-06-10 00:57:06 +0200   26359 execution          WARNING  [coherence_score in line 4 (index starts from 0)] stderr> RateLimitError #0, Retry-After=2, Back off 2.0 seconds for retry.\n",
      "2024-06-10 00:57:06 +0200   26359 execution          WARNING  [fluency_score in line 4 (index starts from 0)] stderr> RateLimitError #0, Retry-After=2, Back off 2.0 seconds for retry.\n",
      "2024-06-10 00:57:06 +0200   26364 execution          WARNING  [relevance_score in line 0 (index starts from 0)] stderr> Exception occurs: RateLimitError: Error code: 429 - {'error': {'code': '429', 'message': 'Requests to the ChatCompletions_Create Operation under Azure OpenAI API version 2024-03-01-preview have exceeded call rate limit of your current AIServices S0 pricing tier. Please retry after 2 seconds. Please contact Azure support service if you would like to further increase the default rate limit.'}}\n",
      "2024-06-10 00:57:06 +0200   26364 execution          WARNING  [relevance_score in line 0 (index starts from 0)] stderr> RateLimitError #0, Retry-After=2, Back off 2.0 seconds for retry.\n",
      "2024-06-10 00:57:06 +0200   26317 execution.bulk     INFO     Finished 1 / 5 lines.\n",
      "2024-06-10 00:57:07 +0200   26317 execution.bulk     INFO     Average execution time for completed lines: 2.0 seconds. Estimated time for incomplete lines: 8.0 seconds.\n",
      "2024-06-10 00:57:07 +0200   26363 execution          WARNING  [coherence_score in line 2 (index starts from 0)] stderr> Exception occurs: RateLimitError: Error code: 429 - {'error': {'code': '429', 'message': 'Requests to the ChatCompletions_Create Operation under Azure OpenAI API version 2024-03-01-preview have exceeded call rate limit of your current AIServices S0 pricing tier. Please retry after 1 second. Please contact Azure support service if you would like to further increase the default rate limit.'}}\n",
      "2024-06-10 00:57:07 +0200   26363 execution          WARNING  [coherence_score in line 2 (index starts from 0)] stderr> RateLimitError #0, Retry-After=1, Back off 1.0 seconds for retry.\n",
      "2024-06-10 00:57:08 +0200   26365 execution          WARNING  [groundedness_score in line 1 (index starts from 0)] stderr> Exception occurs: RateLimitError: Error code: 429 - {'error': {'code': '429', 'message': 'Requests to the ChatCompletions_Create Operation under Azure OpenAI API version 2024-03-01-preview have exceeded call rate limit of your current AIServices S0 pricing tier. Please retry after 7 seconds. Please contact Azure support service if you would like to further increase the default rate limit.'}}\n",
      "2024-06-10 00:57:08 +0200   26365 execution          WARNING  [groundedness_score in line 1 (index starts from 0)] stderr> RateLimitError #1, Retry-After=7, Back off 7.0 seconds for retry.\n",
      "2024-06-10 00:57:08 +0200   26363 execution          WARNING  [groundedness_score in line 2 (index starts from 0)] stderr> Exception occurs: RateLimitError: Error code: 429 - {'error': {'code': '429', 'message': 'Requests to the ChatCompletions_Create Operation under Azure OpenAI API version 2024-03-01-preview have exceeded call rate limit of your current AIServices S0 pricing tier. Please retry after 7 seconds. Please contact Azure support service if you would like to further increase the default rate limit.'}}\n",
      "2024-06-10 00:57:08 +0200   26363 execution          WARNING  [groundedness_score in line 2 (index starts from 0)] stderr> RateLimitError #1, Retry-After=7, Back off 7.0 seconds for retry.\n",
      "2024-06-10 00:57:08 +0200   26365 execution          WARNING  [relevance_score in line 1 (index starts from 0)] stderr> Exception occurs: RateLimitError: Error code: 429 - {'error': {'code': '429', 'message': 'Requests to the ChatCompletions_Create Operation under Azure OpenAI API version 2024-03-01-preview have exceeded call rate limit of your current AIServices S0 pricing tier. Please retry after 7 seconds. Please contact Azure support service if you would like to further increase the default rate limit.'}}\n",
      "2024-06-10 00:57:08 +0200   26365 execution          WARNING  [relevance_score in line 1 (index starts from 0)] stderr> RateLimitError #1, Retry-After=7, Back off 7.0 seconds for retry.\n",
      "2024-06-10 00:57:08 +0200   26363 execution          WARNING  [relevance_score in line 2 (index starts from 0)] stderr> Exception occurs: RateLimitError: Error code: 429 - {'error': {'code': '429', 'message': 'Requests to the ChatCompletions_Create Operation under Azure OpenAI API version 2024-03-01-preview have exceeded call rate limit of your current AIServices S0 pricing tier. Please retry after 7 seconds. Please contact Azure support service if you would like to further increase the default rate limit.'}}\n",
      "2024-06-10 00:57:08 +0200   26363 execution          WARNING  [relevance_score in line 2 (index starts from 0)] stderr> RateLimitError #0, Retry-After=7, Back off 7.0 seconds for retry.\n",
      "2024-06-10 00:57:08 +0200   26364 execution          WARNING  [groundedness_score in line 0 (index starts from 0)] stderr> Exception occurs: RateLimitError: Error code: 429 - {'error': {'code': '429', 'message': 'Requests to the ChatCompletions_Create Operation under Azure OpenAI API version 2024-03-01-preview have exceeded call rate limit of your current AIServices S0 pricing tier. Please retry after 7 seconds. Please contact Azure support service if you would like to further increase the default rate limit.'}}\n",
      "2024-06-10 00:57:08 +0200   26364 execution          WARNING  [groundedness_score in line 0 (index starts from 0)] stderr> RateLimitError #1, Retry-After=7, Back off 7.0 seconds for retry.\n",
      "2024-06-10 00:57:08 +0200   26359 execution          WARNING  [coherence_score in line 4 (index starts from 0)] stderr> Exception occurs: RateLimitError: Error code: 429 - {'error': {'code': '429', 'message': 'Requests to the ChatCompletions_Create Operation under Azure OpenAI API version 2024-03-01-preview have exceeded call rate limit of your current AIServices S0 pricing tier. Please retry after 7 seconds. Please contact Azure support service if you would like to further increase the default rate limit.'}}\n",
      "2024-06-10 00:57:08 +0200   26359 execution          WARNING  [coherence_score in line 4 (index starts from 0)] stderr> RateLimitError #1, Retry-After=7, Back off 7.0 seconds for retry.\n",
      "2024-06-10 00:57:08 +0200   26359 execution          WARNING  [fluency_score in line 4 (index starts from 0)] stderr> Exception occurs: RateLimitError: Error code: 429 - {'error': {'code': '429', 'message': 'Requests to the ChatCompletions_Create Operation under Azure OpenAI API version 2024-03-01-preview have exceeded call rate limit of your current AIServices S0 pricing tier. Please retry after 7 seconds. Please contact Azure support service if you would like to further increase the default rate limit.'}}\n",
      "2024-06-10 00:57:08 +0200   26359 execution          WARNING  [fluency_score in line 4 (index starts from 0)] stderr> RateLimitError #1, Retry-After=7, Back off 7.0 seconds for retry.\n",
      "2024-06-10 00:57:08 +0200   26364 execution          WARNING  [relevance_score in line 0 (index starts from 0)] stderr> Exception occurs: RateLimitError: Error code: 429 - {'error': {'code': '429', 'message': 'Requests to the ChatCompletions_Create Operation under Azure OpenAI API version 2024-03-01-preview have exceeded call rate limit of your current AIServices S0 pricing tier. Please retry after 7 seconds. Please contact Azure support service if you would like to further increase the default rate limit.'}}\n",
      "2024-06-10 00:57:08 +0200   26364 execution          WARNING  [relevance_score in line 0 (index starts from 0)] stderr> RateLimitError #1, Retry-After=7, Back off 7.0 seconds for retry.\n",
      "2024-06-10 00:57:15 +0200   26364 execution          WARNING  [groundedness_score in line 0 (index starts from 0)] stderr> Exception occurs: RateLimitError: Error code: 429 - {'error': {'code': '429', 'message': 'Requests to the ChatCompletions_Create Operation under Azure OpenAI API version 2024-03-01-preview have exceeded call rate limit of your current AIServices S0 pricing tier. Please retry after 1 second. Please contact Azure support service if you would like to further increase the default rate limit.'}}\n",
      "2024-06-10 00:57:15 +0200   26364 execution          WARNING  [groundedness_score in line 0 (index starts from 0)] stderr> RateLimitError #2, Retry-After=1, Back off 1.0 seconds for retry.\n",
      "2024-06-10 00:57:15 +0200   26364 execution          WARNING  [relevance_score in line 0 (index starts from 0)] stderr> Exception occurs: RateLimitError: Error code: 429 - {'error': {'code': '429', 'message': 'Requests to the ChatCompletions_Create Operation under Azure OpenAI API version 2024-03-01-preview have exceeded call rate limit of your current AIServices S0 pricing tier. Please retry after 1 second. Please contact Azure support service if you would like to further increase the default rate limit.'}}\n",
      "2024-06-10 00:57:15 +0200   26364 execution          WARNING  [relevance_score in line 0 (index starts from 0)] stderr> RateLimitError #2, Retry-After=1, Back off 1.0 seconds for retry.\n",
      "2024-06-10 00:57:15 +0200   26359 execution          WARNING  [coherence_score in line 4 (index starts from 0)] stderr> Exception occurs: RateLimitError: Error code: 429 - {'error': {'code': '429', 'message': 'Requests to the ChatCompletions_Create Operation under Azure OpenAI API version 2024-03-01-preview have exceeded call rate limit of your current AIServices S0 pricing tier. Please retry after 1 second. Please contact Azure support service if you would like to further increase the default rate limit.'}}\n",
      "2024-06-10 00:57:15 +0200   26359 execution          WARNING  [coherence_score in line 4 (index starts from 0)] stderr> RateLimitError #2, Retry-After=1, Back off 1.0 seconds for retry.\n",
      "2024-06-10 00:57:15 +0200   26359 execution          WARNING  [fluency_score in line 4 (index starts from 0)] stderr> Exception occurs: RateLimitError: Error code: 429 - {'error': {'code': '429', 'message': 'Requests to the ChatCompletions_Create Operation under Azure OpenAI API version 2024-03-01-preview have exceeded call rate limit of your current AIServices S0 pricing tier. Please retry after 1 second. Please contact Azure support service if you would like to further increase the default rate limit.'}}\n",
      "2024-06-10 00:57:15 +0200   26359 execution          WARNING  [fluency_score in line 4 (index starts from 0)] stderr> RateLimitError #2, Retry-After=1, Back off 1.0 seconds for retry.\n",
      "2024-06-10 00:57:16 +0200   26317 execution.bulk     INFO     Process name(SpawnProcess-8)-Process id(26363)-Line number(2) completed.\n",
      "2024-06-10 00:57:16 +0200   26317 execution.bulk     INFO     Process name(SpawnProcess-10)-Process id(26365)-Line number(1) completed.\n",
      "2024-06-10 00:57:17 +0200   26317 execution.bulk     INFO     Finished 3 / 5 lines.\n",
      "2024-06-10 00:57:17 +0200   26317 execution.bulk     INFO     Average execution time for completed lines: 4.01 seconds. Estimated time for incomplete lines: 8.02 seconds.\n",
      "2024-06-10 00:57:17 +0200   26317 execution.bulk     INFO     Process name(SpawnProcess-9)-Process id(26364)-Line number(0) completed.\n",
      "2024-06-10 00:57:18 +0200   26317 execution.bulk     INFO     Finished 4 / 5 lines.\n",
      "2024-06-10 00:57:18 +0200   26317 execution.bulk     INFO     Average execution time for completed lines: 3.25 seconds. Estimated time for incomplete lines: 3.25 seconds.\n",
      "2024-06-10 00:57:18 +0200   26317 execution.bulk     INFO     Process name(SpawnProcess-7)-Process id(26359)-Line number(4) completed.\n",
      "2024-06-10 00:57:19 +0200   26317 execution.bulk     INFO     Finished 5 / 5 lines.\n",
      "2024-06-10 00:57:19 +0200   26317 execution.bulk     INFO     Average execution time for completed lines: 2.8 seconds. Estimated time for incomplete lines: 0.0 seconds.\n",
      "2024-06-10 00:57:19 +0200   26317 execution.bulk     INFO     The thread monitoring the process [26363-SpawnProcess-8] will be terminated.\n",
      "2024-06-10 00:57:19 +0200   26363 execution.bulk     INFO     The process [26363] has received a terminate signal.\n",
      "2024-06-10 00:57:19 +0200   26317 execution.bulk     INFO     The thread monitoring the process [26365-SpawnProcess-10] will be terminated.\n",
      "2024-06-10 00:57:19 +0200   26365 execution.bulk     INFO     The process [26365] has received a terminate signal.\n",
      "2024-06-10 00:57:19 +0200   26317 execution.bulk     INFO     The thread monitoring the process [26364-SpawnProcess-9] will be terminated.\n",
      "2024-06-10 00:57:19 +0200   26364 execution.bulk     INFO     The process [26364] has received a terminate signal.\n",
      "2024-06-10 00:57:19 +0200   26317 execution.bulk     INFO     The thread monitoring the process [26359-SpawnProcess-7] will be terminated.\n",
      "2024-06-10 00:57:19 +0200   26359 execution.bulk     INFO     The process [26359] has received a terminate signal.\n",
      "2024-06-10 00:57:19 +0200   26317 execution.bulk     INFO     Process 26365 terminated.\n",
      "2024-06-10 00:57:19 +0200   26317 execution.bulk     INFO     Process 26364 terminated.\n",
      "2024-06-10 00:57:19 +0200   26317 execution.bulk     INFO     Process 26363 terminated.\n",
      "2024-06-10 00:57:19 +0200   26317 execution.bulk     INFO     Process 26359 terminated.\n",
      "2024-06-10 00:57:19 +0200   26317 execution.bulk     INFO     Executing aggregation node...\n",
      "2024-06-10 00:57:19 +0200   26317 execution.bulk     INFO     Finish executing aggregation node.\n",
      "======= Run Summary =======\n",
      "\n",
      "Run name: \"2024_06_10_005658chat_eval_run\"\n",
      "Run status: \"Completed\"\n",
      "Start time: \"2024-06-10 00:57:04.245166\"\n",
      "Duration: \"0:00:15.285618\"\n",
      "Output path: \"/Users/yonghuizhu/.promptflow/.runs/2024_06_10_005658chat_eval_run\"\n",
      "\n"
     ]
    },
    {
     "data": {
      "text/plain": [
       "<promptflow._sdk.entities._run.Run at 0x125481390>"
      ]
     },
     "execution_count": 9,
     "metadata": {},
     "output_type": "execute_result"
    }
   ],
   "source": [
    "\n",
    "metrics_hf = pf_client.get_metrics(local_eval_run_variant)\n",
    "import json\n",
    "print(json.dumps(metrics_hf, indent=4))\n",
    "pf_client.stream(local_eval_run_variant)"
   ]
  },
  {
   "cell_type": "code",
   "execution_count": 10,
   "metadata": {
    "execution": {
     "iopub.execute_input": "2024-06-09T22:57:19.610736Z",
     "iopub.status.busy": "2024-06-09T22:57:19.610659Z",
     "iopub.status.idle": "2024-06-09T22:57:21.603578Z",
     "shell.execute_reply": "2024-06-09T22:57:21.603273Z"
    }
   },
   "outputs": [
    {
     "name": "stderr",
     "output_type": "stream",
     "text": [
      "WARNING:root:'from promptflow import tool' is deprecated and will be removed in the future. Use 'from promptflow.core import tool' instead.\n",
      "WARNING:root:'from promptflow import log_metric' is deprecated and will be removed in the future. Use 'from promptflow.core import log_metric' instead.\n"
     ]
    },
    {
     "name": "stderr",
     "output_type": "stream",
     "text": [
      "WARNING:root:'from promptflow import ToolProvider' is deprecated and will be removed in the future. Use 'from promptflow.core import ToolProvider' instead.\n"
     ]
    },
    {
     "name": "stdout",
     "output_type": "stream",
     "text": [
      "The HTML file is generated at '/private/var/folders/hf/3mqmr8vd3cs309p9_zg2wcsr0000gn/T/pf-visualize-detail-ykri7qqz.html'.\n",
      "Trying to view the result in a web browser...\n"
     ]
    },
    {
     "name": "stdout",
     "output_type": "stream",
     "text": [
      "Successfully visualized from the web browser.\n"
     ]
    }
   ],
   "source": [
    "pf_client.visualize([local_base_run_hf, local_eval_run_variant])"
   ]
  }
 ],
 "metadata": {
  "kernelspec": {
   "display_name": ".venv",
   "language": "python",
   "name": "python3"
  },
  "language_info": {
   "codemirror_mode": {
    "name": "ipython",
    "version": 3
   },
   "file_extension": ".py",
   "mimetype": "text/x-python",
   "name": "python",
   "nbconvert_exporter": "python",
   "pygments_lexer": "ipython3",
   "version": "3.11.9"
  }
 },
 "nbformat": 4,
 "nbformat_minor": 2
}
